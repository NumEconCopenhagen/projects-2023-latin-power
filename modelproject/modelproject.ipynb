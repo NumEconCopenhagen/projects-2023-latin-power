{
 "cells": [
  {
   "attachments": {},
   "cell_type": "markdown",
   "metadata": {},
   "source": [
    "# PRIVATE INVESTMENT IN EDUCATION\n",
    "# Model Ben-Porath (1967)"
   ]
  },
  {
   "attachments": {},
   "cell_type": "markdown",
   "metadata": {},
   "source": [
    "> **Note the following:** \n",
    "> 1. This is *not* meant to be an example of an actual **model analysis project**, just an example of how to structure such a project.\n",
    "> 1. Remember the general advice on structuring and commenting your code\n",
    "> 1. The `modelproject.py` file includes a function which could be used multiple times in this notebook."
   ]
  },
  {
   "cell_type": "markdown",
   "metadata": {},
   "source": [
    "Imports and set magics:"
   ]
  },
  {
   "cell_type": "code",
   "execution_count": 4,
   "metadata": {},
   "outputs": [
    {
     "name": "stdout",
     "output_type": "stream",
     "text": [
      "The autoreload extension is already loaded. To reload it, use:\n",
      "  %reload_ext autoreload\n"
     ]
    }
   ],
   "source": [
    "import numpy as np\n",
    "from scipy import optimize\n",
    "import sympy as sm\n",
    "\n",
    "# autoreload modules when code is run\n",
    "%load_ext autoreload\n",
    "%autoreload 2\n",
    "\n",
    "# local modules\n",
    "from modelproject import HumanCapitalModelClass"
   ]
  },
  {
   "cell_type": "markdown",
   "metadata": {},
   "source": [
    "# Model description"
   ]
  },
  {
   "attachments": {},
   "cell_type": "markdown",
   "metadata": {},
   "source": [
    "**Write out the model in equations here.** \n",
    "\n",
    "The model presented by Yed Ben-Porath in 1967 (1) applies theory from capital investment models to study the decision to invest in education in the life-cycle (here two periods). This model treats education is an investment because the individuals need time/resources to invest in it, there are uncertain future returns, and there is depreciation from losing abilities or abilities that start to be obsolete.\n",
    "\n",
    "The model presents a representative individual whose chooses how much time to invest in education (form 0 to 1) in time t and time t+1, and how much invest in labor market, with the aim of maximizing his utility (life-time utility). Education increases human capital which increases the wages won at the labor market, and the individual is impatience ($\\rho$).\n",
    "\n",
    "The life time utility is:\n",
    "\n",
    "$$\n",
    "V =  U_t - C_t + (\\frac{1}{1+\\rho})[U_{t+1} - C_{t+1}]\n",
    "$$\n",
    "\n",
    "Where $U_t$ and $U_{t+1}$ are the utility from study, which is equal to the benefits of studing, i.e. the wage received at labor market which is the return of human capital; this return depends on how much labor market values human capital ($\\beta_t$ and $\\beta_{t+1}$). Hence, $U_t = \\beta_t * H_t$ and $U_{t+1} = \\beta_{t+1} * H_{t+1}$.\n",
    "\n",
    "$C_t$ and $C_{t+1}$ are the cost of studying. These costs come from the direct cost of school such as fees ($\\gamma$), which is the same for all individuals, plus the opportunity cost of studying because of not working for a wage. Hence, $C_t= (\\gamma * S_t) + (S_t * \\beta_t * H_t)$, and $C_{t+1}= (\\gamma * S_{t+1}) + (S_{t+1} * \\beta_{t+1} * H_{t+1})$\n",
    "\n",
    "Finally, the human capital acummulation formula is:\n",
    "\n",
    "$$\n",
    "H_{t+1}=H_t (1-\\delta) + (A*E_t*S_t*H_t)^\\alpha\n",
    "$$\n",
    "\n",
    "This equation represents a positive relationship between $H_{t+1}$ and $H_t$, which is concave ($\\alpha < 1$), meaning a decreasing human capital production. In addition, we have $A$ which is exogeneous initial level of ability, $E_t$ which is the level of government investment in education, $S_t$ is the level of education, and $H_t$ is the previous human capital level.\n",
    "\n",
    "Including all these equations (utility, cost and human capital accumuation), we have the following final life-utility function.\n",
    "\n",
    "$$\n",
    "V = (1-S_t) * \\beta_t * H_t  - \\gamma * S_t  + (\\frac{1}{1+\\rho})[(1-S_{t+1})\\beta_{t+1} * (H_t (1-\\delta) + (A*E_t*S_t*H_t)^\\alpha) - \\gamma * S_{t+1}]\n",
    "$$\n",
    "\n",
    "From this equation, the indidivual chooses $S_t$ and $S_{t+1}$, which have to be between 0 and 1."
   ]
  },
  {
   "cell_type": "markdown",
   "metadata": {},
   "source": [
    "## Analytical solution"
   ]
  },
  {
   "attachments": {},
   "cell_type": "markdown",
   "metadata": {},
   "source": [
    "The model has an analytical solucion:\n",
    "\n",
    "$$\n",
    "S_t^* = [\\frac{\\beta_{t+1}}{\\beta_t} * \\frac{\\alpha}{1+\\rho} * \\frac{1}{H_t+\\gamma/\\beta_t} * (A H_t E_t)^\\alpha * (1-S_{t+1})]^\\frac{1}{1-\\alpha}\n",
    "$$\n",
    "\n",
    "If your model allows for an analytical solution, you should provide here.\n",
    "\n",
    "You may use Sympy for this. Then you can characterize the solution as a function of a parameter of the model.\n",
    "\n",
    "To characterize the solution, first derive a steady state equation as a function of a parameter using Sympy.solve and then turn it into a python function by Sympy.lambdify. See the lecture notes for details. "
   ]
  },
  {
   "cell_type": "markdown",
   "metadata": {},
   "source": [
    "## Numerical solution"
   ]
  },
  {
   "cell_type": "markdown",
   "metadata": {},
   "source": [
    "You can always solve a model numerically. \n",
    "\n",
    "Define first the set of parameters you need. \n",
    "\n",
    "Then choose one of the optimization algorithms that we have gone through in the lectures based on what you think is most fitting for your model.\n",
    "\n",
    "Are there any problems with convergence? Does the model converge for all starting values? Make a lot of testing to figure these things out. "
   ]
  },
  {
   "cell_type": "code",
   "execution_count": 14,
   "metadata": {},
   "outputs": [
    {
     "name": "stdout",
     "output_type": "stream",
     "text": [
      "namespace(S0=0.020833333333333332, S1=0.0)\n"
     ]
    }
   ],
   "source": [
    "model = HumanCapitalModelClass()\n",
    "\n",
    "#Numerical solution of the model\n",
    "solution = model.solve_discrete()\n",
    "\n",
    "print(solution)\n",
    "\n"
   ]
  },
  {
   "cell_type": "markdown",
   "metadata": {},
   "source": [
    "# Further analysis"
   ]
  },
  {
   "cell_type": "markdown",
   "metadata": {},
   "source": [
    "Make detailed vizualizations of how your model changes with parameter values. \n",
    "\n",
    "Try to make an extension of the model. "
   ]
  },
  {
   "cell_type": "markdown",
   "metadata": {},
   "source": [
    "# Conclusion"
   ]
  },
  {
   "cell_type": "markdown",
   "metadata": {},
   "source": [
    "Add concise conclusion. "
   ]
  }
 ],
 "metadata": {
  "kernelspec": {
   "display_name": "base",
   "language": "python",
   "name": "python3"
  },
  "language_info": {
   "codemirror_mode": {
    "name": "ipython",
    "version": 3
   },
   "file_extension": ".py",
   "mimetype": "text/x-python",
   "name": "python",
   "nbconvert_exporter": "python",
   "pygments_lexer": "ipython3",
   "version": "3.9.16"
  },
  "toc-autonumbering": true,
  "vscode": {
   "interpreter": {
    "hash": "47ef90cdf3004d3f859f1fb202523c65c07ba7c22eefd261b181f4744e2d0403"
   }
  }
 },
 "nbformat": 4,
 "nbformat_minor": 4
}
