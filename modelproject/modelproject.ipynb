{
 "cells": [
  {
   "attachments": {},
   "cell_type": "markdown",
   "metadata": {},
   "source": [
    "# PRIVATE INVESTMENT IN EDUCATION\n",
    "# Model Ben-Porath (1967)"
   ]
  },
  {
   "attachments": {},
   "cell_type": "markdown",
   "metadata": {},
   "source": [
    "> **Note the following:** \n",
    "> 1. This is *not* meant to be an example of an actual **model analysis project**, just an example of how to structure such a project.\n",
    "> 1. Remember the general advice on structuring and commenting your code\n",
    "> 1. The `modelproject.py` file includes a function which could be used multiple times in this notebook."
   ]
  },
  {
   "attachments": {},
   "cell_type": "markdown",
   "metadata": {},
   "source": [
    "Imports and set magics:"
   ]
  },
  {
   "cell_type": "code",
   "execution_count": 1,
   "metadata": {},
   "outputs": [],
   "source": [
    "import numpy as np\n",
    "from scipy import optimize\n",
    "import sympy as sm\n",
    "import matplotlib.pyplot as plt\n",
    "import pandas as pd\n",
    "import matplotlib.pyplot as plt\n",
    "from mpl_toolkits.mplot3d import Axes3D\n",
    "import ipywidgets as widgets\n",
    "from IPython.display import display\n",
    "import plotly.graph_objects as go\n",
    "\n",
    "# autoreload modules when code is run\n",
    "%load_ext autoreload\n",
    "%autoreload 2\n",
    "\n",
    "# local modules\n",
    "from modelproject import HumanCapitalModelClass"
   ]
  },
  {
   "attachments": {},
   "cell_type": "markdown",
   "metadata": {},
   "source": [
    "# Model description"
   ]
  },
  {
   "attachments": {},
   "cell_type": "markdown",
   "metadata": {},
   "source": [
    "\n",
    "\n",
    "The model presented by Yed Ben-Porath in 1967 (1) applies theory from capital investment models to study the decision to invest in education in the life-cycle (here two periods). This model treats education is an investment because the individuals need time/resources to invest in it, there are uncertain future returns, and there is depreciation from losing abilities or abilities that start to be obsolete.\n",
    "\n",
    "The model presents a representative individual whose chooses how much time to invest in education (form 0 to 1) in time t and time t+1, and how much invest in labor market, with the aim of maximizing his utility (life-time utility). Education increases human capital which increases the wages won at the labor market, and the individual is impatience ($\\rho$).\n",
    "\n",
    "The life time utility is:\n",
    "\n",
    "$$\n",
    "V =  U_t - C_t + (\\frac{1}{1+\\rho})[U_{t+1} - C_{t+1}]\n",
    "$$\n",
    "\n",
    "Where $U_t$ and $U_{t+1}$ are the utility from study, which is equal to the benefits of studing, i.e. the wage received at labor market which is the return of human capital; this return depends on how much labor market values human capital ($\\beta_t$ and $\\beta_{t+1}$). Hence, $U_t = \\beta_t \\cdot H_t$ and $U_{t+1} = \\beta_{t+1} \\cdot H_{t+1}$.\n",
    "\n",
    "$C_t$ and $C_{t+1}$ are the cost of studying. These costs come from the direct cost of school such as fees ($\\gamma$), which is the same for all individuals, plus the opportunity cost of studying because of not working for a wage. Hence, $C_t= (\\gamma \\cdot S_t) + (S_t \\cdot \\beta_t \\cdot H_t)$, and $C_{t+1}= (\\gamma \\cdot S_{t+1}) + (S_{t+1} \\cdot \\beta_{t+1} \\cdot H_{t+1})$\n",
    "\n",
    "Finally, the human capital acummulation formula is:\n",
    "\n",
    "$$\n",
    "H_{t+1}=H_t (1-\\delta) + (AE_tS_tH_t)^\\alpha\n",
    "$$\n",
    "\n",
    "This equation represents a positive relationship between $H_{t+1}$ and $H_t$, which is concave ($\\alpha < 1$), meaning a decreasing human capital production. In addition, we have $A$ which is exogeneous initial level of ability, $E_t$ which is the level of government investment in education, $S_t$ is the level of education, and $H_t$ is the previous human capital level.\n",
    "\n",
    "Including all these equations (utility, cost and human capital accumuation), we have the following final life-utility function.\n",
    "\n",
    "$$\n",
    "V = (1-S_t) \\cdot \\beta_t \\cdot H_t  - \\gamma \\cdot S_t  + (\\frac{1}{1+\\rho})[(1-S_{t+1})\\beta_{t+1} \\cdot (H_t (1-\\delta) + (AE_tS_tH_t)^\\alpha) - \\gamma \\cdot S_{t+1}]\n",
    "$$\n",
    "\n",
    "From this equation, the indidivual chooses $S_t$ and $S_{t+1}$, which have to be between 0 and 1."
   ]
  },
  {
   "attachments": {},
   "cell_type": "markdown",
   "metadata": {},
   "source": [
    "## Analytical solution"
   ]
  },
  {
   "attachments": {},
   "cell_type": "markdown",
   "metadata": {},
   "source": [
    "The model has an analytical solucion:\n",
    "\n",
    "$$\n",
    "S_t^* = [\\frac{\\beta_{t+1}}{\\beta_t} \\cdot \\frac{\\alpha}{1+\\rho} \\cdot \\frac{1}{H_t+\\gamma/\\beta_t} \\cdot (A H_t E_t)^\\alpha \\cdot (1-S_{t+1})]^\\frac{1}{1-\\alpha}\n",
    "$$\n",
    "\n",
    "If your model allows for an analytical solution, you should provide here.\n",
    "\n",
    "You may use Sympy for this. Then you can characterize the solution as a function of a parameter of the model.\n",
    "\n",
    "To characterize the solution, first derive a steady state equation as a function of a parameter using Sympy.solve and then turn it into a python function by Sympy.lambdify. See the lecture notes for details. "
   ]
  },
  {
   "attachments": {},
   "cell_type": "markdown",
   "metadata": {},
   "source": [
    "## Numerical solution"
   ]
  },
  {
   "attachments": {},
   "cell_type": "markdown",
   "metadata": {},
   "source": [
    "***Discrete Solution***"
   ]
  },
  {
   "cell_type": "code",
   "execution_count": 2,
   "metadata": {},
   "outputs": [
    {
     "name": "stdout",
     "output_type": "stream",
     "text": [
      "The ratio of time that the representative individual decides to invest in studying during the periods of youth (S0) and adulthood (S1) with an utility level (U) is as follows:\n",
      "S0: 0.0208\n",
      "S1: 0.0000\n",
      "V: 1.0395\n"
     ]
    }
   ],
   "source": [
    "# Discrete Solution\n",
    "model = HumanCapitalModelClass()\n",
    "solution = model.solve_discrete()\n",
    "legend = \"The ratio of time that the representative individual decides to invest in studying during the periods of youth (S0) and adulthood (S1) with an utility level (U) is as follows:\"\n",
    "print(legend)\n",
    "print(\"S0: {:.4f}\".format(solution.S0))\n",
    "print(\"S1: {:.4f}\".format(solution.S1))\n",
    "print(\"V: {:.4f}\".format(solution.v))"
   ]
  },
  {
   "attachments": {},
   "cell_type": "markdown",
   "metadata": {},
   "source": [
    "***Countinuous solution***\n",
    "\n",
    "Solving the model with the SLSQP method. The method minimizes a function with several variables with combinations of bounds. Thus, what is needed for this method is the bounds set and an initial guess for the variables."
   ]
  },
  {
   "cell_type": "code",
   "execution_count": 3,
   "metadata": {},
   "outputs": [
    {
     "name": "stdout",
     "output_type": "stream",
     "text": [
      "The ratio of time that the representative individual decides to invest in studying during the periods of youth (S0) and adulthood (S1) with an utility level (U) is as follows:\n",
      "S0: 0.0275\n",
      "S1: 0.0000\n",
      "V: 1.0402\n"
     ]
    }
   ],
   "source": [
    "# Continuous solution\n",
    "model = HumanCapitalModelClass()\n",
    "model.solve_continously()\n",
    "legend = \"The ratio of time that the representative individual decides to invest in studying during the periods of youth (S0) and adulthood (S1) with an utility level (U) is as follows:\"\n",
    "solution_con = model.solve_continously()\n",
    "\n",
    "print(legend)\n",
    "print(\"S0: {:.4f}\".format(solution_con.S0))\n",
    "print(\"S1: {:.4f}\".format(solution_con.S1))\n",
    "print(\"V: {:.4f}\".format(solution_con.v))"
   ]
  },
  {
   "attachments": {},
   "cell_type": "markdown",
   "metadata": {},
   "source": [
    "**Interpretation**\n",
    "The utility will be optimized when $S_t$ is 0.0275 and $S_{t+1}$ is 0. Thus, they will use 2.75 percent of their day on schooling. Meaning that with:\n",
    "\n",
    "* $A$: initial ability = 1.0\n",
    "* $E$: public expenditure in schooling = 1.0\n",
    "* $H_t$: human capital at time $t$ = 1.0\n",
    "* $\\beta_t$ = $\\beta_{t+1}$: present and future wages are equal = 0.5\n",
    "* $\\rho$: discount factor = 0.0025\n",
    "* $\\gamma$: direct cost of education = 1.0\n",
    "* $\\delta$: human capital does not depreciate over time = 0.0\n",
    "* $\\alpha$ = productivity of human capital = 0.5\n",
    "\n",
    "The parameters chosen $A$, $E$ and $H_t$ were chosen to hold their partial effect equal. We further wanted to assume that present wage is equal future wage due to inflation. We assume that $\\delta$ is 0, because we assume that human capital does not decrease over time due to the individuals skill being used all the time. The factor $\\rho$, $\\gamma$ and $\\alpha$ are however chosen at random.\n",
    "\n",
    "With those parameters the utility will be 1.04.\n",
    "\n"
   ]
  },
  {
   "attachments": {},
   "cell_type": "markdown",
   "metadata": {},
   "source": [
    "**Comparative Statics: Analysis on Schooling at period t (S0) in response to parameter changes.**\n",
    "\n",
    "This section will analyze the change in Schooling at period t (S0) in resonse to change in the following parameters: $\\gamma$, $A$, $\\beta_t$, $E$ and $\\rho$. We are using the continous approach to evaluate the impacts."
   ]
  },
  {
   "attachments": {},
   "cell_type": "markdown",
   "metadata": {},
   "source": [
    "### The impact of Direct Cost of Schooling"
   ]
  },
  {
   "cell_type": "code",
   "execution_count": 18,
   "metadata": {},
   "outputs": [
    {
     "data": {
      "image/png": "[encoded data removed]",
      "text/plain": [
       "<Figure size 640x480 with 1 Axes>"
      ]
     },
     "metadata": {},
     "output_type": "display_data"
    }
   ],
   "source": [
    "# Changing in direct cost of schooling (gamma)\n",
    "model = HumanCapitalModelClass()\n",
    "\n",
    "gamma_values = np.linspace(0,5, 1000)\n",
    "gamma0_1 = []\n",
    "S0_gamma_change = []\n",
    "\n",
    "for a, i in enumerate(gamma_values):\n",
    "    model.par.gama = i\n",
    "    solution=model.solve_continously()\n",
    "    gamma0_1.append(i)\n",
    "    S0_gamma_change.append(solution.S0)\n",
    "\n",
    "plt.plot(gamma0_1, S0_gamma_change)\n",
    "plt.ylabel(\"Schooling at youth\")\n",
    "plt.xlabel(\"Direct cost of education\")\n",
    "plt.grid()"
   ]
  },
  {
   "attachments": {},
   "cell_type": "markdown",
   "metadata": {},
   "source": [
    "**Interpretation**\n",
    "\n",
    "An increase in the direct cost of education ($\\gamma$) has a negative effect on the fraction of time people spend studying during their youth ($S0$). Ceteris Paribus, tuition costs that are too high will lead young individuals to choose not to attend school. At some point the young will choose not to spend any time at school, which is represented by the kink in the graph.\n",
    "\n",
    "This effect can be accentuated or attenuated if other key elements are taken into account, such as the wage level ($\\beta_t$) that the market grants to the accumulated human capital, i.e. if this is very high at the period t+1 and compensates for the high cost of education, then we could see a smoother curve, otherwise, in a very low wage environment the individual could be quite sensitive to a minimal increase in ($\\gamma$).\n",
    "\n",
    "\n"
   ]
  },
  {
   "attachments": {},
   "cell_type": "markdown",
   "metadata": {},
   "source": [
    "### Schooling Decisions for Individuals with different initial level of Abilities"
   ]
  },
  {
   "cell_type": "code",
   "execution_count": 19,
   "metadata": {},
   "outputs": [
    {
     "data": {
      "image/png": "[encoded data removed]",
      "text/plain": [
       "<Figure size 640x480 with 1 Axes>"
      ]
     },
     "metadata": {},
     "output_type": "display_data"
    }
   ],
   "source": [
    "#Changing in ability (A)\n",
    "model = HumanCapitalModelClass()\n",
    "\n",
    "A_values = np.linspace(0,50, 100)\n",
    "A0_1 = []\n",
    "S0_A_change = []\n",
    "\n",
    "for a, i in enumerate(A_values):\n",
    "    model.par.A = i\n",
    "    solution=model.solve_continously()\n",
    "    A0_1.append(i)\n",
    "    S0_A_change.append(solution.S0)\n",
    "\n",
    "plt.plot(A0_1, S0_A_change)\n",
    "plt.ylabel(\"Schooling at youth\")\n",
    "plt.xlabel(\"Initial ability\")\n",
    "plt.grid()"
   ]
  },
  {
   "attachments": {},
   "cell_type": "markdown",
   "metadata": {},
   "source": [
    "**Interpretation**\n",
    "\n",
    "Initial ability has a linear effect on schooling in youth - the higher the initial ability, the more time young people will tend to spend in school. Understood as IQ, higher initial ability may mean that young people are more prepared to gain knowledge from school and therefore gain more from schooling than those with lower initial ability. However, initial ability can also include skills in communication, creativity, problem solving and much more.\n",
    "\n",
    "In addition, young people with higher initial ability may be more aware of the future benefits of accumulating more human capital, such as higher wages and thus a better quality of life, which would certainly encourage them to spend more time training to become more competitive in the marketplace."
   ]
  },
  {
   "attachments": {},
   "cell_type": "markdown",
   "metadata": {},
   "source": [
    "### What if the present value of Wage changes?"
   ]
  },
  {
   "cell_type": "code",
   "execution_count": 17,
   "metadata": {},
   "outputs": [
    {
     "data": {
      "image/png": "[encoded data removed]",
      "text/plain": [
       "<Figure size 640x480 with 1 Axes>"
      ]
     },
     "metadata": {},
     "output_type": "display_data"
    }
   ],
   "source": [
    "#Changing in present wage (b0)\n",
    "model = HumanCapitalModelClass()\n",
    "\n",
    "b0_values = np.linspace(0,3, 1000)\n",
    "b0_1 = []\n",
    "S0_b0_change = []\n",
    "\n",
    "for a, i in enumerate(b0_values):\n",
    "    model.par.B0 = i\n",
    "    solution=model.solve_continously()\n",
    "    b0_1.append(i)\n",
    "    S0_b0_change.append(solution.S0)\n",
    "\n",
    "plt.plot(b0_1, S0_b0_change)\n",
    "plt.ylabel(\"Schooling at youth\")\n",
    "plt.xlabel(\"Present wage\")\n",
    "plt.grid()"
   ]
  },
  {
   "attachments": {},
   "cell_type": "markdown",
   "metadata": {},
   "source": [
    "**Interpretation**\n",
    "\n",
    "As can be seen in the graph above, the value of the wage in period t has a decreasing effect on the time young people spend on schooling. A sufficiently high wage in period t would make it more attractive for students to devote all their time to work and not attend school altogether (opportunity cost between working and studying), which is represented by the kink at around 2.0 for the present wage in the graph. However, if the future wage is relatively high compared to the current wage, individuals will prefer schooling at youth, as they know that they will receive a higher wage in the future."
   ]
  },
  {
   "attachments": {},
   "cell_type": "markdown",
   "metadata": {},
   "source": [
    "### Changes in response to increased government spending on education"
   ]
  },
  {
   "cell_type": "code",
   "execution_count": 7,
   "metadata": {},
   "outputs": [
    {
     "data": {
      "image/png": "[encoded data removed]",
      "text/plain": [
       "<Figure size 640x480 with 1 Axes>"
      ]
     },
     "metadata": {},
     "output_type": "display_data"
    }
   ],
   "source": [
    "#Changing in public expenditure of schooling (E)\n",
    "model = HumanCapitalModelClass()\n",
    "\n",
    "E_values = np.linspace(0,50, 100)\n",
    "E0_1 = []\n",
    "S0_E_change = []\n",
    "\n",
    "for a, i in enumerate(E_values):\n",
    "    model.par.E = i\n",
    "    solution=model.solve_continously()\n",
    "    E0_1.append(i)\n",
    "    S0_E_change.append(solution.S0)\n",
    "\n",
    "plt.plot(E0_1, S0_E_change)\n",
    "plt.ylabel(\"Schooling at youth\")\n",
    "plt.xlabel(\"Public expenditure in schooling\")\n",
    "plt.grid()"
   ]
  },
  {
   "attachments": {},
   "cell_type": "markdown",
   "metadata": {},
   "source": [
    "**Interpretation**\n",
    "\n",
    "Undoubtedly, the resources provided by the government for education play an important role in the decisions individuals make about how much to study. The better the infrastructure and quality of education, the more time individuals will spend studying during their youth. \n",
    "\n",
    "However, in a scenario of heterogeneous individuals, this greater investment could increase inequalities of origin since students with higher initial intellectual ability may benefit more from educational expenditure. At best, this could result in a neutral effect, i.e. everyone benefits in the same proportion, but without decreasing inequalities in terms of skills and knowledge acquired at school.\n",
    "\n",
    "To remedy this, it would be worth thinking about targeted schemes, where young people with better initial intellectual ability receive greater resources in terms of education, so that the gap of origin can be closed."
   ]
  },
  {
   "attachments": {},
   "cell_type": "markdown",
   "metadata": {},
   "source": [
    "### What if the representative agent is more impatient?"
   ]
  },
  {
   "cell_type": "code",
   "execution_count": 20,
   "metadata": {},
   "outputs": [
    {
     "data": {
      "image/png": "[encoded data removed]",
      "text/plain": [
       "<Figure size 640x480 with 1 Axes>"
      ]
     },
     "metadata": {},
     "output_type": "display_data"
    }
   ],
   "source": [
    "#Changing in discount factor (rho)\n",
    "model = HumanCapitalModelClass()\n",
    "\n",
    "rho_values = np.linspace(0,1, 1000)\n",
    "rho0_1 = []\n",
    "S0_rho_change = []\n",
    "\n",
    "for a, i in enumerate(alpha_values):\n",
    "    model.par.rho = i\n",
    "    solution=model.solve_continously()\n",
    "    rho0_1.append(i)\n",
    "    S0_rho_change.append(solution.S0)\n",
    "\n",
    "plt.plot(rho0_1, S0_rho_change)\n",
    "plt.ylabel(\"Schooling at youth\")\n",
    "plt.xlabel(\"Discount factor\")\n",
    "plt.grid()"
   ]
  },
  {
   "attachments": {},
   "cell_type": "markdown",
   "metadata": {},
   "source": [
    "**Interpretation**\n",
    "\n",
    "The discount factor describes the level of patience. As can be seen in the figure above, when the individual has a high level of patience - close to 0 - he or she will prefer to spend much more time on academic training during his or her youth. However, if the person has no patience at all, then he or she will prefer to start working as soon as possible. This is represented by the kink in the graph. Thus, the young individuals will go from spending some time at school to almost no time at all, when the discount factor is close to 1.\n",
    "\n",
    "While this is a basic model, it is worth asking what determines whether an individual is more patient or not. In many cases it may be associated with their initial socio-economic status, if they come from a poor family then they will prefer to start their working life even though they know that their future salary would be higher if they studied, as they have an immediate need for resources."
   ]
  },
  {
   "attachments": {},
   "cell_type": "markdown",
   "metadata": {},
   "source": [
    "# Further analysis\n",
    "\n",
    "In this section we evaluate effects on Schooling for period t (S0) in the presence of changes in two variables, i.e. **cross effects**, for individuals with different Unobservable Ability $A_i$.\n",
    "\n",
    "**i)** Labour Market Reward of Human Capital. $\\beta_t$\n",
    "\n",
    "**ii)** Direct Cost of Education. $\\gamma_t * S_{it}$\n",
    "\n",
    "**iii)** Government Expenditure on Education $E_{it}$"
   ]
  },
  {
   "cell_type": "code",
   "execution_count": 10,
   "metadata": {},
   "outputs": [],
   "source": [
    "# Defining the range of the parameters\n",
    "\n",
    "As = np.linspace(0,3,11) # Individuals with different initial Unobservable Ability\n",
    "B0s = np.linspace(0,1,11) # Changes in the Labour Market Reward of HK in period t\n",
    "B1s = np.linspace(0,1,11) # Changes in the Labour Market Reward of HK in period t+1\n",
    "Es = np.linspace(0,5,11) # Increasing of Public Expenditure on Education per person\n",
    "gammas = np.linspace(-2,2,11) # Increasing in Direct Cost of Education\n",
    "rhos = np.linspace(0,1,11)\n",
    "deltas = np.linspace(0,1,11)\n",
    "alphas = np.linspace(0,1,11)\n",
    "H0s = np.linspace(0,3,11) "
   ]
  },
  {
   "attachments": {},
   "cell_type": "markdown",
   "metadata": {},
   "source": [
    "### Changes in Shooling at period t (S0) in response to fluctuations in the wage salary at period t and different level of patiance"
   ]
  },
  {
   "cell_type": "code",
   "execution_count": 11,
   "metadata": {},
   "outputs": [
    {
     "data": {
      "application/vnd.plotly.v1+json": {
       "config": {
        "plotlyServerURL": "https://plot.ly"
       },
       "data": [
        {
         "colorscale": [
          [
           0,
           "rgb(255,255,217)"
          ],
          [
           0.125,
           "rgb(237,248,177)"
          ],
          [
           0.25,
           "rgb(199,233,180)"
          ],
          [
           0.375,
           "rgb(127,205,187)"
          ],
          [
           0.5,
           "rgb(65,182,196)"
          ],
          [
           0.625,
           "rgb(29,145,192)"
          ],
          [
           0.75,
           "rgb(34,94,168)"
          ],
          [
           0.875,
           "rgb(37,52,148)"
          ],
          [
           1,
           "rgb(8,29,88)"
          ]
         ],
         "hovertemplate": "B0: %{x}<br>rho: %{y}<br>S0: %{z}<extra></extra>",
         "type": "surface",
         "x": [
          [
           0,
           0.1,
           0.2,
           0.30000000000000004,
           0.4,
           0.5,
           0.6000000000000001,
           0.7000000000000001,
           0.8,
           0.9,
           1
          ],
          [
           0,
           0.1,
           0.2,
           0.30000000000000004,
           0.4,
           0.5,
           0.6000000000000001,
           0.7000000000000001,
           0.8,
           0.9,
           1
          ],
          [
           0,
           0.1,
           0.2,
           0.30000000000000004,
           0.4,
           0.5,
           0.6000000000000001,
           0.7000000000000001,
           0.8,
           0.9,
           1
          ],
          [
           0,
           0.1,
           0.2,
           0.30000000000000004,
           0.4,
           0.5,
           0.6000000000000001,
           0.7000000000000001,
           0.8,
           0.9,
           1
          ],
          [
           0,
           0.1,
           0.2,
           0.30000000000000004,
           0.4,
           0.5,
           0.6000000000000001,
           0.7000000000000001,
           0.8,
           0.9,
           1
          ],
          [
           0,
           0.1,
           0.2,
           0.30000000000000004,
           0.4,
           0.5,
           0.6000000000000001,
           0.7000000000000001,
           0.8,
           0.9,
           1
          ],
          [
           0,
           0.1,
           0.2,
           0.30000000000000004,
           0.4,
           0.5,
           0.6000000000000001,
           0.7000000000000001,
           0.8,
           0.9,
           1
          ],
          [
           0,
           0.1,
           0.2,
           0.30000000000000004,
           0.4,
           0.5,
           0.6000000000000001,
           0.7000000000000001,
           0.8,
           0.9,
           1
          ],
          [
           0,
           0.1,
           0.2,
           0.30000000000000004,
           0.4,
           0.5,
           0.6000000000000001,
           0.7000000000000001,
           0.8,
           0.9,
           1
          ],
          [
           0,
           0.1,
           0.2,
           0.30000000000000004,
           0.4,
           0.5,
           0.6000000000000001,
           0.7000000000000001,
           0.8,
           0.9,
           1
          ],
          [
           0,
           0.1,
           0.2,
           0.30000000000000004,
           0.4,
           0.5,
           0.6000000000000001,
           0.7000000000000001,
           0.8,
           0.9,
           1
          ]
         ],
         "y": [
          [
           0,
           0,
           0,
           0,
           0,
           0,
           0,
           0,
           0,
           0,
           0
          ],
          [
           0.1,
           0.1,
           0.1,
           0.1,
           0.1,
           0.1,
           0.1,
           0.1,
           0.1,
           0.1,
           0.1
          ],
          [
           0.2,
           0.2,
           0.2,
           0.2,
           0.2,
           0.2,
           0.2,
           0.2,
           0.2,
           0.2,
           0.2
          ],
          [
           0.30000000000000004,
           0.30000000000000004,
           0.30000000000000004,
           0.30000000000000004,
           0.30000000000000004,
           0.30000000000000004,
           0.30000000000000004,
           0.30000000000000004,
           0.30000000000000004,
           0.30000000000000004,
           0.30000000000000004
          ],
          [
           0.4,
           0.4,
           0.4,
           0.4,
           0.4,
           0.4,
           0.4,
           0.4,
           0.4,
           0.4,
           0.4
          ],
          [
           0.5,
           0.5,
           0.5,
           0.5,
           0.5,
           0.5,
           0.5,
           0.5,
           0.5,
           0.5,
           0.5
          ],
          [
           0.6000000000000001,
           0.6000000000000001,
           0.6000000000000001,
           0.6000000000000001,
           0.6000000000000001,
           0.6000000000000001,
           0.6000000000000001,
           0.6000000000000001,
           0.6000000000000001,
           0.6000000000000001,
           0.6000000000000001
          ],
          [
           0.7000000000000001,
           0.7000000000000001,
           0.7000000000000001,
           0.7000000000000001,
           0.7000000000000001,
           0.7000000000000001,
           0.7000000000000001,
           0.7000000000000001,
           0.7000000000000001,
           0.7000000000000001,
           0.7000000000000001
          ],
          [
           0.8,
           0.8,
           0.8,
           0.8,
           0.8,
           0.8,
           0.8,
           0.8,
           0.8,
           0.8,
           0.8
          ],
          [
           0.9,
           0.9,
           0.9,
           0.9,
           0.9,
           0.9,
           0.9,
           0.9,
           0.9,
           0.9,
           0.9
          ],
          [
           1,
           1,
           1,
           1,
           1,
           1,
           1,
           1,
           1,
           1,
           1
          ]
         ],
         "z": [
          [
           0.062204111057258996,
           0.05153746665149565,
           0.04335813035213008,
           0.03696515427448384,
           0.03170213882960829,
           0.02768198792859353,
           0.0243649225886315,
           0.02160122630622317,
           0.019277423398300863,
           0.017306635495066718,
           0.015533830438873719
          ],
          [
           0.05153746480327045,
           0.04264775910251289,
           0.03585597528475738,
           0.0304115910787101,
           0.026280102857256075,
           0.02292169391296418,
           0.020160218343050585,
           0.017865114162457486,
           0.015842049243734672,
           0.014248706996755359,
           0.012877945770950177
          ],
          [
           0.04335812726831901,
           0.03585597533852044,
           0.029998300284002077,
           0.025617898712589997,
           0.022115567878260745,
           0.019277422138897642,
           0.01682145217043384,
           0.014942744887969138,
           0.013353204774217179,
           0.011998924016915838,
           0.010837293403330523
          ],
          [
           0.036965159803344604,
           0.030411552833069268,
           0.025617893069729735,
           0.021856155329535016,
           0.018857418539264002,
           0.01632121794241887,
           0.014383696754385281,
           0.012762998032196056,
           0.01139631942676584,
           0.0102348805212989,
           0.009240569626248822
          ],
          [
           0.03170212668930141,
           0.026280098293485744,
           0.02211556064324634,
           0.01885741256339379,
           0.016159209670981674,
           0.014115514023889589,
           0.012427042687139133,
           0.011019045409649807,
           0.009834465909662379,
           0.008752777416657916,
           0.00792207980281263
          ],
          [
           0.02768197927275392,
           0.022921695965288882,
           0.01927741579576895,
           0.01632122174183415,
           0.014115509777246333,
           0.012317937754594261,
           0.010837289486099223,
           0.009605280842487497,
           0.008503195832294141,
           0.007652712476810665,
           0.0004916840466654575
          ],
          [
           0.024364888010748285,
           0.020160216371764992,
           0.016821429150593804,
           0.014383693085024402,
           0.012427035986777713,
           0.010837284553592199,
           0.00953064777562579,
           0.008382218976929824,
           0.007497359696113786,
           0.0004916228981294595,
           0.0004913936010862151
          ],
          [
           0.021601212316582095,
           0.017705196709373493,
           0.014942750409467194,
           0.012763001404080166,
           0.01101904444599711,
           0.009605280627176924,
           0.008382221197408632,
           0.0074465898559152675,
           0.0004915912536003691,
           0.0004913483925263027,
           0.0004911050562675507
          ],
          [
           0.019277415044045572,
           0.015842037344706673,
           0.013353207264630981,
           0.01139631243193635,
           0.009834465297510824,
           0.008503192295388087,
           0.007497358420578003,
           0.0004915889764429104,
           0.0004913303412793558,
           0.0004910725302433248,
           0.0004908148434412208
          ],
          [
           0.017167202738419925,
           0.0142486740786376,
           0.011998913908429124,
           0.010234877344353143,
           0.008752764046171709,
           0.007652702782226927,
           0.0004916139666366449,
           0.0004913422210419303,
           0.0004910695564180038,
           0.0004907983723302933,
           0.0004905256998853112
          ],
          [
           0.01553380905420585,
           0.012877945732578017,
           0.01083728889112811,
           0.009147008282202775,
           0.007922085692014278,
           0.000491668327761437,
           0.0004913824556504099,
           0.0004910952218213063,
           0.0004908088989584187,
           0.0004905227294023649,
           0.0004902367130766078
          ]
         ]
        }
       ],
       "layout": {
        "height": 1000,
        "scene": {
         "xaxis": {
          "autorange": "reversed",
          "showgrid": true,
          "title": {
           "text": "Wage at t"
          }
         },
         "yaxis": {
          "showgrid": true,
          "title": {
           "text": "Individual's patience"
          }
         },
         "zaxis": {
          "showgrid": true,
          "title": {
           "text": "Fraction of time at schooling when young"
          }
         }
        },
        "template": {
         "data": {
          "bar": [
           {
            "error_x": {
             "color": "#2a3f5f"
            },
            "error_y": {
             "color": "#2a3f5f"
            },
            "marker": {
             "line": {
              "color": "#E5ECF6",
              "width": 0.5
             },
             "pattern": {
              "fillmode": "overlay",
              "size": 10,
              "solidity": 0.2
             }
            },
            "type": "bar"
           }
          ],
          "barpolar": [
           {
            "marker": {
             "line": {
              "color": "#E5ECF6",
              "width": 0.5
             },
             "pattern": {
              "fillmode": "overlay",
              "size": 10,
              "solidity": 0.2
             }
            },
            "type": "barpolar"
           }
          ],
          "carpet": [
           {
            "aaxis": {
             "endlinecolor": "#2a3f5f",
             "gridcolor": "white",
             "linecolor": "white",
             "minorgridcolor": "white",
             "startlinecolor": "#2a3f5f"
            },
            "baxis": {
             "endlinecolor": "#2a3f5f",
             "gridcolor": "white",
             "linecolor": "white",
             "minorgridcolor": "white",
             "startlinecolor": "#2a3f5f"
            },
            "type": "carpet"
           }
          ],
          "choropleth": [
           {
            "colorbar": {
             "outlinewidth": 0,
             "ticks": ""
            },
            "type": "choropleth"
           }
          ],
          "contour": [
           {
            "colorbar": {
             "outlinewidth": 0,
             "ticks": ""
            },
            "colorscale": [
             [
              0,
              "#0d0887"
             ],
             [
              0.1111111111111111,
              "#46039f"
             ],
             [
              0.2222222222222222,
              "#7201a8"
             ],
             [
              0.3333333333333333,
              "#9c179e"
             ],
             [
              0.4444444444444444,
              "#bd3786"
             ],
             [
              0.5555555555555556,
              "#d8576b"
             ],
             [
              0.6666666666666666,
              "#ed7953"
             ],
             [
              0.7777777777777778,
              "#fb9f3a"
             ],
             [
              0.8888888888888888,
              "#fdca26"
             ],
             [
              1,
              "#f0f921"
             ]
            ],
            "type": "contour"
           }
          ],
          "contourcarpet": [
           {
            "colorbar": {
             "outlinewidth": 0,
             "ticks": ""
            },
            "type": "contourcarpet"
           }
          ],
          "heatmap": [
           {
            "colorbar": {
             "outlinewidth": 0,
             "ticks": ""
            },
            "colorscale": [
             [
              0,
              "#0d0887"
             ],
             [
              0.1111111111111111,
              "#46039f"
             ],
             [
              0.2222222222222222,
              "#7201a8"
             ],
             [
              0.3333333333333333,
              "#9c179e"
             ],
             [
              0.4444444444444444,
              "#bd3786"
             ],
             [
              0.5555555555555556,
              "#d8576b"
             ],
             [
              0.6666666666666666,
              "#ed7953"
             ],
             [
              0.7777777777777778,
              "#fb9f3a"
             ],
             [
              0.8888888888888888,
              "#fdca26"
             ],
             [
              1,
              "#f0f921"
             ]
            ],
            "type": "heatmap"
           }
          ],
          "heatmapgl": [
           {
            "colorbar": {
             "outlinewidth": 0,
             "ticks": ""
            },
            "colorscale": [
             [
              0,
              "#0d0887"
             ],
             [
              0.1111111111111111,
              "#46039f"
             ],
             [
              0.2222222222222222,
              "#7201a8"
             ],
             [
              0.3333333333333333,
              "#9c179e"
             ],
             [
              0.4444444444444444,
              "#bd3786"
             ],
             [
              0.5555555555555556,
              "#d8576b"
             ],
             [
              0.6666666666666666,
              "#ed7953"
             ],
             [
              0.7777777777777778,
              "#fb9f3a"
             ],
             [
              0.8888888888888888,
              "#fdca26"
             ],
             [
              1,
              "#f0f921"
             ]
            ],
            "type": "heatmapgl"
           }
          ],
          "histogram": [
           {
            "marker": {
             "pattern": {
              "fillmode": "overlay",
              "size": 10,
              "solidity": 0.2
             }
            },
            "type": "histogram"
           }
          ],
          "histogram2d": [
           {
            "colorbar": {
             "outlinewidth": 0,
             "ticks": ""
            },
            "colorscale": [
             [
              0,
              "#0d0887"
             ],
             [
              0.1111111111111111,
              "#46039f"
             ],
             [
              0.2222222222222222,
              "#7201a8"
             ],
             [
              0.3333333333333333,
              "#9c179e"
             ],
             [
              0.4444444444444444,
              "#bd3786"
             ],
             [
              0.5555555555555556,
              "#d8576b"
             ],
             [
              0.6666666666666666,
              "#ed7953"
             ],
             [
              0.7777777777777778,
              "#fb9f3a"
             ],
             [
              0.8888888888888888,
              "#fdca26"
             ],
             [
              1,
              "#f0f921"
             ]
            ],
            "type": "histogram2d"
           }
          ],
          "histogram2dcontour": [
           {
            "colorbar": {
             "outlinewidth": 0,
             "ticks": ""
            },
            "colorscale": [
             [
              0,
              "#0d0887"
             ],
             [
              0.1111111111111111,
              "#46039f"
             ],
             [
              0.2222222222222222,
              "#7201a8"
             ],
             [
              0.3333333333333333,
              "#9c179e"
             ],
             [
              0.4444444444444444,
              "#bd3786"
             ],
             [
              0.5555555555555556,
              "#d8576b"
             ],
             [
              0.6666666666666666,
              "#ed7953"
             ],
             [
              0.7777777777777778,
              "#fb9f3a"
             ],
             [
              0.8888888888888888,
              "#fdca26"
             ],
             [
              1,
              "#f0f921"
             ]
            ],
            "type": "histogram2dcontour"
           }
          ],
          "mesh3d": [
           {
            "colorbar": {
             "outlinewidth": 0,
             "ticks": ""
            },
            "type": "mesh3d"
           }
          ],
          "parcoords": [
           {
            "line": {
             "colorbar": {
              "outlinewidth": 0,
              "ticks": ""
             }
            },
            "type": "parcoords"
           }
          ],
          "pie": [
           {
            "automargin": true,
            "type": "pie"
           }
          ],
          "scatter": [
           {
            "fillpattern": {
             "fillmode": "overlay",
             "size": 10,
             "solidity": 0.2
            },
            "type": "scatter"
           }
          ],
          "scatter3d": [
           {
            "line": {
             "colorbar": {
              "outlinewidth": 0,
              "ticks": ""
             }
            },
            "marker": {
             "colorbar": {
              "outlinewidth": 0,
              "ticks": ""
             }
            },
            "type": "scatter3d"
           }
          ],
          "scattercarpet": [
           {
            "marker": {
             "colorbar": {
              "outlinewidth": 0,
              "ticks": ""
             }
            },
            "type": "scattercarpet"
           }
          ],
          "scattergeo": [
           {
            "marker": {
             "colorbar": {
              "outlinewidth": 0,
              "ticks": ""
             }
            },
            "type": "scattergeo"
           }
          ],
          "scattergl": [
           {
            "marker": {
             "colorbar": {
              "outlinewidth": 0,
              "ticks": ""
             }
            },
            "type": "scattergl"
           }
          ],
          "scattermapbox": [
           {
            "marker": {
             "colorbar": {
              "outlinewidth": 0,
              "ticks": ""
             }
            },
            "type": "scattermapbox"
           }
          ],
          "scatterpolar": [
           {
            "marker": {
             "colorbar": {
              "outlinewidth": 0,
              "ticks": ""
             }
            },
            "type": "scatterpolar"
           }
          ],
          "scatterpolargl": [
           {
            "marker": {
             "colorbar": {
              "outlinewidth": 0,
              "ticks": ""
             }
            },
            "type": "scatterpolargl"
           }
          ],
          "scatterternary": [
           {
            "marker": {
             "colorbar": {
              "outlinewidth": 0,
              "ticks": ""
             }
            },
            "type": "scatterternary"
           }
          ],
          "surface": [
           {
            "colorbar": {
             "outlinewidth": 0,
             "ticks": ""
            },
            "colorscale": [
             [
              0,
              "#0d0887"
             ],
             [
              0.1111111111111111,
              "#46039f"
             ],
             [
              0.2222222222222222,
              "#7201a8"
             ],
             [
              0.3333333333333333,
              "#9c179e"
             ],
             [
              0.4444444444444444,
              "#bd3786"
             ],
             [
              0.5555555555555556,
              "#d8576b"
             ],
             [
              0.6666666666666666,
              "#ed7953"
             ],
             [
              0.7777777777777778,
              "#fb9f3a"
             ],
             [
              0.8888888888888888,
              "#fdca26"
             ],
             [
              1,
              "#f0f921"
             ]
            ],
            "type": "surface"
           }
          ],
          "table": [
           {
            "cells": {
             "fill": {
              "color": "#EBF0F8"
             },
             "line": {
              "color": "white"
             }
            },
            "header": {
             "fill": {
              "color": "#C8D4E3"
             },
             "line": {
              "color": "white"
             }
            },
            "type": "table"
           }
          ]
         },
         "layout": {
          "annotationdefaults": {
           "arrowcolor": "#2a3f5f",
           "arrowhead": 0,
           "arrowwidth": 1
          },
          "autotypenumbers": "strict",
          "coloraxis": {
           "colorbar": {
            "outlinewidth": 0,
            "ticks": ""
           }
          },
          "colorscale": {
           "diverging": [
            [
             0,
             "#8e0152"
            ],
            [
             0.1,
             "#c51b7d"
            ],
            [
             0.2,
             "#de77ae"
            ],
            [
             0.3,
             "#f1b6da"
            ],
            [
             0.4,
             "#fde0ef"
            ],
            [
             0.5,
             "#f7f7f7"
            ],
            [
             0.6,
             "#e6f5d0"
            ],
            [
             0.7,
             "#b8e186"
            ],
            [
             0.8,
             "#7fbc41"
            ],
            [
             0.9,
             "#4d9221"
            ],
            [
             1,
             "#276419"
            ]
           ],
           "sequential": [
            [
             0,
             "#0d0887"
            ],
            [
             0.1111111111111111,
             "#46039f"
            ],
            [
             0.2222222222222222,
             "#7201a8"
            ],
            [
             0.3333333333333333,
             "#9c179e"
            ],
            [
             0.4444444444444444,
             "#bd3786"
            ],
            [
             0.5555555555555556,
             "#d8576b"
            ],
            [
             0.6666666666666666,
             "#ed7953"
            ],
            [
             0.7777777777777778,
             "#fb9f3a"
            ],
            [
             0.8888888888888888,
             "#fdca26"
            ],
            [
             1,
             "#f0f921"
            ]
           ],
           "sequentialminus": [
            [
             0,
             "#0d0887"
            ],
            [
             0.1111111111111111,
             "#46039f"
            ],
            [
             0.2222222222222222,
             "#7201a8"
            ],
            [
             0.3333333333333333,
             "#9c179e"
            ],
            [
             0.4444444444444444,
             "#bd3786"
            ],
            [
             0.5555555555555556,
             "#d8576b"
            ],
            [
             0.6666666666666666,
             "#ed7953"
            ],
            [
             0.7777777777777778,
             "#fb9f3a"
            ],
            [
             0.8888888888888888,
             "#fdca26"
            ],
            [
             1,
             "#f0f921"
            ]
           ]
          },
          "colorway": [
           "#636efa",
           "#EF553B",
           "#00cc96",
           "#ab63fa",
           "#FFA15A",
           "#19d3f3",
           "#FF6692",
           "#B6E880",
           "#FF97FF",
           "#FECB52"
          ],
          "font": {
           "color": "#2a3f5f"
          },
          "geo": {
           "bgcolor": "white",
           "lakecolor": "white",
           "landcolor": "#E5ECF6",
           "showlakes": true,
           "showland": true,
           "subunitcolor": "white"
          },
          "hoverlabel": {
           "align": "left"
          },
          "hovermode": "closest",
          "mapbox": {
           "style": "light"
          },
          "paper_bgcolor": "white",
          "plot_bgcolor": "#E5ECF6",
          "polar": {
           "angularaxis": {
            "gridcolor": "white",
            "linecolor": "white",
            "ticks": ""
           },
           "bgcolor": "#E5ECF6",
           "radialaxis": {
            "gridcolor": "white",
            "linecolor": "white",
            "ticks": ""
           }
          },
          "scene": {
           "xaxis": {
            "backgroundcolor": "#E5ECF6",
            "gridcolor": "white",
            "gridwidth": 2,
            "linecolor": "white",
            "showbackground": true,
            "ticks": "",
            "zerolinecolor": "white"
           },
           "yaxis": {
            "backgroundcolor": "#E5ECF6",
            "gridcolor": "white",
            "gridwidth": 2,
            "linecolor": "white",
            "showbackground": true,
            "ticks": "",
            "zerolinecolor": "white"
           },
           "zaxis": {
            "backgroundcolor": "#E5ECF6",
            "gridcolor": "white",
            "gridwidth": 2,
            "linecolor": "white",
            "showbackground": true,
            "ticks": "",
            "zerolinecolor": "white"
           }
          },
          "shapedefaults": {
           "line": {
            "color": "#2a3f5f"
           }
          },
          "ternary": {
           "aaxis": {
            "gridcolor": "white",
            "linecolor": "white",
            "ticks": ""
           },
           "baxis": {
            "gridcolor": "white",
            "linecolor": "white",
            "ticks": ""
           },
           "bgcolor": "#E5ECF6",
           "caxis": {
            "gridcolor": "white",
            "linecolor": "white",
            "ticks": ""
           }
          },
          "title": {
           "x": 0.05
          },
          "xaxis": {
           "automargin": true,
           "gridcolor": "white",
           "linecolor": "white",
           "ticks": "",
           "title": {
            "standoff": 15
           },
           "zerolinecolor": "white",
           "zerolinewidth": 2
          },
          "yaxis": {
           "automargin": true,
           "gridcolor": "white",
           "linecolor": "white",
           "ticks": "",
           "title": {
            "standoff": 15
           },
           "zerolinecolor": "white",
           "zerolinewidth": 2
          }
         }
        },
        "title": {
         "text": "S0 responses for different levels of wage at t and patience"
        },
        "width": 1000
       }
      }
     },
     "metadata": {},
     "output_type": "display_data"
    }
   ],
   "source": [
    "# Create the boxes to store the values\n",
    "S0_Ex1 = np.zeros((len(B0s), len(rhos)))\n",
    "model = HumanCapitalModelClass()\n",
    "\n",
    "# Here we are looping over all possible values in the parameters E and Gamma\n",
    "for j, B0 in enumerate(B0s):\n",
    "    for i, rho in enumerate(rhos):\n",
    "        model.par.B0 = B0\n",
    "        model.par.rho = rho\n",
    "        sol_1 = model.solve_continously()\n",
    "        S0_Ex1[i, j] = sol_1.S0\n",
    "\n",
    "# Here we are storing the values created before (Es and Gammas)\n",
    "B0s_mesh, rhos_mesh = np.meshgrid(B0s, rhos)\n",
    "\n",
    "# Ploting in 3D\n",
    "fig = go.Figure(data=[go.Surface(x=B0s_mesh, y=rhos_mesh, z=S0_Ex1)])\n",
    "# This part of the code is important because is how to set the point labels and color of the grid\n",
    "fig.update_traces(\n",
    "    colorscale=\"YlGnBu\",  # Set the color scale\n",
    "    hovertemplate=\"B0: %{x}<br>rho: %{y}<br>S0: %{z}<extra></extra>\" \n",
    ")\n",
    "# Just the plot\n",
    "fig.update_layout(\n",
    "    scene=dict(\n",
    "        xaxis=dict(title=\"Wage at t\", autorange=\"reversed\", showgrid=True),\n",
    "        yaxis=dict(title=\"Individual's patience\", showgrid=True),\n",
    "        zaxis=dict(title=\"Fraction of time at schooling when young\", showgrid=True) \n",
    "    ),\n",
    "    title=\"S0 responses for different levels of wage at t and patience\",\n",
    "    width=1000,\n",
    "    height=1000\n",
    ")\n",
    "fig.show()"
   ]
  },
  {
   "attachments": {},
   "cell_type": "markdown",
   "metadata": {},
   "source": [
    "**Interpretation**\n",
    "\n",
    "In the previous graph we can observe how the time that the individual chooses to study during his youth changes in response to fluctuations in the wage level in period t (during his youth) and his degree of patience. As expected, in a scenario in which the individual is quite impatient and the wage in period t is sufficiently high, the individual will choose to spend all his time working instead of studying.\n",
    "Similarly, there is an important turning point at a patience level of 0.7 and a wage level of 0.7, at any combination of levels equal to or higher than those mentioned above, the individual will choose to only work."
   ]
  },
  {
   "attachments": {},
   "cell_type": "markdown",
   "metadata": {},
   "source": [
    "### Changes in Shooling at period t (S0) in response to increases in educational resources (E) for individuals with different level of inicial ability (A)"
   ]
  },
  {
   "cell_type": "code",
   "execution_count": 12,
   "metadata": {},
   "outputs": [
    {
     "data": {
      "application/vnd.plotly.v1+json": {
       "config": {
        "plotlyServerURL": "https://plot.ly"
       },
       "data": [
        {
         "colorscale": [
          [
           0,
           "rgb(255,255,229)"
          ],
          [
           0.125,
           "rgb(247,252,185)"
          ],
          [
           0.25,
           "rgb(217,240,163)"
          ],
          [
           0.375,
           "rgb(173,221,142)"
          ],
          [
           0.5,
           "rgb(120,198,121)"
          ],
          [
           0.625,
           "rgb(65,171,93)"
          ],
          [
           0.75,
           "rgb(35,132,67)"
          ],
          [
           0.875,
           "rgb(0,104,55)"
          ],
          [
           1,
           "rgb(0,69,41)"
          ]
         ],
         "hovertemplate": "E: %{x}<br>A: %{y}<br>S0: %{z}<extra></extra>",
         "type": "surface",
         "x": [
          [
           0,
           0.5,
           1,
           1.5,
           2,
           2.5,
           3,
           3.5,
           4,
           4.5,
           5
          ],
          [
           0,
           0.5,
           1,
           1.5,
           2,
           2.5,
           3,
           3.5,
           4,
           4.5,
           5
          ],
          [
           0,
           0.5,
           1,
           1.5,
           2,
           2.5,
           3,
           3.5,
           4,
           4.5,
           5
          ],
          [
           0,
           0.5,
           1,
           1.5,
           2,
           2.5,
           3,
           3.5,
           4,
           4.5,
           5
          ],
          [
           0,
           0.5,
           1,
           1.5,
           2,
           2.5,
           3,
           3.5,
           4,
           4.5,
           5
          ],
          [
           0,
           0.5,
           1,
           1.5,
           2,
           2.5,
           3,
           3.5,
           4,
           4.5,
           5
          ],
          [
           0,
           0.5,
           1,
           1.5,
           2,
           2.5,
           3,
           3.5,
           4,
           4.5,
           5
          ],
          [
           0,
           0.5,
           1,
           1.5,
           2,
           2.5,
           3,
           3.5,
           4,
           4.5,
           5
          ],
          [
           0,
           0.5,
           1,
           1.5,
           2,
           2.5,
           3,
           3.5,
           4,
           4.5,
           5
          ],
          [
           0,
           0.5,
           1,
           1.5,
           2,
           2.5,
           3,
           3.5,
           4,
           4.5,
           5
          ],
          [
           0,
           0.5,
           1,
           1.5,
           2,
           2.5,
           3,
           3.5,
           4,
           4.5,
           5
          ]
         ],
         "y": [
          [
           0,
           0,
           0,
           0,
           0,
           0,
           0,
           0,
           0,
           0,
           0
          ],
          [
           0.3,
           0.3,
           0.3,
           0.3,
           0.3,
           0.3,
           0.3,
           0.3,
           0.3,
           0.3,
           0.3
          ],
          [
           0.6,
           0.6,
           0.6,
           0.6,
           0.6,
           0.6,
           0.6,
           0.6,
           0.6,
           0.6,
           0.6
          ],
          [
           0.8999999999999999,
           0.8999999999999999,
           0.8999999999999999,
           0.8999999999999999,
           0.8999999999999999,
           0.8999999999999999,
           0.8999999999999999,
           0.8999999999999999,
           0.8999999999999999,
           0.8999999999999999,
           0.8999999999999999
          ],
          [
           1.2,
           1.2,
           1.2,
           1.2,
           1.2,
           1.2,
           1.2,
           1.2,
           1.2,
           1.2,
           1.2
          ],
          [
           1.5,
           1.5,
           1.5,
           1.5,
           1.5,
           1.5,
           1.5,
           1.5,
           1.5,
           1.5,
           1.5
          ],
          [
           1.7999999999999998,
           1.7999999999999998,
           1.7999999999999998,
           1.7999999999999998,
           1.7999999999999998,
           1.7999999999999998,
           1.7999999999999998,
           1.7999999999999998,
           1.7999999999999998,
           1.7999999999999998,
           1.7999999999999998
          ],
          [
           2.1,
           2.1,
           2.1,
           2.1,
           2.1,
           2.1,
           2.1,
           2.1,
           2.1,
           2.1,
           2.1
          ],
          [
           2.4,
           2.4,
           2.4,
           2.4,
           2.4,
           2.4,
           2.4,
           2.4,
           2.4,
           2.4,
           2.4
          ],
          [
           2.6999999999999997,
           2.6999999999999997,
           2.6999999999999997,
           2.6999999999999997,
           2.6999999999999997,
           2.6999999999999997,
           2.6999999999999997,
           2.6999999999999997,
           2.6999999999999997,
           2.6999999999999997,
           2.6999999999999997
          ],
          [
           3,
           3,
           3,
           3,
           3,
           3,
           3,
           3,
           3,
           3,
           3
          ]
         ],
         "z": [
          [
           0,
           0,
           0,
           0,
           0,
           0,
           0,
           0,
           0,
           0,
           0
          ],
          [
           0,
           0.0004903875926223069,
           0.008231712937002094,
           0.01240885458853343,
           0.01646352094718029,
           0.02070996448685703,
           0.024821160113703496,
           0.028902584015893844,
           0.033158847652095376,
           0.03729513663904367,
           0.0414248968174705
          ],
          [
           0,
           0.008231712937002094,
           0.01646352094718029,
           0.024821160113703496,
           0.033158847652095376,
           0.0414248968174705,
           0.049656217969105895,
           0.057835073851837594,
           0.06632094767110974,
           0.07459703554314155,
           0.08286229829227527
          ],
          [
           0,
           0.01240885458853343,
           0.024821160113703496,
           0.03729513663904367,
           0.049656217969105895,
           0.061899653654155964,
           0.07459703554314155,
           0.08698968734539718,
           0.09934523233852643,
           0.11165029158791537,
           0.12436414080458964
          ],
          [
           0,
           0.01646352094718029,
           0.033158847652095376,
           0.049656217969105895,
           0.06632094767110974,
           0.08286229829227527,
           0.09934523233852643,
           0.11573837708907109,
           0.13264844634148648,
           0.14920761920273398,
           0.1657493805051263
          ],
          [
           0,
           0.02070996448685703,
           0.0414248968174705,
           0.061899653654155964,
           0.08286229829227527,
           0.10345311374232075,
           0.12436414080458964,
           0.14506924825837295,
           0.1657493805051263,
           0.18639234942787486,
           0.20698482869023394
          ],
          [
           0,
           0.024821160113703496,
           0.049656217969105895,
           0.07459703554314155,
           0.09934523233852643,
           0.12436414080458964,
           0.14920761920273398,
           0.17401168010758444,
           0.19875470788975255,
           0.22341385759473564,
           0.24873578373361757
          ],
          [
           0,
           0.028902584015893844,
           0.057835073851837594,
           0.08698965834911394,
           0.11573837708907109,
           0.14506924825837295,
           0.1740116821148703,
           0.20287107724069572,
           0.23161073778333158,
           0.26116560700562097,
           0.2901585602612302
          ],
          [
           0,
           0.033158847652095376,
           0.06632094767110974,
           0.09934523233852643,
           0.13264844634148648,
           0.1657493805051263,
           0.19875470788975255,
           0.23161073778333158,
           0.26530836810718644,
           0.29843903215376744,
           0.3315424244952014
          ],
          [
           0,
           0.03729513663904367,
           0.07459703554314155,
           0.11165029158791537,
           0.14920761920273398,
           0.18639225228816353,
           0.22341385759473564,
           0.26116559781951904,
           0.29843903215376744,
           0.3356779303914479,
           0.3728673802658159
          ],
          [
           0,
           0.0414248968174705,
           0.08286229829227527,
           0.12436414080458964,
           0.1657493805051263,
           0.20698482869023394,
           0.24873578373361757,
           0.2901585602612302,
           0.3315424244952014,
           0.3728673858639005,
           0.4141106503032658
          ]
         ]
        }
       ],
       "layout": {
        "height": 1000,
        "scene": {
         "xaxis": {
          "autorange": "reversed",
          "showgrid": true,
          "title": {
           "text": "Resources for Education (E)"
          }
         },
         "yaxis": {
          "showgrid": true,
          "title": {
           "text": "Initial Ability (A)"
          }
         },
         "zaxis": {
          "showgrid": true,
          "title": {
           "text": "Fraction of time at schooling when young"
          }
         }
        },
        "template": {
         "data": {
          "bar": [
           {
            "error_x": {
             "color": "#2a3f5f"
            },
            "error_y": {
             "color": "#2a3f5f"
            },
            "marker": {
             "line": {
              "color": "#E5ECF6",
              "width": 0.5
             },
             "pattern": {
              "fillmode": "overlay",
              "size": 10,
              "solidity": 0.2
             }
            },
            "type": "bar"
           }
          ],
          "barpolar": [
           {
            "marker": {
             "line": {
              "color": "#E5ECF6",
              "width": 0.5
             },
             "pattern": {
              "fillmode": "overlay",
              "size": 10,
              "solidity": 0.2
             }
            },
            "type": "barpolar"
           }
          ],
          "carpet": [
           {
            "aaxis": {
             "endlinecolor": "#2a3f5f",
             "gridcolor": "white",
             "linecolor": "white",
             "minorgridcolor": "white",
             "startlinecolor": "#2a3f5f"
            },
            "baxis": {
             "endlinecolor": "#2a3f5f",
             "gridcolor": "white",
             "linecolor": "white",
             "minorgridcolor": "white",
             "startlinecolor": "#2a3f5f"
            },
            "type": "carpet"
           }
          ],
          "choropleth": [
           {
            "colorbar": {
             "outlinewidth": 0,
             "ticks": ""
            },
            "type": "choropleth"
           }
          ],
          "contour": [
           {
            "colorbar": {
             "outlinewidth": 0,
             "ticks": ""
            },
            "colorscale": [
             [
              0,
              "#0d0887"
             ],
             [
              0.1111111111111111,
              "#46039f"
             ],
             [
              0.2222222222222222,
              "#7201a8"
             ],
             [
              0.3333333333333333,
              "#9c179e"
             ],
             [
              0.4444444444444444,
              "#bd3786"
             ],
             [
              0.5555555555555556,
              "#d8576b"
             ],
             [
              0.6666666666666666,
              "#ed7953"
             ],
             [
              0.7777777777777778,
              "#fb9f3a"
             ],
             [
              0.8888888888888888,
              "#fdca26"
             ],
             [
              1,
              "#f0f921"
             ]
            ],
            "type": "contour"
           }
          ],
          "contourcarpet": [
           {
            "colorbar": {
             "outlinewidth": 0,
             "ticks": ""
            },
            "type": "contourcarpet"
           }
          ],
          "heatmap": [
           {
            "colorbar": {
             "outlinewidth": 0,
             "ticks": ""
            },
            "colorscale": [
             [
              0,
              "#0d0887"
             ],
             [
              0.1111111111111111,
              "#46039f"
             ],
             [
              0.2222222222222222,
              "#7201a8"
             ],
             [
              0.3333333333333333,
              "#9c179e"
             ],
             [
              0.4444444444444444,
              "#bd3786"
             ],
             [
              0.5555555555555556,
              "#d8576b"
             ],
             [
              0.6666666666666666,
              "#ed7953"
             ],
             [
              0.7777777777777778,
              "#fb9f3a"
             ],
             [
              0.8888888888888888,
              "#fdca26"
             ],
             [
              1,
              "#f0f921"
             ]
            ],
            "type": "heatmap"
           }
          ],
          "heatmapgl": [
           {
            "colorbar": {
             "outlinewidth": 0,
             "ticks": ""
            },
            "colorscale": [
             [
              0,
              "#0d0887"
             ],
             [
              0.1111111111111111,
              "#46039f"
             ],
             [
              0.2222222222222222,
              "#7201a8"
             ],
             [
              0.3333333333333333,
              "#9c179e"
             ],
             [
              0.4444444444444444,
              "#bd3786"
             ],
             [
              0.5555555555555556,
              "#d8576b"
             ],
             [
              0.6666666666666666,
              "#ed7953"
             ],
             [
              0.7777777777777778,
              "#fb9f3a"
             ],
             [
              0.8888888888888888,
              "#fdca26"
             ],
             [
              1,
              "#f0f921"
             ]
            ],
            "type": "heatmapgl"
           }
          ],
          "histogram": [
           {
            "marker": {
             "pattern": {
              "fillmode": "overlay",
              "size": 10,
              "solidity": 0.2
             }
            },
            "type": "histogram"
           }
          ],
          "histogram2d": [
           {
            "colorbar": {
             "outlinewidth": 0,
             "ticks": ""
            },
            "colorscale": [
             [
              0,
              "#0d0887"
             ],
             [
              0.1111111111111111,
              "#46039f"
             ],
             [
              0.2222222222222222,
              "#7201a8"
             ],
             [
              0.3333333333333333,
              "#9c179e"
             ],
             [
              0.4444444444444444,
              "#bd3786"
             ],
             [
              0.5555555555555556,
              "#d8576b"
             ],
             [
              0.6666666666666666,
              "#ed7953"
             ],
             [
              0.7777777777777778,
              "#fb9f3a"
             ],
             [
              0.8888888888888888,
              "#fdca26"
             ],
             [
              1,
              "#f0f921"
             ]
            ],
            "type": "histogram2d"
           }
          ],
          "histogram2dcontour": [
           {
            "colorbar": {
             "outlinewidth": 0,
             "ticks": ""
            },
            "colorscale": [
             [
              0,
              "#0d0887"
             ],
             [
              0.1111111111111111,
              "#46039f"
             ],
             [
              0.2222222222222222,
              "#7201a8"
             ],
             [
              0.3333333333333333,
              "#9c179e"
             ],
             [
              0.4444444444444444,
              "#bd3786"
             ],
             [
              0.5555555555555556,
              "#d8576b"
             ],
             [
              0.6666666666666666,
              "#ed7953"
             ],
             [
              0.7777777777777778,
              "#fb9f3a"
             ],
             [
              0.8888888888888888,
              "#fdca26"
             ],
             [
              1,
              "#f0f921"
             ]
            ],
            "type": "histogram2dcontour"
           }
          ],
          "mesh3d": [
           {
            "colorbar": {
             "outlinewidth": 0,
             "ticks": ""
            },
            "type": "mesh3d"
           }
          ],
          "parcoords": [
           {
            "line": {
             "colorbar": {
              "outlinewidth": 0,
              "ticks": ""
             }
            },
            "type": "parcoords"
           }
          ],
          "pie": [
           {
            "automargin": true,
            "type": "pie"
           }
          ],
          "scatter": [
           {
            "fillpattern": {
             "fillmode": "overlay",
             "size": 10,
             "solidity": 0.2
            },
            "type": "scatter"
           }
          ],
          "scatter3d": [
           {
            "line": {
             "colorbar": {
              "outlinewidth": 0,
              "ticks": ""
             }
            },
            "marker": {
             "colorbar": {
              "outlinewidth": 0,
              "ticks": ""
             }
            },
            "type": "scatter3d"
           }
          ],
          "scattercarpet": [
           {
            "marker": {
             "colorbar": {
              "outlinewidth": 0,
              "ticks": ""
             }
            },
            "type": "scattercarpet"
           }
          ],
          "scattergeo": [
           {
            "marker": {
             "colorbar": {
              "outlinewidth": 0,
              "ticks": ""
             }
            },
            "type": "scattergeo"
           }
          ],
          "scattergl": [
           {
            "marker": {
             "colorbar": {
              "outlinewidth": 0,
              "ticks": ""
             }
            },
            "type": "scattergl"
           }
          ],
          "scattermapbox": [
           {
            "marker": {
             "colorbar": {
              "outlinewidth": 0,
              "ticks": ""
             }
            },
            "type": "scattermapbox"
           }
          ],
          "scatterpolar": [
           {
            "marker": {
             "colorbar": {
              "outlinewidth": 0,
              "ticks": ""
             }
            },
            "type": "scatterpolar"
           }
          ],
          "scatterpolargl": [
           {
            "marker": {
             "colorbar": {
              "outlinewidth": 0,
              "ticks": ""
             }
            },
            "type": "scatterpolargl"
           }
          ],
          "scatterternary": [
           {
            "marker": {
             "colorbar": {
              "outlinewidth": 0,
              "ticks": ""
             }
            },
            "type": "scatterternary"
           }
          ],
          "surface": [
           {
            "colorbar": {
             "outlinewidth": 0,
             "ticks": ""
            },
            "colorscale": [
             [
              0,
              "#0d0887"
             ],
             [
              0.1111111111111111,
              "#46039f"
             ],
             [
              0.2222222222222222,
              "#7201a8"
             ],
             [
              0.3333333333333333,
              "#9c179e"
             ],
             [
              0.4444444444444444,
              "#bd3786"
             ],
             [
              0.5555555555555556,
              "#d8576b"
             ],
             [
              0.6666666666666666,
              "#ed7953"
             ],
             [
              0.7777777777777778,
              "#fb9f3a"
             ],
             [
              0.8888888888888888,
              "#fdca26"
             ],
             [
              1,
              "#f0f921"
             ]
            ],
            "type": "surface"
           }
          ],
          "table": [
           {
            "cells": {
             "fill": {
              "color": "#EBF0F8"
             },
             "line": {
              "color": "white"
             }
            },
            "header": {
             "fill": {
              "color": "#C8D4E3"
             },
             "line": {
              "color": "white"
             }
            },
            "type": "table"
           }
          ]
         },
         "layout": {
          "annotationdefaults": {
           "arrowcolor": "#2a3f5f",
           "arrowhead": 0,
           "arrowwidth": 1
          },
          "autotypenumbers": "strict",
          "coloraxis": {
           "colorbar": {
            "outlinewidth": 0,
            "ticks": ""
           }
          },
          "colorscale": {
           "diverging": [
            [
             0,
             "#8e0152"
            ],
            [
             0.1,
             "#c51b7d"
            ],
            [
             0.2,
             "#de77ae"
            ],
            [
             0.3,
             "#f1b6da"
            ],
            [
             0.4,
             "#fde0ef"
            ],
            [
             0.5,
             "#f7f7f7"
            ],
            [
             0.6,
             "#e6f5d0"
            ],
            [
             0.7,
             "#b8e186"
            ],
            [
             0.8,
             "#7fbc41"
            ],
            [
             0.9,
             "#4d9221"
            ],
            [
             1,
             "#276419"
            ]
           ],
           "sequential": [
            [
             0,
             "#0d0887"
            ],
            [
             0.1111111111111111,
             "#46039f"
            ],
            [
             0.2222222222222222,
             "#7201a8"
            ],
            [
             0.3333333333333333,
             "#9c179e"
            ],
            [
             0.4444444444444444,
             "#bd3786"
            ],
            [
             0.5555555555555556,
             "#d8576b"
            ],
            [
             0.6666666666666666,
             "#ed7953"
            ],
            [
             0.7777777777777778,
             "#fb9f3a"
            ],
            [
             0.8888888888888888,
             "#fdca26"
            ],
            [
             1,
             "#f0f921"
            ]
           ],
           "sequentialminus": [
            [
             0,
             "#0d0887"
            ],
            [
             0.1111111111111111,
             "#46039f"
            ],
            [
             0.2222222222222222,
             "#7201a8"
            ],
            [
             0.3333333333333333,
             "#9c179e"
            ],
            [
             0.4444444444444444,
             "#bd3786"
            ],
            [
             0.5555555555555556,
             "#d8576b"
            ],
            [
             0.6666666666666666,
             "#ed7953"
            ],
            [
             0.7777777777777778,
             "#fb9f3a"
            ],
            [
             0.8888888888888888,
             "#fdca26"
            ],
            [
             1,
             "#f0f921"
            ]
           ]
          },
          "colorway": [
           "#636efa",
           "#EF553B",
           "#00cc96",
           "#ab63fa",
           "#FFA15A",
           "#19d3f3",
           "#FF6692",
           "#B6E880",
           "#FF97FF",
           "#FECB52"
          ],
          "font": {
           "color": "#2a3f5f"
          },
          "geo": {
           "bgcolor": "white",
           "lakecolor": "white",
           "landcolor": "#E5ECF6",
           "showlakes": true,
           "showland": true,
           "subunitcolor": "white"
          },
          "hoverlabel": {
           "align": "left"
          },
          "hovermode": "closest",
          "mapbox": {
           "style": "light"
          },
          "paper_bgcolor": "white",
          "plot_bgcolor": "#E5ECF6",
          "polar": {
           "angularaxis": {
            "gridcolor": "white",
            "linecolor": "white",
            "ticks": ""
           },
           "bgcolor": "#E5ECF6",
           "radialaxis": {
            "gridcolor": "white",
            "linecolor": "white",
            "ticks": ""
           }
          },
          "scene": {
           "xaxis": {
            "backgroundcolor": "#E5ECF6",
            "gridcolor": "white",
            "gridwidth": 2,
            "linecolor": "white",
            "showbackground": true,
            "ticks": "",
            "zerolinecolor": "white"
           },
           "yaxis": {
            "backgroundcolor": "#E5ECF6",
            "gridcolor": "white",
            "gridwidth": 2,
            "linecolor": "white",
            "showbackground": true,
            "ticks": "",
            "zerolinecolor": "white"
           },
           "zaxis": {
            "backgroundcolor": "#E5ECF6",
            "gridcolor": "white",
            "gridwidth": 2,
            "linecolor": "white",
            "showbackground": true,
            "ticks": "",
            "zerolinecolor": "white"
           }
          },
          "shapedefaults": {
           "line": {
            "color": "#2a3f5f"
           }
          },
          "ternary": {
           "aaxis": {
            "gridcolor": "white",
            "linecolor": "white",
            "ticks": ""
           },
           "baxis": {
            "gridcolor": "white",
            "linecolor": "white",
            "ticks": ""
           },
           "bgcolor": "#E5ECF6",
           "caxis": {
            "gridcolor": "white",
            "linecolor": "white",
            "ticks": ""
           }
          },
          "title": {
           "x": 0.05
          },
          "xaxis": {
           "automargin": true,
           "gridcolor": "white",
           "linecolor": "white",
           "ticks": "",
           "title": {
            "standoff": 15
           },
           "zerolinecolor": "white",
           "zerolinewidth": 2
          },
          "yaxis": {
           "automargin": true,
           "gridcolor": "white",
           "linecolor": "white",
           "ticks": "",
           "title": {
            "standoff": 15
           },
           "zerolinecolor": "white",
           "zerolinewidth": 2
          }
         }
        },
        "title": {
         "text": "S0 responses for different levels of Education Resources (E) and levels of Initial Ability (A)"
        },
        "width": 1000
       }
      }
     },
     "metadata": {},
     "output_type": "display_data"
    }
   ],
   "source": [
    "# Create the boxes to store the values\n",
    "S0_Ex2 = np.zeros((len(Es), len(As)))\n",
    "model = HumanCapitalModelClass()\n",
    "\n",
    "# Here we are looping over all possible values in the parameters E and Gamma\n",
    "for j, E in enumerate(Es):\n",
    "    for i, A in enumerate(As):\n",
    "        model.par.E = E\n",
    "        model.par.A = A\n",
    "        sol_2 = model.solve_continously()\n",
    "        S0_Ex2[i, j] = sol_2.S0\n",
    "\n",
    "# Here we are storing the values created before (Es and Gammas)\n",
    "Es_mesh, As_mesh = np.meshgrid(Es, As)\n",
    "\n",
    "# Ploting in 3D\n",
    "fig = go.Figure(data=[go.Surface(x=Es_mesh, y=As_mesh, z=S0_Ex2)])\n",
    "# This part of the code is important because is how to set the point labels and color of the grid\n",
    "fig.update_traces(\n",
    "    colorscale=\"YlGn\",  # Set the color scale\n",
    "    hovertemplate=\"E: %{x}<br>A: %{y}<br>S0: %{z}<extra></extra>\" \n",
    ")\n",
    "# Just the plot\n",
    "fig.update_layout(\n",
    "    scene=dict(\n",
    "        xaxis=dict(title=\"Resources for Education (E)\", autorange=\"reversed\", showgrid=True),\n",
    "        yaxis=dict(title=\"Initial Ability (A)\", showgrid=True),\n",
    "        zaxis=dict(title=\"Fraction of time at schooling when young\", showgrid=True)\n",
    "    ),\n",
    "    title=\"S0 responses for different levels of Education Resources (E) and levels of Initial Ability (A)\",\n",
    "    width=1000,\n",
    "    height=1000\n",
    ")\n",
    "fig.show()"
   ]
  },
  {
   "attachments": {},
   "cell_type": "markdown",
   "metadata": {},
   "source": [
    "**Interpretation**\n",
    "\n",
    "The graph above shows the ratio of time that would be spent studying during youth for different levels of government resources allocated to education (E) and for different levels of Initial Ability (A). As expected, individuals with higher Initial Ability will tend to take better advantage of the abundance of educational infrastructure and resources, spending up to 40% of their time, compared to those with an A close to zero, who even with a quality education will choose to spend a zero fraction of their time on education.\n",
    "\n",
    "This may be because individuals with higher cognitive skills, either by birth or acquired at home in their early childhood years, will tend to be more aware that more schooling will allow them to have a higher level of income in their adult life."
   ]
  },
  {
   "cell_type": "code",
   "execution_count": 13,
   "metadata": {},
   "outputs": [
    {
     "data": {
      "application/vnd.plotly.v1+json": {
       "config": {
        "plotlyServerURL": "https://plot.ly"
       },
       "data": [
        {
         "colorscale": [
          [
           0,
           "rgb(255,255,204)"
          ],
          [
           0.125,
           "rgb(255,237,160)"
          ],
          [
           0.25,
           "rgb(254,217,118)"
          ],
          [
           0.375,
           "rgb(254,178,76)"
          ],
          [
           0.5,
           "rgb(253,141,60)"
          ],
          [
           0.625,
           "rgb(252,78,42)"
          ],
          [
           0.75,
           "rgb(227,26,28)"
          ],
          [
           0.875,
           "rgb(189,0,38)"
          ],
          [
           1,
           "rgb(128,0,38)"
          ]
         ],
         "hovertemplate": "A: %{x}<br>B1: %{y}<br>S0: %{z}<extra></extra>",
         "type": "surface",
         "x": [
          [
           0,
           0.3,
           0.6,
           0.8999999999999999,
           1.2,
           1.5,
           1.7999999999999998,
           2.1,
           2.4,
           2.6999999999999997,
           3
          ],
          [
           0,
           0.3,
           0.6,
           0.8999999999999999,
           1.2,
           1.5,
           1.7999999999999998,
           2.1,
           2.4,
           2.6999999999999997,
           3
          ],
          [
           0,
           0.3,
           0.6,
           0.8999999999999999,
           1.2,
           1.5,
           1.7999999999999998,
           2.1,
           2.4,
           2.6999999999999997,
           3
          ],
          [
           0,
           0.3,
           0.6,
           0.8999999999999999,
           1.2,
           1.5,
           1.7999999999999998,
           2.1,
           2.4,
           2.6999999999999997,
           3
          ],
          [
           0,
           0.3,
           0.6,
           0.8999999999999999,
           1.2,
           1.5,
           1.7999999999999998,
           2.1,
           2.4,
           2.6999999999999997,
           3
          ],
          [
           0,
           0.3,
           0.6,
           0.8999999999999999,
           1.2,
           1.5,
           1.7999999999999998,
           2.1,
           2.4,
           2.6999999999999997,
           3
          ],
          [
           0,
           0.3,
           0.6,
           0.8999999999999999,
           1.2,
           1.5,
           1.7999999999999998,
           2.1,
           2.4,
           2.6999999999999997,
           3
          ],
          [
           0,
           0.3,
           0.6,
           0.8999999999999999,
           1.2,
           1.5,
           1.7999999999999998,
           2.1,
           2.4,
           2.6999999999999997,
           3
          ],
          [
           0,
           0.3,
           0.6,
           0.8999999999999999,
           1.2,
           1.5,
           1.7999999999999998,
           2.1,
           2.4,
           2.6999999999999997,
           3
          ],
          [
           0,
           0.3,
           0.6,
           0.8999999999999999,
           1.2,
           1.5,
           1.7999999999999998,
           2.1,
           2.4,
           2.6999999999999997,
           3
          ],
          [
           0,
           0.3,
           0.6,
           0.8999999999999999,
           1.2,
           1.5,
           1.7999999999999998,
           2.1,
           2.4,
           2.6999999999999997,
           3
          ]
         ],
         "y": [
          [
           0,
           0,
           0,
           0,
           0,
           0,
           0,
           0,
           0,
           0,
           0
          ],
          [
           0.1,
           0.1,
           0.1,
           0.1,
           0.1,
           0.1,
           0.1,
           0.1,
           0.1,
           0.1,
           0.1
          ],
          [
           0.2,
           0.2,
           0.2,
           0.2,
           0.2,
           0.2,
           0.2,
           0.2,
           0.2,
           0.2,
           0.2
          ],
          [
           0.30000000000000004,
           0.30000000000000004,
           0.30000000000000004,
           0.30000000000000004,
           0.30000000000000004,
           0.30000000000000004,
           0.30000000000000004,
           0.30000000000000004,
           0.30000000000000004,
           0.30000000000000004,
           0.30000000000000004
          ],
          [
           0.4,
           0.4,
           0.4,
           0.4,
           0.4,
           0.4,
           0.4,
           0.4,
           0.4,
           0.4,
           0.4
          ],
          [
           0.5,
           0.5,
           0.5,
           0.5,
           0.5,
           0.5,
           0.5,
           0.5,
           0.5,
           0.5,
           0.5
          ],
          [
           0.6000000000000001,
           0.6000000000000001,
           0.6000000000000001,
           0.6000000000000001,
           0.6000000000000001,
           0.6000000000000001,
           0.6000000000000001,
           0.6000000000000001,
           0.6000000000000001,
           0.6000000000000001,
           0.6000000000000001
          ],
          [
           0.7000000000000001,
           0.7000000000000001,
           0.7000000000000001,
           0.7000000000000001,
           0.7000000000000001,
           0.7000000000000001,
           0.7000000000000001,
           0.7000000000000001,
           0.7000000000000001,
           0.7000000000000001,
           0.7000000000000001
          ],
          [
           0.8,
           0.8,
           0.8,
           0.8,
           0.8,
           0.8,
           0.8,
           0.8,
           0.8,
           0.8,
           0.8
          ],
          [
           0.9,
           0.9,
           0.9,
           0.9,
           0.9,
           0.9,
           0.9,
           0.9,
           0.9,
           0.9,
           0.9
          ],
          [
           1,
           1,
           1,
           1,
           1,
           1,
           1,
           1,
           1,
           1,
           1
          ]
         ],
         "z": [
          [
           0,
           0,
           0,
           0,
           0,
           0,
           0,
           0,
           0,
           0,
           0
          ],
          [
           0,
           0.0004865064705043079,
           0.0004897229648587544,
           0.0004908779565296835,
           0.0004902711184453705,
           0.0004908779565296835,
           0.0004913260863897023,
           0.0004916755831305095,
           0.007910640173673995,
           0.008869654770452227,
           0.009942232801852434
          ],
          [
           0,
           0.000491567302825882,
           0.013226305445949152,
           0.01988501872830749,
           0.015820756368587843,
           0.01988501872830749,
           0.023836803627915033,
           0.027763345016754013,
           0.031656275943290825,
           0.03580671321331482,
           0.03977390763305618
          ],
          [
           0,
           0.014851991707966455,
           0.02971444928536056,
           0.0447225731946352,
           0.03580670846279971,
           0.0447225731946352,
           0.05358963180020237,
           0.06267691518626649,
           0.07161871142384382,
           0.08054931684140766,
           0.08946416896696209
          ],
          [
           0,
           0.02645781061409512,
           0.05293506713818001,
           0.07955770257808548,
           0.06367086689745634,
           0.07955770257808548,
           0.09539621022325868,
           0.11115911927865925,
           0.12734679503048252,
           0.14324800757957673,
           0.1591351204553789
          ],
          [
           0,
           0.0414248968174705,
           0.08286229829227527,
           0.12436414080458964,
           0.09934523233852643,
           0.12436414080458964,
           0.14920761920273398,
           0.1740116821148703,
           0.19875470788975255,
           0.22341385759473564,
           0.24873578373361757
          ],
          [
           0,
           0.0594631711406458,
           0.11900382592902362,
           0.17896592659155353,
           0.14324803888232818,
           0.17896592659155353,
           0.21454752659201728,
           0.25072470482745357,
           0.2865146289950809,
           0.32227680140319037,
           0.3579986755067597
          ],
          [
           4.440892098500626e-16,
           0.08121025896956904,
           0.16244270396277843,
           0.24376328096300642,
           0.19480099500837358,
           0.24376328096300642,
           0.2924772614161268,
           0.3411360608002465,
           0.38970599836853786,
           0.4381503706011646,
           0.4875369065360556
          ],
          [
           0,
           0.10591489304777948,
           0.21191804941959586,
           0.31830506753315785,
           0.2547023798804696,
           0.31830506753315785,
           0.3817835603005742,
           0.445057780364248,
           0.5094187008243399,
           0.5730592206751465,
           0.6366666668717464
          ],
          [
           1.5543122344752192e-15,
           0.13430498290017714,
           0.26862238391160076,
           0.4025720615124845,
           0.3222768776815333,
           0.4025720615124845,
           0.4835581620278879,
           0.564111442213069,
           0.6446146136577654,
           0.72503868300615,
           0.8053502068053647
          ],
          [
           8.881784197001252e-16,
           0.16574938041718487,
           0.33154249581621464,
           0.4974834382043607,
           0.39762458769123943,
           0.4974834382043607,
           0.5969165373443761,
           0.6962559779697545,
           0.7954422903322848,
           0.8954010236364393,
           0.9948774180069831
          ]
         ]
        }
       ],
       "layout": {
        "height": 1000,
        "scene": {
         "xaxis": {
          "showgrid": true,
          "title": {
           "text": "Initial Ability (A)"
          }
         },
         "yaxis": {
          "showgrid": true,
          "title": {
           "text": "Wage level at periot t+1 (B1)"
          }
         },
         "zaxis": {
          "showgrid": true,
          "title": {
           "text": "Fraction of time at schooling when young"
          }
         }
        },
        "template": {
         "data": {
          "bar": [
           {
            "error_x": {
             "color": "#2a3f5f"
            },
            "error_y": {
             "color": "#2a3f5f"
            },
            "marker": {
             "line": {
              "color": "#E5ECF6",
              "width": 0.5
             },
             "pattern": {
              "fillmode": "overlay",
              "size": 10,
              "solidity": 0.2
             }
            },
            "type": "bar"
           }
          ],
          "barpolar": [
           {
            "marker": {
             "line": {
              "color": "#E5ECF6",
              "width": 0.5
             },
             "pattern": {
              "fillmode": "overlay",
              "size": 10,
              "solidity": 0.2
             }
            },
            "type": "barpolar"
           }
          ],
          "carpet": [
           {
            "aaxis": {
             "endlinecolor": "#2a3f5f",
             "gridcolor": "white",
             "linecolor": "white",
             "minorgridcolor": "white",
             "startlinecolor": "#2a3f5f"
            },
            "baxis": {
             "endlinecolor": "#2a3f5f",
             "gridcolor": "white",
             "linecolor": "white",
             "minorgridcolor": "white",
             "startlinecolor": "#2a3f5f"
            },
            "type": "carpet"
           }
          ],
          "choropleth": [
           {
            "colorbar": {
             "outlinewidth": 0,
             "ticks": ""
            },
            "type": "choropleth"
           }
          ],
          "contour": [
           {
            "colorbar": {
             "outlinewidth": 0,
             "ticks": ""
            },
            "colorscale": [
             [
              0,
              "#0d0887"
             ],
             [
              0.1111111111111111,
              "#46039f"
             ],
             [
              0.2222222222222222,
              "#7201a8"
             ],
             [
              0.3333333333333333,
              "#9c179e"
             ],
             [
              0.4444444444444444,
              "#bd3786"
             ],
             [
              0.5555555555555556,
              "#d8576b"
             ],
             [
              0.6666666666666666,
              "#ed7953"
             ],
             [
              0.7777777777777778,
              "#fb9f3a"
             ],
             [
              0.8888888888888888,
              "#fdca26"
             ],
             [
              1,
              "#f0f921"
             ]
            ],
            "type": "contour"
           }
          ],
          "contourcarpet": [
           {
            "colorbar": {
             "outlinewidth": 0,
             "ticks": ""
            },
            "type": "contourcarpet"
           }
          ],
          "heatmap": [
           {
            "colorbar": {
             "outlinewidth": 0,
             "ticks": ""
            },
            "colorscale": [
             [
              0,
              "#0d0887"
             ],
             [
              0.1111111111111111,
              "#46039f"
             ],
             [
              0.2222222222222222,
              "#7201a8"
             ],
             [
              0.3333333333333333,
              "#9c179e"
             ],
             [
              0.4444444444444444,
              "#bd3786"
             ],
             [
              0.5555555555555556,
              "#d8576b"
             ],
             [
              0.6666666666666666,
              "#ed7953"
             ],
             [
              0.7777777777777778,
              "#fb9f3a"
             ],
             [
              0.8888888888888888,
              "#fdca26"
             ],
             [
              1,
              "#f0f921"
             ]
            ],
            "type": "heatmap"
           }
          ],
          "heatmapgl": [
           {
            "colorbar": {
             "outlinewidth": 0,
             "ticks": ""
            },
            "colorscale": [
             [
              0,
              "#0d0887"
             ],
             [
              0.1111111111111111,
              "#46039f"
             ],
             [
              0.2222222222222222,
              "#7201a8"
             ],
             [
              0.3333333333333333,
              "#9c179e"
             ],
             [
              0.4444444444444444,
              "#bd3786"
             ],
             [
              0.5555555555555556,
              "#d8576b"
             ],
             [
              0.6666666666666666,
              "#ed7953"
             ],
             [
              0.7777777777777778,
              "#fb9f3a"
             ],
             [
              0.8888888888888888,
              "#fdca26"
             ],
             [
              1,
              "#f0f921"
             ]
            ],
            "type": "heatmapgl"
           }
          ],
          "histogram": [
           {
            "marker": {
             "pattern": {
              "fillmode": "overlay",
              "size": 10,
              "solidity": 0.2
             }
            },
            "type": "histogram"
           }
          ],
          "histogram2d": [
           {
            "colorbar": {
             "outlinewidth": 0,
             "ticks": ""
            },
            "colorscale": [
             [
              0,
              "#0d0887"
             ],
             [
              0.1111111111111111,
              "#46039f"
             ],
             [
              0.2222222222222222,
              "#7201a8"
             ],
             [
              0.3333333333333333,
              "#9c179e"
             ],
             [
              0.4444444444444444,
              "#bd3786"
             ],
             [
              0.5555555555555556,
              "#d8576b"
             ],
             [
              0.6666666666666666,
              "#ed7953"
             ],
             [
              0.7777777777777778,
              "#fb9f3a"
             ],
             [
              0.8888888888888888,
              "#fdca26"
             ],
             [
              1,
              "#f0f921"
             ]
            ],
            "type": "histogram2d"
           }
          ],
          "histogram2dcontour": [
           {
            "colorbar": {
             "outlinewidth": 0,
             "ticks": ""
            },
            "colorscale": [
             [
              0,
              "#0d0887"
             ],
             [
              0.1111111111111111,
              "#46039f"
             ],
             [
              0.2222222222222222,
              "#7201a8"
             ],
             [
              0.3333333333333333,
              "#9c179e"
             ],
             [
              0.4444444444444444,
              "#bd3786"
             ],
             [
              0.5555555555555556,
              "#d8576b"
             ],
             [
              0.6666666666666666,
              "#ed7953"
             ],
             [
              0.7777777777777778,
              "#fb9f3a"
             ],
             [
              0.8888888888888888,
              "#fdca26"
             ],
             [
              1,
              "#f0f921"
             ]
            ],
            "type": "histogram2dcontour"
           }
          ],
          "mesh3d": [
           {
            "colorbar": {
             "outlinewidth": 0,
             "ticks": ""
            },
            "type": "mesh3d"
           }
          ],
          "parcoords": [
           {
            "line": {
             "colorbar": {
              "outlinewidth": 0,
              "ticks": ""
             }
            },
            "type": "parcoords"
           }
          ],
          "pie": [
           {
            "automargin": true,
            "type": "pie"
           }
          ],
          "scatter": [
           {
            "fillpattern": {
             "fillmode": "overlay",
             "size": 10,
             "solidity": 0.2
            },
            "type": "scatter"
           }
          ],
          "scatter3d": [
           {
            "line": {
             "colorbar": {
              "outlinewidth": 0,
              "ticks": ""
             }
            },
            "marker": {
             "colorbar": {
              "outlinewidth": 0,
              "ticks": ""
             }
            },
            "type": "scatter3d"
           }
          ],
          "scattercarpet": [
           {
            "marker": {
             "colorbar": {
              "outlinewidth": 0,
              "ticks": ""
             }
            },
            "type": "scattercarpet"
           }
          ],
          "scattergeo": [
           {
            "marker": {
             "colorbar": {
              "outlinewidth": 0,
              "ticks": ""
             }
            },
            "type": "scattergeo"
           }
          ],
          "scattergl": [
           {
            "marker": {
             "colorbar": {
              "outlinewidth": 0,
              "ticks": ""
             }
            },
            "type": "scattergl"
           }
          ],
          "scattermapbox": [
           {
            "marker": {
             "colorbar": {
              "outlinewidth": 0,
              "ticks": ""
             }
            },
            "type": "scattermapbox"
           }
          ],
          "scatterpolar": [
           {
            "marker": {
             "colorbar": {
              "outlinewidth": 0,
              "ticks": ""
             }
            },
            "type": "scatterpolar"
           }
          ],
          "scatterpolargl": [
           {
            "marker": {
             "colorbar": {
              "outlinewidth": 0,
              "ticks": ""
             }
            },
            "type": "scatterpolargl"
           }
          ],
          "scatterternary": [
           {
            "marker": {
             "colorbar": {
              "outlinewidth": 0,
              "ticks": ""
             }
            },
            "type": "scatterternary"
           }
          ],
          "surface": [
           {
            "colorbar": {
             "outlinewidth": 0,
             "ticks": ""
            },
            "colorscale": [
             [
              0,
              "#0d0887"
             ],
             [
              0.1111111111111111,
              "#46039f"
             ],
             [
              0.2222222222222222,
              "#7201a8"
             ],
             [
              0.3333333333333333,
              "#9c179e"
             ],
             [
              0.4444444444444444,
              "#bd3786"
             ],
             [
              0.5555555555555556,
              "#d8576b"
             ],
             [
              0.6666666666666666,
              "#ed7953"
             ],
             [
              0.7777777777777778,
              "#fb9f3a"
             ],
             [
              0.8888888888888888,
              "#fdca26"
             ],
             [
              1,
              "#f0f921"
             ]
            ],
            "type": "surface"
           }
          ],
          "table": [
           {
            "cells": {
             "fill": {
              "color": "#EBF0F8"
             },
             "line": {
              "color": "white"
             }
            },
            "header": {
             "fill": {
              "color": "#C8D4E3"
             },
             "line": {
              "color": "white"
             }
            },
            "type": "table"
           }
          ]
         },
         "layout": {
          "annotationdefaults": {
           "arrowcolor": "#2a3f5f",
           "arrowhead": 0,
           "arrowwidth": 1
          },
          "autotypenumbers": "strict",
          "coloraxis": {
           "colorbar": {
            "outlinewidth": 0,
            "ticks": ""
           }
          },
          "colorscale": {
           "diverging": [
            [
             0,
             "#8e0152"
            ],
            [
             0.1,
             "#c51b7d"
            ],
            [
             0.2,
             "#de77ae"
            ],
            [
             0.3,
             "#f1b6da"
            ],
            [
             0.4,
             "#fde0ef"
            ],
            [
             0.5,
             "#f7f7f7"
            ],
            [
             0.6,
             "#e6f5d0"
            ],
            [
             0.7,
             "#b8e186"
            ],
            [
             0.8,
             "#7fbc41"
            ],
            [
             0.9,
             "#4d9221"
            ],
            [
             1,
             "#276419"
            ]
           ],
           "sequential": [
            [
             0,
             "#0d0887"
            ],
            [
             0.1111111111111111,
             "#46039f"
            ],
            [
             0.2222222222222222,
             "#7201a8"
            ],
            [
             0.3333333333333333,
             "#9c179e"
            ],
            [
             0.4444444444444444,
             "#bd3786"
            ],
            [
             0.5555555555555556,
             "#d8576b"
            ],
            [
             0.6666666666666666,
             "#ed7953"
            ],
            [
             0.7777777777777778,
             "#fb9f3a"
            ],
            [
             0.8888888888888888,
             "#fdca26"
            ],
            [
             1,
             "#f0f921"
            ]
           ],
           "sequentialminus": [
            [
             0,
             "#0d0887"
            ],
            [
             0.1111111111111111,
             "#46039f"
            ],
            [
             0.2222222222222222,
             "#7201a8"
            ],
            [
             0.3333333333333333,
             "#9c179e"
            ],
            [
             0.4444444444444444,
             "#bd3786"
            ],
            [
             0.5555555555555556,
             "#d8576b"
            ],
            [
             0.6666666666666666,
             "#ed7953"
            ],
            [
             0.7777777777777778,
             "#fb9f3a"
            ],
            [
             0.8888888888888888,
             "#fdca26"
            ],
            [
             1,
             "#f0f921"
            ]
           ]
          },
          "colorway": [
           "#636efa",
           "#EF553B",
           "#00cc96",
           "#ab63fa",
           "#FFA15A",
           "#19d3f3",
           "#FF6692",
           "#B6E880",
           "#FF97FF",
           "#FECB52"
          ],
          "font": {
           "color": "#2a3f5f"
          },
          "geo": {
           "bgcolor": "white",
           "lakecolor": "white",
           "landcolor": "#E5ECF6",
           "showlakes": true,
           "showland": true,
           "subunitcolor": "white"
          },
          "hoverlabel": {
           "align": "left"
          },
          "hovermode": "closest",
          "mapbox": {
           "style": "light"
          },
          "paper_bgcolor": "white",
          "plot_bgcolor": "#E5ECF6",
          "polar": {
           "angularaxis": {
            "gridcolor": "white",
            "linecolor": "white",
            "ticks": ""
           },
           "bgcolor": "#E5ECF6",
           "radialaxis": {
            "gridcolor": "white",
            "linecolor": "white",
            "ticks": ""
           }
          },
          "scene": {
           "xaxis": {
            "backgroundcolor": "#E5ECF6",
            "gridcolor": "white",
            "gridwidth": 2,
            "linecolor": "white",
            "showbackground": true,
            "ticks": "",
            "zerolinecolor": "white"
           },
           "yaxis": {
            "backgroundcolor": "#E5ECF6",
            "gridcolor": "white",
            "gridwidth": 2,
            "linecolor": "white",
            "showbackground": true,
            "ticks": "",
            "zerolinecolor": "white"
           },
           "zaxis": {
            "backgroundcolor": "#E5ECF6",
            "gridcolor": "white",
            "gridwidth": 2,
            "linecolor": "white",
            "showbackground": true,
            "ticks": "",
            "zerolinecolor": "white"
           }
          },
          "shapedefaults": {
           "line": {
            "color": "#2a3f5f"
           }
          },
          "ternary": {
           "aaxis": {
            "gridcolor": "white",
            "linecolor": "white",
            "ticks": ""
           },
           "baxis": {
            "gridcolor": "white",
            "linecolor": "white",
            "ticks": ""
           },
           "bgcolor": "#E5ECF6",
           "caxis": {
            "gridcolor": "white",
            "linecolor": "white",
            "ticks": ""
           }
          },
          "title": {
           "x": 0.05
          },
          "xaxis": {
           "automargin": true,
           "gridcolor": "white",
           "linecolor": "white",
           "ticks": "",
           "title": {
            "standoff": 15
           },
           "zerolinecolor": "white",
           "zerolinewidth": 2
          },
          "yaxis": {
           "automargin": true,
           "gridcolor": "white",
           "linecolor": "white",
           "ticks": "",
           "title": {
            "standoff": 15
           },
           "zerolinecolor": "white",
           "zerolinewidth": 2
          }
         }
        },
        "title": {
         "text": "S0 responses for different levels of Initial Human Capital (H0) and future (B1) wage"
        },
        "width": 1000
       }
      }
     },
     "metadata": {},
     "output_type": "display_data"
    }
   ],
   "source": [
    "# Create the boxes to store the values\n",
    "S0_Ex3 = np.zeros((len(As), len(B1s)))\n",
    "model = HumanCapitalModelClass()\n",
    "\n",
    "# Here we are looping over all possible values in the parameters\n",
    "for j, A in enumerate(As):\n",
    "    for i, B1 in enumerate(B1s):\n",
    "        model.par.A = A\n",
    "        model.par.B1 = B1\n",
    "        if A <= 1:\n",
    "            model.par.E = 5\n",
    "        elif A > 1 and A <= 2:\n",
    "            model.par.E = 3\n",
    "        sol_3 = model.solve_continously()\n",
    "        S0_Ex3[i, j] = sol_3.S0\n",
    "\n",
    "\n",
    "# Here we are storing the values created before (Es and Gammas)\n",
    "As_mesh, B1s_mesh = np.meshgrid(As, B1s)\n",
    "\n",
    "# Ploting in 3D\n",
    "fig = go.Figure(data=[go.Surface(x=As_mesh, y=B1s_mesh, z=S0_Ex3)])\n",
    "# This part of the code is important because is how to set the point labels and color of the grid\n",
    "fig.update_traces(\n",
    "    colorscale=\"YlOrRd\",  # Set the color scale\n",
    "    hovertemplate=\"A: %{x}<br>B1: %{y}<br>S0: %{z}<extra></extra>\" \n",
    ")\n",
    "# Just the plot\n",
    "fig.update_layout(\n",
    "    scene=dict(\n",
    "        xaxis=dict(title=\"Initial Ability (A)\", showgrid=True),\n",
    "        yaxis=dict(title=\"Wage level at periot t+1 (B1)\", showgrid=True),\n",
    "        zaxis=dict(title=\"Fraction of time at schooling when young\", showgrid=True)\n",
    "    ),\n",
    "    title=\"S0 responses for different levels of Initial Human Capital (H0) and future (B1) wage\",\n",
    "    width=1000,\n",
    "    height=1000\n",
    ")\n",
    "fig.show()"
   ]
  },
  {
   "attachments": {},
   "cell_type": "markdown",
   "metadata": {},
   "source": [
    "**Interpretation**\n",
    "\n",
    "This last graph is interesting, because it shows how the time spent studying changes for different levels of future income (B1) for individuals with different skill levels. Additionally, a targeted education policy was added. In the case of individuals with skills below A<=1, they were granted the highest amount of educational resources E=5, in the case of individuals with medium skills A[1,2], they were granted a lower level of educational resources E=3, and for the most skilled individuals, they were granted only one unit of educational resources.\n",
    "As can be seen, this motivates more individuals to increase their study time even those with low skills."
   ]
  },
  {
   "attachments": {},
   "cell_type": "markdown",
   "metadata": {},
   "source": [
    "# Conclusion"
   ]
  },
  {
   "attachments": {},
   "cell_type": "markdown",
   "metadata": {},
   "source": [
    "The Human Capital Model proposed by Gary Becker in his work “Human capital: a theoretical and empirical analysis, with special reference to education” (1993), has made significant contributions to our understanding of the role of education and skills in shaping individuals' economic outcomes and overall societal development. By treating human capital as an investment that yields returns over time, Becker emphasized the importance of education and training in enhancing productivity and earning potential.\n",
    "\n",
    "The model highlights the economic rationale behind individuals' decisions to invest in education, considering factors such as the costs of education, expected future earnings, and the rate of return on education. It recognizes that education not only imparts knowledge and skills but also increases individuals' ability to adapt to changing labour market conditions, leading to improved job prospects and income growth.\n",
    "\n",
    "One of the most interesting findings is related to the increase of resources in education by the government, a situation that, as can be seen in the graphs, mainly benefits people with better initial capacities. This is relevant since the initial advantage could be explained not only by genes but also by belonging to wealthy families, who can invest more in the pre-school development of their children; in this case the best recommendation in terms of public policy is to opt for a targeted scheme, where resources for education are allocated to those with lower abilities, which could be people with disabilities or low income, in order to level the playing field for all.\n",
    "\n",
    "Finally, The Human Capital Model also has been influential in guiding policies aimed at promoting human capital development, given that it underscores the value of investing in education, vocational training, and lifelong learning to enhance individuals' skills, innovation, and productivity."
   ]
  }
 ],
 "metadata": {
  "kernelspec": {
   "display_name": "base",
   "language": "python",
   "name": "python3"
  },
  "language_info": {
   "codemirror_mode": {
    "name": "ipython",
    "version": 3
   },
   "file_extension": ".py",
   "mimetype": "text/x-python",
   "name": "python",
   "nbconvert_exporter": "python",
   "pygments_lexer": "ipython3",
   "version": "3.9.16"
  },
  "toc-autonumbering": true,
  "vscode": {
   "interpreter": {
    "hash": "47ef90cdf3004d3f859f1fb202523c65c07ba7c22eefd261b181f4744e2d0403"
   }
  }
 },
 "nbformat": 4,
 "nbformat_minor": 4
}
