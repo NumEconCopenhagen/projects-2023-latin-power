{
 "cells": [
  {
   "cell_type": "markdown",
   "metadata": {},
   "source": [
    "# Inaugural Project"
   ]
  },
  {
   "attachments": {},
   "cell_type": "markdown",
   "metadata": {},
   "source": [
    "> **Note the following:** \n",
    "> 1. This is an example of how to structure your **inaugural project**.\n",
    "> 1. Remember the general advice on structuring and commenting your code\n",
    "> 1. The `inauguralproject.py` file includes a function which can be used multiple times in this notebook."
   ]
  },
  {
   "cell_type": "markdown",
   "metadata": {},
   "source": [
    "Imports and set magics:"
   ]
  },
  {
   "cell_type": "code",
   "execution_count": 1,
   "metadata": {},
   "outputs": [
    {
     "name": "stderr",
     "output_type": "stream",
     "text": [
      "C:\\Users\\Phili\\AppData\\Local\\Temp\\ipykernel_16536\\2001619035.py:7: MatplotlibDeprecationWarning: The seaborn styles shipped by Matplotlib are deprecated since 3.6, as they no longer correspond to the styles shipped by seaborn. However, they will remain available as 'seaborn-v0_8-<style>'. Alternatively, directly use the seaborn API instead.\n",
      "  plt.style.use('seaborn-whitegrid')\n"
     ]
    }
   ],
   "source": [
    "from types import SimpleNamespace\n",
    "from scipy import optimize\n",
    "import numpy as np\n",
    "import pandas as pd \n",
    "import matplotlib.pyplot as plt\n",
    "from tabulate import tabulate\n",
    "plt.style.use('seaborn-whitegrid')\n",
    "\n",
    "# autoreload modules when code is run. Otherwise, python will not see recent changes. \n",
    "%load_ext autoreload\n",
    "%autoreload 2\n",
    "\n",
    "# Import your own code\n",
    "from inauguralproject import HouseholdSpecializationModelClass"
   ]
  },
  {
   "cell_type": "markdown",
   "metadata": {},
   "source": [
    "# Question 1"
   ]
  },
  {
   "cell_type": "markdown",
   "metadata": {},
   "source": [
    "**Explain how you solve the model**"
   ]
  },
  {
   "cell_type": "code",
   "execution_count": 2,
   "metadata": {},
   "outputs": [
    {
     "name": "stderr",
     "output_type": "stream",
     "text": [
      "c:\\Users\\Phili\\OneDrive\\Skrivebord\\Økonomi\\Introduction til Programmering\\projects-2023-latin-power\\projects-2023-latin-power-4\\inauguralproject\\inauguralproject.py:59: RuntimeWarning: divide by zero encountered in reciprocal\n",
      "  H = (1-par.alpha)*HM**(1-1/par.sigma) + (par.alpha)*HF**(1-1/par.sigma)\n",
      "c:\\Users\\Phili\\OneDrive\\Skrivebord\\Økonomi\\Introduction til Programmering\\projects-2023-latin-power\\projects-2023-latin-power-4\\inauguralproject\\inauguralproject.py:63: RuntimeWarning: invalid value encountered in multiply\n",
      "  Q = C**par.omega*H**(1-par.omega)\n"
     ]
    },
    {
     "name": "stdout",
     "output_type": "stream",
     "text": [
      "namespace(LM=0.0, HM=0.0, LF=0.5, HF=0.0)\n",
      "namespace(LM=2.0, HM=6.5, LF=7.0, HF=2.0)\n",
      "namespace(LM=5.0, HM=4.0, LF=8.5, HF=0.5)\n",
      "namespace(LM=0.0, HM=0.0, LF=0.5, HF=0.0)\n",
      "namespace(LM=4.5, HM=4.5, LF=4.5, HF=4.5)\n",
      "namespace(LM=7.0, HM=2.0, LF=6.5, HF=2.5)\n",
      "namespace(LM=0.0, HM=0.0, LF=0.5, HF=0.0)\n",
      "namespace(LM=6.5, HM=2.0, LF=2.5, HF=6.5)\n",
      "namespace(LM=8.5, HM=0.5, LF=5.0, HF=4.0)\n"
     ]
    }
   ],
   "source": [
    "#calling the model\n",
    "model = HouseholdSpecializationModelClass()\n",
    "\n",
    "#creating the vectors with the different values of alphas and sigmas\n",
    "alphas=np.array([0.25,0.5,0.75])\n",
    "sigmas=np.array([0.5,1.0,1.5])\n",
    "\n",
    "#doing a loop to calculate the model with all the combinations of alphas and sigmas\n",
    "for i in alphas:\n",
    "    for j in sigmas:\n",
    "        model.par.alpha=i\n",
    "        model.par.sigma=j\n",
    "        print(model.solve_discrete())\n"
   ]
  },
  {
   "cell_type": "code",
   "execution_count": 3,
   "metadata": {},
   "outputs": [
    {
     "name": "stdout",
     "output_type": "stream",
     "text": [
      "╒═══════════════╤═══════╤══════════╤═══════╕\n",
      "│   sigma/alpha │   0.5 │      1.0 │   1.5 │\n",
      "╞═══════════════╪═══════╪══════════╪═══════╡\n",
      "│          0.25 │     0 │ 0.307692 │ 0.125 │\n",
      "├───────────────┼───────┼──────────┼───────┤\n",
      "│          0.5  │     0 │ 1        │ 1.25  │\n",
      "├───────────────┼───────┼──────────┼───────┤\n",
      "│          0.75 │     0 │ 3.25     │ 8     │\n",
      "╘═══════════════╧═══════╧══════════╧═══════╛\n"
     ]
    }
   ],
   "source": [
    "#Manually writing the results in a table (Philip)\n",
    "results = [[0.25, 0, 2/6.5, 0.5/4],\n",
    "         [0.5, 0, 1, 2.5/2],\n",
    "         [0.75, 0, 6.5/2, 4/0.5]]\n",
    "col_names = [\"sigma/alpha\", 0.5, 1.0, 1.5]\n",
    "results\n",
    "#Using tabulate from library (Philip)\n",
    "#Sigma are the columns while alpha are the rows\n",
    "table = tabulate(results, headers=col_names, tablefmt=\"fancy_grid\") \n",
    "print(tabulate(results, headers=col_names, tablefmt=\"fancy_grid\"))"
   ]
  },
  {
   "cell_type": "markdown",
   "metadata": {},
   "source": [
    "# Question 2"
   ]
  },
  {
   "cell_type": "markdown",
   "metadata": {},
   "source": [
    "Explain your code and procedure"
   ]
  },
  {
   "cell_type": "code",
   "execution_count": 4,
   "metadata": {},
   "outputs": [
    {
     "name": "stderr",
     "output_type": "stream",
     "text": [
      "C:\\Users\\Phili\\AppData\\Local\\Temp\\ipykernel_16536\\2624292577.py:7: RuntimeWarning: divide by zero encountered in log\n",
      "  np.log(results1)\n"
     ]
    },
    {
     "data": {
      "text/plain": [
       "array([[       -inf, -1.178655  , -2.07944154],\n",
       "       [       -inf,  0.        ,  0.22314355],\n",
       "       [       -inf,  1.178655  ,  2.07944154]])"
      ]
     },
     "execution_count": 4,
     "metadata": {},
     "output_type": "execute_result"
    }
   ],
   "source": [
    "# Trying to store ratio of HF/HM (Philip)\n",
    "#Still working on it (Philip)\n",
    "#a \n",
    "results1 = [[0, 2/6.5, 0.5/4],\n",
    "         [0, 1, 2.5/2],\n",
    "         [0, 6.5/2, 4/0.5]]\n",
    "np.log(results1)"
   ]
  },
  {
   "cell_type": "markdown",
   "metadata": {},
   "source": [
    "# Question 3"
   ]
  },
  {
   "cell_type": "markdown",
   "metadata": {},
   "source": [
    "Explain your code and procedure"
   ]
  },
  {
   "cell_type": "code",
   "execution_count": 5,
   "metadata": {},
   "outputs": [],
   "source": [
    "# code"
   ]
  },
  {
   "attachments": {},
   "cell_type": "markdown",
   "metadata": {},
   "source": [
    "# Question 4"
   ]
  },
  {
   "cell_type": "code",
   "execution_count": 6,
   "metadata": {},
   "outputs": [],
   "source": [
    "# code"
   ]
  },
  {
   "attachments": {},
   "cell_type": "markdown",
   "metadata": {},
   "source": [
    "# Question 5"
   ]
  },
  {
   "cell_type": "code",
   "execution_count": 7,
   "metadata": {},
   "outputs": [],
   "source": [
    "# code"
   ]
  },
  {
   "cell_type": "markdown",
   "metadata": {},
   "source": [
    "ADD CONCISE CONLUSION."
   ]
  }
 ],
 "metadata": {
  "kernelspec": {
   "display_name": "base",
   "language": "python",
   "name": "python3"
  },
  "language_info": {
   "codemirror_mode": {
    "name": "ipython",
    "version": 3
   },
   "file_extension": ".py",
   "mimetype": "text/x-python",
   "name": "python",
   "nbconvert_exporter": "python",
   "pygments_lexer": "ipython3",
   "version": "3.9.16"
  },
  "toc-autonumbering": true,
  "vscode": {
   "interpreter": {
    "hash": "47ef90cdf3004d3f859f1fb202523c65c07ba7c22eefd261b181f4744e2d0403"
   }
  }
 },
 "nbformat": 4,
 "nbformat_minor": 4
}
