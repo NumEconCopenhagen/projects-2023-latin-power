{
 "cells": [
  {
   "cell_type": "markdown",
   "metadata": {},
   "source": [
    "# Inaugural Project"
   ]
  },
  {
   "attachments": {},
   "cell_type": "markdown",
   "metadata": {},
   "source": [
    "> **Note the following:** \n",
    "> 1. This is an example of how to structure your **inaugural project**.\n",
    "> 1. Remember the general advice on structuring and commenting your code\n",
    "> 1. The `inauguralproject.py` file includes a function which can be used multiple times in this notebook."
   ]
  },
  {
   "cell_type": "markdown",
   "metadata": {},
   "source": [
    "Imports and set magics:"
   ]
  },
  {
   "cell_type": "code",
   "execution_count": 15,
   "metadata": {},
   "outputs": [
    {
     "name": "stdout",
     "output_type": "stream",
     "text": [
      "The autoreload extension is already loaded. To reload it, use:\n",
      "  %reload_ext autoreload\n"
     ]
    }
   ],
   "source": [
    "from types import SimpleNamespace\n",
    "from scipy import optimize\n",
    "import numpy as np\n",
    "import pandas as pd \n",
    "import matplotlib.pyplot as plt\n",
    "from tabulate import tabulate\n",
    "plt.style.use('seaborn-whitegrid')\n",
    "\n",
    "# autoreload modules when code is run. Otherwise, python will not see recent changes. \n",
    "%load_ext autoreload\n",
    "%autoreload 2\n",
    "\n",
    "# Import your own code\n",
    "from inauguralproject_bis import HouseholdSpecializationModelClass"
   ]
  },
  {
   "cell_type": "markdown",
   "metadata": {},
   "source": [
    "# Question 1"
   ]
  },
  {
   "cell_type": "markdown",
   "metadata": {},
   "source": [
    "**Explain how you solve the model**"
   ]
  },
  {
   "cell_type": "code",
   "execution_count": 80,
   "metadata": {},
   "outputs": [
    {
     "name": "stderr",
     "output_type": "stream",
     "text": [
      "/Users/rodrigovillegasgomez/Documents/GitHub/projects-2023-latin-power/inauguralproject/inauguralproject_bis.py:62: RuntimeWarning: divide by zero encountered in reciprocal\n",
      "  H = (1-par.alpha)*HM**(1-1/par.sigma) + (par.alpha)*HF**(1-1/par.sigma)\n",
      "/Users/rodrigovillegasgomez/Documents/GitHub/projects-2023-latin-power/inauguralproject/inauguralproject_bis.py:62: RuntimeWarning: invalid value encountered in reciprocal\n",
      "  H = (1-par.alpha)*HM**(1-1/par.sigma) + (par.alpha)*HF**(1-1/par.sigma)\n",
      "/Users/rodrigovillegasgomez/Documents/GitHub/projects-2023-latin-power/inauguralproject/inauguralproject_bis.py:66: RuntimeWarning: invalid value encountered in multiply\n",
      "  Q = C**par.omega*H**(1-par.omega)\n",
      "/Users/rodrigovillegasgomez/Documents/GitHub/projects-2023-latin-power/inauguralproject/inauguralproject_bis.py:67: RuntimeWarning: invalid value encountered in reciprocal\n",
      "  utility = np.fmax(Q,1e-8)**(1-par.rho)/(1-par.rho)\n",
      "/var/folders/0j/w3qt49pj7d19pfkd8ry8bfsh0000gn/T/ipykernel_76757/3380386607.py:20: RuntimeWarning: invalid value encountered in double_scalars\n",
      "  dic_sol[a,b] = {'alpha': i, 'sigma':j, 'HF': solution.HF, 'HM': solution.HM, 'r_HF_HM': solution.HF/solution.HM}\n",
      "/var/folders/0j/w3qt49pj7d19pfkd8ry8bfsh0000gn/T/ipykernel_76757/3380386607.py:25: RuntimeWarning: invalid value encountered in double_scalars\n",
      "  l_ratio.append(solution.HF/solution.HM)\n"
     ]
    },
    {
     "name": "stdout",
     "output_type": "stream",
     "text": [
      " alpha  sigma   HF   HM  HF/HM\n",
      "  0.25   0.50 0.00 0.00    NaN\n",
      "  0.25   1.00 2.00 6.50   0.31\n",
      "  0.25   1.50 0.50 4.00   0.12\n",
      "  0.50   0.50 0.00 0.00    NaN\n",
      "  0.50   1.00 4.50 4.50   1.00\n",
      "  0.50   1.50 2.50 2.00   1.25\n",
      "  0.75   0.50 0.00 0.00    NaN\n",
      "  0.75   1.00 6.50 2.00   3.25\n",
      "  0.75   1.50 4.00 0.50   8.00\n"
     ]
    }
   ],
   "source": [
    "#calling the model\n",
    "model = HouseholdSpecializationModelClass()\n",
    "\n",
    "#creating the vectors with the different values of alphas and sigmas\n",
    "alphas=np.array([0.25,0.5,0.75])\n",
    "sigmas=np.array([0.5,1.0,1.5])\n",
    "dic_sol = {}\n",
    "l_alpha = []\n",
    "l_sigma = []\n",
    "l_HM = [] \n",
    "l_HF = []\n",
    "l_ratio = []\n",
    "\n",
    "#doing a loop to calculate the model with all the combinations of alphas and sigmas\n",
    "for a,i in enumerate(alphas):\n",
    "    for b,j in enumerate(sigmas):\n",
    "        model.par.alpha=i\n",
    "        model.par.sigma=j\n",
    "        solution = model.solve_discrete()\n",
    "        dic_sol[a,b] = {'alpha': i, 'sigma':j, 'HF': solution.HF, 'HM': solution.HM, 'r_HF_HM': solution.HF/solution.HM}\n",
    "        l_alpha.append(model.par.alpha)\n",
    "        l_sigma.append(model.par.sigma)\n",
    "        l_HF.append(solution.HF)\n",
    "        l_HM.append(solution.HM)\n",
    "        l_ratio.append(solution.HF/solution.HM)\n",
    "        # print(dic_par)\n",
    "        # print(f'for each alpha = {l_alpha} and sigma = {l_sigma}, HF = {l_HF} and HM = {l_HM} with a ratio HF/HM = {l_ratio}')\n",
    "\n",
    "results = pd.DataFrame({'alpha':l_alpha, 'sigma':l_sigma, 'HF':l_HF, 'HM':l_HM, 'HF/HM': l_ratio})\n",
    "pd.set_option('display.float_format',  '{:,.2f}'.format)\n",
    "print(results.to_string(index=False))"
   ]
  },
  {
   "cell_type": "code",
   "execution_count": 10,
   "metadata": {},
   "outputs": [
    {
     "name": "stdout",
     "output_type": "stream",
     "text": [
      "╒═══════════════╤═══════╤══════════╤═══════╕\n",
      "│   sigma/alpha │   0.5 │      1.0 │   1.5 │\n",
      "╞═══════════════╪═══════╪══════════╪═══════╡\n",
      "│          0.25 │     0 │ 0.307692 │ 0.125 │\n",
      "├───────────────┼───────┼──────────┼───────┤\n",
      "│          0.5  │     0 │ 1        │ 1.25  │\n",
      "├───────────────┼───────┼──────────┼───────┤\n",
      "│          0.75 │     0 │ 3.25     │ 8     │\n",
      "╘═══════════════╧═══════╧══════════╧═══════╛\n"
     ]
    }
   ],
   "source": [
    "#Manually writing the results in a table (Philip)\n",
    "results = [[0.25, 0, 2/6.5, 0.5/4],\n",
    "         [0.5, 0, 1, 2.5/2],\n",
    "         [0.75, 0, 6.5/2, 4/0.5]]\n",
    "col_names = [\"sigma/alpha\", 0.5, 1.0, 1.5]\n",
    "results\n",
    "#Using tabulate from library (Philip)\n",
    "#Sigma are the columns while alpha are the rows\n",
    "table = tabulate(results, headers=col_names, tablefmt=\"fancy_grid\") \n",
    "print(tabulate(results, headers=col_names, tablefmt=\"fancy_grid\"))"
   ]
  },
  {
   "cell_type": "markdown",
   "metadata": {},
   "source": [
    "# Question 2"
   ]
  },
  {
   "cell_type": "markdown",
   "metadata": {},
   "source": [
    "Explain your code and procedure"
   ]
  },
  {
   "cell_type": "code",
   "execution_count": 11,
   "metadata": {},
   "outputs": [
    {
     "name": "stderr",
     "output_type": "stream",
     "text": [
      "/var/folders/0j/w3qt49pj7d19pfkd8ry8bfsh0000gn/T/ipykernel_76757/3870142625.py:7: RuntimeWarning: divide by zero encountered in log\n",
      "  np.log(results1)\n"
     ]
    },
    {
     "data": {
      "text/plain": [
       "array([[       -inf, -1.178655  , -2.07944154],\n",
       "       [       -inf,  0.        ,  0.22314355],\n",
       "       [       -inf,  1.178655  ,  2.07944154]])"
      ]
     },
     "execution_count": 11,
     "metadata": {},
     "output_type": "execute_result"
    }
   ],
   "source": [
    "# Trying to store ratio of HF/HM (Philip)\n",
    "#Still working on it (Philip)\n",
    "#a \n",
    "results1 = [[0, 2/6.5, 0.5/4],\n",
    "         [0, 1, 2.5/2],\n",
    "         [0, 6.5/2, 4/0.5]]\n",
    "np.log(results1)"
   ]
  },
  {
   "cell_type": "markdown",
   "metadata": {},
   "source": [
    "# Question 3"
   ]
  },
  {
   "cell_type": "markdown",
   "metadata": {},
   "source": [
    "Explain your code and procedure"
   ]
  },
  {
   "cell_type": "code",
   "execution_count": 25,
   "metadata": {},
   "outputs": [
    {
     "name": "stdout",
     "output_type": "stream",
     "text": [
      "Optimization terminated successfully\n",
      "[12. 12. 12. 12.]\n",
      "0.6349255650988884\n",
      "None\n"
     ]
    }
   ],
   "source": [
    "#calling the model\n",
    "model = HouseholdSpecializationModelClass()\n",
    "\n",
    "#creating the vectors with the different values of alphas and sigmas\n",
    "print(model.solve_continously())"
   ]
  },
  {
   "attachments": {},
   "cell_type": "markdown",
   "metadata": {},
   "source": [
    "# Question 4"
   ]
  },
  {
   "cell_type": "code",
   "execution_count": 6,
   "metadata": {},
   "outputs": [],
   "source": [
    "# code"
   ]
  },
  {
   "attachments": {},
   "cell_type": "markdown",
   "metadata": {},
   "source": [
    "# Question 5"
   ]
  },
  {
   "cell_type": "code",
   "execution_count": 7,
   "metadata": {},
   "outputs": [],
   "source": [
    "# code"
   ]
  },
  {
   "cell_type": "markdown",
   "metadata": {},
   "source": [
    "ADD CONCISE CONLUSION."
   ]
  }
 ],
 "metadata": {
  "kernelspec": {
   "display_name": "base",
   "language": "python",
   "name": "python3"
  },
  "language_info": {
   "codemirror_mode": {
    "name": "ipython",
    "version": 3
   },
   "file_extension": ".py",
   "mimetype": "text/x-python",
   "name": "python",
   "nbconvert_exporter": "python",
   "pygments_lexer": "ipython3",
   "version": "3.9.16"
  },
  "toc-autonumbering": true,
  "vscode": {
   "interpreter": {
    "hash": "47ef90cdf3004d3f859f1fb202523c65c07ba7c22eefd261b181f4744e2d0403"
   }
  }
 },
 "nbformat": 4,
 "nbformat_minor": 4
}
