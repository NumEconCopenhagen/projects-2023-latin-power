{
 "cells": [
  {
   "cell_type": "markdown",
   "metadata": {},
   "source": [
    "# Inaugural Project"
   ]
  },
  {
   "attachments": {},
   "cell_type": "markdown",
   "metadata": {},
   "source": [
    "> **Note the following:** \n",
    "> 1. This is an example of how to structure your **inaugural project**.\n",
    "> 1. Remember the general advice on structuring and commenting your code\n",
    "> 1. The `inauguralproject.py` file includes a function which can be used multiple times in this notebook."
   ]
  },
  {
   "cell_type": "markdown",
   "metadata": {},
   "source": [
    "Imports and set magics:"
   ]
  },
  {
   "cell_type": "code",
   "execution_count": null,
   "metadata": {},
   "outputs": [],
   "source": [
    "from types import SimpleNamespace\n",
    "from scipy import optimize\n",
    "import numpy as np\n",
    "import pandas as pd \n",
    "import matplotlib.pyplot as plt\n",
    "from tabulate import tabulate\n",
    "plt.style.use('seaborn-whitegrid')\n",
    "import math\n",
    "\n",
    "# autoreload modules when code is run. Otherwise, python will not see recent changes. \n",
    "%load_ext autoreload\n",
    "%autoreload 2\n",
    "\n",
    "# Import your own code\n",
    "from inauguralproject_bis import HouseholdSpecializationModelClass"
   ]
  },
  {
   "cell_type": "markdown",
   "metadata": {},
   "source": [
    "# Question 1"
   ]
  },
  {
   "cell_type": "markdown",
   "metadata": {},
   "source": [
    "**Explain how you solve the model**"
   ]
  },
  {
   "cell_type": "code",
   "execution_count": null,
   "metadata": {},
   "outputs": [],
   "source": [
    "#calling the House Specialization model (RODRI Y ALE)\n",
    "model = HouseholdSpecializationModelClass()\n",
    "\n",
    "#creating the vectors with the different values of alphas and sigmas\n",
    "alphas=np.array([0.25,0.5,0.75])\n",
    "sigmas=np.array([0.5,1.0,1.5])\n",
    "\n",
    "#create empty disctionary and lists to save the following results\n",
    "dic_sol_q1 = {}\n",
    "l_alpha = []\n",
    "l_sigma = []\n",
    "l_HM = [] \n",
    "l_HF = []\n",
    "l_ratio = []\n",
    "\n",
    "#Doing a loop to calculate the model with all the possible combinations of alphas and sigmas\n",
    "for a,i in enumerate(alphas):\n",
    "    for b,j in enumerate(sigmas):\n",
    "        model.par.alpha=i\n",
    "        model.par.sigma=j\n",
    "        solution = model.solve_discrete()\n",
    "        dic_sol_q1[a,b] = {'alpha': i, 'sigma':j, 'HF': solution.HF, 'HM': solution.HM, 'r_HF_HM': solution.HF/solution.HM}\n",
    "        l_alpha.append(model.par.alpha)\n",
    "        l_sigma.append(model.par.sigma)\n",
    "        l_HF.append(solution.HF)\n",
    "        l_HM.append(solution.HM)\n",
    "        l_ratio.append(solution.HF/solution.HM)\n",
    "        # print(dic_par)\n",
    "        # print(f'for each alpha = {l_alpha} and sigma = {l_sigma}, HF = {l_HF} and HM = {l_HM} with a ratio HF/HM = {l_ratio}')\n",
    "\n",
    "results = pd.DataFrame({'alpha':l_alpha, 'sigma':l_sigma, 'HF':l_HF, 'HM':l_HM, 'HF/HM': l_ratio})\n",
    "pd.set_option('display.float_format',  '{:,.2f}'.format)\n",
    "print(results.to_string(index=False))"
   ]
  },
  {
   "cell_type": "markdown",
   "metadata": {},
   "source": [
    "# Question 2"
   ]
  },
  {
   "cell_type": "markdown",
   "metadata": {},
   "source": [
    "Explain your code and procedure"
   ]
  },
  {
   "cell_type": "code",
   "execution_count": null,
   "metadata": {},
   "outputs": [],
   "source": [
    "#calling the House Specialization model (RODRI Y ALE)\n",
    "model = HouseholdSpecializationModelClass()\n",
    "\n",
    "#creating the vectors with the different values of female wages\n",
    "wF_new=np.array([0.8, 0.9, 1.0, 1.1, 1.2])\n",
    "\n",
    "#create empty dictionary and lists to save the following results\n",
    "dic_sol_q2 = {}\n",
    "l_wF = []\n",
    "l_wM = []\n",
    "l_r_wF_wM = []\n",
    "l_lr_wF_wM = []\n",
    "l_HF = [] \n",
    "l_HM = []\n",
    "l_r_HF_HM = []\n",
    "l_logr_HF_HM = []\n",
    "\n",
    "#doing a loop to calculate the model with the new values of the female wages and print it\n",
    "for a, wF in enumerate(wF_new):\n",
    "        model.par.wF = wF\n",
    "        solution=model.solve_discrete()\n",
    "        dic_sol_q2[a] = {'wF': wF, 'wM': model.par.wM, 'r_wF_wM': wF/model.par.wM, 'HF': solution.HF, 'HM': solution.HM, 'r_HF_HM': solution.HF/solution.HM, 'logr_HF_HM': math.log(solution.HF/solution.HM)}\n",
    "\n",
    "        l_wF.append(wF)\n",
    "        l_wM.append(model.par.wM)\n",
    "\n",
    "        l_r_wF_wM.append(wF/model.par.wM)\n",
    "        l_lr_wF_wM.append(math.log(wF/model.par.wM))\n",
    "\n",
    "        l_HF.append(solution.HF)\n",
    "        l_HM.append(solution.HM)\n",
    "\n",
    "        l_r_HF_HM.append(solution.HF/solution.HM)\n",
    "        l_logr_HF_HM.append(math.log(solution.HF/solution.HM))\n",
    "\n",
    "results = pd.DataFrame({'wF':l_wF, 'wM':l_wM, 'wF/wM':l_r_wF_wM, 'LOG_wF/wM':l_lr_wF_wM, 'HF':l_HF, 'HM':l_HM, 'HF/HM': l_r_HF_HM, 'LOG_HF/HM': l_logr_HF_HM})\n",
    "\n",
    "#creating the graph\n",
    "fig = plt.figure()\n",
    "ax = fig.add_subplot(1,1,1)\n",
    "ax.plot(results[\"LOG_wF/wM\"],results[\"LOG_HF/HM\"],ls='--',lw=2,color='black')\n",
    "ax.set_ylabel('Log of ratio of Hours in home production Female/Male')\n",
    "ax.set_xlabel('Log of ratio of wages Female/Male')\n"
   ]
  },
  {
   "cell_type": "markdown",
   "metadata": {},
   "source": [
    "# Question 3"
   ]
  },
  {
   "cell_type": "markdown",
   "metadata": {},
   "source": [
    "Explain your code and procedure"
   ]
  },
  {
   "cell_type": "code",
   "execution_count": null,
   "metadata": {},
   "outputs": [],
   "source": [
    "#calling the model\n",
    "model = HouseholdSpecializationModelClass()\n",
    "\n",
    "#creating the vectors with the different values of female wages\n",
    "wF_new_2=np.array([0.8, 0.9, 1.0, 1.1, 1.2])\n",
    "\n",
    "#create empty dictionary and lists to save the following results\n",
    "dic_sol_q3 = {}\n",
    "l_wF_3 = []\n",
    "l_wM_3 = []\n",
    "l_r_wF_wM_3 = []\n",
    "l_logr_wF_wM_3 = []\n",
    "l_HF_3 = [] \n",
    "l_HM_3 = []\n",
    "l_r_HF_HM_3 = []\n",
    "l_logr_HF_HM_3 = []\n",
    "\n",
    "#doing a loop to calculate the model with the new values of the female wages and print it\n",
    "for a, i in enumerate(wF_new_2):\n",
    "    model.par.wF = i\n",
    "    sol_q3 = model.solve_continously(do_print=False)\n",
    "    dic_sol_q3[a] = {'wF': i, 'wM': model.par.wM, 'r_wF_wM': i/model.par.wM, 'HF': sol_q3.HF, 'HM': sol_q3.HM, 'r_HF_HM': sol_q3.HF/sol_q3.HM, 'logr_HF_HM': math.log(sol_q3.HF/sol_q3.HM), 'logr_wF_wM': math.log(i/model.par.wM)}\n",
    "    l_wF_3.append(i)\n",
    "    l_wM_3.append(model.par.wM) \n",
    "    l_r_wF_wM_3.append(i/model.par.wM)\n",
    "    l_logr_wF_wM_3.append(math.log(i/model.par.wM))\n",
    "    l_HF_3.append(sol_q3.HF)\n",
    "    l_HM_3.append(sol_q3.HM)\n",
    "    l_r_HF_HM_3.append(sol_q3.HF/sol_q3.HM)\n",
    "    l_logr_HF_HM_3.append(math.log(sol_q3.HF/sol_q3.HM))\n",
    "\n",
    "# print(dic_sol_q3[a])\n",
    "results_3 = pd.DataFrame({'wF':l_wF_3, 'wM':l_wM_3, 'wF/wM':l_r_wF_wM_3, 'LOG_wF/wM':l_logr_wF_wM_3, 'HF':l_HF_3, 'HM':l_HM_3, 'HF/HM': l_r_HF_HM_3, 'LOG_HF/HM': l_logr_HF_HM_3})\n",
    "print (results_3)\n",
    "\n",
    "#creating the graph\n",
    "fig = plt.figure()\n",
    "ax = fig.add_subplot(1,1,1)\n",
    "ax.plot(results_3[\"LOG_wF/wM\"],results_3[\"LOG_HF/HM\"],ls='--',lw=2,color='black')\n",
    "ax.set_ylabel('Log of ratio of Hours in home production Female/Male')\n",
    "ax.set_xlabel('Log of ratio of wages Female/Male')\n"
   ]
  },
  {
   "attachments": {},
   "cell_type": "markdown",
   "metadata": {},
   "source": [
    "# Question 4"
   ]
  },
  {
   "cell_type": "code",
   "execution_count": null,
   "metadata": {},
   "outputs": [],
   "source": [
    "#Initializing the model\n",
    "model = HouseholdSpecializationModelClass()\n",
    "\n",
    "#Defining the function\n",
    "def q4_func(x):\n",
    " \n",
    "    model.par.alpha = x[0]\n",
    "    model.par.sigma = x[1]\n",
    "    model.solve_wF_vec()\n",
    "    model.run_regression()\n",
    "    \n",
    "    return ((model.par.beta0_target-model.sol.beta0)**2 + (model.par.beta1_target-model.sol.beta1)**2)\n",
    "\n",
    "model = HouseholdSpecializationModelClass()\n",
    "bounds = [(0.98, 1), (0, 0.1)]\n",
    "guess4 = [0.5,1]\n",
    "result4 = optimize.minimize(q4_func, guess4, bounds=bounds, method = \"Nelder-Mead\")\n",
    "\n",
    "print(f\"alpha = {result4.x[0]:.3f}, sigma = {result4.x[1]:.3f}\")\n",
    "\n"
   ]
  },
  {
   "attachments": {},
   "cell_type": "markdown",
   "metadata": {},
   "source": [
    "*Intuition:* The high alpha means that women has a higher productivity in home production than men. From sigma we can conclude that there is low elasticity of substitution between men and women."
   ]
  },
  {
   "attachments": {},
   "cell_type": "markdown",
   "metadata": {},
   "source": [
    "# Question 5"
   ]
  },
  {
   "cell_type": "code",
   "execution_count": null,
   "metadata": {},
   "outputs": [],
   "source": [
    "# code"
   ]
  },
  {
   "cell_type": "markdown",
   "metadata": {},
   "source": [
    "ADD CONCISE CONLUSION."
   ]
  }
 ],
 "metadata": {
  "kernelspec": {
   "display_name": "base",
   "language": "python",
   "name": "python3"
  },
  "language_info": {
   "codemirror_mode": {
    "name": "ipython",
    "version": 3
   },
   "file_extension": ".py",
   "mimetype": "text/x-python",
   "name": "python",
   "nbconvert_exporter": "python",
   "pygments_lexer": "ipython3",
   "version": "3.9.16"
  },
  "toc-autonumbering": true,
  "vscode": {
   "interpreter": {
    "hash": "47ef90cdf3004d3f859f1fb202523c65c07ba7c22eefd261b181f4744e2d0403"
   }
  }
 },
 "nbformat": 4,
 "nbformat_minor": 4
}
