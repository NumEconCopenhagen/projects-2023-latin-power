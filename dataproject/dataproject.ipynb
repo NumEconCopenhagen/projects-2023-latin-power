{
 "cells": [
  {
   "cell_type": "markdown",
   "metadata": {},
   "source": [
    "# YOUR PROJECT TITLE"
   ]
  },
  {
   "attachments": {},
   "cell_type": "markdown",
   "metadata": {},
   "source": [
    "> **Note the following:** \n",
    "> 1. This is *not* meant to be an example of an actual **data analysis project**, just an example of how to structure such a project.\n",
    "> 1. Remember the general advice on structuring and commenting your code\n",
    "> 1. The `dataproject.py` file includes a function which can be used multiple times in this notebook."
   ]
  },
  {
   "cell_type": "markdown",
   "metadata": {},
   "source": [
    "Imports and set magics:"
   ]
  },
  {
   "cell_type": "code",
   "execution_count": 8,
   "metadata": {},
   "outputs": [
    {
     "name": "stdout",
     "output_type": "stream",
     "text": [
      "The autoreload extension is already loaded. To reload it, use:\n",
      "  %reload_ext autoreload\n"
     ]
    }
   ],
   "source": [
    "import pandas as pd\n",
    "import numpy as np\n",
    "import matplotlib.pyplot as plt\n",
    "import ipywidgets as widgets\n",
    "import requests\n",
    "from bs4 import BeautifulSoup\n",
    "import os\n",
    "#from matplotlib.venn import venn2\n",
    "\n",
    "# autoreload modules when code is run\n",
    "%load_ext autoreload\n",
    "%autoreload 2\n",
    "\n",
    "# user written modules\n",
    "import dataproject\n",
    "\n",
    "\n"
   ]
  },
  {
   "cell_type": "markdown",
   "metadata": {},
   "source": [
    "# Read and clean data"
   ]
  },
  {
   "cell_type": "code",
   "execution_count": 9,
   "metadata": {},
   "outputs": [
    {
     "data": {
      "text/html": [
       "<div>\n",
       "<style scoped>\n",
       "    .dataframe tbody tr th:only-of-type {\n",
       "        vertical-align: middle;\n",
       "    }\n",
       "\n",
       "    .dataframe tbody tr th {\n",
       "        vertical-align: top;\n",
       "    }\n",
       "\n",
       "    .dataframe thead th {\n",
       "        text-align: right;\n",
       "    }\n",
       "</style>\n",
       "<table border=\"1\" class=\"dataframe\">\n",
       "  <thead>\n",
       "    <tr style=\"text-align: right;\">\n",
       "      <th></th>\n",
       "      <th>Unnamed: 0</th>\n",
       "      <th>Unnamed: 1</th>\n",
       "      <th>2016Q1</th>\n",
       "      <th>2016Q2</th>\n",
       "      <th>2016Q3</th>\n",
       "      <th>2016Q4</th>\n",
       "      <th>2017Q1</th>\n",
       "      <th>2017Q2</th>\n",
       "      <th>2017Q3</th>\n",
       "      <th>2017Q4</th>\n",
       "      <th>2018Q1</th>\n",
       "      <th>2018Q2</th>\n",
       "      <th>2018Q3</th>\n",
       "      <th>2018Q4</th>\n",
       "      <th>2019Q1</th>\n",
       "      <th>2019Q2</th>\n",
       "      <th>2019Q3</th>\n",
       "      <th>2019Q4</th>\n",
       "      <th>2020Q1</th>\n",
       "    </tr>\n",
       "  </thead>\n",
       "  <tbody>\n",
       "    <tr>\n",
       "      <th>0</th>\n",
       "      <td>Total</td>\n",
       "      <td>Copenhagen</td>\n",
       "      <td>591481</td>\n",
       "      <td>594231</td>\n",
       "      <td>594535</td>\n",
       "      <td>601448</td>\n",
       "      <td>602481</td>\n",
       "      <td>606057</td>\n",
       "      <td>605366</td>\n",
       "      <td>611822</td>\n",
       "      <td>613288</td>\n",
       "      <td>615993</td>\n",
       "      <td>616098</td>\n",
       "      <td>622698</td>\n",
       "      <td>623404</td>\n",
       "      <td>626350</td>\n",
       "      <td>626508</td>\n",
       "      <td>633021</td>\n",
       "      <td>632340</td>\n",
       "    </tr>\n",
       "    <tr>\n",
       "      <th>1</th>\n",
       "      <td>NaN</td>\n",
       "      <td>Frederiksberg</td>\n",
       "      <td>104481</td>\n",
       "      <td>104538</td>\n",
       "      <td>104180</td>\n",
       "      <td>105192</td>\n",
       "      <td>105037</td>\n",
       "      <td>105002</td>\n",
       "      <td>104641</td>\n",
       "      <td>105132</td>\n",
       "      <td>104410</td>\n",
       "      <td>104553</td>\n",
       "      <td>103914</td>\n",
       "      <td>104735</td>\n",
       "      <td>103960</td>\n",
       "      <td>104226</td>\n",
       "      <td>103725</td>\n",
       "      <td>104987</td>\n",
       "      <td>104305</td>\n",
       "    </tr>\n",
       "    <tr>\n",
       "      <th>2</th>\n",
       "      <td>NaN</td>\n",
       "      <td>Dragør</td>\n",
       "      <td>14142</td>\n",
       "      <td>14146</td>\n",
       "      <td>14206</td>\n",
       "      <td>14225</td>\n",
       "      <td>14288</td>\n",
       "      <td>14253</td>\n",
       "      <td>14263</td>\n",
       "      <td>14269</td>\n",
       "      <td>14272</td>\n",
       "      <td>14222</td>\n",
       "      <td>14201</td>\n",
       "      <td>14279</td>\n",
       "      <td>14270</td>\n",
       "      <td>14321</td>\n",
       "      <td>14394</td>\n",
       "      <td>14475</td>\n",
       "      <td>14494</td>\n",
       "    </tr>\n",
       "    <tr>\n",
       "      <th>3</th>\n",
       "      <td>NaN</td>\n",
       "      <td>Tårnby</td>\n",
       "      <td>42860</td>\n",
       "      <td>42910</td>\n",
       "      <td>42904</td>\n",
       "      <td>43043</td>\n",
       "      <td>43010</td>\n",
       "      <td>42959</td>\n",
       "      <td>43011</td>\n",
       "      <td>43089</td>\n",
       "      <td>43063</td>\n",
       "      <td>43048</td>\n",
       "      <td>43005</td>\n",
       "      <td>43033</td>\n",
       "      <td>42984</td>\n",
       "      <td>42964</td>\n",
       "      <td>43018</td>\n",
       "      <td>43027</td>\n",
       "      <td>42989</td>\n",
       "    </tr>\n",
       "    <tr>\n",
       "      <th>4</th>\n",
       "      <td>NaN</td>\n",
       "      <td>Albertslund</td>\n",
       "      <td>27880</td>\n",
       "      <td>27869</td>\n",
       "      <td>27792</td>\n",
       "      <td>27870</td>\n",
       "      <td>27896</td>\n",
       "      <td>27896</td>\n",
       "      <td>27816</td>\n",
       "      <td>27821</td>\n",
       "      <td>27743</td>\n",
       "      <td>27717</td>\n",
       "      <td>27753</td>\n",
       "      <td>27859</td>\n",
       "      <td>27877</td>\n",
       "      <td>27779</td>\n",
       "      <td>27750</td>\n",
       "      <td>27666</td>\n",
       "      <td>27731</td>\n",
       "    </tr>\n",
       "  </tbody>\n",
       "</table>\n",
       "</div>"
      ],
      "text/plain": [
       "  Unnamed: 0     Unnamed: 1  2016Q1  2016Q2  2016Q3  2016Q4  2017Q1  2017Q2  \\\n",
       "0      Total     Copenhagen  591481  594231  594535  601448  602481  606057   \n",
       "1        NaN  Frederiksberg  104481  104538  104180  105192  105037  105002   \n",
       "2        NaN         Dragør   14142   14146   14206   14225   14288   14253   \n",
       "3        NaN         Tårnby   42860   42910   42904   43043   43010   42959   \n",
       "4        NaN    Albertslund   27880   27869   27792   27870   27896   27896   \n",
       "\n",
       "   2017Q3  2017Q4  2018Q1  2018Q2  2018Q3  2018Q4  2019Q1  2019Q2  2019Q3  \\\n",
       "0  605366  611822  613288  615993  616098  622698  623404  626350  626508   \n",
       "1  104641  105132  104410  104553  103914  104735  103960  104226  103725   \n",
       "2   14263   14269   14272   14222   14201   14279   14270   14321   14394   \n",
       "3   43011   43089   43063   43048   43005   43033   42984   42964   43018   \n",
       "4   27816   27821   27743   27717   27753   27859   27877   27779   27750   \n",
       "\n",
       "   2019Q4  2020Q1  \n",
       "0  633021  632340  \n",
       "1  104987  104305  \n",
       "2   14475   14494  \n",
       "3   43027   42989  \n",
       "4   27666   27731  "
      ]
     },
     "execution_count": 9,
     "metadata": {},
     "output_type": "execute_result"
    }
   ],
   "source": [
    "# Uploading our excel s (criminalitydata and criminalitydata2) and visualizing the first 5 rows\n",
    "criminality = 'data/criminalitydata.xlsx'\n",
    "criminality = pd.read_excel(criminality, skiprows=2)\n",
    "criminality.head(5)\n",
    "\n",
    "pop = 'data/population.xlsx'\n",
    "pop = pd.read_excel(pop, skiprows=2)\n",
    "pop.head(5)\n"
   ]
  },
  {
   "cell_type": "code",
   "execution_count": 10,
   "metadata": {},
   "outputs": [],
   "source": [
    "# Cleaning our data\n",
    "# Deleting the column that has no information\n",
    "\n",
    "data = [criminality, pop]\n",
    "for i in data:\n",
    "    i.drop(\"Unnamed: 0\", axis = 1, inplace = True)\n",
    "\n"
   ]
  },
  {
   "cell_type": "markdown",
   "metadata": {},
   "source": [
    "Import your data, either through an API or manually, and load it. "
   ]
  },
  {
   "cell_type": "code",
   "execution_count": 11,
   "metadata": {},
   "outputs": [],
   "source": [
    "# Renaming the \"Unnamed: 1\" to municipalities\n",
    "\n",
    "for i in data:\n",
    "    i.rename(columns = {\"Unnamed: 1\" : \"municipalities\"}, inplace=True)\n",
    "\n",
    "\n",
    "\n",
    "# Renaming the rest of the columns in both databases so that they don't start with a number\n",
    "\n",
    "for n,i in enumerate(data):\n",
    "    for h in range(2016, 2020+1):\n",
    "        for j in range(1, 4+1):\n",
    "            if n == 0:  # This is the first dataset, i.e criminality data\n",
    "                i.rename(columns={ str(str(h)+\"Q\"+str(j)):f'crim_{h}Q{j}'}, inplace = True)\n",
    "            else:\n",
    "                i.rename(columns={ str(str(h)+\"Q\"+str(j)):f'pop_{h}Q{j}'}, inplace = True)\n",
    "\n"
   ]
  },
  {
   "cell_type": "markdown",
   "metadata": {},
   "source": [
    "## Explore each data set"
   ]
  },
  {
   "cell_type": "code",
   "execution_count": 12,
   "metadata": {},
   "outputs": [
    {
     "data": {
      "text/html": [
       "<div>\n",
       "<style scoped>\n",
       "    .dataframe tbody tr th:only-of-type {\n",
       "        vertical-align: middle;\n",
       "    }\n",
       "\n",
       "    .dataframe tbody tr th {\n",
       "        vertical-align: top;\n",
       "    }\n",
       "\n",
       "    .dataframe thead th {\n",
       "        text-align: right;\n",
       "    }\n",
       "</style>\n",
       "<table border=\"1\" class=\"dataframe\">\n",
       "  <thead>\n",
       "    <tr style=\"text-align: right;\">\n",
       "      <th></th>\n",
       "      <th>crim_2016Q1</th>\n",
       "      <th>crim_2016Q2</th>\n",
       "      <th>crim_2016Q3</th>\n",
       "      <th>crim_2016Q4</th>\n",
       "      <th>crim_2017Q1</th>\n",
       "      <th>crim_2017Q2</th>\n",
       "      <th>crim_2017Q3</th>\n",
       "      <th>crim_2017Q4</th>\n",
       "      <th>crim_2018Q1</th>\n",
       "      <th>crim_2018Q2</th>\n",
       "      <th>crim_2018Q3</th>\n",
       "      <th>crim_2018Q4</th>\n",
       "      <th>crim_2019Q1</th>\n",
       "      <th>crim_2019Q2</th>\n",
       "      <th>crim_2019Q3</th>\n",
       "      <th>crim_2019Q4</th>\n",
       "      <th>crim_2020Q1</th>\n",
       "    </tr>\n",
       "  </thead>\n",
       "  <tbody>\n",
       "    <tr>\n",
       "      <th>count</th>\n",
       "      <td>100.000000</td>\n",
       "      <td>100.000000</td>\n",
       "      <td>100.000000</td>\n",
       "      <td>100.000000</td>\n",
       "      <td>100.000000</td>\n",
       "      <td>100.000000</td>\n",
       "      <td>100.000000</td>\n",
       "      <td>100.000000</td>\n",
       "      <td>100.000000</td>\n",
       "      <td>100.000000</td>\n",
       "      <td>100.000000</td>\n",
       "      <td>100.000000</td>\n",
       "      <td>100.000000</td>\n",
       "      <td>100.000000</td>\n",
       "      <td>100.00000</td>\n",
       "      <td>100.000000</td>\n",
       "      <td>100.000000</td>\n",
       "    </tr>\n",
       "    <tr>\n",
       "      <th>mean</th>\n",
       "      <td>1126.950000</td>\n",
       "      <td>1224.330000</td>\n",
       "      <td>1250.810000</td>\n",
       "      <td>1277.040000</td>\n",
       "      <td>1152.760000</td>\n",
       "      <td>1259.020000</td>\n",
       "      <td>1209.000000</td>\n",
       "      <td>1232.160000</td>\n",
       "      <td>1123.800000</td>\n",
       "      <td>1187.080000</td>\n",
       "      <td>1212.400000</td>\n",
       "      <td>1235.460000</td>\n",
       "      <td>1169.960000</td>\n",
       "      <td>1156.310000</td>\n",
       "      <td>1190.55000</td>\n",
       "      <td>1217.530000</td>\n",
       "      <td>1173.240000</td>\n",
       "    </tr>\n",
       "    <tr>\n",
       "      <th>std</th>\n",
       "      <td>2399.495955</td>\n",
       "      <td>2771.078104</td>\n",
       "      <td>2721.595862</td>\n",
       "      <td>2943.332156</td>\n",
       "      <td>2525.528432</td>\n",
       "      <td>2708.615204</td>\n",
       "      <td>2453.764331</td>\n",
       "      <td>2443.808056</td>\n",
       "      <td>2277.112991</td>\n",
       "      <td>2531.589965</td>\n",
       "      <td>2396.633367</td>\n",
       "      <td>2470.171439</td>\n",
       "      <td>2496.479598</td>\n",
       "      <td>2502.228282</td>\n",
       "      <td>2568.68598</td>\n",
       "      <td>2702.764479</td>\n",
       "      <td>2585.169666</td>\n",
       "    </tr>\n",
       "    <tr>\n",
       "      <th>min</th>\n",
       "      <td>0.000000</td>\n",
       "      <td>0.000000</td>\n",
       "      <td>0.000000</td>\n",
       "      <td>0.000000</td>\n",
       "      <td>0.000000</td>\n",
       "      <td>0.000000</td>\n",
       "      <td>1.000000</td>\n",
       "      <td>0.000000</td>\n",
       "      <td>0.000000</td>\n",
       "      <td>1.000000</td>\n",
       "      <td>0.000000</td>\n",
       "      <td>0.000000</td>\n",
       "      <td>0.000000</td>\n",
       "      <td>0.000000</td>\n",
       "      <td>0.00000</td>\n",
       "      <td>0.000000</td>\n",
       "      <td>0.000000</td>\n",
       "    </tr>\n",
       "    <tr>\n",
       "      <th>25%</th>\n",
       "      <td>438.500000</td>\n",
       "      <td>461.500000</td>\n",
       "      <td>476.250000</td>\n",
       "      <td>488.000000</td>\n",
       "      <td>427.250000</td>\n",
       "      <td>444.500000</td>\n",
       "      <td>469.000000</td>\n",
       "      <td>480.500000</td>\n",
       "      <td>437.750000</td>\n",
       "      <td>461.500000</td>\n",
       "      <td>428.500000</td>\n",
       "      <td>493.250000</td>\n",
       "      <td>420.750000</td>\n",
       "      <td>421.000000</td>\n",
       "      <td>444.25000</td>\n",
       "      <td>438.750000</td>\n",
       "      <td>403.000000</td>\n",
       "    </tr>\n",
       "    <tr>\n",
       "      <th>50%</th>\n",
       "      <td>616.000000</td>\n",
       "      <td>659.500000</td>\n",
       "      <td>675.500000</td>\n",
       "      <td>732.500000</td>\n",
       "      <td>647.500000</td>\n",
       "      <td>668.500000</td>\n",
       "      <td>678.500000</td>\n",
       "      <td>675.500000</td>\n",
       "      <td>596.500000</td>\n",
       "      <td>639.500000</td>\n",
       "      <td>678.000000</td>\n",
       "      <td>674.500000</td>\n",
       "      <td>607.500000</td>\n",
       "      <td>594.500000</td>\n",
       "      <td>640.00000</td>\n",
       "      <td>676.000000</td>\n",
       "      <td>608.000000</td>\n",
       "    </tr>\n",
       "    <tr>\n",
       "      <th>75%</th>\n",
       "      <td>1132.250000</td>\n",
       "      <td>1192.000000</td>\n",
       "      <td>1150.500000</td>\n",
       "      <td>1205.500000</td>\n",
       "      <td>1097.250000</td>\n",
       "      <td>1184.000000</td>\n",
       "      <td>1183.500000</td>\n",
       "      <td>1176.500000</td>\n",
       "      <td>1061.250000</td>\n",
       "      <td>1150.250000</td>\n",
       "      <td>1162.500000</td>\n",
       "      <td>1218.500000</td>\n",
       "      <td>1145.250000</td>\n",
       "      <td>1095.250000</td>\n",
       "      <td>1056.25000</td>\n",
       "      <td>1106.750000</td>\n",
       "      <td>1083.500000</td>\n",
       "    </tr>\n",
       "    <tr>\n",
       "      <th>max</th>\n",
       "      <td>22625.000000</td>\n",
       "      <td>26269.000000</td>\n",
       "      <td>25467.000000</td>\n",
       "      <td>28402.000000</td>\n",
       "      <td>23884.000000</td>\n",
       "      <td>24335.000000</td>\n",
       "      <td>22779.000000</td>\n",
       "      <td>22448.000000</td>\n",
       "      <td>21091.000000</td>\n",
       "      <td>23430.000000</td>\n",
       "      <td>21998.000000</td>\n",
       "      <td>22640.000000</td>\n",
       "      <td>22844.000000</td>\n",
       "      <td>23092.000000</td>\n",
       "      <td>22843.00000</td>\n",
       "      <td>25070.000000</td>\n",
       "      <td>23110.000000</td>\n",
       "    </tr>\n",
       "  </tbody>\n",
       "</table>\n",
       "</div>"
      ],
      "text/plain": [
       "        crim_2016Q1   crim_2016Q2   crim_2016Q3   crim_2016Q4   crim_2017Q1  \\\n",
       "count    100.000000    100.000000    100.000000    100.000000    100.000000   \n",
       "mean    1126.950000   1224.330000   1250.810000   1277.040000   1152.760000   \n",
       "std     2399.495955   2771.078104   2721.595862   2943.332156   2525.528432   \n",
       "min        0.000000      0.000000      0.000000      0.000000      0.000000   \n",
       "25%      438.500000    461.500000    476.250000    488.000000    427.250000   \n",
       "50%      616.000000    659.500000    675.500000    732.500000    647.500000   \n",
       "75%     1132.250000   1192.000000   1150.500000   1205.500000   1097.250000   \n",
       "max    22625.000000  26269.000000  25467.000000  28402.000000  23884.000000   \n",
       "\n",
       "        crim_2017Q2   crim_2017Q3   crim_2017Q4   crim_2018Q1   crim_2018Q2  \\\n",
       "count    100.000000    100.000000    100.000000    100.000000    100.000000   \n",
       "mean    1259.020000   1209.000000   1232.160000   1123.800000   1187.080000   \n",
       "std     2708.615204   2453.764331   2443.808056   2277.112991   2531.589965   \n",
       "min        0.000000      1.000000      0.000000      0.000000      1.000000   \n",
       "25%      444.500000    469.000000    480.500000    437.750000    461.500000   \n",
       "50%      668.500000    678.500000    675.500000    596.500000    639.500000   \n",
       "75%     1184.000000   1183.500000   1176.500000   1061.250000   1150.250000   \n",
       "max    24335.000000  22779.000000  22448.000000  21091.000000  23430.000000   \n",
       "\n",
       "        crim_2018Q3   crim_2018Q4   crim_2019Q1   crim_2019Q2  crim_2019Q3  \\\n",
       "count    100.000000    100.000000    100.000000    100.000000    100.00000   \n",
       "mean    1212.400000   1235.460000   1169.960000   1156.310000   1190.55000   \n",
       "std     2396.633367   2470.171439   2496.479598   2502.228282   2568.68598   \n",
       "min        0.000000      0.000000      0.000000      0.000000      0.00000   \n",
       "25%      428.500000    493.250000    420.750000    421.000000    444.25000   \n",
       "50%      678.000000    674.500000    607.500000    594.500000    640.00000   \n",
       "75%     1162.500000   1218.500000   1145.250000   1095.250000   1056.25000   \n",
       "max    21998.000000  22640.000000  22844.000000  23092.000000  22843.00000   \n",
       "\n",
       "        crim_2019Q4   crim_2020Q1  \n",
       "count    100.000000    100.000000  \n",
       "mean    1217.530000   1173.240000  \n",
       "std     2702.764479   2585.169666  \n",
       "min        0.000000      0.000000  \n",
       "25%      438.750000    403.000000  \n",
       "50%      676.000000    608.000000  \n",
       "75%     1106.750000   1083.500000  \n",
       "max    25070.000000  23110.000000  "
      ]
     },
     "execution_count": 12,
     "metadata": {},
     "output_type": "execute_result"
    }
   ],
   "source": [
    "criminality.describe()"
   ]
  },
  {
   "cell_type": "markdown",
   "metadata": {},
   "source": [
    "In order to be able to **explore the raw data**, you may provide **static** and **interactive plots** to show important developments "
   ]
  },
  {
   "cell_type": "markdown",
   "metadata": {},
   "source": [
    "**Interactive plot** :"
   ]
  },
  {
   "cell_type": "code",
   "execution_count": 13,
   "metadata": {},
   "outputs": [
    {
     "data": {
      "application/vnd.jupyter.widget-view+json": {
       "model_id": "5c79d05bcef34ce59ba30f1eee9de76d",
       "version_major": 2,
       "version_minor": 0
      },
      "text/plain": [
       "interactive(children=(Output(),), _dom_classes=('widget-interact',))"
      ]
     },
     "metadata": {},
     "output_type": "display_data"
    }
   ],
   "source": [
    "def plot_func():\n",
    "    # Function that operates on data set\n",
    "    pass\n",
    "\n",
    "widgets.interact(plot_func, \n",
    "    # Let the widget interact with data through plot_func()    \n",
    "); \n"
   ]
  },
  {
   "cell_type": "markdown",
   "metadata": {},
   "source": [
    "Explain what you see when moving elements of the interactive plot around. "
   ]
  },
  {
   "cell_type": "markdown",
   "metadata": {},
   "source": [
    "# Merge data sets"
   ]
  },
  {
   "cell_type": "markdown",
   "metadata": {},
   "source": [
    "Now you create combinations of your loaded data sets. Remember the illustration of a (inner) **merge**:"
   ]
  },
  {
   "cell_type": "code",
   "execution_count": 14,
   "metadata": {},
   "outputs": [
    {
     "ename": "NameError",
     "evalue": "name 'venn2' is not defined",
     "output_type": "error",
     "traceback": [
      "\u001b[1;31m---------------------------------------------------------------------------\u001b[0m",
      "\u001b[1;31mNameError\u001b[0m                                 Traceback (most recent call last)",
      "\u001b[1;32m~\\AppData\\Local\\Temp\\ipykernel_16004\\1190576843.py\u001b[0m in \u001b[0;36m<module>\u001b[1;34m\u001b[0m\n\u001b[0;32m      1\u001b[0m \u001b[0mplt\u001b[0m\u001b[1;33m.\u001b[0m\u001b[0mfigure\u001b[0m\u001b[1;33m(\u001b[0m\u001b[0mfigsize\u001b[0m\u001b[1;33m=\u001b[0m\u001b[1;33m(\u001b[0m\u001b[1;36m15\u001b[0m\u001b[1;33m,\u001b[0m\u001b[1;36m7\u001b[0m\u001b[1;33m)\u001b[0m\u001b[1;33m)\u001b[0m\u001b[1;33m\u001b[0m\u001b[1;33m\u001b[0m\u001b[0m\n\u001b[1;32m----> 2\u001b[1;33m \u001b[0mv\u001b[0m \u001b[1;33m=\u001b[0m \u001b[0mvenn2\u001b[0m\u001b[1;33m(\u001b[0m\u001b[0msubsets\u001b[0m \u001b[1;33m=\u001b[0m \u001b[1;33m(\u001b[0m\u001b[1;36m4\u001b[0m\u001b[1;33m,\u001b[0m \u001b[1;36m4\u001b[0m\u001b[1;33m,\u001b[0m \u001b[1;36m10\u001b[0m\u001b[1;33m)\u001b[0m\u001b[1;33m,\u001b[0m \u001b[0mset_labels\u001b[0m \u001b[1;33m=\u001b[0m \u001b[1;33m(\u001b[0m\u001b[1;34m'Data X'\u001b[0m\u001b[1;33m,\u001b[0m \u001b[1;34m'Data Y'\u001b[0m\u001b[1;33m)\u001b[0m\u001b[1;33m)\u001b[0m\u001b[1;33m\u001b[0m\u001b[1;33m\u001b[0m\u001b[0m\n\u001b[0m\u001b[0;32m      3\u001b[0m \u001b[0mv\u001b[0m\u001b[1;33m.\u001b[0m\u001b[0mget_label_by_id\u001b[0m\u001b[1;33m(\u001b[0m\u001b[1;34m'100'\u001b[0m\u001b[1;33m)\u001b[0m\u001b[1;33m.\u001b[0m\u001b[0mset_text\u001b[0m\u001b[1;33m(\u001b[0m\u001b[1;34m'dropped'\u001b[0m\u001b[1;33m)\u001b[0m\u001b[1;33m\u001b[0m\u001b[1;33m\u001b[0m\u001b[0m\n\u001b[0;32m      4\u001b[0m \u001b[0mv\u001b[0m\u001b[1;33m.\u001b[0m\u001b[0mget_label_by_id\u001b[0m\u001b[1;33m(\u001b[0m\u001b[1;34m'010'\u001b[0m\u001b[1;33m)\u001b[0m\u001b[1;33m.\u001b[0m\u001b[0mset_text\u001b[0m\u001b[1;33m(\u001b[0m\u001b[1;34m'dropped'\u001b[0m \u001b[1;33m)\u001b[0m\u001b[1;33m\u001b[0m\u001b[1;33m\u001b[0m\u001b[0m\n\u001b[0;32m      5\u001b[0m \u001b[0mv\u001b[0m\u001b[1;33m.\u001b[0m\u001b[0mget_label_by_id\u001b[0m\u001b[1;33m(\u001b[0m\u001b[1;34m'110'\u001b[0m\u001b[1;33m)\u001b[0m\u001b[1;33m.\u001b[0m\u001b[0mset_text\u001b[0m\u001b[1;33m(\u001b[0m\u001b[1;34m'included'\u001b[0m\u001b[1;33m)\u001b[0m\u001b[1;33m\u001b[0m\u001b[1;33m\u001b[0m\u001b[0m\n",
      "\u001b[1;31mNameError\u001b[0m: name 'venn2' is not defined"
     ]
    },
    {
     "data": {
      "text/plain": [
       "<Figure size 1500x700 with 0 Axes>"
      ]
     },
     "metadata": {},
     "output_type": "display_data"
    }
   ],
   "source": [
    "plt.figure(figsize=(15,7))\n",
    "v = venn2(subsets = (4, 4, 10), set_labels = ('Data X', 'Data Y'))\n",
    "v.get_label_by_id('100').set_text('dropped')\n",
    "v.get_label_by_id('010').set_text('dropped' )\n",
    "v.get_label_by_id('110').set_text('included')\n",
    "plt.show()"
   ]
  },
  {
   "cell_type": "markdown",
   "metadata": {},
   "source": [
    "Here we are dropping elements from both data set X and data set Y. A left join would keep all observations in data X intact and subset only from Y. \n",
    "\n",
    "Make sure that your resulting data sets have the correct number of rows and columns. That is, be clear about which observations are thrown away. \n",
    "\n",
    "**Note:** Don't make Venn diagrams in your own data project. It is just for exposition. "
   ]
  },
  {
   "cell_type": "markdown",
   "metadata": {},
   "source": [
    "# Analysis"
   ]
  },
  {
   "cell_type": "markdown",
   "metadata": {},
   "source": [
    "To get a quick overview of the data, we show some **summary statistics** on a meaningful aggregation. "
   ]
  },
  {
   "cell_type": "markdown",
   "metadata": {},
   "source": [
    "MAKE FURTHER ANALYSIS. EXPLAIN THE CODE BRIEFLY AND SUMMARIZE THE RESULTS."
   ]
  },
  {
   "cell_type": "markdown",
   "metadata": {},
   "source": [
    "# Conclusion"
   ]
  },
  {
   "cell_type": "markdown",
   "metadata": {},
   "source": [
    "ADD CONCISE CONLUSION."
   ]
  }
 ],
 "metadata": {
  "kernelspec": {
   "display_name": "base",
   "language": "python",
   "name": "python3"
  },
  "language_info": {
   "codemirror_mode": {
    "name": "ipython",
    "version": 3
   },
   "file_extension": ".py",
   "mimetype": "text/x-python",
   "name": "python",
   "nbconvert_exporter": "python",
   "pygments_lexer": "ipython3",
   "version": "3.9.16"
  },
  "toc-autonumbering": true,
  "vscode": {
   "interpreter": {
    "hash": "47ef90cdf3004d3f859f1fb202523c65c07ba7c22eefd261b181f4744e2d0403"
   }
  }
 },
 "nbformat": 4,
 "nbformat_minor": 4
}
