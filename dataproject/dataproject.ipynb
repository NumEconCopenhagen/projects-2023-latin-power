{
 "cells": [
  {
   "cell_type": "markdown",
   "metadata": {},
   "source": [
    "# YOUR PROJECT TITLE"
   ]
  },
  {
   "attachments": {},
   "cell_type": "markdown",
   "metadata": {},
   "source": [
    "> **Note the following:** \n",
    "> 1. This is *not* meant to be an example of an actual **data analysis project**, just an example of how to structure such a project.\n",
    "> 1. Remember the general advice on structuring and commenting your code\n",
    "> 1. The `dataproject.py` file includes a function which can be used multiple times in this notebook."
   ]
  },
  {
   "cell_type": "markdown",
   "metadata": {},
   "source": [
    "Imports and set magics:"
   ]
  },
  {
   "cell_type": "code",
   "execution_count": 391,
   "metadata": {},
   "outputs": [
    {
     "name": "stdout",
     "output_type": "stream",
     "text": [
      "The autoreload extension is already loaded. To reload it, use:\n",
      "  %reload_ext autoreload\n"
     ]
    }
   ],
   "source": [
    "import pandas as pd\n",
    "import numpy as np\n",
    "import matplotlib.pyplot as plt\n",
    "import ipywidgets as widgets\n",
    "import requests\n",
    "from bs4 import BeautifulSoup\n",
    "import os\n",
    "#from matplotlib.venn import venn2\n",
    "\n",
    "# autoreload modules when code is run\n",
    "%load_ext autoreload\n",
    "%autoreload 2\n",
    "\n",
    "# user written modules\n",
    "import dataproject\n",
    "\n",
    "\n"
   ]
  },
  {
   "attachments": {},
   "cell_type": "markdown",
   "metadata": {},
   "source": [
    "# Introduction\n",
    "\n",
    "This data project aims to understand how the crime has evolved in Denmark from 2008 to 2022 by municipality. The data chosen was downloaded from Danmarks Statistik. The crime reported constitutes all offences under the danish criminal code but not those under the danish traffic law.\n",
    "\n",
    "The project starts by uploading two datasets: total number of crime by municipality (criminality) and total population by municipality (pop). These datasets were downladed in excel format and quartely information.\n",
    "\n",
    "Cleaning the datasets consisted by removing columns and rows with no information, changing the names of the variables to not have names starting with a number and aggregating the values of criminality by year, and leaving only the last information of population of each year (quaerter 4). The frist approach to the data consistented on cheching the development of the mean of both variables.\n",
    "\n",
    "After, we merged the dataset using a left method and created a crime index measurement. This index is created doing:\n",
    "\n",
    "$$\n",
    "index =  \\frac{crim * 100.000}{pop}\n",
    "$$\n",
    "\n"
   ]
  },
  {
   "cell_type": "markdown",
   "metadata": {},
   "source": [
    "# Read and clean data"
   ]
  },
  {
   "cell_type": "markdown",
   "metadata": {},
   "source": [
    "Import your data, either through an API or manually, and load it. "
   ]
  },
  {
   "cell_type": "code",
   "execution_count": 392,
   "metadata": {},
   "outputs": [],
   "source": [
    "# Uploading our excel datasets (criminalitydata and population) and visualizing the first 5 rows\n",
    "criminality = 'data/criminalitydata.xlsx'\n",
    "criminality = pd.read_excel(criminality, skiprows=2)\n",
    "\n",
    "pop = 'data/population.xlsx'\n",
    "pop = pd.read_excel(pop, skiprows=2)"
   ]
  },
  {
   "cell_type": "code",
   "execution_count": 393,
   "metadata": {},
   "outputs": [],
   "source": [
    "# Cleaning the data\n",
    "# Deleting the column that has no information\n",
    "data = [criminality, pop]\n",
    "for i in data:\n",
    "    i.drop(\"Unnamed: 0\", axis = 1, inplace = True)\n",
    "\n",
    "# Deleting the rows that has no informtion in the criminality dataset\n",
    "criminality.drop(index = 101, inplace=True)\n",
    "criminality.drop(index = 100, inplace=True)"
   ]
  },
  {
   "cell_type": "code",
   "execution_count": 394,
   "metadata": {},
   "outputs": [],
   "source": [
    "# Renaming the \"Unnamed: 1\" to municipalities\n",
    "for i in data:\n",
    "    i.rename(columns = {\"Unnamed: 1\" : \"municipalities\"}, inplace=True)\n",
    "\n",
    "\n",
    "# Renaming the rest of the columns in both databases so that they don't start with a number\n",
    "for n,i in enumerate(data):\n",
    "    for h in range(2007, 2022+1):\n",
    "        for j in range(1, 4+1):\n",
    "            if n == 0:  # This is the first dataset, i.e criminality data\n",
    "                i.rename(columns={ str(str(h)+\"Q\"+str(j)):f'crim_{h}Q{j}'}, inplace = True)\n",
    "            else:\n",
    "                i.rename(columns={ str(str(h)+\"Q\"+str(j)):f'pop_{h}Q{j}'}, inplace = True)\n",
    "\n",
    "\n",
    "# Creating the total per year\n",
    "for h in range(2007, 2022+1):\n",
    "    criminality[f'crim_{h}'] = criminality[f'crim_{h}Q1'] + criminality[f\"crim_{h}Q2\"] + criminality[f\"crim_{h}Q3\"] + criminality[f\"crim_{h}Q4\"]\n",
    "    \n",
    "for h in range(2008, 2022+1):\n",
    "    pop[f'pop_{h}'] = pop[f\"pop_{h}Q4\"] # taking the last quarter of population per year as we want yearly data.\n",
    "    \n",
    "\n",
    "\n",
    "#extract only the variables which have the years values\n",
    "criminality_year = criminality[['municipalities', 'crim_2007', 'crim_2008', \n",
    "                                'crim_2009', 'crim_2010', 'crim_2011', 'crim_2012', \n",
    "                                'crim_2013', 'crim_2014', 'crim_2015', 'crim_2016', 'crim_2017', \n",
    "                                'crim_2018', 'crim_2019', 'crim_2020', 'crim_2021', 'crim_2022']]\n",
    "\n",
    "#extract only the value of the years\n",
    "pop_year = pop[['municipalities', 'pop_2008', 'pop_2009', 'pop_2010', 'pop_2011', \n",
    "                'pop_2012', 'pop_2013', 'pop_2014', 'pop_2015', 'pop_2016', \n",
    "                'pop_2017', 'pop_2018', 'pop_2019', 'pop_2020', 'pop_2021', 'pop_2022']]\n",
    "\n"
   ]
  },
  {
   "cell_type": "markdown",
   "metadata": {},
   "source": [
    "## Explore each data set"
   ]
  },
  {
   "cell_type": "markdown",
   "metadata": {},
   "source": [
    "In order to be able to **explore the raw data**, you may provide **static** and **interactive plots** to show important developments "
   ]
  },
  {
   "cell_type": "markdown",
   "metadata": {},
   "source": [
    "Explain what you see when moving elements of the interactive plot around. "
   ]
  },
  {
   "cell_type": "code",
   "execution_count": 395,
   "metadata": {},
   "outputs": [
    {
     "data": {
      "text/plain": [
       "crim_2007    5068.58\n",
       "crim_2008    5391.22\n",
       "crim_2009    5551.92\n",
       "crim_2010    5343.01\n",
       "crim_2011    5434.64\n",
       "crim_2012    5187.04\n",
       "crim_2013    5202.36\n",
       "crim_2014    4974.75\n",
       "crim_2015    4762.91\n",
       "crim_2016    4879.13\n",
       "crim_2017    4852.94\n",
       "crim_2018    4758.74\n",
       "crim_2019    4734.35\n",
       "crim_2020    4210.69\n",
       "crim_2021    3887.62\n",
       "crim_2022    4372.54\n",
       "dtype: float64"
      ]
     },
     "execution_count": 395,
     "metadata": {},
     "output_type": "execute_result"
    }
   ],
   "source": [
    "# Doing the statistics mean of the total years \n",
    "criminality_year.iloc[:,1:].mean()"
   ]
  },
  {
   "attachments": {},
   "cell_type": "markdown",
   "metadata": {},
   "source": [
    "**Interpretation**\n",
    "\n",
    "From the mean of the crime by year since 2007 until 2022, it is possible to see that it has been decreasing. This value however does not take into account the total population, hence we are, so far, only able to conclude over the number of realizations of crime."
   ]
  },
  {
   "cell_type": "code",
   "execution_count": 396,
   "metadata": {},
   "outputs": [
    {
     "data": {
      "text/plain": [
       "pop_2008    55616.111111\n",
       "pop_2009    55884.151515\n",
       "pop_2010    56138.474747\n",
       "pop_2011    56355.595960\n",
       "pop_2012    56562.272727\n",
       "pop_2013    56803.040404\n",
       "pop_2014    57128.787879\n",
       "pop_2015    57567.878788\n",
       "pop_2016    58035.616162\n",
       "pop_2017    58369.393939\n",
       "pop_2018    58646.616162\n",
       "pop_2019    58863.262626\n",
       "pop_2020    58961.747475\n",
       "pop_2021    59266.787879\n",
       "pop_2022    59882.464646\n",
       "dtype: float64"
      ]
     },
     "execution_count": 396,
     "metadata": {},
     "output_type": "execute_result"
    }
   ],
   "source": [
    "# Mean of the population by year\n",
    "pop_year.iloc[:,1:].mean()"
   ]
  },
  {
   "attachments": {},
   "cell_type": "markdown",
   "metadata": {},
   "source": [
    "**Interpretation**\n",
    "The mean of the population by municipality has been increasing since 2008 to 2022. Giving the previous results, it suggests that, on average, the rate of crime has been decreasing. However, this is a first approach as further and more in dept analysis will be taken."
   ]
  },
  {
   "cell_type": "code",
   "execution_count": 397,
   "metadata": {},
   "outputs": [],
   "source": [
    "# Wide to long dataframe\n",
    "criminality_year_long = pd.wide_to_long(criminality_year, stubnames='crim_', i='municipalities', j='year')\n",
    "\n",
    "pop_year_long = pd.wide_to_long(pop_year, stubnames='pop_', i='municipalities', j='year')"
   ]
  },
  {
   "cell_type": "code",
   "execution_count": 398,
   "metadata": {},
   "outputs": [
    {
     "data": {
      "text/html": [
       "<div>\n",
       "<style scoped>\n",
       "    .dataframe tbody tr th:only-of-type {\n",
       "        vertical-align: middle;\n",
       "    }\n",
       "\n",
       "    .dataframe tbody tr th {\n",
       "        vertical-align: top;\n",
       "    }\n",
       "\n",
       "    .dataframe thead th {\n",
       "        text-align: right;\n",
       "    }\n",
       "</style>\n",
       "<table border=\"1\" class=\"dataframe\">\n",
       "  <thead>\n",
       "    <tr style=\"text-align: right;\">\n",
       "      <th></th>\n",
       "      <th>municipalities</th>\n",
       "      <th>year</th>\n",
       "      <th>crim_</th>\n",
       "    </tr>\n",
       "  </thead>\n",
       "  <tbody>\n",
       "    <tr>\n",
       "      <th>0</th>\n",
       "      <td>Copenhagen</td>\n",
       "      <td>2007</td>\n",
       "      <td>93077.0</td>\n",
       "    </tr>\n",
       "    <tr>\n",
       "      <th>1</th>\n",
       "      <td>Frederiksberg</td>\n",
       "      <td>2007</td>\n",
       "      <td>8149.0</td>\n",
       "    </tr>\n",
       "    <tr>\n",
       "      <th>2</th>\n",
       "      <td>Dragør</td>\n",
       "      <td>2007</td>\n",
       "      <td>671.0</td>\n",
       "    </tr>\n",
       "    <tr>\n",
       "      <th>3</th>\n",
       "      <td>Tårnby</td>\n",
       "      <td>2007</td>\n",
       "      <td>5446.0</td>\n",
       "    </tr>\n",
       "    <tr>\n",
       "      <th>4</th>\n",
       "      <td>Albertslund</td>\n",
       "      <td>2007</td>\n",
       "      <td>2903.0</td>\n",
       "    </tr>\n",
       "    <tr>\n",
       "      <th>...</th>\n",
       "      <td>...</td>\n",
       "      <td>...</td>\n",
       "      <td>...</td>\n",
       "    </tr>\n",
       "    <tr>\n",
       "      <th>1595</th>\n",
       "      <td>Rebild</td>\n",
       "      <td>2022</td>\n",
       "      <td>1002.0</td>\n",
       "    </tr>\n",
       "    <tr>\n",
       "      <th>1596</th>\n",
       "      <td>Thisted</td>\n",
       "      <td>2022</td>\n",
       "      <td>1903.0</td>\n",
       "    </tr>\n",
       "    <tr>\n",
       "      <th>1597</th>\n",
       "      <td>Vesthimmerlands</td>\n",
       "      <td>2022</td>\n",
       "      <td>1590.0</td>\n",
       "    </tr>\n",
       "    <tr>\n",
       "      <th>1598</th>\n",
       "      <td>Aalborg</td>\n",
       "      <td>2022</td>\n",
       "      <td>14093.0</td>\n",
       "    </tr>\n",
       "    <tr>\n",
       "      <th>1599</th>\n",
       "      <td>Unknown municipality</td>\n",
       "      <td>2022</td>\n",
       "      <td>41431.0</td>\n",
       "    </tr>\n",
       "  </tbody>\n",
       "</table>\n",
       "<p>1600 rows × 3 columns</p>\n",
       "</div>"
      ],
      "text/plain": [
       "            municipalities  year    crim_\n",
       "0               Copenhagen  2007  93077.0\n",
       "1            Frederiksberg  2007   8149.0\n",
       "2                   Dragør  2007    671.0\n",
       "3                   Tårnby  2007   5446.0\n",
       "4              Albertslund  2007   2903.0\n",
       "...                    ...   ...      ...\n",
       "1595                Rebild  2022   1002.0\n",
       "1596               Thisted  2022   1903.0\n",
       "1597       Vesthimmerlands  2022   1590.0\n",
       "1598               Aalborg  2022  14093.0\n",
       "1599  Unknown municipality  2022  41431.0\n",
       "\n",
       "[1600 rows x 3 columns]"
      ]
     },
     "execution_count": 398,
     "metadata": {},
     "output_type": "execute_result"
    }
   ],
   "source": [
    "# Resetting the index for criminality and population to default\n",
    "# Important for next step\n",
    "criminality_year_long = criminality_year_long.reset_index()\n",
    "pop_year_long = pop_year_long.reset_index()\n",
    "criminality_year_long"
   ]
  },
  {
   "cell_type": "code",
   "execution_count": 399,
   "metadata": {},
   "outputs": [
    {
     "data": {
      "application/vnd.jupyter.widget-view+json": {
       "model_id": "07fa4a708a7b4b1188583f501a918674",
       "version_major": 2,
       "version_minor": 0
      },
      "text/plain": [
       "interactive(children=(Dropdown(description='municipalities', index=98, options=('Copenhagen', 'Frederiksberg',…"
      ]
     },
     "metadata": {},
     "output_type": "display_data"
    }
   ],
   "source": [
    "# Creating the interactive plot \n",
    "\n",
    "def plot_crim(criminality_year_long, municipalities): \n",
    "    I = criminality_year_long['municipalities'] == municipalities\n",
    "    ax=criminality_year_long.loc[I,:].plot(x='year', y='crim_', style='-o', legend=False) # remember name of criminality is \"crim_\"\n",
    "\n",
    "\n",
    "widgets.interact(plot_crim, \n",
    "    criminality_year_long = widgets.fixed(criminality_year_long),\n",
    "    municipalities = widgets.Dropdown(description='municipalities', \n",
    "                                    options=criminality_year_long.municipalities.unique(), \n",
    "                                    value='Aalborg')\n",
    "); \n"
   ]
  },
  {
   "attachments": {},
   "cell_type": "markdown",
   "metadata": {},
   "source": [
    "**Interactive plot** : The plot is interactive and a municipality can be chosen to see the development of criminality from 2007 to 2022. \n",
    "\n",
    "**Note:** there is a variable called \"unknown municipality\", which represents crimes that are unaffiliated with any of the municipalites or are unknown of which."
   ]
  },
  {
   "attachments": {},
   "cell_type": "markdown",
   "metadata": {},
   "source": [
    "**Interpretation**\n",
    "\n",
    "The graoh shows how the amount of criminal acts have evole over time by municipality.\n",
    "\n",
    "In Aalborg, for instance, the crime was at it's highest in 2011 with around 21000 reported crimes. Crime has then been decreasing to less than half during lockdown in 2021. However, after lockdown the crime increased again. This can be explained by the restriction of social activities such as nightlife and the restriction of total amount of people in certain areas.\n",
    "\n",
    "It is possible to find a similar drop in crime during lockdown in every municipality, howeverer the previous trends differ. For example,in Frederiksbergtthe criminality was decreasing before lockdown, while in Tamby, it was increasing. "
   ]
  },
  {
   "cell_type": "code",
   "execution_count": 400,
   "metadata": {},
   "outputs": [
    {
     "data": {
      "application/vnd.jupyter.widget-view+json": {
       "model_id": "791040997e53478aab75407e3b849076",
       "version_major": 2,
       "version_minor": 0
      },
      "text/plain": [
       "interactive(children=(Dropdown(description='municipalities', index=98, options=('Copenhagen', 'Frederiksberg',…"
      ]
     },
     "metadata": {},
     "output_type": "display_data"
    }
   ],
   "source": [
    "def plot_pop(pop_year_long, municipalities): \n",
    "    I = pop_year_long['municipalities'] == municipalities\n",
    "    ax=pop_year_long.loc[I,:].plot(x='year', y='pop_', style='-o', legend=False) # remember name of population is \"pop_\"\n",
    "\n",
    "\n",
    "\n",
    "widgets.interact(plot_pop, \n",
    "    pop_year_long = widgets.fixed(pop_year_long),\n",
    "    municipalities = widgets.Dropdown(description='municipalities', \n",
    "                                    options=pop_year_long.municipalities.unique(), \n",
    "                                    value='Aalborg')\n",
    "); "
   ]
  },
  {
   "attachments": {},
   "cell_type": "markdown",
   "metadata": {},
   "source": [
    "**Interactive plot**: The plot is interactive and a municipality can be chosen to see the development of the population from 2008-2022.\n",
    "\n",
    "**Interpretation**\n",
    "\n",
    "The graph shows how the total population has change over time, from 2008 to 2022. It is possible to find municipaltities with a strong increase in population while other have faced a decrease. For example, these are the cases of Aalborg and Struer, respectively."
   ]
  },
  {
   "cell_type": "markdown",
   "metadata": {},
   "source": [
    "# Merge data sets"
   ]
  },
  {
   "cell_type": "markdown",
   "metadata": {},
   "source": [
    "Now you create combinations of your loaded data sets. Remember the illustration of a (inner) **merge**:"
   ]
  },
  {
   "cell_type": "markdown",
   "metadata": {},
   "source": [
    "Here we are dropping elements from both data set X and data set Y. A left join would keep all observations in data X intact and subset only from Y. \n",
    "\n",
    "Make sure that your resulting data sets have the correct number of rows and columns. That is, be clear about which observations are thrown away. \n",
    "\n",
    "**Note:** Don't make Venn diagrams in your own data project. It is just for exposition. "
   ]
  },
  {
   "cell_type": "code",
   "execution_count": 401,
   "metadata": {},
   "outputs": [
    {
     "data": {
      "text/html": [
       "<div>\n",
       "<style scoped>\n",
       "    .dataframe tbody tr th:only-of-type {\n",
       "        vertical-align: middle;\n",
       "    }\n",
       "\n",
       "    .dataframe tbody tr th {\n",
       "        vertical-align: top;\n",
       "    }\n",
       "\n",
       "    .dataframe thead th {\n",
       "        text-align: right;\n",
       "    }\n",
       "</style>\n",
       "<table border=\"1\" class=\"dataframe\">\n",
       "  <thead>\n",
       "    <tr style=\"text-align: right;\">\n",
       "      <th></th>\n",
       "      <th>municipalities</th>\n",
       "      <th>year</th>\n",
       "      <th>pop_</th>\n",
       "      <th>crim_</th>\n",
       "    </tr>\n",
       "  </thead>\n",
       "  <tbody>\n",
       "    <tr>\n",
       "      <th>0</th>\n",
       "      <td>Copenhagen</td>\n",
       "      <td>2008</td>\n",
       "      <td>516962</td>\n",
       "      <td>95101.0</td>\n",
       "    </tr>\n",
       "    <tr>\n",
       "      <th>1</th>\n",
       "      <td>Frederiksberg</td>\n",
       "      <td>2008</td>\n",
       "      <td>95005</td>\n",
       "      <td>7971.0</td>\n",
       "    </tr>\n",
       "    <tr>\n",
       "      <th>2</th>\n",
       "      <td>Dragør</td>\n",
       "      <td>2008</td>\n",
       "      <td>13452</td>\n",
       "      <td>688.0</td>\n",
       "    </tr>\n",
       "    <tr>\n",
       "      <th>3</th>\n",
       "      <td>Tårnby</td>\n",
       "      <td>2008</td>\n",
       "      <td>40234</td>\n",
       "      <td>5947.0</td>\n",
       "    </tr>\n",
       "    <tr>\n",
       "      <th>4</th>\n",
       "      <td>Albertslund</td>\n",
       "      <td>2008</td>\n",
       "      <td>27817</td>\n",
       "      <td>3339.0</td>\n",
       "    </tr>\n",
       "    <tr>\n",
       "      <th>5</th>\n",
       "      <td>Ballerup</td>\n",
       "      <td>2008</td>\n",
       "      <td>47329</td>\n",
       "      <td>4592.0</td>\n",
       "    </tr>\n",
       "    <tr>\n",
       "      <th>6</th>\n",
       "      <td>Brøndby</td>\n",
       "      <td>2008</td>\n",
       "      <td>33689</td>\n",
       "      <td>3621.0</td>\n",
       "    </tr>\n",
       "    <tr>\n",
       "      <th>7</th>\n",
       "      <td>Gentofte</td>\n",
       "      <td>2008</td>\n",
       "      <td>69646</td>\n",
       "      <td>5469.0</td>\n",
       "    </tr>\n",
       "    <tr>\n",
       "      <th>8</th>\n",
       "      <td>Gladsaxe</td>\n",
       "      <td>2008</td>\n",
       "      <td>63138</td>\n",
       "      <td>4942.0</td>\n",
       "    </tr>\n",
       "    <tr>\n",
       "      <th>9</th>\n",
       "      <td>Glostrup</td>\n",
       "      <td>2008</td>\n",
       "      <td>20911</td>\n",
       "      <td>2892.0</td>\n",
       "    </tr>\n",
       "  </tbody>\n",
       "</table>\n",
       "</div>"
      ],
      "text/plain": [
       "  municipalities  year    pop_    crim_\n",
       "0     Copenhagen  2008  516962  95101.0\n",
       "1  Frederiksberg  2008   95005   7971.0\n",
       "2         Dragør  2008   13452    688.0\n",
       "3         Tårnby  2008   40234   5947.0\n",
       "4    Albertslund  2008   27817   3339.0\n",
       "5       Ballerup  2008   47329   4592.0\n",
       "6        Brøndby  2008   33689   3621.0\n",
       "7       Gentofte  2008   69646   5469.0\n",
       "8       Gladsaxe  2008   63138   4942.0\n",
       "9       Glostrup  2008   20911   2892.0"
      ]
     },
     "execution_count": 401,
     "metadata": {},
     "output_type": "execute_result"
    }
   ],
   "source": [
    "total = pd.merge(pop_year_long, criminality_year_long, on=['municipalities','year'], how='left')\n",
    "\n",
    "total.head(10)"
   ]
  },
  {
   "attachments": {},
   "cell_type": "markdown",
   "metadata": {},
   "source": [
    "**Interpretation**\n",
    "\n",
    "Here we are merging the two dataset. Since the criminality information is from 2007 while the population is from 2008, we use a left pethod using the popuation dataset (the smaller) as base. It means that we drop the information of criminality of 2007. In addition, a new observation was created in the population dataset because of the \"unknown\" municipality in crime.\n"
   ]
  },
  {
   "cell_type": "markdown",
   "metadata": {},
   "source": [
    "# Analysis"
   ]
  },
  {
   "cell_type": "markdown",
   "metadata": {},
   "source": [
    "To get a quick overview of the data, we show some **summary statistics** on a meaningful aggregation. "
   ]
  },
  {
   "cell_type": "markdown",
   "metadata": {},
   "source": [
    "MAKE FURTHER ANALYSIS. EXPLAIN THE CODE BRIEFLY AND SUMMARIZE THE RESULTS."
   ]
  },
  {
   "cell_type": "code",
   "execution_count": 402,
   "metadata": {},
   "outputs": [
    {
     "data": {
      "text/html": [
       "<div>\n",
       "<style scoped>\n",
       "    .dataframe tbody tr th:only-of-type {\n",
       "        vertical-align: middle;\n",
       "    }\n",
       "\n",
       "    .dataframe tbody tr th {\n",
       "        vertical-align: top;\n",
       "    }\n",
       "\n",
       "    .dataframe thead th {\n",
       "        text-align: right;\n",
       "    }\n",
       "</style>\n",
       "<table border=\"1\" class=\"dataframe\">\n",
       "  <thead>\n",
       "    <tr style=\"text-align: right;\">\n",
       "      <th></th>\n",
       "      <th>municipalities</th>\n",
       "      <th>year</th>\n",
       "      <th>pop_</th>\n",
       "      <th>crim_</th>\n",
       "      <th>crime_rate_per_cap</th>\n",
       "      <th>crime_rate_per_100K</th>\n",
       "    </tr>\n",
       "  </thead>\n",
       "  <tbody>\n",
       "    <tr>\n",
       "      <th>0</th>\n",
       "      <td>Copenhagen</td>\n",
       "      <td>2008</td>\n",
       "      <td>516962</td>\n",
       "      <td>95101.0</td>\n",
       "      <td>0.183961</td>\n",
       "      <td>18396.129696</td>\n",
       "    </tr>\n",
       "    <tr>\n",
       "      <th>1</th>\n",
       "      <td>Frederiksberg</td>\n",
       "      <td>2008</td>\n",
       "      <td>95005</td>\n",
       "      <td>7971.0</td>\n",
       "      <td>0.083901</td>\n",
       "      <td>8390.084732</td>\n",
       "    </tr>\n",
       "    <tr>\n",
       "      <th>2</th>\n",
       "      <td>Dragør</td>\n",
       "      <td>2008</td>\n",
       "      <td>13452</td>\n",
       "      <td>688.0</td>\n",
       "      <td>0.051145</td>\n",
       "      <td>5114.481118</td>\n",
       "    </tr>\n",
       "    <tr>\n",
       "      <th>3</th>\n",
       "      <td>Tårnby</td>\n",
       "      <td>2008</td>\n",
       "      <td>40234</td>\n",
       "      <td>5947.0</td>\n",
       "      <td>0.147810</td>\n",
       "      <td>14781.030969</td>\n",
       "    </tr>\n",
       "    <tr>\n",
       "      <th>4</th>\n",
       "      <td>Albertslund</td>\n",
       "      <td>2008</td>\n",
       "      <td>27817</td>\n",
       "      <td>3339.0</td>\n",
       "      <td>0.120035</td>\n",
       "      <td>12003.451127</td>\n",
       "    </tr>\n",
       "    <tr>\n",
       "      <th>...</th>\n",
       "      <td>...</td>\n",
       "      <td>...</td>\n",
       "      <td>...</td>\n",
       "      <td>...</td>\n",
       "      <td>...</td>\n",
       "      <td>...</td>\n",
       "    </tr>\n",
       "    <tr>\n",
       "      <th>1480</th>\n",
       "      <td>Morsø</td>\n",
       "      <td>2022</td>\n",
       "      <td>20022</td>\n",
       "      <td>825.0</td>\n",
       "      <td>0.041205</td>\n",
       "      <td>4120.467486</td>\n",
       "    </tr>\n",
       "    <tr>\n",
       "      <th>1481</th>\n",
       "      <td>Rebild</td>\n",
       "      <td>2022</td>\n",
       "      <td>30908</td>\n",
       "      <td>1002.0</td>\n",
       "      <td>0.032419</td>\n",
       "      <td>3241.879125</td>\n",
       "    </tr>\n",
       "    <tr>\n",
       "      <th>1482</th>\n",
       "      <td>Thisted</td>\n",
       "      <td>2022</td>\n",
       "      <td>43365</td>\n",
       "      <td>1903.0</td>\n",
       "      <td>0.043883</td>\n",
       "      <td>4388.331604</td>\n",
       "    </tr>\n",
       "    <tr>\n",
       "      <th>1483</th>\n",
       "      <td>Vesthimmerlands</td>\n",
       "      <td>2022</td>\n",
       "      <td>36423</td>\n",
       "      <td>1590.0</td>\n",
       "      <td>0.043654</td>\n",
       "      <td>4365.373528</td>\n",
       "    </tr>\n",
       "    <tr>\n",
       "      <th>1484</th>\n",
       "      <td>Aalborg</td>\n",
       "      <td>2022</td>\n",
       "      <td>222607</td>\n",
       "      <td>14093.0</td>\n",
       "      <td>0.063309</td>\n",
       "      <td>6330.888067</td>\n",
       "    </tr>\n",
       "  </tbody>\n",
       "</table>\n",
       "<p>1485 rows × 6 columns</p>\n",
       "</div>"
      ],
      "text/plain": [
       "       municipalities  year    pop_    crim_  crime_rate_per_cap  \\\n",
       "0          Copenhagen  2008  516962  95101.0            0.183961   \n",
       "1       Frederiksberg  2008   95005   7971.0            0.083901   \n",
       "2              Dragør  2008   13452    688.0            0.051145   \n",
       "3              Tårnby  2008   40234   5947.0            0.147810   \n",
       "4         Albertslund  2008   27817   3339.0            0.120035   \n",
       "...               ...   ...     ...      ...                 ...   \n",
       "1480            Morsø  2022   20022    825.0            0.041205   \n",
       "1481           Rebild  2022   30908   1002.0            0.032419   \n",
       "1482          Thisted  2022   43365   1903.0            0.043883   \n",
       "1483  Vesthimmerlands  2022   36423   1590.0            0.043654   \n",
       "1484          Aalborg  2022  222607  14093.0            0.063309   \n",
       "\n",
       "      crime_rate_per_100K  \n",
       "0            18396.129696  \n",
       "1             8390.084732  \n",
       "2             5114.481118  \n",
       "3            14781.030969  \n",
       "4            12003.451127  \n",
       "...                   ...  \n",
       "1480          4120.467486  \n",
       "1481          3241.879125  \n",
       "1482          4388.331604  \n",
       "1483          4365.373528  \n",
       "1484          6330.888067  \n",
       "\n",
       "[1485 rows x 6 columns]"
      ]
     },
     "execution_count": 402,
     "metadata": {},
     "output_type": "execute_result"
    }
   ],
   "source": [
    "#creating a variable of criminality index\n",
    "total['crime_rate_per_cap'] = total['crim_'] / total['pop_']\n",
    "total['crime_rate_per_100K'] = total['crime_rate_per_cap'] * 100000 \n",
    "### Last one might be redundant, as it describes the same thing as the above - just scaled (see 'total'). Best regards Philip\n",
    "\n",
    "\n",
    "total.iloc[:,1:].mean()\n",
    "\n",
    "total # overview of crime; including crime rate per capita and crime rate per 100K\n"
   ]
  },
  {
   "attachments": {},
   "cell_type": "markdown",
   "metadata": {},
   "source": [
    "**Interpretation**\n"
   ]
  },
  {
   "cell_type": "code",
   "execution_count": 403,
   "metadata": {},
   "outputs": [
    {
     "name": "stderr",
     "output_type": "stream",
     "text": [
      "C:\\Users\\Phili\\AppData\\Local\\Temp\\ipykernel_8788\\3977041823.py:9: FutureWarning: The behavior of `series[i:j]` with an integer-dtype index is deprecated. In a future version, this will be treated as *label-based* indexing, consistent with e.g. `series[i]` lookups. To retain the old behavior, use `series.iloc[i:j]`. To get the future behavior, use `series.loc[i:j]`.\n",
      "  log_diff_crpc_aalborg.index= aalborg[\"year\"][1:]\n",
      "C:\\Users\\Phili\\AppData\\Local\\Temp\\ipykernel_8788\\3977041823.py:14: FutureWarning: The behavior of `series[i:j]` with an integer-dtype index is deprecated. In a future version, this will be treated as *label-based* indexing, consistent with e.g. `series[i]` lookups. To retain the old behavior, use `series.iloc[i:j]`. To get the future behavior, use `series.loc[i:j]`.\n",
      "  log_diff_pop_aalborg.index= aalborg[\"year\"][1:]\n"
     ]
    },
    {
     "data": {
      "text/plain": [
       "Text(0, 0.5, 'Logs difference of crime rate per capita in Aalborg')"
      ]
     },
     "execution_count": 403,
     "metadata": {},
     "output_type": "execute_result"
    },
    {
     "data": {
      "image/png": "[encoded data removed]",
      "text/plain": [
       "<Figure size 640x480 with 1 Axes>"
      ]
     },
     "metadata": {},
     "output_type": "display_data"
    }
   ],
   "source": [
    "# Taking log of crime rate per capita and population for Aalborg\n",
    "aalborg=total.loc[total[\"municipalities\"] == \"Aalborg\"] # Assign all rows that contains Aalborg from our merged data \"total\".\n",
    "\n",
    "# Taking logs of crime rate per capita in Aalborg\n",
    "log_crpc_aalborg = np.log(aalborg.crime_rate_per_cap)\n",
    "# Taking logs difference\n",
    "log_diff_crpc_aalborg = log_crpc_aalborg.diff().dropna()\n",
    "# Including years in logs difference to compute plot. Note: excludes first row.\n",
    "log_diff_crpc_aalborg.index= aalborg[\"year\"][1:]\n",
    "\n",
    "## Doing the same for population in Aalborg\n",
    "log_pop_aalborg = np.log(aalborg.pop_)\n",
    "log_diff_pop_aalborg = log_pop_aalborg.diff().dropna()\n",
    "log_diff_pop_aalborg.index= aalborg[\"year\"][1:]\n",
    "\n",
    "\n",
    "\n",
    "plt.plot(log_diff_crpc_aalborg)\n",
    "plt.xlabel(\"Years\")\n",
    "plt.ylabel(\"Logs difference of crime rate per capita in Aalborg\")"
   ]
  },
  {
   "cell_type": "code",
   "execution_count": 404,
   "metadata": {},
   "outputs": [
    {
     "data": {
      "text/plain": [
       "Text(0, 0.5, 'Logs difference of population in Aalborg')"
      ]
     },
     "execution_count": 404,
     "metadata": {},
     "output_type": "execute_result"
    },
    {
     "data": {
      "image/png": "[encoded data removed]",
      "text/plain": [
       "<Figure size 640x480 with 1 Axes>"
      ]
     },
     "metadata": {},
     "output_type": "display_data"
    }
   ],
   "source": [
    "# Plotting for logs difference of populaton in Aalborg\n",
    "plt.plot(log_diff_pop_aalborg)\n",
    "plt.xlabel(\"Years\")\n",
    "plt.ylabel(\"Logs difference of population in Aalborg\")"
   ]
  },
  {
   "cell_type": "markdown",
   "metadata": {},
   "source": [
    "# Conclusion"
   ]
  },
  {
   "cell_type": "markdown",
   "metadata": {},
   "source": [
    "ADD CONCISE CONLUSION."
   ]
  }
 ],
 "metadata": {
  "kernelspec": {
   "display_name": "base",
   "language": "python",
   "name": "python3"
  },
  "language_info": {
   "codemirror_mode": {
    "name": "ipython",
    "version": 3
   },
   "file_extension": ".py",
   "mimetype": "text/x-python",
   "name": "python",
   "nbconvert_exporter": "python",
   "pygments_lexer": "ipython3",
   "version": "3.9.16"
  },
  "toc-autonumbering": true,
  "vscode": {
   "interpreter": {
    "hash": "47ef90cdf3004d3f859f1fb202523c65c07ba7c22eefd261b181f4744e2d0403"
   }
  }
 },
 "nbformat": 4,
 "nbformat_minor": 4
}
