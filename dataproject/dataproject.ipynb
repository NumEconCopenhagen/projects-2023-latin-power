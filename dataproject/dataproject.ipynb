{
 "cells": [
  {
   "attachments": {},
   "cell_type": "markdown",
   "metadata": {},
   "source": [
    "# Crime rate in Denmark"
   ]
  },
  {
   "attachments": {},
   "cell_type": "markdown",
   "metadata": {},
   "source": [
    "> **Note the following:** \n",
    "> 1. This is *not* meant to be an example of an actual **data analysis project**, just an example of how to structure such a project.\n",
    "> 1. Remember the general advice on structuring and commenting your code\n",
    "> 1. The `dataproject.py` file includes a function which can be used multiple times in this notebook."
   ]
  },
  {
   "cell_type": "markdown",
   "metadata": {},
   "source": [
    "Imports and set magics:"
   ]
  },
  {
   "cell_type": "code",
   "execution_count": 177,
   "metadata": {},
   "outputs": [
    {
     "name": "stdout",
     "output_type": "stream",
     "text": [
      "The autoreload extension is already loaded. To reload it, use:\n",
      "  %reload_ext autoreload\n"
     ]
    }
   ],
   "source": [
    "import pandas as pd\n",
    "import numpy as np\n",
    "import matplotlib.pyplot as plt\n",
    "import ipywidgets as widgets\n",
    "import requests\n",
    "from bs4 import BeautifulSoup\n",
    "import os\n",
    "import plotly.graph_objs as go\n",
    "import plotly.express as px\n",
    "import seaborn as sns\n",
    "import geopandas as gpd\n",
    "import folium\n",
    "import matplotlib.ticker as ticker\n",
    "#from matplotlib.venn import venn2\n",
    "\n",
    "# autoreload modules when code is run\n",
    "%load_ext autoreload\n",
    "%autoreload 2\n",
    "\n",
    "# user written modules\n",
    "import dataproject\n"
   ]
  },
  {
   "attachments": {},
   "cell_type": "markdown",
   "metadata": {},
   "source": [
    "# Introduction\n",
    "\n",
    "The aim of this project is to visualise crime rates in Danish municipalities for the period 2008 to 2022. The data were obtained from Danmarks Statistik and used the series total population and total number of crime by municipality (criminality) which includes all offences under the Danish criminal code but not those under the Danish traffic law. \n",
    "\n",
    "In summary, for this project, both databases were loaded and cleaned, which consisted of removing those columns or rows that did not contain information. Given that both were quarterly series, they were annualised. In the case of total population, it was decided to use the information contained in the fourth quarter of each year, as it was a stock. For crime, the sum of the four quarters was added up, as the information reported was a flow. \n",
    "\n",
    "Subsequently, both databases were merged and the crime indicator per 100,000 inhabitants was estimated, which is defined as follows:\n",
    "\n",
    "\n",
    "$$\n",
    "index =  \\frac{crim * 100.000}{pop}\n",
    "$$\n",
    "\n",
    "To facilitate the analysis, two graphs were constructed, the first is an interactive graph where the user can observe the evolution of criminality for each municipality, the second is a scatter graph that shows whether there is a correlation between population and criminality. "
   ]
  },
  {
   "cell_type": "markdown",
   "metadata": {},
   "source": [
    "# Read and clean data"
   ]
  },
  {
   "attachments": {},
   "cell_type": "markdown",
   "metadata": {},
   "source": [
    "The data is imported from an excel database"
   ]
  },
  {
   "cell_type": "code",
   "execution_count": 147,
   "metadata": {},
   "outputs": [],
   "source": [
    "# Uploading our excel datasets (criminalitydata and population) and visualizing the first 5 rows\n",
    "criminality = 'data/criminalitydata.xlsx'\n",
    "criminality = pd.read_excel(criminality, skiprows=2)\n",
    "\n",
    "pop = 'data/population.xlsx'\n",
    "pop = pd.read_excel(pop, skiprows=2)"
   ]
  },
  {
   "cell_type": "code",
   "execution_count": 148,
   "metadata": {},
   "outputs": [],
   "source": [
    "# Cleaning the data\n",
    "# Deleting the column that has no information\n",
    "data = [criminality, pop]\n",
    "for i in data:\n",
    "    i.drop(\"Unnamed: 0\", axis = 1, inplace = True)\n",
    "\n",
    "# Deleting the rows that has no informtion in the criminality dataset\n",
    "criminality.drop(index = 101, inplace=True)\n",
    "criminality.drop(index = 100, inplace=True)"
   ]
  },
  {
   "cell_type": "code",
   "execution_count": 149,
   "metadata": {},
   "outputs": [],
   "source": [
    "# Renaming the \"Unnamed: 1\" to municipalities\n",
    "for i in data:\n",
    "    i.rename(columns = {\"Unnamed: 1\" : \"municipalities\"}, inplace=True)\n",
    "\n",
    "\n",
    "# Renaming the rest of the columns in both databases so that they don't start with a number\n",
    "for n,i in enumerate(data):\n",
    "    for h in range(2007, 2022+1):\n",
    "        for j in range(1, 4+1):\n",
    "            if n == 0:  # This is the first dataset, i.e criminality data\n",
    "                i.rename(columns={ str(str(h)+\"Q\"+str(j)):f'crim_{h}Q{j}'}, inplace = True)\n",
    "            else:\n",
    "                i.rename(columns={ str(str(h)+\"Q\"+str(j)):f'pop_{h}Q{j}'}, inplace = True)\n",
    "\n",
    "\n",
    "# Creating the total per year\n",
    "for h in range(2007, 2022+1):\n",
    "    criminality[f'crim_{h}'] = criminality[f'crim_{h}Q1'] + criminality[f\"crim_{h}Q2\"] + criminality[f\"crim_{h}Q3\"] + criminality[f\"crim_{h}Q4\"]\n",
    "    \n",
    "for h in range(2008, 2022+1):\n",
    "    pop[f'pop_{h}'] = pop[f\"pop_{h}Q4\"] # taking the last quarter of population per year as we want yearly data.\n",
    "    \n",
    "\n",
    "\n",
    "#extract only the variables which have the years values\n",
    "criminality_year = criminality[['municipalities', 'crim_2007', 'crim_2008', \n",
    "                                'crim_2009', 'crim_2010', 'crim_2011', 'crim_2012', \n",
    "                                'crim_2013', 'crim_2014', 'crim_2015', 'crim_2016', 'crim_2017', \n",
    "                                'crim_2018', 'crim_2019', 'crim_2020', 'crim_2021', 'crim_2022']]\n",
    "\n",
    "#extract only the value of the years\n",
    "pop_year = pop[['municipalities', 'pop_2008', 'pop_2009', 'pop_2010', 'pop_2011', \n",
    "                'pop_2012', 'pop_2013', 'pop_2014', 'pop_2015', 'pop_2016', \n",
    "                'pop_2017', 'pop_2018', 'pop_2019', 'pop_2020', 'pop_2021', 'pop_2022']]\n",
    "\n"
   ]
  },
  {
   "cell_type": "markdown",
   "metadata": {},
   "source": [
    "## Explore each data set"
   ]
  },
  {
   "cell_type": "markdown",
   "metadata": {},
   "source": [
    "In order to be able to **explore the raw data**, you may provide **static** and **interactive plots** to show important developments "
   ]
  },
  {
   "cell_type": "code",
   "execution_count": 179,
   "metadata": {},
   "outputs": [
    {
     "data": {
      "image/png": "[encoded data removed]",
      "text/plain": [
       "<Figure size 640x480 with 1 Axes>"
      ]
     },
     "metadata": {},
     "output_type": "display_data"
    }
   ],
   "source": [
    "# Define the years and the corresponding columns in the dataframe\n",
    "years = range(2007, 2023)\n",
    "cols = [f'crim_{year}' for year in years]\n",
    "\n",
    "# Calculate the total number of crimes per year\n",
    "crime_totals = criminality_year[cols].sum()\n",
    "\n",
    "# Create the line graph with red points\n",
    "fig, ax = plt.subplots()\n",
    "ax.plot(years, crime_totals, '-o', color='black', markersize=4, markerfacecolor='red')\n",
    "\n",
    "# Format the x-axis tick labels as integers\n",
    "ax.xaxis.set_major_formatter(ticker.FormatStrFormatter('%d'))\n",
    "\n",
    "# Add a title and axis labels\n",
    "ax.set_title('Total Number of Crimes per Year')\n",
    "ax.set_xlabel('Year')\n",
    "ax.set_ylabel('Number of Crimes')\n",
    "\n",
    "# Add a note about criminality\n",
    "fig.text(0.5, -0.1, 'Criminality includes all offences under the Danish criminal code but not those under the Danish traffic law.', ha='center')\n",
    "\n",
    "plt.show()"
   ]
  },
  {
   "attachments": {},
   "cell_type": "markdown",
   "metadata": {},
   "source": [
    "**INTERPRETATION**\n",
    "\n",
    "**The graph above shows the total number of crimes in Denmark in each year from 2007 to 2022. As we can see, there is a clear downward trend in crime rates. While there was a spike in 2022, this figure does not exceed pre-pandemic levels.**"
   ]
  },
  {
   "cell_type": "code",
   "execution_count": 180,
   "metadata": {},
   "outputs": [
    {
     "data": {
      "application/vnd.jupyter.widget-view+json": {
       "model_id": "aac16ee3670941729c52810201a429f6",
       "version_major": 2,
       "version_minor": 0
      },
      "text/plain": [
       "interactive(children=(IntSlider(value=2007, description='Year:', max=2022, min=2007), Output()), _dom_classes=…"
      ]
     },
     "metadata": {},
     "output_type": "display_data"
    },
    {
     "data": {
      "application/vnd.plotly.v1+json": {
       "config": {
        "plotlyServerURL": "https://plot.ly"
       },
       "data": [
        {
         "branchvalues": "total",
         "customdata": [
          [
           "Greve: 0.79%",
           "Greve"
          ],
          [
           "Ballerup: 0.92%",
           "Ballerup"
          ],
          [
           "Aalborg: 3.59%",
           "Aalborg"
          ],
          [
           "Norddjurs: 0.67%",
           "Norddjurs"
          ],
          [
           "Vejen: 0.67%",
           "Vejen"
          ],
          [
           "Aabenraa: 1.30%",
           "Aabenraa"
          ],
          [
           "Brøndby: 0.66%",
           "Brøndby"
          ],
          [
           "Horsens: 1.43%",
           "Horsens"
          ],
          [
           "Frederiksberg: 1.63%",
           "Frederiksberg"
          ],
          [
           "Lolland: 0.84%",
           "Lolland"
          ],
          [
           "Sønderborg: 1.09%",
           "Sønderborg"
          ],
          [
           "Herning: 1.10%",
           "Herning"
          ],
          [
           "Næstved: 1.16%",
           "Næstved"
          ],
          [
           "Rudersdal: 0.64%",
           "Rudersdal"
          ],
          [
           "Holstebro: 0.85%",
           "Holstebro"
          ],
          [
           "Køge: 0.94%",
           "Køge"
          ],
          [
           "Gladsaxe: 0.88%",
           "Gladsaxe"
          ],
          [
           "Hillerød: 0.69%",
           "Hillerød"
          ],
          [
           "Slagelse: 1.39%",
           "Slagelse"
          ],
          [
           "Kalundborg: 0.76%",
           "Kalundborg"
          ],
          [
           "Kolding: 1.83%",
           "Kolding"
          ],
          [
           "Odense: 4.57%",
           "Odense"
          ],
          [
           "Frederikssund: 0.67%",
           "Frederikssund"
          ],
          [
           "Hvidovre: 1.08%",
           "Hvidovre"
          ],
          [
           "Ringkøbing-Skjern: 0.68%",
           "Ringkøbing-Skjern"
          ],
          [
           "Rødovre: 0.84%",
           "Rødovre"
          ],
          [
           "Copenhagen: 18.59%",
           "Copenhagen"
          ],
          [
           "Lyngby-Taarbæk: 1.05%",
           "Lyngby-Taarbæk"
          ],
          [
           "Randers: 1.66%",
           "Randers"
          ],
          [
           "Høje-Taastrup: 0.84%",
           "Høje-Taastrup"
          ],
          [
           "Varde: 0.66%",
           "Varde"
          ],
          [
           "Helsingør: 1.33%",
           "Helsingør"
          ],
          [
           "Aarhus: 7.31%",
           "Aarhus"
          ],
          [
           "Fredericia: 1.08%",
           "Fredericia"
          ],
          [
           "Svendborg: 0.76%",
           "Svendborg"
          ],
          [
           "Frederikshavn: 0.97%",
           "Frederikshavn"
          ],
          [
           "Vordingborg: 0.70%",
           "Vordingborg"
          ],
          [
           "Roskilde: 1.51%",
           "Roskilde"
          ],
          [
           "Haderslev: 1.01%",
           "Haderslev"
          ],
          [
           "Skanderborg: 0.71%",
           "Skanderborg"
          ],
          [
           "Viborg: 1.22%",
           "Viborg"
          ],
          [
           "Gentofte: 1.12%",
           "Gentofte"
          ],
          [
           "Silkeborg: 1.21%",
           "Silkeborg"
          ],
          [
           "Hjørring: 1.02%",
           "Hjørring"
          ],
          [
           "Holbæk: 1.01%",
           "Holbæk"
          ],
          [
           "Vejle: 1.69%",
           "Vejle"
          ],
          [
           "Tårnby: 1.09%",
           "Tårnby"
          ],
          [
           "Esbjerg: 2.10%",
           "Esbjerg"
          ],
          [
           "Guldborgsund: 1.09%",
           "Guldborgsund"
          ],
          [
           "Skive: 0.64%",
           "Skive"
          ],
          [
           "rest of municipalities: 17.96%",
           "rest of municipalities"
          ]
         ],
         "domain": {
          "x": [
           0,
           1
          ],
          "y": [
           0,
           1
          ]
         },
         "hovertemplate": "labels=%{label}<br>area=%{value}<br>parent=%{parent}<br>id=%{id}<br>label=%{customdata[0]}<br>municipalities=%{customdata[1]}<extra></extra>",
         "ids": [
          "Greve",
          "Ballerup",
          "Aalborg",
          "Norddjurs",
          "Vejen",
          "Aabenraa",
          "Brøndby",
          "Horsens",
          "Frederiksberg",
          "Lolland",
          "Sønderborg",
          "Herning",
          "Næstved",
          "Rudersdal",
          "Holstebro",
          "Køge",
          "Gladsaxe",
          "Hillerød",
          "Slagelse",
          "Kalundborg",
          "Kolding",
          "Odense",
          "Frederikssund",
          "Hvidovre",
          "Ringkøbing-Skjern",
          "Rødovre",
          "Copenhagen",
          "Lyngby-Taarbæk",
          "Randers",
          "Høje-Taastrup",
          "Varde",
          "Helsingør",
          "Aarhus",
          "Fredericia",
          "Svendborg",
          "Frederikshavn",
          "Vordingborg",
          "Roskilde",
          "Haderslev",
          "Skanderborg",
          "Viborg",
          "Gentofte",
          "Silkeborg",
          "Hjørring",
          "Holbæk",
          "Vejle",
          "Tårnby",
          "Esbjerg",
          "Guldborgsund",
          "Skive",
          "rest of municipalities"
         ],
         "labels": [
          "Greve",
          "Ballerup",
          "Aalborg",
          "Norddjurs",
          "Vejen",
          "Aabenraa",
          "Brøndby",
          "Horsens",
          "Frederiksberg",
          "Lolland",
          "Sønderborg",
          "Herning",
          "Næstved",
          "Rudersdal",
          "Holstebro",
          "Køge",
          "Gladsaxe",
          "Hillerød",
          "Slagelse",
          "Kalundborg",
          "Kolding",
          "Odense",
          "Frederikssund",
          "Hvidovre",
          "Ringkøbing-Skjern",
          "Rødovre",
          "Copenhagen",
          "Lyngby-Taarbæk",
          "Randers",
          "Høje-Taastrup",
          "Varde",
          "Helsingør",
          "Aarhus",
          "Fredericia",
          "Svendborg",
          "Frederikshavn",
          "Vordingborg",
          "Roskilde",
          "Haderslev",
          "Skanderborg",
          "Viborg",
          "Gentofte",
          "Silkeborg",
          "Hjørring",
          "Holbæk",
          "Vejle",
          "Tårnby",
          "Esbjerg",
          "Guldborgsund",
          "Skive",
          "rest of municipalities"
         ],
         "marker": {
          "colors": [
           "#636efa",
           "#EF553B",
           "#00cc96",
           "#ab63fa",
           "#FFA15A",
           "#19d3f3",
           "#FF6692",
           "#B6E880",
           "#FF97FF",
           "#FECB52",
           "#636efa",
           "#EF553B",
           "#00cc96",
           "#ab63fa",
           "#FFA15A",
           "#19d3f3",
           "#FF6692",
           "#B6E880",
           "#FF97FF",
           "#FECB52",
           "#636efa",
           "#EF553B",
           "#00cc96",
           "#ab63fa",
           "#FFA15A",
           "#19d3f3",
           "#FF6692",
           "#B6E880",
           "#FF97FF",
           "#FECB52",
           "#636efa",
           "#EF553B",
           "#00cc96",
           "#ab63fa",
           "#FFA15A",
           "#19d3f3",
           "#FF6692",
           "#B6E880",
           "#FF97FF",
           "#FECB52",
           "#636efa",
           "#EF553B",
           "#00cc96",
           "#ab63fa",
           "#FFA15A",
           "#19d3f3",
           "#FF6692",
           "#B6E880",
           "#FF97FF",
           "#FECB52",
           "#636efa"
          ]
         },
         "name": "",
         "parents": [
          "",
          "",
          "",
          "",
          "",
          "",
          "",
          "",
          "",
          "",
          "",
          "",
          "",
          "",
          "",
          "",
          "",
          "",
          "",
          "",
          "",
          "",
          "",
          "",
          "",
          "",
          "",
          "",
          "",
          "",
          "",
          "",
          "",
          "",
          "",
          "",
          "",
          "",
          "",
          "",
          "",
          "",
          "",
          "",
          "",
          "",
          "",
          "",
          "",
          "",
          ""
         ],
         "type": "treemap",
         "values": [
          0.007897748722158638,
          0.009190071287468866,
          0.03586944146497846,
          0.006693312080918968,
          0.006697306895649447,
          0.01301310898453807,
          0.006603428749483171,
          0.014279465254100178,
          0.016276872619340098,
          0.008429059081312456,
          0.010897854584748996,
          0.010965766435167152,
          0.011568983459469608,
          0.006411677642420139,
          0.008476996858078215,
          0.009363845728244738,
          0.008824545739629961,
          0.006927008742652038,
          0.013899957854704593,
          0.007626101320486009,
          0.018328209983441493,
          0.04572065459034173,
          0.006711288747206126,
          0.010784002364930321,
          0.006811159115468123,
          0.008365142045624779,
          0.1859126853344359,
          0.010512354963257692,
          0.01664040075981376,
          0.008369136860355259,
          0.0065614831948131325,
          0.013334691570341697,
          0.07313307327089438,
          0.01078599977229556,
          0.00760812465419885,
          0.009711394609796484,
          0.007046853184566433,
          0.015148337457979543,
          0.01005494867661775,
          0.007072819480314551,
          0.012178192705867784,
          0.011227426800013582,
          0.012052356041857669,
          0.010188774970088825,
          0.010144832008053547,
          0.01693801445723451,
          0.010877880511096597,
          0.020974774742384385,
          0.010857906437444198,
          0.006445633567629217,
          0.17958889361608643
         ]
        }
       ],
       "layout": {
        "legend": {
         "tracegroupgap": 0
        },
        "margin": {
         "t": 60
        },
        "template": {
         "data": {
          "bar": [
           {
            "error_x": {
             "color": "#2a3f5f"
            },
            "error_y": {
             "color": "#2a3f5f"
            },
            "marker": {
             "line": {
              "color": "#E5ECF6",
              "width": 0.5
             },
             "pattern": {
              "fillmode": "overlay",
              "size": 10,
              "solidity": 0.2
             }
            },
            "type": "bar"
           }
          ],
          "barpolar": [
           {
            "marker": {
             "line": {
              "color": "#E5ECF6",
              "width": 0.5
             },
             "pattern": {
              "fillmode": "overlay",
              "size": 10,
              "solidity": 0.2
             }
            },
            "type": "barpolar"
           }
          ],
          "carpet": [
           {
            "aaxis": {
             "endlinecolor": "#2a3f5f",
             "gridcolor": "white",
             "linecolor": "white",
             "minorgridcolor": "white",
             "startlinecolor": "#2a3f5f"
            },
            "baxis": {
             "endlinecolor": "#2a3f5f",
             "gridcolor": "white",
             "linecolor": "white",
             "minorgridcolor": "white",
             "startlinecolor": "#2a3f5f"
            },
            "type": "carpet"
           }
          ],
          "choropleth": [
           {
            "colorbar": {
             "outlinewidth": 0,
             "ticks": ""
            },
            "type": "choropleth"
           }
          ],
          "contour": [
           {
            "colorbar": {
             "outlinewidth": 0,
             "ticks": ""
            },
            "colorscale": [
             [
              0,
              "#0d0887"
             ],
             [
              0.1111111111111111,
              "#46039f"
             ],
             [
              0.2222222222222222,
              "#7201a8"
             ],
             [
              0.3333333333333333,
              "#9c179e"
             ],
             [
              0.4444444444444444,
              "#bd3786"
             ],
             [
              0.5555555555555556,
              "#d8576b"
             ],
             [
              0.6666666666666666,
              "#ed7953"
             ],
             [
              0.7777777777777778,
              "#fb9f3a"
             ],
             [
              0.8888888888888888,
              "#fdca26"
             ],
             [
              1,
              "#f0f921"
             ]
            ],
            "type": "contour"
           }
          ],
          "contourcarpet": [
           {
            "colorbar": {
             "outlinewidth": 0,
             "ticks": ""
            },
            "type": "contourcarpet"
           }
          ],
          "heatmap": [
           {
            "colorbar": {
             "outlinewidth": 0,
             "ticks": ""
            },
            "colorscale": [
             [
              0,
              "#0d0887"
             ],
             [
              0.1111111111111111,
              "#46039f"
             ],
             [
              0.2222222222222222,
              "#7201a8"
             ],
             [
              0.3333333333333333,
              "#9c179e"
             ],
             [
              0.4444444444444444,
              "#bd3786"
             ],
             [
              0.5555555555555556,
              "#d8576b"
             ],
             [
              0.6666666666666666,
              "#ed7953"
             ],
             [
              0.7777777777777778,
              "#fb9f3a"
             ],
             [
              0.8888888888888888,
              "#fdca26"
             ],
             [
              1,
              "#f0f921"
             ]
            ],
            "type": "heatmap"
           }
          ],
          "heatmapgl": [
           {
            "colorbar": {
             "outlinewidth": 0,
             "ticks": ""
            },
            "colorscale": [
             [
              0,
              "#0d0887"
             ],
             [
              0.1111111111111111,
              "#46039f"
             ],
             [
              0.2222222222222222,
              "#7201a8"
             ],
             [
              0.3333333333333333,
              "#9c179e"
             ],
             [
              0.4444444444444444,
              "#bd3786"
             ],
             [
              0.5555555555555556,
              "#d8576b"
             ],
             [
              0.6666666666666666,
              "#ed7953"
             ],
             [
              0.7777777777777778,
              "#fb9f3a"
             ],
             [
              0.8888888888888888,
              "#fdca26"
             ],
             [
              1,
              "#f0f921"
             ]
            ],
            "type": "heatmapgl"
           }
          ],
          "histogram": [
           {
            "marker": {
             "pattern": {
              "fillmode": "overlay",
              "size": 10,
              "solidity": 0.2
             }
            },
            "type": "histogram"
           }
          ],
          "histogram2d": [
           {
            "colorbar": {
             "outlinewidth": 0,
             "ticks": ""
            },
            "colorscale": [
             [
              0,
              "#0d0887"
             ],
             [
              0.1111111111111111,
              "#46039f"
             ],
             [
              0.2222222222222222,
              "#7201a8"
             ],
             [
              0.3333333333333333,
              "#9c179e"
             ],
             [
              0.4444444444444444,
              "#bd3786"
             ],
             [
              0.5555555555555556,
              "#d8576b"
             ],
             [
              0.6666666666666666,
              "#ed7953"
             ],
             [
              0.7777777777777778,
              "#fb9f3a"
             ],
             [
              0.8888888888888888,
              "#fdca26"
             ],
             [
              1,
              "#f0f921"
             ]
            ],
            "type": "histogram2d"
           }
          ],
          "histogram2dcontour": [
           {
            "colorbar": {
             "outlinewidth": 0,
             "ticks": ""
            },
            "colorscale": [
             [
              0,
              "#0d0887"
             ],
             [
              0.1111111111111111,
              "#46039f"
             ],
             [
              0.2222222222222222,
              "#7201a8"
             ],
             [
              0.3333333333333333,
              "#9c179e"
             ],
             [
              0.4444444444444444,
              "#bd3786"
             ],
             [
              0.5555555555555556,
              "#d8576b"
             ],
             [
              0.6666666666666666,
              "#ed7953"
             ],
             [
              0.7777777777777778,
              "#fb9f3a"
             ],
             [
              0.8888888888888888,
              "#fdca26"
             ],
             [
              1,
              "#f0f921"
             ]
            ],
            "type": "histogram2dcontour"
           }
          ],
          "mesh3d": [
           {
            "colorbar": {
             "outlinewidth": 0,
             "ticks": ""
            },
            "type": "mesh3d"
           }
          ],
          "parcoords": [
           {
            "line": {
             "colorbar": {
              "outlinewidth": 0,
              "ticks": ""
             }
            },
            "type": "parcoords"
           }
          ],
          "pie": [
           {
            "automargin": true,
            "type": "pie"
           }
          ],
          "scatter": [
           {
            "fillpattern": {
             "fillmode": "overlay",
             "size": 10,
             "solidity": 0.2
            },
            "type": "scatter"
           }
          ],
          "scatter3d": [
           {
            "line": {
             "colorbar": {
              "outlinewidth": 0,
              "ticks": ""
             }
            },
            "marker": {
             "colorbar": {
              "outlinewidth": 0,
              "ticks": ""
             }
            },
            "type": "scatter3d"
           }
          ],
          "scattercarpet": [
           {
            "marker": {
             "colorbar": {
              "outlinewidth": 0,
              "ticks": ""
             }
            },
            "type": "scattercarpet"
           }
          ],
          "scattergeo": [
           {
            "marker": {
             "colorbar": {
              "outlinewidth": 0,
              "ticks": ""
             }
            },
            "type": "scattergeo"
           }
          ],
          "scattergl": [
           {
            "marker": {
             "colorbar": {
              "outlinewidth": 0,
              "ticks": ""
             }
            },
            "type": "scattergl"
           }
          ],
          "scattermapbox": [
           {
            "marker": {
             "colorbar": {
              "outlinewidth": 0,
              "ticks": ""
             }
            },
            "type": "scattermapbox"
           }
          ],
          "scatterpolar": [
           {
            "marker": {
             "colorbar": {
              "outlinewidth": 0,
              "ticks": ""
             }
            },
            "type": "scatterpolar"
           }
          ],
          "scatterpolargl": [
           {
            "marker": {
             "colorbar": {
              "outlinewidth": 0,
              "ticks": ""
             }
            },
            "type": "scatterpolargl"
           }
          ],
          "scatterternary": [
           {
            "marker": {
             "colorbar": {
              "outlinewidth": 0,
              "ticks": ""
             }
            },
            "type": "scatterternary"
           }
          ],
          "surface": [
           {
            "colorbar": {
             "outlinewidth": 0,
             "ticks": ""
            },
            "colorscale": [
             [
              0,
              "#0d0887"
             ],
             [
              0.1111111111111111,
              "#46039f"
             ],
             [
              0.2222222222222222,
              "#7201a8"
             ],
             [
              0.3333333333333333,
              "#9c179e"
             ],
             [
              0.4444444444444444,
              "#bd3786"
             ],
             [
              0.5555555555555556,
              "#d8576b"
             ],
             [
              0.6666666666666666,
              "#ed7953"
             ],
             [
              0.7777777777777778,
              "#fb9f3a"
             ],
             [
              0.8888888888888888,
              "#fdca26"
             ],
             [
              1,
              "#f0f921"
             ]
            ],
            "type": "surface"
           }
          ],
          "table": [
           {
            "cells": {
             "fill": {
              "color": "#EBF0F8"
             },
             "line": {
              "color": "white"
             }
            },
            "header": {
             "fill": {
              "color": "#C8D4E3"
             },
             "line": {
              "color": "white"
             }
            },
            "type": "table"
           }
          ]
         },
         "layout": {
          "annotationdefaults": {
           "arrowcolor": "#2a3f5f",
           "arrowhead": 0,
           "arrowwidth": 1
          },
          "autotypenumbers": "strict",
          "coloraxis": {
           "colorbar": {
            "outlinewidth": 0,
            "ticks": ""
           }
          },
          "colorscale": {
           "diverging": [
            [
             0,
             "#8e0152"
            ],
            [
             0.1,
             "#c51b7d"
            ],
            [
             0.2,
             "#de77ae"
            ],
            [
             0.3,
             "#f1b6da"
            ],
            [
             0.4,
             "#fde0ef"
            ],
            [
             0.5,
             "#f7f7f7"
            ],
            [
             0.6,
             "#e6f5d0"
            ],
            [
             0.7,
             "#b8e186"
            ],
            [
             0.8,
             "#7fbc41"
            ],
            [
             0.9,
             "#4d9221"
            ],
            [
             1,
             "#276419"
            ]
           ],
           "sequential": [
            [
             0,
             "#0d0887"
            ],
            [
             0.1111111111111111,
             "#46039f"
            ],
            [
             0.2222222222222222,
             "#7201a8"
            ],
            [
             0.3333333333333333,
             "#9c179e"
            ],
            [
             0.4444444444444444,
             "#bd3786"
            ],
            [
             0.5555555555555556,
             "#d8576b"
            ],
            [
             0.6666666666666666,
             "#ed7953"
            ],
            [
             0.7777777777777778,
             "#fb9f3a"
            ],
            [
             0.8888888888888888,
             "#fdca26"
            ],
            [
             1,
             "#f0f921"
            ]
           ],
           "sequentialminus": [
            [
             0,
             "#0d0887"
            ],
            [
             0.1111111111111111,
             "#46039f"
            ],
            [
             0.2222222222222222,
             "#7201a8"
            ],
            [
             0.3333333333333333,
             "#9c179e"
            ],
            [
             0.4444444444444444,
             "#bd3786"
            ],
            [
             0.5555555555555556,
             "#d8576b"
            ],
            [
             0.6666666666666666,
             "#ed7953"
            ],
            [
             0.7777777777777778,
             "#fb9f3a"
            ],
            [
             0.8888888888888888,
             "#fdca26"
            ],
            [
             1,
             "#f0f921"
            ]
           ]
          },
          "colorway": [
           "#636efa",
           "#EF553B",
           "#00cc96",
           "#ab63fa",
           "#FFA15A",
           "#19d3f3",
           "#FF6692",
           "#B6E880",
           "#FF97FF",
           "#FECB52"
          ],
          "font": {
           "color": "#2a3f5f"
          },
          "geo": {
           "bgcolor": "white",
           "lakecolor": "white",
           "landcolor": "#E5ECF6",
           "showlakes": true,
           "showland": true,
           "subunitcolor": "white"
          },
          "hoverlabel": {
           "align": "left"
          },
          "hovermode": "closest",
          "mapbox": {
           "style": "light"
          },
          "paper_bgcolor": "white",
          "plot_bgcolor": "#E5ECF6",
          "polar": {
           "angularaxis": {
            "gridcolor": "white",
            "linecolor": "white",
            "ticks": ""
           },
           "bgcolor": "#E5ECF6",
           "radialaxis": {
            "gridcolor": "white",
            "linecolor": "white",
            "ticks": ""
           }
          },
          "scene": {
           "xaxis": {
            "backgroundcolor": "#E5ECF6",
            "gridcolor": "white",
            "gridwidth": 2,
            "linecolor": "white",
            "showbackground": true,
            "ticks": "",
            "zerolinecolor": "white"
           },
           "yaxis": {
            "backgroundcolor": "#E5ECF6",
            "gridcolor": "white",
            "gridwidth": 2,
            "linecolor": "white",
            "showbackground": true,
            "ticks": "",
            "zerolinecolor": "white"
           },
           "zaxis": {
            "backgroundcolor": "#E5ECF6",
            "gridcolor": "white",
            "gridwidth": 2,
            "linecolor": "white",
            "showbackground": true,
            "ticks": "",
            "zerolinecolor": "white"
           }
          },
          "shapedefaults": {
           "line": {
            "color": "#2a3f5f"
           }
          },
          "ternary": {
           "aaxis": {
            "gridcolor": "white",
            "linecolor": "white",
            "ticks": ""
           },
           "baxis": {
            "gridcolor": "white",
            "linecolor": "white",
            "ticks": ""
           },
           "bgcolor": "#E5ECF6",
           "caxis": {
            "gridcolor": "white",
            "linecolor": "white",
            "ticks": ""
           }
          },
          "title": {
           "x": 0.05
          },
          "xaxis": {
           "automargin": true,
           "gridcolor": "white",
           "linecolor": "white",
           "ticks": "",
           "title": {
            "standoff": 15
           },
           "zerolinecolor": "white",
           "zerolinewidth": 2
          },
          "yaxis": {
           "automargin": true,
           "gridcolor": "white",
           "linecolor": "white",
           "ticks": "",
           "title": {
            "standoff": 15
           },
           "zerolinecolor": "white",
           "zerolinewidth": 2
          }
         }
        },
        "title": {
         "text": "Criminality Proportional Area Chart (2007)"
        },
        "xaxis": {
         "title": {
          "text": "Municipality"
         }
        },
        "yaxis": {
         "title": {
          "text": "Proportional Area"
         }
        }
       }
      }
     },
     "metadata": {},
     "output_type": "display_data"
    },
    {
     "data": {
      "text/plain": [
       "<function __main__.create_chart(year)>"
      ]
     },
     "execution_count": 180,
     "metadata": {},
     "output_type": "execute_result"
    }
   ],
   "source": [
    "from ipywidgets import interact, widgets\n",
    "\n",
    "# Define the interactive widget for selecting the year\n",
    "year_widget = widgets.IntSlider(\n",
    "    value=2007,\n",
    "    min=2007,\n",
    "    max=2022,\n",
    "    step=1,\n",
    "    description='Year:'\n",
    ")\n",
    "\n",
    "# Define the function that creates the proportional area chart\n",
    "def create_chart(year):\n",
    "    # Filter the data to only include the selected year and drop the row with the \"Unknown municipality\" value\n",
    "    year_data = criminality_year[['municipalities', f'crim_{year}']].drop(criminality_year.index[criminality_year['municipalities'] == 'Unknown municipality'])\n",
    "    \n",
    "    # Calculate the total crimes for the year\n",
    "    total_crimes = year_data[f'crim_{year}'].sum()\n",
    "    \n",
    "    # Calculate the proportional area for each municipality\n",
    "    year_data['area'] = year_data[f'crim_{year}']/total_crimes\n",
    "    \n",
    "    # Sort the data by crime in descending order\n",
    "    year_data = year_data.sort_values(by=f'crim_{year}', ascending=False)\n",
    "    \n",
    "    # Get the top 50 municipalities by crime\n",
    "    top_municipalities = year_data.iloc[:50, :]\n",
    "    \n",
    "    # Calculate the cumulative proportion of crimes and the index of the row where the cumulative proportion exceeds 0.5\n",
    "    top_municipalities['cumulative_prop'] = top_municipalities['area'].cumsum()\n",
    "    index_cutoff = top_municipalities[top_municipalities['cumulative_prop'] > 0.5].index[0]\n",
    "    \n",
    "    # Aggregate the municipalities that represent less than 50% of the crimes into a single observation\n",
    "    rest_of_municipalities = year_data.iloc[50:, :]\n",
    "    rest_of_municipalities = pd.DataFrame(rest_of_municipalities.sum(numeric_only=True)).T\n",
    "    rest_of_municipalities['municipalities'] = 'rest of municipalities'\n",
    "    rest_of_municipalities['area'] = 1 - top_municipalities.iloc[:index_cutoff, :]['area'].sum()\n",
    "    \n",
    "    # Combine the top municipalities and the aggregated municipalities\n",
    "    year_data = pd.concat([top_municipalities.iloc[:index_cutoff, :], rest_of_municipalities], ignore_index=True)\n",
    "    \n",
    "    # Create a label showing the percentage of crimes for each municipality\n",
    "    year_data['label'] = year_data.apply(lambda row: f\"{row['municipalities']}: {row['crim_' + str(year)] / total_crimes:.2%}\", axis=1)\n",
    "    \n",
    "    # Create the chart using Plotly Express\n",
    "    fig = px.treemap(year_data, path=['municipalities'], values='area', color='municipalities', hover_data=['label'])\n",
    "    fig.update_layout(\n",
    "        title=f'Criminality Proportional Area Chart ({year})',\n",
    "        xaxis_title='Municipality',\n",
    "        yaxis_title='Proportional Area',\n",
    "    )\n",
    "    fig.show()\n",
    "\n",
    "# Create the interactive widget\n",
    "interact(create_chart, year=year_widget)"
   ]
  },
  {
   "attachments": {},
   "cell_type": "markdown",
   "metadata": {},
   "source": [
    "**INTERPRETATION**\n",
    "\n",
    "**The interactive graph shows the relative weight of crimes committed in each municipality. As can be seen, over the years, the municipality of Copenhagen has the highest number of crimes, which may be due to the fact that it is the most populated municipality.**"
   ]
  },
  {
   "cell_type": "code",
   "execution_count": 181,
   "metadata": {},
   "outputs": [
    {
     "data": {
      "application/vnd.jupyter.widget-view+json": {
       "model_id": "951b90af9cc4414f84f0b5bc2a580842",
       "version_major": 2,
       "version_minor": 0
      },
      "text/plain": [
       "interactive(children=(IntSlider(value=2008, description='Year:', max=2022, min=2008), Output()), _dom_classes=…"
      ]
     },
     "metadata": {},
     "output_type": "display_data"
    },
    {
     "data": {
      "application/vnd.plotly.v1+json": {
       "config": {
        "plotlyServerURL": "https://plot.ly"
       },
       "data": [
        {
         "hovertemplate": "municipalities=%{x}<br>pop_2008=%{y}<br>area=%{marker.size}<extra></extra>",
         "legendgroup": "Copenhagen",
         "marker": {
          "color": "#636efa",
          "size": [
           0.09389074999160006
          ],
          "sizemode": "area",
          "sizeref": 0.00003755629999664002,
          "symbol": "circle"
         },
         "mode": "markers",
         "name": "Copenhagen",
         "orientation": "v",
         "showlegend": true,
         "type": "scatter",
         "x": [
          "Copenhagen"
         ],
         "xaxis": "x",
         "y": [
          516962
         ],
         "yaxis": "y"
        },
        {
         "hovertemplate": "municipalities=%{x}<br>pop_2008=%{y}<br>area=%{marker.size}<extra></extra>",
         "legendgroup": "Frederiksberg",
         "marker": {
          "color": "#EF553B",
          "size": [
           0.01725482860046186
          ],
          "sizemode": "area",
          "sizeref": 0.00003755629999664002,
          "symbol": "circle"
         },
         "mode": "markers",
         "name": "Frederiksberg",
         "orientation": "v",
         "showlegend": true,
         "type": "scatter",
         "x": [
          "Frederiksberg"
         ],
         "xaxis": "x",
         "y": [
          95005
         ],
         "yaxis": "y"
        },
        {
         "hovertemplate": "municipalities=%{x}<br>pop_2008=%{y}<br>area=%{marker.size}<extra></extra>",
         "legendgroup": "Dragør",
         "marker": {
          "color": "#00cc96",
          "size": [
           0.002443155142712625
          ],
          "sizemode": "area",
          "sizeref": 0.00003755629999664002,
          "symbol": "circle"
         },
         "mode": "markers",
         "name": "Dragør",
         "orientation": "v",
         "showlegend": true,
         "type": "scatter",
         "x": [
          "Dragør"
         ],
         "xaxis": "x",
         "y": [
          13452
         ],
         "yaxis": "y"
        },
        {
         "hovertemplate": "municipalities=%{x}<br>pop_2008=%{y}<br>area=%{marker.size}<extra></extra>",
         "legendgroup": "Tårnby",
         "marker": {
          "color": "#ab63fa",
          "size": [
           0.007307307761812352
          ],
          "sizemode": "area",
          "sizeref": 0.00003755629999664002,
          "symbol": "circle"
         },
         "mode": "markers",
         "name": "Tårnby",
         "orientation": "v",
         "showlegend": true,
         "type": "scatter",
         "x": [
          "Tårnby"
         ],
         "xaxis": "x",
         "y": [
          40234
         ],
         "yaxis": "y"
        },
        {
         "hovertemplate": "municipalities=%{x}<br>pop_2008=%{y}<br>area=%{marker.size}<extra></extra>",
         "legendgroup": "Albertslund",
         "marker": {
          "color": "#FFA15A",
          "size": [
           0.00505212954243511
          ],
          "sizemode": "area",
          "sizeref": 0.00003755629999664002,
          "symbol": "circle"
         },
         "mode": "markers",
         "name": "Albertslund",
         "orientation": "v",
         "showlegend": true,
         "type": "scatter",
         "x": [
          "Albertslund"
         ],
         "xaxis": "x",
         "y": [
          27817
         ],
         "yaxis": "y"
        },
        {
         "hovertemplate": "municipalities=%{x}<br>pop_2008=%{y}<br>area=%{marker.size}<extra></extra>",
         "legendgroup": "Ballerup",
         "marker": {
          "color": "#19d3f3",
          "size": [
           0.008595903192792584
          ],
          "sizemode": "area",
          "sizeref": 0.00003755629999664002,
          "symbol": "circle"
         },
         "mode": "markers",
         "name": "Ballerup",
         "orientation": "v",
         "showlegend": true,
         "type": "scatter",
         "x": [
          "Ballerup"
         ],
         "xaxis": "x",
         "y": [
          47329
         ],
         "yaxis": "y"
        },
        {
         "hovertemplate": "municipalities=%{x}<br>pop_2008=%{y}<br>area=%{marker.size}<extra></extra>",
         "legendgroup": "Brøndby",
         "marker": {
          "color": "#FF6692",
          "size": [
           0.006118603449512758
          ],
          "sizemode": "area",
          "sizeref": 0.00003755629999664002,
          "symbol": "circle"
         },
         "mode": "markers",
         "name": "Brøndby",
         "orientation": "v",
         "showlegend": true,
         "type": "scatter",
         "x": [
          "Brøndby"
         ],
         "xaxis": "x",
         "y": [
          33689
         ],
         "yaxis": "y"
        },
        {
         "hovertemplate": "municipalities=%{x}<br>pop_2008=%{y}<br>area=%{marker.size}<extra></extra>",
         "legendgroup": "Gentofte",
         "marker": {
          "color": "#B6E880",
          "size": [
           0.012649121548421311
          ],
          "sizemode": "area",
          "sizeref": 0.00003755629999664002,
          "symbol": "circle"
         },
         "mode": "markers",
         "name": "Gentofte",
         "orientation": "v",
         "showlegend": true,
         "type": "scatter",
         "x": [
          "Gentofte"
         ],
         "xaxis": "x",
         "y": [
          69646
         ],
         "yaxis": "y"
        },
        {
         "hovertemplate": "municipalities=%{x}<br>pop_2008=%{y}<br>area=%{marker.size}<extra></extra>",
         "legendgroup": "Gladsaxe",
         "marker": {
          "color": "#FF97FF",
          "size": [
           0.011467137184105688
          ],
          "sizemode": "area",
          "sizeref": 0.00003755629999664002,
          "symbol": "circle"
         },
         "mode": "markers",
         "name": "Gladsaxe",
         "orientation": "v",
         "showlegend": true,
         "type": "scatter",
         "x": [
          "Gladsaxe"
         ],
         "xaxis": "x",
         "y": [
          63138
         ],
         "yaxis": "y"
        },
        {
         "hovertemplate": "municipalities=%{x}<br>pop_2008=%{y}<br>area=%{marker.size}<extra></extra>",
         "legendgroup": "Glostrup",
         "marker": {
          "color": "#FECB52",
          "size": [
           0.0037978603322378606
          ],
          "sizemode": "area",
          "sizeref": 0.00003755629999664002,
          "symbol": "circle"
         },
         "mode": "markers",
         "name": "Glostrup",
         "orientation": "v",
         "showlegend": true,
         "type": "scatter",
         "x": [
          "Glostrup"
         ],
         "xaxis": "x",
         "y": [
          20911
         ],
         "yaxis": "y"
        },
        {
         "hovertemplate": "municipalities=%{x}<br>pop_2008=%{y}<br>area=%{marker.size}<extra></extra>",
         "legendgroup": "Herlev",
         "marker": {
          "color": "#636efa",
          "size": [
           0.004840723611263723
          ],
          "sizemode": "area",
          "sizeref": 0.00003755629999664002,
          "symbol": "circle"
         },
         "mode": "markers",
         "name": "Herlev",
         "orientation": "v",
         "showlegend": true,
         "type": "scatter",
         "x": [
          "Herlev"
         ],
         "xaxis": "x",
         "y": [
          26653
         ],
         "yaxis": "y"
        },
        {
         "hovertemplate": "municipalities=%{x}<br>pop_2008=%{y}<br>area=%{marker.size}<extra></extra>",
         "legendgroup": "Hvidovre",
         "marker": {
          "color": "#EF553B",
          "size": [
           0.00895787228284806
          ],
          "sizemode": "area",
          "sizeref": 0.00003755629999664002,
          "symbol": "circle"
         },
         "mode": "markers",
         "name": "Hvidovre",
         "orientation": "v",
         "showlegend": true,
         "type": "scatter",
         "x": [
          "Hvidovre"
         ],
         "xaxis": "x",
         "y": [
          49322
         ],
         "yaxis": "y"
        },
        {
         "hovertemplate": "municipalities=%{x}<br>pop_2008=%{y}<br>area=%{marker.size}<extra></extra>",
         "legendgroup": "Høje-Taastrup",
         "marker": {
          "color": "#00cc96",
          "size": [
           0.00859935397689246
          ],
          "sizemode": "area",
          "sizeref": 0.00003755629999664002,
          "symbol": "circle"
         },
         "mode": "markers",
         "name": "Høje-Taastrup",
         "orientation": "v",
         "showlegend": true,
         "type": "scatter",
         "x": [
          "Høje-Taastrup"
         ],
         "xaxis": "x",
         "y": [
          47348
         ],
         "yaxis": "y"
        },
        {
         "hovertemplate": "municipalities=%{x}<br>pop_2008=%{y}<br>area=%{marker.size}<extra></extra>",
         "legendgroup": "Ishøj",
         "marker": {
          "color": "#ab63fa",
          "size": [
           0.00376916433814415
          ],
          "sizemode": "area",
          "sizeref": 0.00003755629999664002,
          "symbol": "circle"
         },
         "mode": "markers",
         "name": "Ishøj",
         "orientation": "v",
         "showlegend": true,
         "type": "scatter",
         "x": [
          "Ishøj"
         ],
         "xaxis": "x",
         "y": [
          20753
         ],
         "yaxis": "y"
        },
        {
         "hovertemplate": "municipalities=%{x}<br>pop_2008=%{y}<br>area=%{marker.size}<extra></extra>",
         "legendgroup": "Lyngby-Taarbæk",
         "marker": {
          "color": "#FFA15A",
          "size": [
           0.009406837456263582
          ],
          "sizemode": "area",
          "sizeref": 0.00003755629999664002,
          "symbol": "circle"
         },
         "mode": "markers",
         "name": "Lyngby-Taarbæk",
         "orientation": "v",
         "showlegend": true,
         "type": "scatter",
         "x": [
          "Lyngby-Taarbæk"
         ],
         "xaxis": "x",
         "y": [
          51794
         ],
         "yaxis": "y"
        },
        {
         "hovertemplate": "municipalities=%{x}<br>pop_2008=%{y}<br>area=%{marker.size}<extra></extra>",
         "legendgroup": "Rødovre",
         "marker": {
          "color": "#19d3f3",
          "size": [
           0.0065615751558074425
          ],
          "sizemode": "area",
          "sizeref": 0.00003755629999664002,
          "symbol": "circle"
         },
         "mode": "markers",
         "name": "Rødovre",
         "orientation": "v",
         "showlegend": true,
         "type": "scatter",
         "x": [
          "Rødovre"
         ],
         "xaxis": "x",
         "y": [
          36128
         ],
         "yaxis": "y"
        },
        {
         "hovertemplate": "municipalities=%{x}<br>pop_2008=%{y}<br>area=%{marker.size}<extra></extra>",
         "legendgroup": "Vallensbæk",
         "marker": {
          "color": "#FF6692",
          "size": [
           0.0023961155068248337
          ],
          "sizemode": "area",
          "sizeref": 0.00003755629999664002,
          "symbol": "circle"
         },
         "mode": "markers",
         "name": "Vallensbæk",
         "orientation": "v",
         "showlegend": true,
         "type": "scatter",
         "x": [
          "Vallensbæk"
         ],
         "xaxis": "x",
         "y": [
          13193
         ],
         "yaxis": "y"
        },
        {
         "hovertemplate": "municipalities=%{x}<br>pop_2008=%{y}<br>area=%{marker.size}<extra></extra>",
         "legendgroup": "Allerød",
         "marker": {
          "color": "#B6E880",
          "size": [
           0.004318020630240311
          ],
          "sizemode": "area",
          "sizeref": 0.00003755629999664002,
          "symbol": "circle"
         },
         "mode": "markers",
         "name": "Allerød",
         "orientation": "v",
         "showlegend": true,
         "type": "scatter",
         "x": [
          "Allerød"
         ],
         "xaxis": "x",
         "y": [
          23775
         ],
         "yaxis": "y"
        },
        {
         "hovertemplate": "municipalities=%{x}<br>pop_2008=%{y}<br>area=%{marker.size}<extra></extra>",
         "legendgroup": "Egedal",
         "marker": {
          "color": "#FF97FF",
          "size": [
           0.007443341303433802
          ],
          "sizemode": "area",
          "sizeref": 0.00003755629999664002,
          "symbol": "circle"
         },
         "mode": "markers",
         "name": "Egedal",
         "orientation": "v",
         "showlegend": true,
         "type": "scatter",
         "x": [
          "Egedal"
         ],
         "xaxis": "x",
         "y": [
          40983
         ],
         "yaxis": "y"
        },
        {
         "hovertemplate": "municipalities=%{x}<br>pop_2008=%{y}<br>area=%{marker.size}<extra></extra>",
         "legendgroup": "Fredensborg",
         "marker": {
          "color": "#FECB52",
          "size": [
           0.007136403138760569
          ],
          "sizemode": "area",
          "sizeref": 0.00003755629999664002,
          "symbol": "circle"
         },
         "mode": "markers",
         "name": "Fredensborg",
         "orientation": "v",
         "showlegend": true,
         "type": "scatter",
         "x": [
          "Fredensborg"
         ],
         "xaxis": "x",
         "y": [
          39293
         ],
         "yaxis": "y"
        },
        {
         "hovertemplate": "municipalities=%{x}<br>pop_2008=%{y}<br>area=%{marker.size}<extra></extra>",
         "legendgroup": "Frederikssund",
         "marker": {
          "color": "#636efa",
          "size": [
           0.008040508572928236
          ],
          "sizemode": "area",
          "sizeref": 0.00003755629999664002,
          "symbol": "circle"
         },
         "mode": "markers",
         "name": "Frederikssund",
         "orientation": "v",
         "showlegend": true,
         "type": "scatter",
         "x": [
          "Frederikssund"
         ],
         "xaxis": "x",
         "y": [
          44271
         ],
         "yaxis": "y"
        },
        {
         "hovertemplate": "municipalities=%{x}<br>pop_2008=%{y}<br>area=%{marker.size}<extra></extra>",
         "legendgroup": "Furesø",
         "marker": {
          "color": "#EF553B",
          "size": [
           0.0068579793479652635
          ],
          "sizemode": "area",
          "sizeref": 0.00003755629999664002,
          "symbol": "circle"
         },
         "mode": "markers",
         "name": "Furesø",
         "orientation": "v",
         "showlegend": true,
         "type": "scatter",
         "x": [
          "Furesø"
         ],
         "xaxis": "x",
         "y": [
          37760
         ],
         "yaxis": "y"
        },
        {
         "hovertemplate": "municipalities=%{x}<br>pop_2008=%{y}<br>area=%{marker.size}<extra></extra>",
         "legendgroup": "Gribskov",
         "marker": {
          "color": "#00cc96",
          "size": [
           0.007389400099346258
          ],
          "sizemode": "area",
          "sizeref": 0.00003755629999664002,
          "symbol": "circle"
         },
         "mode": "markers",
         "name": "Gribskov",
         "orientation": "v",
         "showlegend": true,
         "type": "scatter",
         "x": [
          "Gribskov"
         ],
         "xaxis": "x",
         "y": [
          40686
         ],
         "yaxis": "y"
        },
        {
         "hovertemplate": "municipalities=%{x}<br>pop_2008=%{y}<br>area=%{marker.size}<extra></extra>",
         "legendgroup": "Halsnæs",
         "marker": {
          "color": "#ab63fa",
          "size": [
           0.005632406131861725
          ],
          "sizemode": "area",
          "sizeref": 0.00003755629999664002,
          "symbol": "circle"
         },
         "mode": "markers",
         "name": "Halsnæs",
         "orientation": "v",
         "showlegend": true,
         "type": "scatter",
         "x": [
          "Halsnæs"
         ],
         "xaxis": "x",
         "y": [
          31012
         ],
         "yaxis": "y"
        },
        {
         "hovertemplate": "municipalities=%{x}<br>pop_2008=%{y}<br>area=%{marker.size}<extra></extra>",
         "legendgroup": "Helsingør",
         "marker": {
          "color": "#FFA15A",
          "size": [
           0.011064485165714826
          ],
          "sizemode": "area",
          "sizeref": 0.00003755629999664002,
          "symbol": "circle"
         },
         "mode": "markers",
         "name": "Helsingør",
         "orientation": "v",
         "showlegend": true,
         "type": "scatter",
         "x": [
          "Helsingør"
         ],
         "xaxis": "x",
         "y": [
          60921
         ],
         "yaxis": "y"
        },
        {
         "hovertemplate": "municipalities=%{x}<br>pop_2008=%{y}<br>area=%{marker.size}<extra></extra>",
         "legendgroup": "Hillerød",
         "marker": {
          "color": "#19d3f3",
          "size": [
           0.008524708068205655
          ],
          "sizemode": "area",
          "sizeref": 0.00003755629999664002,
          "symbol": "circle"
         },
         "mode": "markers",
         "name": "Hillerød",
         "orientation": "v",
         "showlegend": true,
         "type": "scatter",
         "x": [
          "Hillerød"
         ],
         "xaxis": "x",
         "y": [
          46937
         ],
         "yaxis": "y"
        },
        {
         "hovertemplate": "municipalities=%{x}<br>pop_2008=%{y}<br>area=%{marker.size}<extra></extra>",
         "legendgroup": "Hørsholm",
         "marker": {
          "color": "#FF6692",
          "size": [
           0.004419364710647212
          ],
          "sizemode": "area",
          "sizeref": 0.00003755629999664002,
          "symbol": "circle"
         },
         "mode": "markers",
         "name": "Hørsholm",
         "orientation": "v",
         "showlegend": true,
         "type": "scatter",
         "x": [
          "Hørsholm"
         ],
         "xaxis": "x",
         "y": [
          24333
         ],
         "yaxis": "y"
        },
        {
         "hovertemplate": "municipalities=%{x}<br>pop_2008=%{y}<br>area=%{marker.size}<extra></extra>",
         "legendgroup": "Rudersdal",
         "marker": {
          "color": "#B6E880",
          "size": [
           0.009802406286238909
          ],
          "sizemode": "area",
          "sizeref": 0.00003755629999664002,
          "symbol": "circle"
         },
         "mode": "markers",
         "name": "Rudersdal",
         "orientation": "v",
         "showlegend": true,
         "type": "scatter",
         "x": [
          "Rudersdal"
         ],
         "xaxis": "x",
         "y": [
          53972
         ],
         "yaxis": "y"
        },
        {
         "hovertemplate": "municipalities=%{x}<br>pop_2008=%{y}<br>area=%{marker.size}<extra></extra>",
         "legendgroup": "Bornholm",
         "marker": {
          "color": "#FF97FF",
          "size": [
           0.007741561697749453
          ],
          "sizemode": "area",
          "sizeref": 0.00003755629999664002,
          "symbol": "circle"
         },
         "mode": "markers",
         "name": "Bornholm",
         "orientation": "v",
         "showlegend": true,
         "type": "scatter",
         "x": [
          "Bornholm"
         ],
         "xaxis": "x",
         "y": [
          42625
         ],
         "yaxis": "y"
        },
        {
         "hovertemplate": "municipalities=%{x}<br>pop_2008=%{y}<br>area=%{marker.size}<extra></extra>",
         "legendgroup": "Christiansø",
         "marker": {
          "color": "#FECB52",
          "size": [
           0.000018162021578297837
          ],
          "sizemode": "area",
          "sizeref": 0.00003755629999664002,
          "symbol": "circle"
         },
         "mode": "markers",
         "name": "Christiansø",
         "orientation": "v",
         "showlegend": true,
         "type": "scatter",
         "x": [
          "Christiansø"
         ],
         "xaxis": "x",
         "y": [
          100
         ],
         "yaxis": "y"
        },
        {
         "hovertemplate": "municipalities=%{x}<br>pop_2008=%{y}<br>area=%{marker.size}<extra></extra>",
         "legendgroup": "Greve",
         "marker": {
          "color": "#636efa",
          "size": [
           0.008700879677515145
          ],
          "sizemode": "area",
          "sizeref": 0.00003755629999664002,
          "symbol": "circle"
         },
         "mode": "markers",
         "name": "Greve",
         "orientation": "v",
         "showlegend": true,
         "type": "scatter",
         "x": [
          "Greve"
         ],
         "xaxis": "x",
         "y": [
          47907
         ],
         "yaxis": "y"
        },
        {
         "hovertemplate": "municipalities=%{x}<br>pop_2008=%{y}<br>area=%{marker.size}<extra></extra>",
         "legendgroup": "Køge",
         "marker": {
          "color": "#EF553B",
          "size": [
           0.010330194633304243
          ],
          "sizemode": "area",
          "sizeref": 0.00003755629999664002,
          "symbol": "circle"
         },
         "mode": "markers",
         "name": "Køge",
         "orientation": "v",
         "showlegend": true,
         "type": "scatter",
         "x": [
          "Køge"
         ],
         "xaxis": "x",
         "y": [
          56878
         ],
         "yaxis": "y"
        },
        {
         "hovertemplate": "municipalities=%{x}<br>pop_2008=%{y}<br>area=%{marker.size}<extra></extra>",
         "legendgroup": "Lejre",
         "marker": {
          "color": "#00cc96",
          "size": [
           0.0048532554061527485
          ],
          "sizemode": "area",
          "sizeref": 0.00003755629999664002,
          "symbol": "circle"
         },
         "mode": "markers",
         "name": "Lejre",
         "orientation": "v",
         "showlegend": true,
         "type": "scatter",
         "x": [
          "Lejre"
         ],
         "xaxis": "x",
         "y": [
          26722
         ],
         "yaxis": "y"
        },
        {
         "hovertemplate": "municipalities=%{x}<br>pop_2008=%{y}<br>area=%{marker.size}<extra></extra>",
         "legendgroup": "Roskilde",
         "marker": {
          "color": "#ab63fa",
          "size": [
           0.014755371190856513
          ],
          "sizemode": "area",
          "sizeref": 0.00003755629999664002,
          "symbol": "circle"
         },
         "mode": "markers",
         "name": "Roskilde",
         "orientation": "v",
         "showlegend": true,
         "type": "scatter",
         "x": [
          "Roskilde"
         ],
         "xaxis": "x",
         "y": [
          81243
         ],
         "yaxis": "y"
        },
        {
         "hovertemplate": "municipalities=%{x}<br>pop_2008=%{y}<br>area=%{marker.size}<extra></extra>",
         "legendgroup": "Solrød",
         "marker": {
          "color": "#FFA15A",
          "size": [
           0.0037651686933969247
          ],
          "sizemode": "area",
          "sizeref": 0.00003755629999664002,
          "symbol": "circle"
         },
         "mode": "markers",
         "name": "Solrød",
         "orientation": "v",
         "showlegend": true,
         "type": "scatter",
         "x": [
          "Solrød"
         ],
         "xaxis": "x",
         "y": [
          20731
         ],
         "yaxis": "y"
        },
        {
         "hovertemplate": "municipalities=%{x}<br>pop_2008=%{y}<br>area=%{marker.size}<extra></extra>",
         "legendgroup": "Faxe",
         "marker": {
          "color": "#19d3f3",
          "size": [
           0.006437346928211885
          ],
          "sizemode": "area",
          "sizeref": 0.00003755629999664002,
          "symbol": "circle"
         },
         "mode": "markers",
         "name": "Faxe",
         "orientation": "v",
         "showlegend": true,
         "type": "scatter",
         "x": [
          "Faxe"
         ],
         "xaxis": "x",
         "y": [
          35444
         ],
         "yaxis": "y"
        },
        {
         "hovertemplate": "municipalities=%{x}<br>pop_2008=%{y}<br>area=%{marker.size}<extra></extra>",
         "legendgroup": "Guldborgsund",
         "marker": {
          "color": "#FF6692",
          "size": [
           0.011491474293020608
          ],
          "sizemode": "area",
          "sizeref": 0.00003755629999664002,
          "symbol": "circle"
         },
         "mode": "markers",
         "name": "Guldborgsund",
         "orientation": "v",
         "showlegend": true,
         "type": "scatter",
         "x": [
          "Guldborgsund"
         ],
         "xaxis": "x",
         "y": [
          63272
         ],
         "yaxis": "y"
        },
        {
         "hovertemplate": "municipalities=%{x}<br>pop_2008=%{y}<br>area=%{marker.size}<extra></extra>",
         "legendgroup": "Holbæk",
         "marker": {
          "color": "#B6E880",
          "size": [
           0.012604987835986048
          ],
          "sizemode": "area",
          "sizeref": 0.00003755629999664002,
          "symbol": "circle"
         },
         "mode": "markers",
         "name": "Holbæk",
         "orientation": "v",
         "showlegend": true,
         "type": "scatter",
         "x": [
          "Holbæk"
         ],
         "xaxis": "x",
         "y": [
          69403
         ],
         "yaxis": "y"
        },
        {
         "hovertemplate": "municipalities=%{x}<br>pop_2008=%{y}<br>area=%{marker.size}<extra></extra>",
         "legendgroup": "Kalundborg",
         "marker": {
          "color": "#FF97FF",
          "size": [
           0.009040509481029314
          ],
          "sizemode": "area",
          "sizeref": 0.00003755629999664002,
          "symbol": "circle"
         },
         "mode": "markers",
         "name": "Kalundborg",
         "orientation": "v",
         "showlegend": true,
         "type": "scatter",
         "x": [
          "Kalundborg"
         ],
         "xaxis": "x",
         "y": [
          49777
         ],
         "yaxis": "y"
        },
        {
         "hovertemplate": "municipalities=%{x}<br>pop_2008=%{y}<br>area=%{marker.size}<extra></extra>",
         "legendgroup": "Lolland",
         "marker": {
          "color": "#FECB52",
          "size": [
           0.0086981553742784
          ],
          "sizemode": "area",
          "sizeref": 0.00003755629999664002,
          "symbol": "circle"
         },
         "mode": "markers",
         "name": "Lolland",
         "orientation": "v",
         "showlegend": true,
         "type": "scatter",
         "x": [
          "Lolland"
         ],
         "xaxis": "x",
         "y": [
          47892
         ],
         "yaxis": "y"
        },
        {
         "hovertemplate": "municipalities=%{x}<br>pop_2008=%{y}<br>area=%{marker.size}<extra></extra>",
         "legendgroup": "Næstved",
         "marker": {
          "color": "#636efa",
          "size": [
           0.014715414743384257
          ],
          "sizemode": "area",
          "sizeref": 0.00003755629999664002,
          "symbol": "circle"
         },
         "mode": "markers",
         "name": "Næstved",
         "orientation": "v",
         "showlegend": true,
         "type": "scatter",
         "x": [
          "Næstved"
         ],
         "xaxis": "x",
         "y": [
          81023
         ],
         "yaxis": "y"
        },
        {
         "hovertemplate": "municipalities=%{x}<br>pop_2008=%{y}<br>area=%{marker.size}<extra></extra>",
         "legendgroup": "Odsherred",
         "marker": {
          "color": "#EF553B",
          "size": [
           0.006025069038384525
          ],
          "sizemode": "area",
          "sizeref": 0.00003755629999664002,
          "symbol": "circle"
         },
         "mode": "markers",
         "name": "Odsherred",
         "orientation": "v",
         "showlegend": true,
         "type": "scatter",
         "x": [
          "Odsherred"
         ],
         "xaxis": "x",
         "y": [
          33174
         ],
         "yaxis": "y"
        },
        {
         "hovertemplate": "municipalities=%{x}<br>pop_2008=%{y}<br>area=%{marker.size}<extra></extra>",
         "legendgroup": "Ringsted",
         "marker": {
          "color": "#00cc96",
          "size": [
           0.0058846766115842825
          ],
          "sizemode": "area",
          "sizeref": 0.00003755629999664002,
          "symbol": "circle"
         },
         "mode": "markers",
         "name": "Ringsted",
         "orientation": "v",
         "showlegend": true,
         "type": "scatter",
         "x": [
          "Ringsted"
         ],
         "xaxis": "x",
         "y": [
          32401
         ],
         "yaxis": "y"
        },
        {
         "hovertemplate": "municipalities=%{x}<br>pop_2008=%{y}<br>area=%{marker.size}<extra></extra>",
         "legendgroup": "Slagelse",
         "marker": {
          "color": "#ab63fa",
          "size": [
           0.014075021862533475
          ],
          "sizemode": "area",
          "sizeref": 0.00003755629999664002,
          "symbol": "circle"
         },
         "mode": "markers",
         "name": "Slagelse",
         "orientation": "v",
         "showlegend": true,
         "type": "scatter",
         "x": [
          "Slagelse"
         ],
         "xaxis": "x",
         "y": [
          77497
         ],
         "yaxis": "y"
        },
        {
         "hovertemplate": "municipalities=%{x}<br>pop_2008=%{y}<br>area=%{marker.size}<extra></extra>",
         "legendgroup": "Sorø",
         "marker": {
          "color": "#FFA15A",
          "size": [
           0.005337999762077517
          ],
          "sizemode": "area",
          "sizeref": 0.00003755629999664002,
          "symbol": "circle"
         },
         "mode": "markers",
         "name": "Sorø",
         "orientation": "v",
         "showlegend": true,
         "type": "scatter",
         "x": [
          "Sorø"
         ],
         "xaxis": "x",
         "y": [
          29391
         ],
         "yaxis": "y"
        },
        {
         "hovertemplate": "municipalities=%{x}<br>pop_2008=%{y}<br>area=%{marker.size}<extra></extra>",
         "legendgroup": "Stevns",
         "marker": {
          "color": "#19d3f3",
          "size": [
           0.00397893568737349
          ],
          "sizemode": "area",
          "sizeref": 0.00003755629999664002,
          "symbol": "circle"
         },
         "mode": "markers",
         "name": "Stevns",
         "orientation": "v",
         "showlegend": true,
         "type": "scatter",
         "x": [
          "Stevns"
         ],
         "xaxis": "x",
         "y": [
          21908
         ],
         "yaxis": "y"
        },
        {
         "hovertemplate": "municipalities=%{x}<br>pop_2008=%{y}<br>area=%{marker.size}<extra></extra>",
         "legendgroup": "Vordingborg",
         "marker": {
          "color": "#FF6692",
          "size": [
           0.008471674965197027
          ],
          "sizemode": "area",
          "sizeref": 0.00003755629999664002,
          "symbol": "circle"
         },
         "mode": "markers",
         "name": "Vordingborg",
         "orientation": "v",
         "showlegend": true,
         "type": "scatter",
         "x": [
          "Vordingborg"
         ],
         "xaxis": "x",
         "y": [
          46645
         ],
         "yaxis": "y"
        },
        {
         "hovertemplate": "municipalities=%{x}<br>pop_2008=%{y}<br>area=%{marker.size}<extra></extra>",
         "legendgroup": "Assens",
         "marker": {
          "color": "#B6E880",
          "size": [
           0.007665462827336385
          ],
          "sizemode": "area",
          "sizeref": 0.00003755629999664002,
          "symbol": "circle"
         },
         "mode": "markers",
         "name": "Assens",
         "orientation": "v",
         "showlegend": true,
         "type": "scatter",
         "x": [
          "Assens"
         ],
         "xaxis": "x",
         "y": [
          42206
         ],
         "yaxis": "y"
        },
        {
         "hovertemplate": "municipalities=%{x}<br>pop_2008=%{y}<br>area=%{marker.size}<extra></extra>",
         "legendgroup": "Faaborg-Midtfyn",
         "marker": {
          "color": "#FF97FF",
          "size": [
           0.009467680228550879
          ],
          "sizemode": "area",
          "sizeref": 0.00003755629999664002,
          "symbol": "circle"
         },
         "mode": "markers",
         "name": "Faaborg-Midtfyn",
         "orientation": "v",
         "showlegend": true,
         "type": "scatter",
         "x": [
          "Faaborg-Midtfyn"
         ],
         "xaxis": "x",
         "y": [
          52129
         ],
         "yaxis": "y"
        },
        {
         "hovertemplate": "municipalities=%{x}<br>pop_2008=%{y}<br>area=%{marker.size}<extra></extra>",
         "legendgroup": "Kerteminde",
         "marker": {
          "color": "#FECB52",
          "size": [
           0.004301493190604059
          ],
          "sizemode": "area",
          "sizeref": 0.00003755629999664002,
          "symbol": "circle"
         },
         "mode": "markers",
         "name": "Kerteminde",
         "orientation": "v",
         "showlegend": true,
         "type": "scatter",
         "x": [
          "Kerteminde"
         ],
         "xaxis": "x",
         "y": [
          23684
         ],
         "yaxis": "y"
        },
        {
         "hovertemplate": "municipalities=%{x}<br>pop_2008=%{y}<br>area=%{marker.size}<extra></extra>",
         "legendgroup": "Langeland",
         "marker": {
          "color": "#636efa",
          "size": [
           0.002468581972922242
          ],
          "sizemode": "area",
          "sizeref": 0.00003755629999664002,
          "symbol": "circle"
         },
         "mode": "markers",
         "name": "Langeland",
         "orientation": "v",
         "showlegend": true,
         "type": "scatter",
         "x": [
          "Langeland"
         ],
         "xaxis": "x",
         "y": [
          13592
         ],
         "yaxis": "y"
        },
        {
         "hovertemplate": "municipalities=%{x}<br>pop_2008=%{y}<br>area=%{marker.size}<extra></extra>",
         "legendgroup": "Middelfart",
         "marker": {
          "color": "#EF553B",
          "size": [
           0.006818931001571923
          ],
          "sizemode": "area",
          "sizeref": 0.00003755629999664002,
          "symbol": "circle"
         },
         "mode": "markers",
         "name": "Middelfart",
         "orientation": "v",
         "showlegend": true,
         "type": "scatter",
         "x": [
          "Middelfart"
         ],
         "xaxis": "x",
         "y": [
          37545
         ],
         "yaxis": "y"
        },
        {
         "hovertemplate": "municipalities=%{x}<br>pop_2008=%{y}<br>area=%{marker.size}<extra></extra>",
         "legendgroup": "Nordfyns",
         "marker": {
          "color": "#00cc96",
          "size": [
           0.005394665269401806
          ],
          "sizemode": "area",
          "sizeref": 0.00003755629999664002,
          "symbol": "circle"
         },
         "mode": "markers",
         "name": "Nordfyns",
         "orientation": "v",
         "showlegend": true,
         "type": "scatter",
         "x": [
          "Nordfyns"
         ],
         "xaxis": "x",
         "y": [
          29703
         ],
         "yaxis": "y"
        },
        {
         "hovertemplate": "municipalities=%{x}<br>pop_2008=%{y}<br>area=%{marker.size}<extra></extra>",
         "legendgroup": "Nyborg",
         "marker": {
          "color": "#ab63fa",
          "size": [
           0.00575409167643632
          ],
          "sizemode": "area",
          "sizeref": 0.00003755629999664002,
          "symbol": "circle"
         },
         "mode": "markers",
         "name": "Nyborg",
         "orientation": "v",
         "showlegend": true,
         "type": "scatter",
         "x": [
          "Nyborg"
         ],
         "xaxis": "x",
         "y": [
          31682
         ],
         "yaxis": "y"
        },
        {
         "hovertemplate": "municipalities=%{x}<br>pop_2008=%{y}<br>area=%{marker.size}<extra></extra>",
         "legendgroup": "Odense",
         "marker": {
          "color": "#FFA15A",
          "size": [
           0.034105188980375026
          ],
          "sizemode": "area",
          "sizeref": 0.00003755629999664002,
          "symbol": "circle"
         },
         "mode": "markers",
         "name": "Odense",
         "orientation": "v",
         "showlegend": true,
         "type": "scatter",
         "x": [
          "Odense"
         ],
         "xaxis": "x",
         "y": [
          187783
         ],
         "yaxis": "y"
        },
        {
         "hovertemplate": "municipalities=%{x}<br>pop_2008=%{y}<br>area=%{marker.size}<extra></extra>",
         "legendgroup": "Svendborg",
         "marker": {
          "color": "#19d3f3",
          "size": [
           0.010761905886220384
          ],
          "sizemode": "area",
          "sizeref": 0.00003755629999664002,
          "symbol": "circle"
         },
         "mode": "markers",
         "name": "Svendborg",
         "orientation": "v",
         "showlegend": true,
         "type": "scatter",
         "x": [
          "Svendborg"
         ],
         "xaxis": "x",
         "y": [
          59255
         ],
         "yaxis": "y"
        },
        {
         "hovertemplate": "municipalities=%{x}<br>pop_2008=%{y}<br>area=%{marker.size}<extra></extra>",
         "legendgroup": "Ærø",
         "marker": {
          "color": "#FF6692",
          "size": [
           0.0012195797489826998
          ],
          "sizemode": "area",
          "sizeref": 0.00003755629999664002,
          "symbol": "circle"
         },
         "mode": "markers",
         "name": "Ærø",
         "orientation": "v",
         "showlegend": true,
         "type": "scatter",
         "x": [
          "Ærø"
         ],
         "xaxis": "x",
         "y": [
          6715
         ],
         "yaxis": "y"
        },
        {
         "hovertemplate": "municipalities=%{x}<br>pop_2008=%{y}<br>area=%{marker.size}<extra></extra>",
         "legendgroup": "Billund",
         "marker": {
          "color": "#B6E880",
          "size": [
           0.004766985803655833
          ],
          "sizemode": "area",
          "sizeref": 0.00003755629999664002,
          "symbol": "circle"
         },
         "mode": "markers",
         "name": "Billund",
         "orientation": "v",
         "showlegend": true,
         "type": "scatter",
         "x": [
          "Billund"
         ],
         "xaxis": "x",
         "y": [
          26247
         ],
         "yaxis": "y"
        },
        {
         "hovertemplate": "municipalities=%{x}<br>pop_2008=%{y}<br>area=%{marker.size}<extra></extra>",
         "legendgroup": "Esbjerg",
         "marker": {
          "color": "#FF97FF",
          "size": [
           0.02080332437642969
          ],
          "sizemode": "area",
          "sizeref": 0.00003755629999664002,
          "symbol": "circle"
         },
         "mode": "markers",
         "name": "Esbjerg",
         "orientation": "v",
         "showlegend": true,
         "type": "scatter",
         "x": [
          "Esbjerg"
         ],
         "xaxis": "x",
         "y": [
          114543
         ],
         "yaxis": "y"
        },
        {
         "hovertemplate": "municipalities=%{x}<br>pop_2008=%{y}<br>area=%{marker.size}<extra></extra>",
         "legendgroup": "Fanø",
         "marker": {
          "color": "#FECB52",
          "size": [
           0.0005840906139580584
          ],
          "sizemode": "area",
          "sizeref": 0.00003755629999664002,
          "symbol": "circle"
         },
         "mode": "markers",
         "name": "Fanø",
         "orientation": "v",
         "showlegend": true,
         "type": "scatter",
         "x": [
          "Fanø"
         ],
         "xaxis": "x",
         "y": [
          3216
         ],
         "yaxis": "y"
        },
        {
         "hovertemplate": "municipalities=%{x}<br>pop_2008=%{y}<br>area=%{marker.size}<extra></extra>",
         "legendgroup": "Fredericia",
         "marker": {
          "color": "#636efa",
          "size": [
           0.009007999462404161
          ],
          "sizemode": "area",
          "sizeref": 0.00003755629999664002,
          "symbol": "circle"
         },
         "mode": "markers",
         "name": "Fredericia",
         "orientation": "v",
         "showlegend": true,
         "type": "scatter",
         "x": [
          "Fredericia"
         ],
         "xaxis": "x",
         "y": [
          49598
         ],
         "yaxis": "y"
        },
        {
         "hovertemplate": "municipalities=%{x}<br>pop_2008=%{y}<br>area=%{marker.size}<extra></extra>",
         "legendgroup": "Haderslev",
         "marker": {
          "color": "#EF553B",
          "size": [
           0.010261178951306711
          ],
          "sizemode": "area",
          "sizeref": 0.00003755629999664002,
          "symbol": "circle"
         },
         "mode": "markers",
         "name": "Haderslev",
         "orientation": "v",
         "showlegend": true,
         "type": "scatter",
         "x": [
          "Haderslev"
         ],
         "xaxis": "x",
         "y": [
          56498
         ],
         "yaxis": "y"
        },
        {
         "hovertemplate": "municipalities=%{x}<br>pop_2008=%{y}<br>area=%{marker.size}<extra></extra>",
         "legendgroup": "Kolding",
         "marker": {
          "color": "#00cc96",
          "size": [
           0.016042876900542045
          ],
          "sizemode": "area",
          "sizeref": 0.00003755629999664002,
          "symbol": "circle"
         },
         "mode": "markers",
         "name": "Kolding",
         "orientation": "v",
         "showlegend": true,
         "type": "scatter",
         "x": [
          "Kolding"
         ],
         "xaxis": "x",
         "y": [
          88332
         ],
         "yaxis": "y"
        },
        {
         "hovertemplate": "municipalities=%{x}<br>pop_2008=%{y}<br>area=%{marker.size}<extra></extra>",
         "legendgroup": "Sønderborg",
         "marker": {
          "color": "#ab63fa",
          "size": [
           0.013945889889111777
          ],
          "sizemode": "area",
          "sizeref": 0.00003755629999664002,
          "symbol": "circle"
         },
         "mode": "markers",
         "name": "Sønderborg",
         "orientation": "v",
         "showlegend": true,
         "type": "scatter",
         "x": [
          "Sønderborg"
         ],
         "xaxis": "x",
         "y": [
          76786
         ],
         "yaxis": "y"
        },
        {
         "hovertemplate": "municipalities=%{x}<br>pop_2008=%{y}<br>area=%{marker.size}<extra></extra>",
         "legendgroup": "Tønder",
         "marker": {
          "color": "#FFA15A",
          "size": [
           0.007319476316269812
          ],
          "sizemode": "area",
          "sizeref": 0.00003755629999664002,
          "symbol": "circle"
         },
         "mode": "markers",
         "name": "Tønder",
         "orientation": "v",
         "showlegend": true,
         "type": "scatter",
         "x": [
          "Tønder"
         ],
         "xaxis": "x",
         "y": [
          40301
         ],
         "yaxis": "y"
        },
        {
         "hovertemplate": "municipalities=%{x}<br>pop_2008=%{y}<br>area=%{marker.size}<extra></extra>",
         "legendgroup": "Varde",
         "marker": {
          "color": "#19d3f3",
          "size": [
           0.009154930216972591
          ],
          "sizemode": "area",
          "sizeref": 0.00003755629999664002,
          "symbol": "circle"
         },
         "mode": "markers",
         "name": "Varde",
         "orientation": "v",
         "showlegend": true,
         "type": "scatter",
         "x": [
          "Varde"
         ],
         "xaxis": "x",
         "y": [
          50407
         ],
         "yaxis": "y"
        },
        {
         "hovertemplate": "municipalities=%{x}<br>pop_2008=%{y}<br>area=%{marker.size}<extra></extra>",
         "legendgroup": "Vejen",
         "marker": {
          "color": "#FF6692",
          "size": [
           0.007763174503427627
          ],
          "sizemode": "area",
          "sizeref": 0.00003755629999664002,
          "symbol": "circle"
         },
         "mode": "markers",
         "name": "Vejen",
         "orientation": "v",
         "showlegend": true,
         "type": "scatter",
         "x": [
          "Vejen"
         ],
         "xaxis": "x",
         "y": [
          42744
         ],
         "yaxis": "y"
        },
        {
         "hovertemplate": "municipalities=%{x}<br>pop_2008=%{y}<br>area=%{marker.size}<extra></extra>",
         "legendgroup": "Vejle",
         "marker": {
          "color": "#B6E880",
          "size": [
           0.01917273807913011
          ],
          "sizemode": "area",
          "sizeref": 0.00003755629999664002,
          "symbol": "circle"
         },
         "mode": "markers",
         "name": "Vejle",
         "orientation": "v",
         "showlegend": true,
         "type": "scatter",
         "x": [
          "Vejle"
         ],
         "xaxis": "x",
         "y": [
          105565
         ],
         "yaxis": "y"
        },
        {
         "hovertemplate": "municipalities=%{x}<br>pop_2008=%{y}<br>area=%{marker.size}<extra></extra>",
         "legendgroup": "Aabenraa",
         "marker": {
          "color": "#FF97FF",
          "size": [
           0.010964049186386838
          ],
          "sizemode": "area",
          "sizeref": 0.00003755629999664002,
          "symbol": "circle"
         },
         "mode": "markers",
         "name": "Aabenraa",
         "orientation": "v",
         "showlegend": true,
         "type": "scatter",
         "x": [
          "Aabenraa"
         ],
         "xaxis": "x",
         "y": [
          60368
         ],
         "yaxis": "y"
        },
        {
         "hovertemplate": "municipalities=%{x}<br>pop_2008=%{y}<br>area=%{marker.size}<extra></extra>",
         "legendgroup": "Favrskov",
         "marker": {
          "color": "#FECB52",
          "size": [
           0.008366153619827116
          ],
          "sizemode": "area",
          "sizeref": 0.00003755629999664002,
          "symbol": "circle"
         },
         "mode": "markers",
         "name": "Favrskov",
         "orientation": "v",
         "showlegend": true,
         "type": "scatter",
         "x": [
          "Favrskov"
         ],
         "xaxis": "x",
         "y": [
          46064
         ],
         "yaxis": "y"
        },
        {
         "hovertemplate": "municipalities=%{x}<br>pop_2008=%{y}<br>area=%{marker.size}<extra></extra>",
         "legendgroup": "Hedensted",
         "marker": {
          "color": "#636efa",
          "size": [
           0.00834871807911195
          ],
          "sizemode": "area",
          "sizeref": 0.00003755629999664002,
          "symbol": "circle"
         },
         "mode": "markers",
         "name": "Hedensted",
         "orientation": "v",
         "showlegend": true,
         "type": "scatter",
         "x": [
          "Hedensted"
         ],
         "xaxis": "x",
         "y": [
          45968
         ],
         "yaxis": "y"
        },
        {
         "hovertemplate": "municipalities=%{x}<br>pop_2008=%{y}<br>area=%{marker.size}<extra></extra>",
         "legendgroup": "Horsens",
         "marker": {
          "color": "#EF553B",
          "size": [
           0.014663289741454541
          ],
          "sizemode": "area",
          "sizeref": 0.00003755629999664002,
          "symbol": "circle"
         },
         "mode": "markers",
         "name": "Horsens",
         "orientation": "v",
         "showlegend": true,
         "type": "scatter",
         "x": [
          "Horsens"
         ],
         "xaxis": "x",
         "y": [
          80736
         ],
         "yaxis": "y"
        },
        {
         "hovertemplate": "municipalities=%{x}<br>pop_2008=%{y}<br>area=%{marker.size}<extra></extra>",
         "legendgroup": "Norddjurs",
         "marker": {
          "color": "#00cc96",
          "size": [
           0.006986748080955395
          ],
          "sizemode": "area",
          "sizeref": 0.00003755629999664002,
          "symbol": "circle"
         },
         "mode": "markers",
         "name": "Norddjurs",
         "orientation": "v",
         "showlegend": true,
         "type": "scatter",
         "x": [
          "Norddjurs"
         ],
         "xaxis": "x",
         "y": [
          38469
         ],
         "yaxis": "y"
        },
        {
         "hovertemplate": "municipalities=%{x}<br>pop_2008=%{y}<br>area=%{marker.size}<extra></extra>",
         "legendgroup": "Odder",
         "marker": {
          "color": "#ab63fa",
          "size": [
           0.003925720964149077
          ],
          "sizemode": "area",
          "sizeref": 0.00003755629999664002,
          "symbol": "circle"
         },
         "mode": "markers",
         "name": "Odder",
         "orientation": "v",
         "showlegend": true,
         "type": "scatter",
         "x": [
          "Odder"
         ],
         "xaxis": "x",
         "y": [
          21615
         ],
         "yaxis": "y"
        },
        {
         "hovertemplate": "municipalities=%{x}<br>pop_2008=%{y}<br>area=%{marker.size}<extra></extra>",
         "legendgroup": "Randers",
         "marker": {
          "color": "#FFA15A",
          "size": [
           0.01709064392539405
          ],
          "sizemode": "area",
          "sizeref": 0.00003755629999664002,
          "symbol": "circle"
         },
         "mode": "markers",
         "name": "Randers",
         "orientation": "v",
         "showlegend": true,
         "type": "scatter",
         "x": [
          "Randers"
         ],
         "xaxis": "x",
         "y": [
          94101
         ],
         "yaxis": "y"
        },
        {
         "hovertemplate": "municipalities=%{x}<br>pop_2008=%{y}<br>area=%{marker.size}<extra></extra>",
         "legendgroup": "Samsø",
         "marker": {
          "color": "#19d3f3",
          "size": [
           0.0007322927100369688
          ],
          "sizemode": "area",
          "sizeref": 0.00003755629999664002,
          "symbol": "circle"
         },
         "mode": "markers",
         "name": "Samsø",
         "orientation": "v",
         "showlegend": true,
         "type": "scatter",
         "x": [
          "Samsø"
         ],
         "xaxis": "x",
         "y": [
          4032
         ],
         "yaxis": "y"
        },
        {
         "hovertemplate": "municipalities=%{x}<br>pop_2008=%{y}<br>area=%{marker.size}<extra></extra>",
         "legendgroup": "Silkeborg",
         "marker": {
          "color": "#FF6692",
          "size": [
           0.015957152158692478
          ],
          "sizemode": "area",
          "sizeref": 0.00003755629999664002,
          "symbol": "circle"
         },
         "mode": "markers",
         "name": "Silkeborg",
         "orientation": "v",
         "showlegend": true,
         "type": "scatter",
         "x": [
          "Silkeborg"
         ],
         "xaxis": "x",
         "y": [
          87860
         ],
         "yaxis": "y"
        },
        {
         "hovertemplate": "municipalities=%{x}<br>pop_2008=%{y}<br>area=%{marker.size}<extra></extra>",
         "legendgroup": "Skanderborg",
         "marker": {
          "color": "#B6E880",
          "size": [
           0.01024937363728082
          ],
          "sizemode": "area",
          "sizeref": 0.00003755629999664002,
          "symbol": "circle"
         },
         "mode": "markers",
         "name": "Skanderborg",
         "orientation": "v",
         "showlegend": true,
         "type": "scatter",
         "x": [
          "Skanderborg"
         ],
         "xaxis": "x",
         "y": [
          56433
         ],
         "yaxis": "y"
        },
        {
         "hovertemplate": "municipalities=%{x}<br>pop_2008=%{y}<br>area=%{marker.size}<extra></extra>",
         "legendgroup": "Syddjurs",
         "marker": {
          "color": "#FF97FF",
          "size": [
           0.0075230725781625304
          ],
          "sizemode": "area",
          "sizeref": 0.00003755629999664002,
          "symbol": "circle"
         },
         "mode": "markers",
         "name": "Syddjurs",
         "orientation": "v",
         "showlegend": true,
         "type": "scatter",
         "x": [
          "Syddjurs"
         ],
         "xaxis": "x",
         "y": [
          41422
         ],
         "yaxis": "y"
        },
        {
         "hovertemplate": "municipalities=%{x}<br>pop_2008=%{y}<br>area=%{marker.size}<extra></extra>",
         "legendgroup": "Aarhus",
         "marker": {
          "color": "#FECB52",
          "size": [
           0.05486383478372211
          ],
          "sizemode": "area",
          "sizeref": 0.00003755629999664002,
          "symbol": "circle"
         },
         "mode": "markers",
         "name": "Aarhus",
         "orientation": "v",
         "showlegend": true,
         "type": "scatter",
         "x": [
          "Aarhus"
         ],
         "xaxis": "x",
         "y": [
          302080
         ],
         "yaxis": "y"
        },
        {
         "hovertemplate": "municipalities=%{x}<br>pop_2008=%{y}<br>area=%{marker.size}<extra></extra>",
         "legendgroup": "Herning",
         "marker": {
          "color": "#636efa",
          "size": [
           0.015453700920542063
          ],
          "sizemode": "area",
          "sizeref": 0.00003755629999664002,
          "symbol": "circle"
         },
         "mode": "markers",
         "name": "Herning",
         "orientation": "v",
         "showlegend": true,
         "type": "scatter",
         "x": [
          "Herning"
         ],
         "xaxis": "x",
         "y": [
          85088
         ],
         "yaxis": "y"
        },
        {
         "hovertemplate": "municipalities=%{x}<br>pop_2008=%{y}<br>area=%{marker.size}<extra></extra>",
         "legendgroup": "Holstebro",
         "marker": {
          "color": "#EF553B",
          "size": [
           0.010368153258402886
          ],
          "sizemode": "area",
          "sizeref": 0.00003755629999664002,
          "symbol": "circle"
         },
         "mode": "markers",
         "name": "Holstebro",
         "orientation": "v",
         "showlegend": true,
         "type": "scatter",
         "x": [
          "Holstebro"
         ],
         "xaxis": "x",
         "y": [
          57087
         ],
         "yaxis": "y"
        },
        {
         "hovertemplate": "municipalities=%{x}<br>pop_2008=%{y}<br>area=%{marker.size}<extra></extra>",
         "legendgroup": "Ikast-Brande",
         "marker": {
          "color": "#00cc96",
          "size": [
           0.007289872221097186
          ],
          "sizemode": "area",
          "sizeref": 0.00003755629999664002,
          "symbol": "circle"
         },
         "mode": "markers",
         "name": "Ikast-Brande",
         "orientation": "v",
         "showlegend": true,
         "type": "scatter",
         "x": [
          "Ikast-Brande"
         ],
         "xaxis": "x",
         "y": [
          40138
         ],
         "yaxis": "y"
        },
        {
         "hovertemplate": "municipalities=%{x}<br>pop_2008=%{y}<br>area=%{marker.size}<extra></extra>",
         "legendgroup": "Lemvig",
         "marker": {
          "color": "#ab63fa",
          "size": [
           0.003981296750178669
          ],
          "sizemode": "area",
          "sizeref": 0.00003755629999664002,
          "symbol": "circle"
         },
         "mode": "markers",
         "name": "Lemvig",
         "orientation": "v",
         "showlegend": true,
         "type": "scatter",
         "x": [
          "Lemvig"
         ],
         "xaxis": "x",
         "y": [
          21921
         ],
         "yaxis": "y"
        },
        {
         "hovertemplate": "municipalities=%{x}<br>pop_2008=%{y}<br>area=%{marker.size}<extra></extra>",
         "legendgroup": "Ringkøbing-Skjern",
         "marker": {
          "color": "#FFA15A",
          "size": [
           0.010664375830344923
          ],
          "sizemode": "area",
          "sizeref": 0.00003755629999664002,
          "symbol": "circle"
         },
         "mode": "markers",
         "name": "Ringkøbing-Skjern",
         "orientation": "v",
         "showlegend": true,
         "type": "scatter",
         "x": [
          "Ringkøbing-Skjern"
         ],
         "xaxis": "x",
         "y": [
          58718
         ],
         "yaxis": "y"
        },
        {
         "hovertemplate": "municipalities=%{x}<br>pop_2008=%{y}<br>area=%{marker.size}<extra></extra>",
         "legendgroup": "Skive",
         "marker": {
          "color": "#19d3f3",
          "size": [
           0.008774072624475686
          ],
          "sizemode": "area",
          "sizeref": 0.00003755629999664002,
          "symbol": "circle"
         },
         "mode": "markers",
         "name": "Skive",
         "orientation": "v",
         "showlegend": true,
         "type": "scatter",
         "x": [
          "Skive"
         ],
         "xaxis": "x",
         "y": [
          48310
         ],
         "yaxis": "y"
        },
        {
         "hovertemplate": "municipalities=%{x}<br>pop_2008=%{y}<br>area=%{marker.size}<extra></extra>",
         "legendgroup": "Struer",
         "marker": {
          "color": "#FF6692",
          "size": [
           0.004120054595036864
          ],
          "sizemode": "area",
          "sizeref": 0.00003755629999664002,
          "symbol": "circle"
         },
         "mode": "markers",
         "name": "Struer",
         "orientation": "v",
         "showlegend": true,
         "type": "scatter",
         "x": [
          "Struer"
         ],
         "xaxis": "x",
         "y": [
          22685
         ],
         "yaxis": "y"
        },
        {
         "hovertemplate": "municipalities=%{x}<br>pop_2008=%{y}<br>area=%{marker.size}<extra></extra>",
         "legendgroup": "Viborg",
         "marker": {
          "color": "#B6E880",
          "size": [
           0.01682311734754572
          ],
          "sizemode": "area",
          "sizeref": 0.00003755629999664002,
          "symbol": "circle"
         },
         "mode": "markers",
         "name": "Viborg",
         "orientation": "v",
         "showlegend": true,
         "type": "scatter",
         "x": [
          "Viborg"
         ],
         "xaxis": "x",
         "y": [
          92628
         ],
         "yaxis": "y"
        },
        {
         "hovertemplate": "municipalities=%{x}<br>pop_2008=%{y}<br>area=%{marker.size}<extra></extra>",
         "legendgroup": "Brønderslev",
         "marker": {
          "color": "#FF97FF",
          "size": [
           0.006484204943883894
          ],
          "sizemode": "area",
          "sizeref": 0.00003755629999664002,
          "symbol": "circle"
         },
         "mode": "markers",
         "name": "Brønderslev",
         "orientation": "v",
         "showlegend": true,
         "type": "scatter",
         "x": [
          "Brønderslev"
         ],
         "xaxis": "x",
         "y": [
          35702
         ],
         "yaxis": "y"
        },
        {
         "hovertemplate": "municipalities=%{x}<br>pop_2008=%{y}<br>area=%{marker.size}<extra></extra>",
         "legendgroup": "Frederikshavn",
         "marker": {
          "color": "#FECB52",
          "size": [
           0.01136597472391457
          ],
          "sizemode": "area",
          "sizeref": 0.00003755629999664002,
          "symbol": "circle"
         },
         "mode": "markers",
         "name": "Frederikshavn",
         "orientation": "v",
         "showlegend": true,
         "type": "scatter",
         "x": [
          "Frederikshavn"
         ],
         "xaxis": "x",
         "y": [
          62581
         ],
         "yaxis": "y"
        },
        {
         "hovertemplate": "municipalities=%{x}<br>pop_2008=%{y}<br>area=%{marker.size}<extra></extra>",
         "legendgroup": "Hjørring",
         "marker": {
          "color": "#636efa",
          "size": [
           0.012190893744000857
          ],
          "sizemode": "area",
          "sizeref": 0.00003755629999664002,
          "symbol": "circle"
         },
         "mode": "markers",
         "name": "Hjørring",
         "orientation": "v",
         "showlegend": true,
         "type": "scatter",
         "x": [
          "Hjørring"
         ],
         "xaxis": "x",
         "y": [
          67123
         ],
         "yaxis": "y"
        },
        {
         "hovertemplate": "municipalities=%{x}<br>pop_2008=%{y}<br>area=%{marker.size}<extra></extra>",
         "legendgroup": "Jammerbugt",
         "marker": {
          "color": "#EF553B",
          "size": [
           0.007089908363520127
          ],
          "sizemode": "area",
          "sizeref": 0.00003755629999664002,
          "symbol": "circle"
         },
         "mode": "markers",
         "name": "Jammerbugt",
         "orientation": "v",
         "showlegend": true,
         "type": "scatter",
         "x": [
          "Jammerbugt"
         ],
         "xaxis": "x",
         "y": [
          39037
         ],
         "yaxis": "y"
        },
        {
         "hovertemplate": "municipalities=%{x}<br>pop_2008=%{y}<br>area=%{marker.size}<extra></extra>",
         "legendgroup": "Læsø",
         "marker": {
          "color": "#00cc96",
          "size": [
           0.00036160584962390994
          ],
          "sizemode": "area",
          "sizeref": 0.00003755629999664002,
          "symbol": "circle"
         },
         "mode": "markers",
         "name": "Læsø",
         "orientation": "v",
         "showlegend": true,
         "type": "scatter",
         "x": [
          "Læsø"
         ],
         "xaxis": "x",
         "y": [
          1991
         ],
         "yaxis": "y"
        },
        {
         "hovertemplate": "municipalities=%{x}<br>pop_2008=%{y}<br>area=%{marker.size}<extra></extra>",
         "legendgroup": "Mariagerfjord",
         "marker": {
          "color": "#ab63fa",
          "size": [
           0.007766262047095938
          ],
          "sizemode": "area",
          "sizeref": 0.00003755629999664002,
          "symbol": "circle"
         },
         "mode": "markers",
         "name": "Mariagerfjord",
         "orientation": "v",
         "showlegend": true,
         "type": "scatter",
         "x": [
          "Mariagerfjord"
         ],
         "xaxis": "x",
         "y": [
          42761
         ],
         "yaxis": "y"
        },
        {
         "hovertemplate": "municipalities=%{x}<br>pop_2008=%{y}<br>area=%{marker.size}<extra></extra>",
         "legendgroup": "Morsø",
         "marker": {
          "color": "#FFA15A",
          "size": [
           0.004020345096572009
          ],
          "sizemode": "area",
          "sizeref": 0.00003755629999664002,
          "symbol": "circle"
         },
         "mode": "markers",
         "name": "Morsø",
         "orientation": "v",
         "showlegend": true,
         "type": "scatter",
         "x": [
          "Morsø"
         ],
         "xaxis": "x",
         "y": [
          22136
         ],
         "yaxis": "y"
        },
        {
         "hovertemplate": "municipalities=%{x}<br>pop_2008=%{y}<br>area=%{marker.size}<extra></extra>",
         "legendgroup": "Rebild",
         "marker": {
          "color": "#19d3f3",
          "size": [
           0.0052439204903019345
          ],
          "sizemode": "area",
          "sizeref": 0.00003755629999664002,
          "symbol": "circle"
         },
         "mode": "markers",
         "name": "Rebild",
         "orientation": "v",
         "showlegend": true,
         "type": "scatter",
         "x": [
          "Rebild"
         ],
         "xaxis": "x",
         "y": [
          28873
         ],
         "yaxis": "y"
        },
        {
         "hovertemplate": "municipalities=%{x}<br>pop_2008=%{y}<br>area=%{marker.size}<extra></extra>",
         "legendgroup": "Thisted",
         "marker": {
          "color": "#FF6692",
          "size": [
           0.008264809539420213
          ],
          "sizemode": "area",
          "sizeref": 0.00003755629999664002,
          "symbol": "circle"
         },
         "mode": "markers",
         "name": "Thisted",
         "orientation": "v",
         "showlegend": true,
         "type": "scatter",
         "x": [
          "Thisted"
         ],
         "xaxis": "x",
         "y": [
          45506
         ],
         "yaxis": "y"
        },
        {
         "hovertemplate": "municipalities=%{x}<br>pop_2008=%{y}<br>area=%{marker.size}<extra></extra>",
         "legendgroup": "Vesthimmerlands",
         "marker": {
          "color": "#B6E880",
          "size": [
           0.007000187976923335
          ],
          "sizemode": "area",
          "sizeref": 0.00003755629999664002,
          "symbol": "circle"
         },
         "mode": "markers",
         "name": "Vesthimmerlands",
         "orientation": "v",
         "showlegend": true,
         "type": "scatter",
         "x": [
          "Vesthimmerlands"
         ],
         "xaxis": "x",
         "y": [
          38543
         ],
         "yaxis": "y"
        },
        {
         "hovertemplate": "municipalities=%{x}<br>pop_2008=%{y}<br>area=%{marker.size}<extra></extra>",
         "legendgroup": "Aalborg",
         "marker": {
          "color": "#FF97FF",
          "size": [
           0.03562262588324181
          ],
          "sizemode": "area",
          "sizeref": 0.00003755629999664002,
          "symbol": "circle"
         },
         "mode": "markers",
         "name": "Aalborg",
         "orientation": "v",
         "showlegend": true,
         "type": "scatter",
         "x": [
          "Aalborg"
         ],
         "xaxis": "x",
         "y": [
          196138
         ],
         "yaxis": "y"
        }
       ],
       "layout": {
        "legend": {
         "itemsizing": "constant",
         "title": {
          "text": "municipalities"
         },
         "tracegroupgap": 0
        },
        "margin": {
         "t": 60
        },
        "template": {
         "data": {
          "bar": [
           {
            "error_x": {
             "color": "#2a3f5f"
            },
            "error_y": {
             "color": "#2a3f5f"
            },
            "marker": {
             "line": {
              "color": "#E5ECF6",
              "width": 0.5
             },
             "pattern": {
              "fillmode": "overlay",
              "size": 10,
              "solidity": 0.2
             }
            },
            "type": "bar"
           }
          ],
          "barpolar": [
           {
            "marker": {
             "line": {
              "color": "#E5ECF6",
              "width": 0.5
             },
             "pattern": {
              "fillmode": "overlay",
              "size": 10,
              "solidity": 0.2
             }
            },
            "type": "barpolar"
           }
          ],
          "carpet": [
           {
            "aaxis": {
             "endlinecolor": "#2a3f5f",
             "gridcolor": "white",
             "linecolor": "white",
             "minorgridcolor": "white",
             "startlinecolor": "#2a3f5f"
            },
            "baxis": {
             "endlinecolor": "#2a3f5f",
             "gridcolor": "white",
             "linecolor": "white",
             "minorgridcolor": "white",
             "startlinecolor": "#2a3f5f"
            },
            "type": "carpet"
           }
          ],
          "choropleth": [
           {
            "colorbar": {
             "outlinewidth": 0,
             "ticks": ""
            },
            "type": "choropleth"
           }
          ],
          "contour": [
           {
            "colorbar": {
             "outlinewidth": 0,
             "ticks": ""
            },
            "colorscale": [
             [
              0,
              "#0d0887"
             ],
             [
              0.1111111111111111,
              "#46039f"
             ],
             [
              0.2222222222222222,
              "#7201a8"
             ],
             [
              0.3333333333333333,
              "#9c179e"
             ],
             [
              0.4444444444444444,
              "#bd3786"
             ],
             [
              0.5555555555555556,
              "#d8576b"
             ],
             [
              0.6666666666666666,
              "#ed7953"
             ],
             [
              0.7777777777777778,
              "#fb9f3a"
             ],
             [
              0.8888888888888888,
              "#fdca26"
             ],
             [
              1,
              "#f0f921"
             ]
            ],
            "type": "contour"
           }
          ],
          "contourcarpet": [
           {
            "colorbar": {
             "outlinewidth": 0,
             "ticks": ""
            },
            "type": "contourcarpet"
           }
          ],
          "heatmap": [
           {
            "colorbar": {
             "outlinewidth": 0,
             "ticks": ""
            },
            "colorscale": [
             [
              0,
              "#0d0887"
             ],
             [
              0.1111111111111111,
              "#46039f"
             ],
             [
              0.2222222222222222,
              "#7201a8"
             ],
             [
              0.3333333333333333,
              "#9c179e"
             ],
             [
              0.4444444444444444,
              "#bd3786"
             ],
             [
              0.5555555555555556,
              "#d8576b"
             ],
             [
              0.6666666666666666,
              "#ed7953"
             ],
             [
              0.7777777777777778,
              "#fb9f3a"
             ],
             [
              0.8888888888888888,
              "#fdca26"
             ],
             [
              1,
              "#f0f921"
             ]
            ],
            "type": "heatmap"
           }
          ],
          "heatmapgl": [
           {
            "colorbar": {
             "outlinewidth": 0,
             "ticks": ""
            },
            "colorscale": [
             [
              0,
              "#0d0887"
             ],
             [
              0.1111111111111111,
              "#46039f"
             ],
             [
              0.2222222222222222,
              "#7201a8"
             ],
             [
              0.3333333333333333,
              "#9c179e"
             ],
             [
              0.4444444444444444,
              "#bd3786"
             ],
             [
              0.5555555555555556,
              "#d8576b"
             ],
             [
              0.6666666666666666,
              "#ed7953"
             ],
             [
              0.7777777777777778,
              "#fb9f3a"
             ],
             [
              0.8888888888888888,
              "#fdca26"
             ],
             [
              1,
              "#f0f921"
             ]
            ],
            "type": "heatmapgl"
           }
          ],
          "histogram": [
           {
            "marker": {
             "pattern": {
              "fillmode": "overlay",
              "size": 10,
              "solidity": 0.2
             }
            },
            "type": "histogram"
           }
          ],
          "histogram2d": [
           {
            "colorbar": {
             "outlinewidth": 0,
             "ticks": ""
            },
            "colorscale": [
             [
              0,
              "#0d0887"
             ],
             [
              0.1111111111111111,
              "#46039f"
             ],
             [
              0.2222222222222222,
              "#7201a8"
             ],
             [
              0.3333333333333333,
              "#9c179e"
             ],
             [
              0.4444444444444444,
              "#bd3786"
             ],
             [
              0.5555555555555556,
              "#d8576b"
             ],
             [
              0.6666666666666666,
              "#ed7953"
             ],
             [
              0.7777777777777778,
              "#fb9f3a"
             ],
             [
              0.8888888888888888,
              "#fdca26"
             ],
             [
              1,
              "#f0f921"
             ]
            ],
            "type": "histogram2d"
           }
          ],
          "histogram2dcontour": [
           {
            "colorbar": {
             "outlinewidth": 0,
             "ticks": ""
            },
            "colorscale": [
             [
              0,
              "#0d0887"
             ],
             [
              0.1111111111111111,
              "#46039f"
             ],
             [
              0.2222222222222222,
              "#7201a8"
             ],
             [
              0.3333333333333333,
              "#9c179e"
             ],
             [
              0.4444444444444444,
              "#bd3786"
             ],
             [
              0.5555555555555556,
              "#d8576b"
             ],
             [
              0.6666666666666666,
              "#ed7953"
             ],
             [
              0.7777777777777778,
              "#fb9f3a"
             ],
             [
              0.8888888888888888,
              "#fdca26"
             ],
             [
              1,
              "#f0f921"
             ]
            ],
            "type": "histogram2dcontour"
           }
          ],
          "mesh3d": [
           {
            "colorbar": {
             "outlinewidth": 0,
             "ticks": ""
            },
            "type": "mesh3d"
           }
          ],
          "parcoords": [
           {
            "line": {
             "colorbar": {
              "outlinewidth": 0,
              "ticks": ""
             }
            },
            "type": "parcoords"
           }
          ],
          "pie": [
           {
            "automargin": true,
            "type": "pie"
           }
          ],
          "scatter": [
           {
            "fillpattern": {
             "fillmode": "overlay",
             "size": 10,
             "solidity": 0.2
            },
            "type": "scatter"
           }
          ],
          "scatter3d": [
           {
            "line": {
             "colorbar": {
              "outlinewidth": 0,
              "ticks": ""
             }
            },
            "marker": {
             "colorbar": {
              "outlinewidth": 0,
              "ticks": ""
             }
            },
            "type": "scatter3d"
           }
          ],
          "scattercarpet": [
           {
            "marker": {
             "colorbar": {
              "outlinewidth": 0,
              "ticks": ""
             }
            },
            "type": "scattercarpet"
           }
          ],
          "scattergeo": [
           {
            "marker": {
             "colorbar": {
              "outlinewidth": 0,
              "ticks": ""
             }
            },
            "type": "scattergeo"
           }
          ],
          "scattergl": [
           {
            "marker": {
             "colorbar": {
              "outlinewidth": 0,
              "ticks": ""
             }
            },
            "type": "scattergl"
           }
          ],
          "scattermapbox": [
           {
            "marker": {
             "colorbar": {
              "outlinewidth": 0,
              "ticks": ""
             }
            },
            "type": "scattermapbox"
           }
          ],
          "scatterpolar": [
           {
            "marker": {
             "colorbar": {
              "outlinewidth": 0,
              "ticks": ""
             }
            },
            "type": "scatterpolar"
           }
          ],
          "scatterpolargl": [
           {
            "marker": {
             "colorbar": {
              "outlinewidth": 0,
              "ticks": ""
             }
            },
            "type": "scatterpolargl"
           }
          ],
          "scatterternary": [
           {
            "marker": {
             "colorbar": {
              "outlinewidth": 0,
              "ticks": ""
             }
            },
            "type": "scatterternary"
           }
          ],
          "surface": [
           {
            "colorbar": {
             "outlinewidth": 0,
             "ticks": ""
            },
            "colorscale": [
             [
              0,
              "#0d0887"
             ],
             [
              0.1111111111111111,
              "#46039f"
             ],
             [
              0.2222222222222222,
              "#7201a8"
             ],
             [
              0.3333333333333333,
              "#9c179e"
             ],
             [
              0.4444444444444444,
              "#bd3786"
             ],
             [
              0.5555555555555556,
              "#d8576b"
             ],
             [
              0.6666666666666666,
              "#ed7953"
             ],
             [
              0.7777777777777778,
              "#fb9f3a"
             ],
             [
              0.8888888888888888,
              "#fdca26"
             ],
             [
              1,
              "#f0f921"
             ]
            ],
            "type": "surface"
           }
          ],
          "table": [
           {
            "cells": {
             "fill": {
              "color": "#EBF0F8"
             },
             "line": {
              "color": "white"
             }
            },
            "header": {
             "fill": {
              "color": "#C8D4E3"
             },
             "line": {
              "color": "white"
             }
            },
            "type": "table"
           }
          ]
         },
         "layout": {
          "annotationdefaults": {
           "arrowcolor": "#2a3f5f",
           "arrowhead": 0,
           "arrowwidth": 1
          },
          "autotypenumbers": "strict",
          "coloraxis": {
           "colorbar": {
            "outlinewidth": 0,
            "ticks": ""
           }
          },
          "colorscale": {
           "diverging": [
            [
             0,
             "#8e0152"
            ],
            [
             0.1,
             "#c51b7d"
            ],
            [
             0.2,
             "#de77ae"
            ],
            [
             0.3,
             "#f1b6da"
            ],
            [
             0.4,
             "#fde0ef"
            ],
            [
             0.5,
             "#f7f7f7"
            ],
            [
             0.6,
             "#e6f5d0"
            ],
            [
             0.7,
             "#b8e186"
            ],
            [
             0.8,
             "#7fbc41"
            ],
            [
             0.9,
             "#4d9221"
            ],
            [
             1,
             "#276419"
            ]
           ],
           "sequential": [
            [
             0,
             "#0d0887"
            ],
            [
             0.1111111111111111,
             "#46039f"
            ],
            [
             0.2222222222222222,
             "#7201a8"
            ],
            [
             0.3333333333333333,
             "#9c179e"
            ],
            [
             0.4444444444444444,
             "#bd3786"
            ],
            [
             0.5555555555555556,
             "#d8576b"
            ],
            [
             0.6666666666666666,
             "#ed7953"
            ],
            [
             0.7777777777777778,
             "#fb9f3a"
            ],
            [
             0.8888888888888888,
             "#fdca26"
            ],
            [
             1,
             "#f0f921"
            ]
           ],
           "sequentialminus": [
            [
             0,
             "#0d0887"
            ],
            [
             0.1111111111111111,
             "#46039f"
            ],
            [
             0.2222222222222222,
             "#7201a8"
            ],
            [
             0.3333333333333333,
             "#9c179e"
            ],
            [
             0.4444444444444444,
             "#bd3786"
            ],
            [
             0.5555555555555556,
             "#d8576b"
            ],
            [
             0.6666666666666666,
             "#ed7953"
            ],
            [
             0.7777777777777778,
             "#fb9f3a"
            ],
            [
             0.8888888888888888,
             "#fdca26"
            ],
            [
             1,
             "#f0f921"
            ]
           ]
          },
          "colorway": [
           "#636efa",
           "#EF553B",
           "#00cc96",
           "#ab63fa",
           "#FFA15A",
           "#19d3f3",
           "#FF6692",
           "#B6E880",
           "#FF97FF",
           "#FECB52"
          ],
          "font": {
           "color": "#2a3f5f"
          },
          "geo": {
           "bgcolor": "white",
           "lakecolor": "white",
           "landcolor": "#E5ECF6",
           "showlakes": true,
           "showland": true,
           "subunitcolor": "white"
          },
          "hoverlabel": {
           "align": "left"
          },
          "hovermode": "closest",
          "mapbox": {
           "style": "light"
          },
          "paper_bgcolor": "white",
          "plot_bgcolor": "#E5ECF6",
          "polar": {
           "angularaxis": {
            "gridcolor": "white",
            "linecolor": "white",
            "ticks": ""
           },
           "bgcolor": "#E5ECF6",
           "radialaxis": {
            "gridcolor": "white",
            "linecolor": "white",
            "ticks": ""
           }
          },
          "scene": {
           "xaxis": {
            "backgroundcolor": "#E5ECF6",
            "gridcolor": "white",
            "gridwidth": 2,
            "linecolor": "white",
            "showbackground": true,
            "ticks": "",
            "zerolinecolor": "white"
           },
           "yaxis": {
            "backgroundcolor": "#E5ECF6",
            "gridcolor": "white",
            "gridwidth": 2,
            "linecolor": "white",
            "showbackground": true,
            "ticks": "",
            "zerolinecolor": "white"
           },
           "zaxis": {
            "backgroundcolor": "#E5ECF6",
            "gridcolor": "white",
            "gridwidth": 2,
            "linecolor": "white",
            "showbackground": true,
            "ticks": "",
            "zerolinecolor": "white"
           }
          },
          "shapedefaults": {
           "line": {
            "color": "#2a3f5f"
           }
          },
          "ternary": {
           "aaxis": {
            "gridcolor": "white",
            "linecolor": "white",
            "ticks": ""
           },
           "baxis": {
            "gridcolor": "white",
            "linecolor": "white",
            "ticks": ""
           },
           "bgcolor": "#E5ECF6",
           "caxis": {
            "gridcolor": "white",
            "linecolor": "white",
            "ticks": ""
           }
          },
          "title": {
           "x": 0.05
          },
          "xaxis": {
           "automargin": true,
           "gridcolor": "white",
           "linecolor": "white",
           "ticks": "",
           "title": {
            "standoff": 15
           },
           "zerolinecolor": "white",
           "zerolinewidth": 2
          },
          "yaxis": {
           "automargin": true,
           "gridcolor": "white",
           "linecolor": "white",
           "ticks": "",
           "title": {
            "standoff": 15
           },
           "zerolinecolor": "white",
           "zerolinewidth": 2
          }
         }
        },
        "title": {
         "text": "Population Proportional Area Chart (2008)"
        },
        "xaxis": {
         "anchor": "y",
         "categoryarray": [
          "Copenhagen",
          "Frederiksberg",
          "Dragør",
          "Tårnby",
          "Albertslund",
          "Ballerup",
          "Brøndby",
          "Gentofte",
          "Gladsaxe",
          "Glostrup",
          "Herlev",
          "Hvidovre",
          "Høje-Taastrup",
          "Ishøj",
          "Lyngby-Taarbæk",
          "Rødovre",
          "Vallensbæk",
          "Allerød",
          "Egedal",
          "Fredensborg",
          "Frederikssund",
          "Furesø",
          "Gribskov",
          "Halsnæs",
          "Helsingør",
          "Hillerød",
          "Hørsholm",
          "Rudersdal",
          "Bornholm",
          "Christiansø",
          "Greve",
          "Køge",
          "Lejre",
          "Roskilde",
          "Solrød",
          "Faxe",
          "Guldborgsund",
          "Holbæk",
          "Kalundborg",
          "Lolland",
          "Næstved",
          "Odsherred",
          "Ringsted",
          "Slagelse",
          "Sorø",
          "Stevns",
          "Vordingborg",
          "Assens",
          "Faaborg-Midtfyn",
          "Kerteminde",
          "Langeland",
          "Middelfart",
          "Nordfyns",
          "Nyborg",
          "Odense",
          "Svendborg",
          "Ærø",
          "Billund",
          "Esbjerg",
          "Fanø",
          "Fredericia",
          "Haderslev",
          "Kolding",
          "Sønderborg",
          "Tønder",
          "Varde",
          "Vejen",
          "Vejle",
          "Aabenraa",
          "Favrskov",
          "Hedensted",
          "Horsens",
          "Norddjurs",
          "Odder",
          "Randers",
          "Samsø",
          "Silkeborg",
          "Skanderborg",
          "Syddjurs",
          "Aarhus",
          "Herning",
          "Holstebro",
          "Ikast-Brande",
          "Lemvig",
          "Ringkøbing-Skjern",
          "Skive",
          "Struer",
          "Viborg",
          "Brønderslev",
          "Frederikshavn",
          "Hjørring",
          "Jammerbugt",
          "Læsø",
          "Mariagerfjord",
          "Morsø",
          "Rebild",
          "Thisted",
          "Vesthimmerlands",
          "Aalborg"
         ],
         "categoryorder": "array",
         "domain": [
          0,
          1
         ],
         "title": {
          "text": "Municipality"
         }
        },
        "yaxis": {
         "anchor": "x",
         "domain": [
          0,
          1
         ],
         "title": {
          "text": "Population"
         }
        }
       }
      }
     },
     "metadata": {},
     "output_type": "display_data"
    },
    {
     "data": {
      "text/plain": [
       "<function __main__.create_chart(year)>"
      ]
     },
     "execution_count": 181,
     "metadata": {},
     "output_type": "execute_result"
    }
   ],
   "source": [
    "from ipywidgets import interact, widgets\n",
    "\n",
    "# Define the interactive widget for selecting the year\n",
    "year_widget = widgets.IntSlider(\n",
    "    value=2008,\n",
    "    min=2008,\n",
    "    max=2022,\n",
    "    step=1,\n",
    "    description='Year:'\n",
    ")\n",
    "\n",
    "# Define the function that creates the proportional area chart\n",
    "def create_chart(year):\n",
    "    # Filter the data to only include the selected year\n",
    "    year_data = pop_year[['municipalities', f'pop_{year}']]\n",
    "    \n",
    "    # Calculate the total population for the year\n",
    "    total_pop = year_data[f'pop_{year}'].sum()\n",
    "    \n",
    "    # Calculate the proportional area for each municipality\n",
    "    year_data['area'] = year_data[f'pop_{year}']/total_pop\n",
    "    \n",
    "    # Create the chart using Plotly Express\n",
    "    fig = px.scatter(year_data, x='municipalities', y=f'pop_{year}', size='area', color='municipalities', size_max=50)\n",
    "    fig.update_layout(\n",
    "        title=f'Population Proportional Area Chart ({year})',\n",
    "        xaxis_title='Municipality',\n",
    "        yaxis_title='Population',\n",
    "    )\n",
    "    fig.show()\n",
    "\n",
    "# Create the interactive widget\n",
    "interact(create_chart, year=year_widget)\n",
    "\n"
   ]
  },
  {
   "cell_type": "code",
   "execution_count": 182,
   "metadata": {},
   "outputs": [
    {
     "data": {
      "application/vnd.jupyter.widget-view+json": {
       "model_id": "e21f89cdfbcc43518d3be7c1c51d50f0",
       "version_major": 2,
       "version_minor": 0
      },
      "text/plain": [
       "interactive(children=(IntSlider(value=2007, description='year', max=2022, min=2007), Output()), _dom_classes=(…"
      ]
     },
     "metadata": {},
     "output_type": "display_data"
    }
   ],
   "source": [
    "from IPython.display import display\n",
    "\n",
    "# Create a function to plot the boxplot and statistics\n",
    "def plot_boxplot(year):\n",
    "    # Filter the dataframe for the given year\n",
    "    year_col = f'crim_{year}'\n",
    "    data = criminality_year[['municipalities', year_col]]\n",
    "\n",
    "    # Sort the municipalities by the number of crimes\n",
    "    sorted_data = data.sort_values(by=year_col, ascending=False)\n",
    "\n",
    "    # Get the top and bottom 5 municipalities\n",
    "    top_5 = sorted_data.head(5)\n",
    "    bottom_5 = sorted_data.tail(5)\n",
    "\n",
    "    # Calculate the mean and standard deviation\n",
    "    mean = data[year_col].mean()\n",
    "    std = data[year_col].std()\n",
    "\n",
    "    # Create the boxplot\n",
    "    fig, (ax1, ax2) = plt.subplots(2, 1)\n",
    "    sns.boxplot(x=data[year_col], ax=ax1)\n",
    "    ax1.set_title(f'Crime Distribution {year}')\n",
    "    ax1.set_xlabel('Number of Crimes')\n",
    "\n",
    "    # Create the subplot for the statistics\n",
    "    # Create a bar plot for the top 5 and bottom 5 municipalities\n",
    "    sns.barplot(x=year_col, y='municipalities', data=pd.concat([top_5, bottom_5]), ax=ax2)\n",
    "\n",
    "    # Add a line for the mean and standard deviation\n",
    "    ax2.axvline(x=mean, color='r', linestyle='--')\n",
    "    ax2.axvline(x=mean+std, color='gray', linestyle='--')\n",
    "    ax2.axvline(x=mean-std, color='gray', linestyle='--')\n",
    "    ax2.set_yticks(range(len(top_5)+len(bottom_5)))\n",
    "    ax2.set_yticklabels(list(top_5['municipalities']) + list(bottom_5['municipalities']), fontsize=8)\n",
    "\n",
    "    plt.show()\n",
    "\n",
    "# Create the interactive plot\n",
    "year_slider = widgets.IntSlider(min=2007, max=2022, step=1, value=2007)\n",
    "widgets.interactive(plot_boxplot, year=year_slider)\n"
   ]
  },
  {
   "attachments": {},
   "cell_type": "markdown",
   "metadata": {},
   "source": [
    "**INTERPRETATION**\n",
    "\n",
    "**As can be seen in the distribution graphs above, the average number of crimes per municipality has been decreasing from a mean of 5068.58 and median of 3218.50, to a mean of 4372.54 and median of 2230.00. The reason that the mean and median are so high is that municipalities with larger populations such as Copenhagen, Aarhus, Odense and Aalborg have a crime level that is far from the national average.**\n"
   ]
  },
  {
   "cell_type": "code",
   "execution_count": 184,
   "metadata": {},
   "outputs": [
    {
     "data": {
      "text/html": [
       "<h3>Statistics about criminality in Denmark</h3>"
      ],
      "text/plain": [
       "<IPython.core.display.HTML object>"
      ]
     },
     "metadata": {},
     "output_type": "display_data"
    },
    {
     "data": {
      "text/html": [
       "<style type=\"text/css\">\n",
       "</style>\n",
       "<table id=\"T_dcf09\">\n",
       "  <thead>\n",
       "    <tr>\n",
       "      <th class=\"index_name level0\" ></th>\n",
       "      <th id=\"T_dcf09_level0_col0\" class=\"col_heading level0 col0\" >Mean</th>\n",
       "      <th id=\"T_dcf09_level0_col1\" class=\"col_heading level0 col1\" >Median</th>\n",
       "      <th id=\"T_dcf09_level0_col2\" class=\"col_heading level0 col2\" >Max</th>\n",
       "      <th id=\"T_dcf09_level0_col3\" class=\"col_heading level0 col3\" >Min</th>\n",
       "      <th id=\"T_dcf09_level0_col4\" class=\"col_heading level0 col4\" >Std</th>\n",
       "    </tr>\n",
       "    <tr>\n",
       "      <th class=\"index_name level0\" >Year</th>\n",
       "      <th class=\"blank col0\" >&nbsp;</th>\n",
       "      <th class=\"blank col1\" >&nbsp;</th>\n",
       "      <th class=\"blank col2\" >&nbsp;</th>\n",
       "      <th class=\"blank col3\" >&nbsp;</th>\n",
       "      <th class=\"blank col4\" >&nbsp;</th>\n",
       "    </tr>\n",
       "  </thead>\n",
       "  <tbody>\n",
       "    <tr>\n",
       "      <th id=\"T_dcf09_level0_row0\" class=\"row_heading level0 row0\" >2007</th>\n",
       "      <td id=\"T_dcf09_row0_col0\" class=\"data row0 col0\" >5068.58</td>\n",
       "      <td id=\"T_dcf09_row0_col1\" class=\"data row0 col1\" >3218.50</td>\n",
       "      <td id=\"T_dcf09_row0_col2\" class=\"data row0 col2\" >93077.00</td>\n",
       "      <td id=\"T_dcf09_row0_col3\" class=\"data row0 col3\" >1.00</td>\n",
       "      <td id=\"T_dcf09_row0_col4\" class=\"data row0 col4\" >10007.75</td>\n",
       "    </tr>\n",
       "    <tr>\n",
       "      <th id=\"T_dcf09_level0_row1\" class=\"row_heading level0 row1\" >2008</th>\n",
       "      <td id=\"T_dcf09_row1_col0\" class=\"data row1 col0\" >5391.22</td>\n",
       "      <td id=\"T_dcf09_row1_col1\" class=\"data row1 col1\" >3314.50</td>\n",
       "      <td id=\"T_dcf09_row1_col2\" class=\"data row1 col2\" >95101.00</td>\n",
       "      <td id=\"T_dcf09_row1_col3\" class=\"data row1 col3\" >0.00</td>\n",
       "      <td id=\"T_dcf09_row1_col4\" class=\"data row1 col4\" >10185.38</td>\n",
       "    </tr>\n",
       "    <tr>\n",
       "      <th id=\"T_dcf09_level0_row2\" class=\"row_heading level0 row2\" >2009</th>\n",
       "      <td id=\"T_dcf09_row2_col0\" class=\"data row2 col0\" >5551.92</td>\n",
       "      <td id=\"T_dcf09_row2_col1\" class=\"data row2 col1\" >3391.50</td>\n",
       "      <td id=\"T_dcf09_row2_col2\" class=\"data row2 col2\" >96970.00</td>\n",
       "      <td id=\"T_dcf09_row2_col3\" class=\"data row2 col3\" >0.00</td>\n",
       "      <td id=\"T_dcf09_row2_col4\" class=\"data row2 col4\" >10358.16</td>\n",
       "    </tr>\n",
       "    <tr>\n",
       "      <th id=\"T_dcf09_level0_row3\" class=\"row_heading level0 row3\" >2010</th>\n",
       "      <td id=\"T_dcf09_row3_col0\" class=\"data row3 col0\" >5343.01</td>\n",
       "      <td id=\"T_dcf09_row3_col1\" class=\"data row3 col1\" >3216.00</td>\n",
       "      <td id=\"T_dcf09_row3_col2\" class=\"data row3 col2\" >94792.00</td>\n",
       "      <td id=\"T_dcf09_row3_col3\" class=\"data row3 col3\" >0.00</td>\n",
       "      <td id=\"T_dcf09_row3_col4\" class=\"data row3 col4\" >10151.92</td>\n",
       "    </tr>\n",
       "    <tr>\n",
       "      <th id=\"T_dcf09_level0_row4\" class=\"row_heading level0 row4\" >2011</th>\n",
       "      <td id=\"T_dcf09_row4_col0\" class=\"data row4 col0\" >5434.64</td>\n",
       "      <td id=\"T_dcf09_row4_col1\" class=\"data row4 col1\" >3287.00</td>\n",
       "      <td id=\"T_dcf09_row4_col2\" class=\"data row4 col2\" >99787.00</td>\n",
       "      <td id=\"T_dcf09_row4_col3\" class=\"data row4 col3\" >1.00</td>\n",
       "      <td id=\"T_dcf09_row4_col4\" class=\"data row4 col4\" >10750.61</td>\n",
       "    </tr>\n",
       "    <tr>\n",
       "      <th id=\"T_dcf09_level0_row5\" class=\"row_heading level0 row5\" >2012</th>\n",
       "      <td id=\"T_dcf09_row5_col0\" class=\"data row5 col0\" >5187.04</td>\n",
       "      <td id=\"T_dcf09_row5_col1\" class=\"data row5 col1\" >2897.00</td>\n",
       "      <td id=\"T_dcf09_row5_col2\" class=\"data row5 col2\" >102135.00</td>\n",
       "      <td id=\"T_dcf09_row5_col3\" class=\"data row5 col3\" >0.00</td>\n",
       "      <td id=\"T_dcf09_row5_col4\" class=\"data row5 col4\" >10861.66</td>\n",
       "    </tr>\n",
       "    <tr>\n",
       "      <th id=\"T_dcf09_level0_row6\" class=\"row_heading level0 row6\" >2013</th>\n",
       "      <td id=\"T_dcf09_row6_col0\" class=\"data row6 col0\" >5202.36</td>\n",
       "      <td id=\"T_dcf09_row6_col1\" class=\"data row6 col1\" >2877.00</td>\n",
       "      <td id=\"T_dcf09_row6_col2\" class=\"data row6 col2\" >102478.00</td>\n",
       "      <td id=\"T_dcf09_row6_col3\" class=\"data row6 col3\" >0.00</td>\n",
       "      <td id=\"T_dcf09_row6_col4\" class=\"data row6 col4\" >10892.56</td>\n",
       "    </tr>\n",
       "    <tr>\n",
       "      <th id=\"T_dcf09_level0_row7\" class=\"row_heading level0 row7\" >2014</th>\n",
       "      <td id=\"T_dcf09_row7_col0\" class=\"data row7 col0\" >4974.75</td>\n",
       "      <td id=\"T_dcf09_row7_col1\" class=\"data row7 col1\" >2809.00</td>\n",
       "      <td id=\"T_dcf09_row7_col2\" class=\"data row7 col2\" >97983.00</td>\n",
       "      <td id=\"T_dcf09_row7_col3\" class=\"data row7 col3\" >0.00</td>\n",
       "      <td id=\"T_dcf09_row7_col4\" class=\"data row7 col4\" >10392.94</td>\n",
       "    </tr>\n",
       "    <tr>\n",
       "      <th id=\"T_dcf09_level0_row8\" class=\"row_heading level0 row8\" >2015</th>\n",
       "      <td id=\"T_dcf09_row8_col0\" class=\"data row8 col0\" >4762.91</td>\n",
       "      <td id=\"T_dcf09_row8_col1\" class=\"data row8 col1\" >2677.50</td>\n",
       "      <td id=\"T_dcf09_row8_col2\" class=\"data row8 col2\" >93883.00</td>\n",
       "      <td id=\"T_dcf09_row8_col3\" class=\"data row8 col3\" >1.00</td>\n",
       "      <td id=\"T_dcf09_row8_col4\" class=\"data row8 col4\" >9967.43</td>\n",
       "    </tr>\n",
       "    <tr>\n",
       "      <th id=\"T_dcf09_level0_row9\" class=\"row_heading level0 row9\" >2016</th>\n",
       "      <td id=\"T_dcf09_row9_col0\" class=\"data row9 col0\" >4879.13</td>\n",
       "      <td id=\"T_dcf09_row9_col1\" class=\"data row9 col1\" >2656.50</td>\n",
       "      <td id=\"T_dcf09_row9_col2\" class=\"data row9 col2\" >102763.00</td>\n",
       "      <td id=\"T_dcf09_row9_col3\" class=\"data row9 col3\" >0.00</td>\n",
       "      <td id=\"T_dcf09_row9_col4\" class=\"data row9 col4\" >10819.89</td>\n",
       "    </tr>\n",
       "    <tr>\n",
       "      <th id=\"T_dcf09_level0_row10\" class=\"row_heading level0 row10\" >2017</th>\n",
       "      <td id=\"T_dcf09_row10_col0\" class=\"data row10 col0\" >4852.94</td>\n",
       "      <td id=\"T_dcf09_row10_col1\" class=\"data row10 col1\" >2589.50</td>\n",
       "      <td id=\"T_dcf09_row10_col2\" class=\"data row10 col2\" >93446.00</td>\n",
       "      <td id=\"T_dcf09_row10_col3\" class=\"data row10 col3\" >1.00</td>\n",
       "      <td id=\"T_dcf09_row10_col4\" class=\"data row10 col4\" >10102.28</td>\n",
       "    </tr>\n",
       "    <tr>\n",
       "      <th id=\"T_dcf09_level0_row11\" class=\"row_heading level0 row11\" >2018</th>\n",
       "      <td id=\"T_dcf09_row11_col0\" class=\"data row11 col0\" >4758.74</td>\n",
       "      <td id=\"T_dcf09_row11_col1\" class=\"data row11 col1\" >2633.00</td>\n",
       "      <td id=\"T_dcf09_row11_col2\" class=\"data row11 col2\" >89159.00</td>\n",
       "      <td id=\"T_dcf09_row11_col3\" class=\"data row11 col3\" >1.00</td>\n",
       "      <td id=\"T_dcf09_row11_col4\" class=\"data row11 col4\" >9651.70</td>\n",
       "    </tr>\n",
       "    <tr>\n",
       "      <th id=\"T_dcf09_level0_row12\" class=\"row_heading level0 row12\" >2019</th>\n",
       "      <td id=\"T_dcf09_row12_col0\" class=\"data row12 col0\" >4734.35</td>\n",
       "      <td id=\"T_dcf09_row12_col1\" class=\"data row12 col1\" >2533.50</td>\n",
       "      <td id=\"T_dcf09_row12_col2\" class=\"data row12 col2\" >93849.00</td>\n",
       "      <td id=\"T_dcf09_row12_col3\" class=\"data row12 col3\" >0.00</td>\n",
       "      <td id=\"T_dcf09_row12_col4\" class=\"data row12 col4\" >10255.16</td>\n",
       "    </tr>\n",
       "    <tr>\n",
       "      <th id=\"T_dcf09_level0_row13\" class=\"row_heading level0 row13\" >2020</th>\n",
       "      <td id=\"T_dcf09_row13_col0\" class=\"data row13 col0\" >4210.69</td>\n",
       "      <td id=\"T_dcf09_row13_col1\" class=\"data row13 col1\" >2210.00</td>\n",
       "      <td id=\"T_dcf09_row13_col2\" class=\"data row13 col2\" >75750.00</td>\n",
       "      <td id=\"T_dcf09_row13_col3\" class=\"data row13 col3\" >0.00</td>\n",
       "      <td id=\"T_dcf09_row13_col4\" class=\"data row13 col4\" >8850.71</td>\n",
       "    </tr>\n",
       "    <tr>\n",
       "      <th id=\"T_dcf09_level0_row14\" class=\"row_heading level0 row14\" >2021</th>\n",
       "      <td id=\"T_dcf09_row14_col0\" class=\"data row14 col0\" >3887.62</td>\n",
       "      <td id=\"T_dcf09_row14_col1\" class=\"data row14 col1\" >2046.00</td>\n",
       "      <td id=\"T_dcf09_row14_col2\" class=\"data row14 col2\" >70167.00</td>\n",
       "      <td id=\"T_dcf09_row14_col3\" class=\"data row14 col3\" >0.00</td>\n",
       "      <td id=\"T_dcf09_row14_col4\" class=\"data row14 col4\" >8260.66</td>\n",
       "    </tr>\n",
       "    <tr>\n",
       "      <th id=\"T_dcf09_level0_row15\" class=\"row_heading level0 row15\" >2022</th>\n",
       "      <td id=\"T_dcf09_row15_col0\" class=\"data row15 col0\" >4372.54</td>\n",
       "      <td id=\"T_dcf09_row15_col1\" class=\"data row15 col1\" >2230.00</td>\n",
       "      <td id=\"T_dcf09_row15_col2\" class=\"data row15 col2\" >81216.00</td>\n",
       "      <td id=\"T_dcf09_row15_col3\" class=\"data row15 col3\" >2.00</td>\n",
       "      <td id=\"T_dcf09_row15_col4\" class=\"data row15 col4\" >9384.14</td>\n",
       "    </tr>\n",
       "  </tbody>\n",
       "</table>\n"
      ],
      "text/plain": [
       "<pandas.io.formats.style.Styler at 0x7f8818519e50>"
      ]
     },
     "metadata": {},
     "output_type": "display_data"
    }
   ],
   "source": [
    "from IPython.display import HTML\n",
    "\n",
    "# Create an empty DataFrame to store the statistics\n",
    "criminality_stats = pd.DataFrame()\n",
    "\n",
    "# Iterate over the years and compute the statistics\n",
    "years = [str(year) for year in range(2007, 2023)]\n",
    "for year in years:\n",
    "    stats = pd.Series([criminality_year['crim_'+year].mean(), \n",
    "                       criminality_year['crim_'+year].median(),\n",
    "                       criminality_year['crim_'+year].max(), \n",
    "                       criminality_year['crim_'+year].min(),\n",
    "                       criminality_year['crim_'+year].std()],\n",
    "                      index=['Mean', 'Median', 'Max', 'Min', 'Std'])\n",
    "    # Add the statistics to the DataFrame\n",
    "    criminality_stats[year] = stats\n",
    "\n",
    "# Transpose the table and set the index name\n",
    "criminality_stats = criminality_stats.T\n",
    "criminality_stats.index.name = 'Year'\n",
    "criminality_stats.columns.name = ''\n",
    "title = 'Statistics about criminality in Denmark'\n",
    "\n",
    "# Set the number format to 2 decimals\n",
    "criminality_stats = criminality_stats.round(2)\n",
    "\n",
    "# Display the table with 2 decimal places\n",
    "display(HTML(f'<h3>{title}</h3>'))\n",
    "display(criminality_stats.style.format(\"{:.2f}\"))"
   ]
  },
  {
   "cell_type": "code",
   "execution_count": 185,
   "metadata": {},
   "outputs": [],
   "source": [
    "# Wide to long dataframe\n",
    "criminality_year_long = pd.wide_to_long(criminality_year, stubnames='crim_', i='municipalities', j='year')\n",
    "\n",
    "pop_year_long = pd.wide_to_long(pop_year, stubnames='pop_', i='municipalities', j='year')"
   ]
  },
  {
   "cell_type": "code",
   "execution_count": 186,
   "metadata": {},
   "outputs": [
    {
     "data": {
      "text/html": [
       "<div>\n",
       "<style scoped>\n",
       "    .dataframe tbody tr th:only-of-type {\n",
       "        vertical-align: middle;\n",
       "    }\n",
       "\n",
       "    .dataframe tbody tr th {\n",
       "        vertical-align: top;\n",
       "    }\n",
       "\n",
       "    .dataframe thead th {\n",
       "        text-align: right;\n",
       "    }\n",
       "</style>\n",
       "<table border=\"1\" class=\"dataframe\">\n",
       "  <thead>\n",
       "    <tr style=\"text-align: right;\">\n",
       "      <th></th>\n",
       "      <th>municipalities</th>\n",
       "      <th>year</th>\n",
       "      <th>crim_</th>\n",
       "    </tr>\n",
       "  </thead>\n",
       "  <tbody>\n",
       "    <tr>\n",
       "      <th>0</th>\n",
       "      <td>Copenhagen</td>\n",
       "      <td>2007</td>\n",
       "      <td>93077.0</td>\n",
       "    </tr>\n",
       "    <tr>\n",
       "      <th>1</th>\n",
       "      <td>Frederiksberg</td>\n",
       "      <td>2007</td>\n",
       "      <td>8149.0</td>\n",
       "    </tr>\n",
       "    <tr>\n",
       "      <th>2</th>\n",
       "      <td>Dragør</td>\n",
       "      <td>2007</td>\n",
       "      <td>671.0</td>\n",
       "    </tr>\n",
       "    <tr>\n",
       "      <th>3</th>\n",
       "      <td>Tårnby</td>\n",
       "      <td>2007</td>\n",
       "      <td>5446.0</td>\n",
       "    </tr>\n",
       "    <tr>\n",
       "      <th>4</th>\n",
       "      <td>Albertslund</td>\n",
       "      <td>2007</td>\n",
       "      <td>2903.0</td>\n",
       "    </tr>\n",
       "    <tr>\n",
       "      <th>...</th>\n",
       "      <td>...</td>\n",
       "      <td>...</td>\n",
       "      <td>...</td>\n",
       "    </tr>\n",
       "    <tr>\n",
       "      <th>1595</th>\n",
       "      <td>Rebild</td>\n",
       "      <td>2022</td>\n",
       "      <td>1002.0</td>\n",
       "    </tr>\n",
       "    <tr>\n",
       "      <th>1596</th>\n",
       "      <td>Thisted</td>\n",
       "      <td>2022</td>\n",
       "      <td>1903.0</td>\n",
       "    </tr>\n",
       "    <tr>\n",
       "      <th>1597</th>\n",
       "      <td>Vesthimmerlands</td>\n",
       "      <td>2022</td>\n",
       "      <td>1590.0</td>\n",
       "    </tr>\n",
       "    <tr>\n",
       "      <th>1598</th>\n",
       "      <td>Aalborg</td>\n",
       "      <td>2022</td>\n",
       "      <td>14093.0</td>\n",
       "    </tr>\n",
       "    <tr>\n",
       "      <th>1599</th>\n",
       "      <td>Unknown municipality</td>\n",
       "      <td>2022</td>\n",
       "      <td>41431.0</td>\n",
       "    </tr>\n",
       "  </tbody>\n",
       "</table>\n",
       "<p>1600 rows × 3 columns</p>\n",
       "</div>"
      ],
      "text/plain": [
       "            municipalities  year    crim_\n",
       "0               Copenhagen  2007  93077.0\n",
       "1            Frederiksberg  2007   8149.0\n",
       "2                   Dragør  2007    671.0\n",
       "3                   Tårnby  2007   5446.0\n",
       "4              Albertslund  2007   2903.0\n",
       "...                    ...   ...      ...\n",
       "1595                Rebild  2022   1002.0\n",
       "1596               Thisted  2022   1903.0\n",
       "1597       Vesthimmerlands  2022   1590.0\n",
       "1598               Aalborg  2022  14093.0\n",
       "1599  Unknown municipality  2022  41431.0\n",
       "\n",
       "[1600 rows x 3 columns]"
      ]
     },
     "execution_count": 186,
     "metadata": {},
     "output_type": "execute_result"
    }
   ],
   "source": [
    "# Resetting the index for criminality and population to default\n",
    "# Important for next step\n",
    "criminality_year_long = criminality_year_long.reset_index()\n",
    "pop_year_long = pop_year_long.reset_index()\n",
    "criminality_year_long"
   ]
  },
  {
   "cell_type": "code",
   "execution_count": 187,
   "metadata": {},
   "outputs": [
    {
     "data": {
      "application/vnd.jupyter.widget-view+json": {
       "model_id": "0e14400eb5cc4a708d91540b028af44b",
       "version_major": 2,
       "version_minor": 0
      },
      "text/plain": [
       "interactive(children=(Dropdown(description='municipalities', options=('Copenhagen', 'Frederiksberg', 'Dragør',…"
      ]
     },
     "metadata": {},
     "output_type": "display_data"
    }
   ],
   "source": [
    "#interactive plot:\n",
    "def plot(pop_year_long,criminality_year_long, municipalities): \n",
    "    I = pop_year_long['municipalities'] == municipalities\n",
    "    pop_I = pop_year_long['municipalities'] == municipalities\n",
    "    crim_I = criminality_year_long['municipalities'] == municipalities\n",
    "    pop_data = pop_year_long.loc[pop_I,:]\n",
    "    crim_data = criminality_year_long.loc[crim_I,:]\n",
    "    fig, ax1 = plt.subplots()\n",
    "    ax1.plot(pop_data['year'], pop_data['pop_'], '-o', label='Population') # remember name of population is \"pop_\"\n",
    "    ax1.set_ylabel('Population', color='blue')\n",
    "    ax1.set_title(f'Population and criminality of {municipalities}')\n",
    "\n",
    "    ax2 = ax1.twinx()\n",
    "\n",
    "    ax2.plot(crim_data['year'], crim_data['crim_'], '-o', color='red', label='Criminality')\n",
    "    ax2.set_ylabel('Criminality (number of realizations)', color='red')\n",
    "\n",
    "widgets.interact(plot, \n",
    "    pop_year_long = widgets.fixed(pop_year_long),\n",
    "    criminality_year_long = widgets.fixed(criminality_year_long),\n",
    "    municipalities = widgets.Dropdown(description='municipalities', \n",
    "                                    options=pop_year_long.municipalities.unique(), \n",
    "                                    value='Copenhagen')\n",
    ");"
   ]
  },
  {
   "attachments": {},
   "cell_type": "markdown",
   "metadata": {},
   "source": [
    "**Interactive plot**: The plot is interactive: municipality can be chosen to see the development of the criminality and population.\n",
    "\n",
    "**Interpretation**\n",
    "\n",
    "The graph shows how the total population and total acts of criminality has change over time by municipality. The population evolution is shown from 2008 to 2022, while the criminality is shown from 2007 to 2022.\n",
    "\n",
    "Focusing on *criminality* and choosing one municipality,for instance Aalborg, we see that the crime was at it's highest in 2011 with around 21000 reported crimes. Crime has then been decreasing to less than half during lockdown in 2021. However, after lockdown the crime increased again. This can be explained by the restriction of social activities such as nightlife and the restriction of total amount of people in certain areas.\n",
    "\n",
    "It is possible to find a similar drop in crime during lockdown in every municipality, howeverer the previous trends differ. For example, in Frederiksbergtthe criminality was decreasing before lockdown, while in Tamby, it was increasing.\n",
    "\n",
    "Now, in terms of *population*, it is possible to find municipaltities with a strong increase while others have faced a decrease. For example, these are the cases of Aalborg and Struer, respectively.\n",
    "\n",
    "Finally, the graph gives a initial guess of how is the relationship bertween *criminality* and *population*. We were expecting to find a strong positive correlation between these variables in all municipalities, such as the case of Haderslev. However, it is very common to find a negative relationship, such as in Copenhagen, Helsingor, and Hvidovre. It gives a first suggestion of a reduction in the rate of crimes in Denmark."
   ]
  },
  {
   "cell_type": "markdown",
   "metadata": {},
   "source": [
    "# Merge data sets"
   ]
  },
  {
   "cell_type": "markdown",
   "metadata": {},
   "source": [
    "Now you create combinations of your loaded data sets. Remember the illustration of a (inner) **merge**:"
   ]
  },
  {
   "cell_type": "markdown",
   "metadata": {},
   "source": [
    "Here we are dropping elements from both data set X and data set Y. A left join would keep all observations in data X intact and subset only from Y. \n",
    "\n",
    "Make sure that your resulting data sets have the correct number of rows and columns. That is, be clear about which observations are thrown away. \n",
    "\n",
    "**Note:** Don't make Venn diagrams in your own data project. It is just for exposition. "
   ]
  },
  {
   "cell_type": "code",
   "execution_count": 188,
   "metadata": {},
   "outputs": [
    {
     "data": {
      "text/html": [
       "<div>\n",
       "<style scoped>\n",
       "    .dataframe tbody tr th:only-of-type {\n",
       "        vertical-align: middle;\n",
       "    }\n",
       "\n",
       "    .dataframe tbody tr th {\n",
       "        vertical-align: top;\n",
       "    }\n",
       "\n",
       "    .dataframe thead th {\n",
       "        text-align: right;\n",
       "    }\n",
       "</style>\n",
       "<table border=\"1\" class=\"dataframe\">\n",
       "  <thead>\n",
       "    <tr style=\"text-align: right;\">\n",
       "      <th></th>\n",
       "      <th>municipalities</th>\n",
       "      <th>year</th>\n",
       "      <th>pop_</th>\n",
       "      <th>crim_</th>\n",
       "    </tr>\n",
       "  </thead>\n",
       "  <tbody>\n",
       "    <tr>\n",
       "      <th>0</th>\n",
       "      <td>Copenhagen</td>\n",
       "      <td>2008</td>\n",
       "      <td>516962</td>\n",
       "      <td>95101.0</td>\n",
       "    </tr>\n",
       "    <tr>\n",
       "      <th>1</th>\n",
       "      <td>Frederiksberg</td>\n",
       "      <td>2008</td>\n",
       "      <td>95005</td>\n",
       "      <td>7971.0</td>\n",
       "    </tr>\n",
       "    <tr>\n",
       "      <th>2</th>\n",
       "      <td>Dragør</td>\n",
       "      <td>2008</td>\n",
       "      <td>13452</td>\n",
       "      <td>688.0</td>\n",
       "    </tr>\n",
       "    <tr>\n",
       "      <th>3</th>\n",
       "      <td>Tårnby</td>\n",
       "      <td>2008</td>\n",
       "      <td>40234</td>\n",
       "      <td>5947.0</td>\n",
       "    </tr>\n",
       "    <tr>\n",
       "      <th>4</th>\n",
       "      <td>Albertslund</td>\n",
       "      <td>2008</td>\n",
       "      <td>27817</td>\n",
       "      <td>3339.0</td>\n",
       "    </tr>\n",
       "    <tr>\n",
       "      <th>5</th>\n",
       "      <td>Ballerup</td>\n",
       "      <td>2008</td>\n",
       "      <td>47329</td>\n",
       "      <td>4592.0</td>\n",
       "    </tr>\n",
       "    <tr>\n",
       "      <th>6</th>\n",
       "      <td>Brøndby</td>\n",
       "      <td>2008</td>\n",
       "      <td>33689</td>\n",
       "      <td>3621.0</td>\n",
       "    </tr>\n",
       "    <tr>\n",
       "      <th>7</th>\n",
       "      <td>Gentofte</td>\n",
       "      <td>2008</td>\n",
       "      <td>69646</td>\n",
       "      <td>5469.0</td>\n",
       "    </tr>\n",
       "    <tr>\n",
       "      <th>8</th>\n",
       "      <td>Gladsaxe</td>\n",
       "      <td>2008</td>\n",
       "      <td>63138</td>\n",
       "      <td>4942.0</td>\n",
       "    </tr>\n",
       "    <tr>\n",
       "      <th>9</th>\n",
       "      <td>Glostrup</td>\n",
       "      <td>2008</td>\n",
       "      <td>20911</td>\n",
       "      <td>2892.0</td>\n",
       "    </tr>\n",
       "  </tbody>\n",
       "</table>\n",
       "</div>"
      ],
      "text/plain": [
       "  municipalities  year    pop_    crim_\n",
       "0     Copenhagen  2008  516962  95101.0\n",
       "1  Frederiksberg  2008   95005   7971.0\n",
       "2         Dragør  2008   13452    688.0\n",
       "3         Tårnby  2008   40234   5947.0\n",
       "4    Albertslund  2008   27817   3339.0\n",
       "5       Ballerup  2008   47329   4592.0\n",
       "6        Brøndby  2008   33689   3621.0\n",
       "7       Gentofte  2008   69646   5469.0\n",
       "8       Gladsaxe  2008   63138   4942.0\n",
       "9       Glostrup  2008   20911   2892.0"
      ]
     },
     "execution_count": 188,
     "metadata": {},
     "output_type": "execute_result"
    }
   ],
   "source": [
    "total = pd.merge(pop_year_long, criminality_year_long, on=['municipalities','year'], how='left')\n",
    "\n",
    "total.head(10)"
   ]
  },
  {
   "attachments": {},
   "cell_type": "markdown",
   "metadata": {},
   "source": [
    "**Interpretation**\n",
    "\n",
    "Here we are merging the two dataset. Since the criminality information is from 2007 while the population is from 2008, we use a left pethod using the popuation dataset (the smaller) as base. It means that we drop the information of criminality of 2007. In addition, a new observation was created in the population dataset because of the \"unknown\" municipality in crime.\n"
   ]
  },
  {
   "cell_type": "markdown",
   "metadata": {},
   "source": [
    "# Analysis"
   ]
  },
  {
   "cell_type": "markdown",
   "metadata": {},
   "source": [
    "To get a quick overview of the data, we show some **summary statistics** on a meaningful aggregation. "
   ]
  },
  {
   "cell_type": "markdown",
   "metadata": {},
   "source": [
    "MAKE FURTHER ANALYSIS. EXPLAIN THE CODE BRIEFLY AND SUMMARIZE THE RESULTS."
   ]
  },
  {
   "cell_type": "code",
   "execution_count": 189,
   "metadata": {},
   "outputs": [
    {
     "data": {
      "text/html": [
       "<div>\n",
       "<style scoped>\n",
       "    .dataframe tbody tr th:only-of-type {\n",
       "        vertical-align: middle;\n",
       "    }\n",
       "\n",
       "    .dataframe tbody tr th {\n",
       "        vertical-align: top;\n",
       "    }\n",
       "\n",
       "    .dataframe thead th {\n",
       "        text-align: right;\n",
       "    }\n",
       "</style>\n",
       "<table border=\"1\" class=\"dataframe\">\n",
       "  <thead>\n",
       "    <tr style=\"text-align: right;\">\n",
       "      <th></th>\n",
       "      <th>municipalities</th>\n",
       "      <th>year</th>\n",
       "      <th>pop_</th>\n",
       "      <th>crim_</th>\n",
       "      <th>crime_rate_per_cap</th>\n",
       "      <th>crime_rate_per_100K</th>\n",
       "    </tr>\n",
       "  </thead>\n",
       "  <tbody>\n",
       "    <tr>\n",
       "      <th>0</th>\n",
       "      <td>Copenhagen</td>\n",
       "      <td>2008</td>\n",
       "      <td>516962</td>\n",
       "      <td>95101.0</td>\n",
       "      <td>0.183961</td>\n",
       "      <td>18396.129696</td>\n",
       "    </tr>\n",
       "    <tr>\n",
       "      <th>1</th>\n",
       "      <td>Frederiksberg</td>\n",
       "      <td>2008</td>\n",
       "      <td>95005</td>\n",
       "      <td>7971.0</td>\n",
       "      <td>0.083901</td>\n",
       "      <td>8390.084732</td>\n",
       "    </tr>\n",
       "    <tr>\n",
       "      <th>2</th>\n",
       "      <td>Dragør</td>\n",
       "      <td>2008</td>\n",
       "      <td>13452</td>\n",
       "      <td>688.0</td>\n",
       "      <td>0.051145</td>\n",
       "      <td>5114.481118</td>\n",
       "    </tr>\n",
       "    <tr>\n",
       "      <th>3</th>\n",
       "      <td>Tårnby</td>\n",
       "      <td>2008</td>\n",
       "      <td>40234</td>\n",
       "      <td>5947.0</td>\n",
       "      <td>0.147810</td>\n",
       "      <td>14781.030969</td>\n",
       "    </tr>\n",
       "    <tr>\n",
       "      <th>4</th>\n",
       "      <td>Albertslund</td>\n",
       "      <td>2008</td>\n",
       "      <td>27817</td>\n",
       "      <td>3339.0</td>\n",
       "      <td>0.120035</td>\n",
       "      <td>12003.451127</td>\n",
       "    </tr>\n",
       "    <tr>\n",
       "      <th>...</th>\n",
       "      <td>...</td>\n",
       "      <td>...</td>\n",
       "      <td>...</td>\n",
       "      <td>...</td>\n",
       "      <td>...</td>\n",
       "      <td>...</td>\n",
       "    </tr>\n",
       "    <tr>\n",
       "      <th>1480</th>\n",
       "      <td>Morsø</td>\n",
       "      <td>2022</td>\n",
       "      <td>20022</td>\n",
       "      <td>825.0</td>\n",
       "      <td>0.041205</td>\n",
       "      <td>4120.467486</td>\n",
       "    </tr>\n",
       "    <tr>\n",
       "      <th>1481</th>\n",
       "      <td>Rebild</td>\n",
       "      <td>2022</td>\n",
       "      <td>30908</td>\n",
       "      <td>1002.0</td>\n",
       "      <td>0.032419</td>\n",
       "      <td>3241.879125</td>\n",
       "    </tr>\n",
       "    <tr>\n",
       "      <th>1482</th>\n",
       "      <td>Thisted</td>\n",
       "      <td>2022</td>\n",
       "      <td>43365</td>\n",
       "      <td>1903.0</td>\n",
       "      <td>0.043883</td>\n",
       "      <td>4388.331604</td>\n",
       "    </tr>\n",
       "    <tr>\n",
       "      <th>1483</th>\n",
       "      <td>Vesthimmerlands</td>\n",
       "      <td>2022</td>\n",
       "      <td>36423</td>\n",
       "      <td>1590.0</td>\n",
       "      <td>0.043654</td>\n",
       "      <td>4365.373528</td>\n",
       "    </tr>\n",
       "    <tr>\n",
       "      <th>1484</th>\n",
       "      <td>Aalborg</td>\n",
       "      <td>2022</td>\n",
       "      <td>222607</td>\n",
       "      <td>14093.0</td>\n",
       "      <td>0.063309</td>\n",
       "      <td>6330.888067</td>\n",
       "    </tr>\n",
       "  </tbody>\n",
       "</table>\n",
       "<p>1485 rows × 6 columns</p>\n",
       "</div>"
      ],
      "text/plain": [
       "       municipalities  year    pop_    crim_  crime_rate_per_cap  \\\n",
       "0          Copenhagen  2008  516962  95101.0            0.183961   \n",
       "1       Frederiksberg  2008   95005   7971.0            0.083901   \n",
       "2              Dragør  2008   13452    688.0            0.051145   \n",
       "3              Tårnby  2008   40234   5947.0            0.147810   \n",
       "4         Albertslund  2008   27817   3339.0            0.120035   \n",
       "...               ...   ...     ...      ...                 ...   \n",
       "1480            Morsø  2022   20022    825.0            0.041205   \n",
       "1481           Rebild  2022   30908   1002.0            0.032419   \n",
       "1482          Thisted  2022   43365   1903.0            0.043883   \n",
       "1483  Vesthimmerlands  2022   36423   1590.0            0.043654   \n",
       "1484          Aalborg  2022  222607  14093.0            0.063309   \n",
       "\n",
       "      crime_rate_per_100K  \n",
       "0            18396.129696  \n",
       "1             8390.084732  \n",
       "2             5114.481118  \n",
       "3            14781.030969  \n",
       "4            12003.451127  \n",
       "...                   ...  \n",
       "1480          4120.467486  \n",
       "1481          3241.879125  \n",
       "1482          4388.331604  \n",
       "1483          4365.373528  \n",
       "1484          6330.888067  \n",
       "\n",
       "[1485 rows x 6 columns]"
      ]
     },
     "execution_count": 189,
     "metadata": {},
     "output_type": "execute_result"
    }
   ],
   "source": [
    "#creating a variable of criminality index\n",
    "total['crime_rate_per_cap'] = total['crim_'] / total['pop_']\n",
    "total['crime_rate_per_100K'] = total['crime_rate_per_cap'] * 100000 \n",
    "### Last one might be redundant, as it describes the same thing as the above - just scaled (see 'total'). Best regards Philip\n",
    "\n",
    "\n",
    "total.iloc[:,1:].mean()\n",
    "\n",
    "total # overview of crime; including crime rate per capita and crime rate per 100K\n"
   ]
  },
  {
   "cell_type": "code",
   "execution_count": 190,
   "metadata": {},
   "outputs": [
    {
     "data": {
      "text/html": [
       "<div>\n",
       "<style scoped>\n",
       "    .dataframe tbody tr th:only-of-type {\n",
       "        vertical-align: middle;\n",
       "    }\n",
       "\n",
       "    .dataframe tbody tr th {\n",
       "        vertical-align: top;\n",
       "    }\n",
       "\n",
       "    .dataframe thead th {\n",
       "        text-align: right;\n",
       "    }\n",
       "</style>\n",
       "<table border=\"1\" class=\"dataframe\">\n",
       "  <thead>\n",
       "    <tr style=\"text-align: right;\">\n",
       "      <th></th>\n",
       "      <th>municipalities</th>\n",
       "      <th>year</th>\n",
       "      <th>pop_</th>\n",
       "      <th>crim_</th>\n",
       "      <th>crime_rate_per_cap</th>\n",
       "      <th>crime_rate_per_100K</th>\n",
       "    </tr>\n",
       "  </thead>\n",
       "  <tbody>\n",
       "    <tr>\n",
       "      <th>0</th>\n",
       "      <td>Copenhagen</td>\n",
       "      <td>2008</td>\n",
       "      <td>516962</td>\n",
       "      <td>95101.0</td>\n",
       "      <td>0.183961</td>\n",
       "      <td>18396.129696</td>\n",
       "    </tr>\n",
       "    <tr>\n",
       "      <th>1</th>\n",
       "      <td>Frederiksberg</td>\n",
       "      <td>2008</td>\n",
       "      <td>95005</td>\n",
       "      <td>7971.0</td>\n",
       "      <td>0.083901</td>\n",
       "      <td>8390.084732</td>\n",
       "    </tr>\n",
       "    <tr>\n",
       "      <th>2</th>\n",
       "      <td>Dragør</td>\n",
       "      <td>2008</td>\n",
       "      <td>13452</td>\n",
       "      <td>688.0</td>\n",
       "      <td>0.051145</td>\n",
       "      <td>5114.481118</td>\n",
       "    </tr>\n",
       "    <tr>\n",
       "      <th>3</th>\n",
       "      <td>Tårnby</td>\n",
       "      <td>2008</td>\n",
       "      <td>40234</td>\n",
       "      <td>5947.0</td>\n",
       "      <td>0.147810</td>\n",
       "      <td>14781.030969</td>\n",
       "    </tr>\n",
       "    <tr>\n",
       "      <th>4</th>\n",
       "      <td>Albertslund</td>\n",
       "      <td>2008</td>\n",
       "      <td>27817</td>\n",
       "      <td>3339.0</td>\n",
       "      <td>0.120035</td>\n",
       "      <td>12003.451127</td>\n",
       "    </tr>\n",
       "    <tr>\n",
       "      <th>...</th>\n",
       "      <td>...</td>\n",
       "      <td>...</td>\n",
       "      <td>...</td>\n",
       "      <td>...</td>\n",
       "      <td>...</td>\n",
       "      <td>...</td>\n",
       "    </tr>\n",
       "    <tr>\n",
       "      <th>1480</th>\n",
       "      <td>Morsø</td>\n",
       "      <td>2022</td>\n",
       "      <td>20022</td>\n",
       "      <td>825.0</td>\n",
       "      <td>0.041205</td>\n",
       "      <td>4120.467486</td>\n",
       "    </tr>\n",
       "    <tr>\n",
       "      <th>1481</th>\n",
       "      <td>Rebild</td>\n",
       "      <td>2022</td>\n",
       "      <td>30908</td>\n",
       "      <td>1002.0</td>\n",
       "      <td>0.032419</td>\n",
       "      <td>3241.879125</td>\n",
       "    </tr>\n",
       "    <tr>\n",
       "      <th>1482</th>\n",
       "      <td>Thisted</td>\n",
       "      <td>2022</td>\n",
       "      <td>43365</td>\n",
       "      <td>1903.0</td>\n",
       "      <td>0.043883</td>\n",
       "      <td>4388.331604</td>\n",
       "    </tr>\n",
       "    <tr>\n",
       "      <th>1483</th>\n",
       "      <td>Vesthimmerlands</td>\n",
       "      <td>2022</td>\n",
       "      <td>36423</td>\n",
       "      <td>1590.0</td>\n",
       "      <td>0.043654</td>\n",
       "      <td>4365.373528</td>\n",
       "    </tr>\n",
       "    <tr>\n",
       "      <th>1484</th>\n",
       "      <td>Aalborg</td>\n",
       "      <td>2022</td>\n",
       "      <td>222607</td>\n",
       "      <td>14093.0</td>\n",
       "      <td>0.063309</td>\n",
       "      <td>6330.888067</td>\n",
       "    </tr>\n",
       "  </tbody>\n",
       "</table>\n",
       "<p>1485 rows × 6 columns</p>\n",
       "</div>"
      ],
      "text/plain": [
       "       municipalities  year    pop_    crim_  crime_rate_per_cap  \\\n",
       "0          Copenhagen  2008  516962  95101.0            0.183961   \n",
       "1       Frederiksberg  2008   95005   7971.0            0.083901   \n",
       "2              Dragør  2008   13452    688.0            0.051145   \n",
       "3              Tårnby  2008   40234   5947.0            0.147810   \n",
       "4         Albertslund  2008   27817   3339.0            0.120035   \n",
       "...               ...   ...     ...      ...                 ...   \n",
       "1480            Morsø  2022   20022    825.0            0.041205   \n",
       "1481           Rebild  2022   30908   1002.0            0.032419   \n",
       "1482          Thisted  2022   43365   1903.0            0.043883   \n",
       "1483  Vesthimmerlands  2022   36423   1590.0            0.043654   \n",
       "1484          Aalborg  2022  222607  14093.0            0.063309   \n",
       "\n",
       "      crime_rate_per_100K  \n",
       "0            18396.129696  \n",
       "1             8390.084732  \n",
       "2             5114.481118  \n",
       "3            14781.030969  \n",
       "4            12003.451127  \n",
       "...                   ...  \n",
       "1480          4120.467486  \n",
       "1481          3241.879125  \n",
       "1482          4388.331604  \n",
       "1483          4365.373528  \n",
       "1484          6330.888067  \n",
       "\n",
       "[1485 rows x 6 columns]"
      ]
     },
     "execution_count": 190,
     "metadata": {},
     "output_type": "execute_result"
    }
   ],
   "source": [
    "total"
   ]
  },
  {
   "cell_type": "code",
   "execution_count": 191,
   "metadata": {},
   "outputs": [
    {
     "name": "stdout",
     "output_type": "stream",
     "text": [
      "                 crime_rate_2008  crime_rate_2009  crime_rate_2010  \\\n",
      "municipalities                                                       \n",
      "Copenhagen          18396.129696     18403.243009     17618.315673   \n",
      "Frederiksberg        8390.084732      8518.403639      8916.984685   \n",
      "Dragør               5114.481118      4922.509225      5010.940919   \n",
      "Tårnby              14781.030969     15820.326993     15796.187719   \n",
      "Albertslund         12003.451127     12170.545415     11678.858420   \n",
      "...                          ...              ...              ...   \n",
      "Morsø                6297.434044      6568.842567      5644.081105   \n",
      "Rebild               5292.141447      5095.607593      5028.725687   \n",
      "Thisted              6456.291478      6627.822287      5444.798866   \n",
      "Vesthimmerlands      7882.105700      7774.027265      6934.556768   \n",
      "Aalborg              9581.009289      9604.806463      9434.209399   \n",
      "\n",
      "                 crime_rate_2011  crime_rate_2012  crime_rate_2013  \\\n",
      "municipalities                                                       \n",
      "Copenhagen          18194.598162     18306.388013     18010.193322   \n",
      "Frederiksberg        9712.040057      9815.499603      9644.674991   \n",
      "Dragør               4744.206384      5358.561421      4456.263926   \n",
      "Tårnby              15611.557997     16874.653021     17133.718432   \n",
      "Albertslund         10272.099050     10220.548682     11446.454908   \n",
      "...                          ...              ...              ...   \n",
      "Morsø                5732.543495      5600.905960      5897.203830   \n",
      "Rebild               5529.062133      5702.287162      5214.947434   \n",
      "Thisted              5934.109995      6009.982912      5549.655406   \n",
      "Vesthimmerlands      7249.807186      6836.015428      7175.820951   \n",
      "Aalborg             10595.258824      9378.398728      9595.650102   \n",
      "\n",
      "                 crime_rate_2014  crime_rate_2015  crime_rate_2016  \\\n",
      "municipalities                                                       \n",
      "Copenhagen          16907.817426     15920.495032     17085.932616   \n",
      "Frederiksberg        8907.693052      8283.944481      7980.644916   \n",
      "Dragør               3564.781675      4189.706508      4140.597540   \n",
      "Tårnby              16435.103557     18595.214775     19624.561485   \n",
      "Albertslund         10000.359855      9309.028028      9928.238249   \n",
      "...                          ...              ...              ...   \n",
      "Morsø                5917.046272      4668.959171      5093.690989   \n",
      "Rebild               4725.773482      4327.916265      4353.323082   \n",
      "Thisted              4735.110607      4477.374124      5423.404110   \n",
      "Vesthimmerlands      6429.010777      6023.354224      5629.947672   \n",
      "Aalborg              8763.107572      7813.073072      7276.233767   \n",
      "\n",
      "                 crime_rate_2017  ...  log_pop_2013  log_pop_2014  \\\n",
      "municipalities                    ...                               \n",
      "Copenhagen          15273.396511  ...     13.251636     13.269943   \n",
      "Frederiksberg        8157.364076  ...     11.540064     11.546409   \n",
      "Dragør               4401.149345  ...      9.540579      9.544667   \n",
      "Tårnby              19378.495672  ...     10.642898     10.658130   \n",
      "Albertslund          9122.605226  ...     10.232755     10.232396   \n",
      "...                          ...  ...           ...           ...   \n",
      "Morsø                5406.062965  ...      9.951944      9.945349   \n",
      "Rebild               3594.826138  ...     10.268860     10.270316   \n",
      "Thisted              4454.755320  ...     10.697724     10.693648   \n",
      "Vesthimmerlands      5071.744669  ...     10.531749     10.529239   \n",
      "Aalborg              7712.199075  ...     12.233756     12.243412   \n",
      "\n",
      "                 log_pop_2015  log_pop_2016  log_pop_2017  log_pop_2018  \\\n",
      "municipalities                                                            \n",
      "Copenhagen          13.287368     13.307095     13.324197     13.341817   \n",
      "Frederiksberg       11.558014     11.563543     11.562972     11.559189   \n",
      "Dragør               9.554356      9.562756      9.565845      9.566545   \n",
      "Tårnby              10.666207     10.669955     10.671023     10.669723   \n",
      "Albertslund         10.231279     10.235306     10.233546     10.234911   \n",
      "...                       ...           ...           ...           ...   \n",
      "Morsø                9.935325      9.935616      9.930665      9.925053   \n",
      "Rebild              10.276567     10.284148     10.301088     10.304007   \n",
      "Thisted             10.690398     10.688462     10.686270     10.684050   \n",
      "Vesthimmerlands     10.527767     10.525810     10.526346     10.523553   \n",
      "Aalborg             12.254591     12.264691     12.271238     12.278961   \n",
      "\n",
      "                 log_pop_2019  log_pop_2020  log_pop_2021  log_pop_2022  \n",
      "municipalities                                                           \n",
      "Copenhagen          13.358259     13.365993     13.374853     13.388664  \n",
      "Frederiksberg       11.561592     11.555515     11.550048     11.559819  \n",
      "Dragør               9.580178      9.581697      9.589872      9.590898  \n",
      "Tårnby              10.669583     10.663288     10.661111     10.671951  \n",
      "Albertslund         10.227960     10.221941     10.218700     10.224701  \n",
      "...                       ...           ...           ...           ...  \n",
      "Morsø                9.915466      9.910215      9.906234      9.904587  \n",
      "Rebild              10.312812     10.323447     10.329996     10.338770  \n",
      "Thisted             10.678583     10.673989     10.671626     10.677408  \n",
      "Vesthimmerlands     10.513905     10.503916     10.500729     10.502956  \n",
      "Aalborg             12.288307     12.298242     12.306434     12.313163  \n",
      "\n",
      "[99 rows x 30 columns]\n"
     ]
    }
   ],
   "source": [
    "# merge the criminality_year and pop_year dataframes on the \"municipalities\" column\n",
    "merged_df = pd.merge(criminality_year, pop_year, on=\"municipalities\")\n",
    "\n",
    "# calculate the crime rate per 100,000 inhabitants for each year\n",
    "for year in range(2008, 2023):\n",
    "    merged_df[f\"crime_rate_{year}\"] = 100000 * merged_df[f\"crim_{year}\"] / merged_df[f\"pop_{year}\"]\n",
    "\n",
    "# calculate the logarithm of population for each year\n",
    "for year in range(2008, 2023):\n",
    "    merged_df[f\"log_pop_{year}\"] = np.log(merged_df[f\"pop_{year}\"])\n",
    "\n",
    "# select the columns to include in the final dataframe\n",
    "cols_to_keep = [\"municipalities\"] + [f\"crime_rate_{year}\" for year in range(2008, 2023)] + [f\"log_pop_{year}\" for year in range(2008, 2023)]\n",
    "\n",
    "# create the \"criminality index\" dataframe with municipalities as rows and years as columns\n",
    "criminality_index = merged_df[cols_to_keep].set_index(\"municipalities\").T\n",
    "\n",
    "# transpose the dataframe\n",
    "criminality_index_transposed = criminality_index.T\n",
    "\n",
    "# display the transposed \"criminality index\" dataframe\n",
    "print(criminality_index_transposed)"
   ]
  },
  {
   "cell_type": "code",
   "execution_count": 192,
   "metadata": {},
   "outputs": [
    {
     "data": {
      "application/vnd.jupyter.widget-view+json": {
       "model_id": "6161fbda03ec4a9f9fcc1d9016ae7ddb",
       "version_major": 2,
       "version_minor": 0
      },
      "text/plain": [
       "interactive(children=(Dropdown(description='Year:', options=(2008, 2009, 2010, 2011, 2012, 2013, 2014, 2015, 2…"
      ]
     },
     "metadata": {},
     "output_type": "display_data"
    }
   ],
   "source": [
    "import matplotlib.ticker as ticker\n",
    "\n",
    "# create a function to generate the scatter plot for a given year\n",
    "def generate_plot(year):\n",
    "    # filter the criminality_index_transposed dataframe to get only the specified year\n",
    "    year_column = f'crime_rate_{year}'\n",
    "    population_column = f'log_pop_{year}'\n",
    "    year_data = criminality_index_transposed[[year_column, population_column]]\n",
    "\n",
    "    # create the scatter plot\n",
    "    fig, ax = plt.subplots()\n",
    "    ax.scatter(year_data[year_column], year_data[population_column], facecolor='red', edgecolor='black')\n",
    "\n",
    "    # add horizontal blue dotted line for the mean log of population\n",
    "    mean_log_pop = year_data[population_column].mean()\n",
    "    ax.axhline(mean_log_pop, color='blue', linestyle='dotted', label='Mean log of population')\n",
    "\n",
    "    # add vertical green dotted line for the average crime rate\n",
    "    avg_crime_rate = year_data[year_column].mean()\n",
    "    ax.axvline(avg_crime_rate, color='green', linestyle='dotted', label='Average crime rate')\n",
    "\n",
    "    # set the x-axis label\n",
    "    ax.set_xlabel('Crime rate per 100000 inhabitants')\n",
    "\n",
    "    # set the y-axis label\n",
    "    ax.set_ylabel('Log of population by municipality')\n",
    "\n",
    "    # add the municipality name as labels for the outliers\n",
    "    labels = []\n",
    "    for i, row in year_data.iterrows():\n",
    "        if row[year_column] > 12000:\n",
    "            label = ax.annotate(i, xy=(row[year_column], row[population_column]), xytext=(-10, 5), textcoords='offset points', fontsize=8)\n",
    "            labels.append(label)\n",
    "        elif row[population_column] > 12:\n",
    "            label = ax.annotate(i, xy=(row[year_column], row[population_column]), xytext=(-10, 5), textcoords='offset points', fontsize=8)\n",
    "            labels.append(label)\n",
    "    \n",
    "    # adjust the position of the labels to avoid overlap\n",
    "    adjust_text(labels)\n",
    "\n",
    "    # set the title\n",
    "    ax.set_title(f'Correlation between Population and Crime Rate per 100k inhabitants in the year {year}')\n",
    "\n",
    "    # add a legend\n",
    "    ax.legend()\n",
    "\n",
    "    # show the plot\n",
    "    plt.show()\n",
    "\n",
    "# create the dropdown widget for the year selection\n",
    "year_options = list(range(2008, 2023))\n",
    "year_dropdown = widgets.Dropdown(options=year_options, description='Year:')\n",
    "\n",
    "# create the interactive plot\n",
    "interactive_plot = widgets.interactive(generate_plot, year=year_dropdown)\n",
    "\n",
    "# display the interactive plot\n",
    "display(interactive_plot)"
   ]
  },
  {
   "cell_type": "code",
   "execution_count": 163,
   "metadata": {},
   "outputs": [],
   "source": [
    "criminality_index_transposed = criminality_index_transposed.rename(index={\n",
    "    'Aarhus': 'Århus',\n",
    "    'Høje-Taastrup': 'Høje Taastrup',\n",
    "    'Vesthimmerlands': 'Vesthimmerland',\n",
    "    'Copenhagen': 'København'\n",
    "})"
   ]
  },
  {
   "cell_type": "code",
   "execution_count": 173,
   "metadata": {},
   "outputs": [
    {
     "data": {
      "application/vnd.jupyter.widget-view+json": {
       "model_id": "2280095516cf4a7fad9225ec81afa82c",
       "version_major": 2,
       "version_minor": 0
      },
      "text/plain": [
       "interactive(children=(IntSlider(value=2022, description='year', max=2022, min=2008), Output()), _dom_classes=(…"
      ]
     },
     "metadata": {},
     "output_type": "display_data"
    }
   ],
   "source": [
    "# Load shapefile\n",
    "municipality_shapes = gpd.read_file('data/zz765fd7706.shp')\n",
    "\n",
    "# Set index to municipality name\n",
    "municipality_shapes.set_index('name_2', inplace=True)\n",
    "\n",
    "def plot_map(year):\n",
    "    # Get crime data for selected year\n",
    "    crime_data = criminality_index_transposed[['crime_rate_{}'.format(year)]]\n",
    "    crime_data.columns = ['crime_rate']\n",
    "    \n",
    "    # Merge with municipality shapes\n",
    "    crime_map = municipality_shapes.merge(crime_data, left_index=True, right_index=True)\n",
    "    \n",
    "    # Create Folium map object\n",
    "    m = folium.Map(location=[55.7, 11.5], zoom_start=7.25)\n",
    "\n",
    "    # Add choropleth layer\n",
    "    folium.Choropleth(\n",
    "        geo_data=crime_map.__geo_interface__,\n",
    "        name='choropleth',\n",
    "        data=crime_map,\n",
    "        columns=[crime_map.index, 'crime_rate'],\n",
    "        key_on='feature.id',\n",
    "        fill_color='YlOrRd',\n",
    "        fill_opacity=0.7,\n",
    "        line_opacity=0.2,\n",
    "        legend_name='Crime Rate per Municipality ({})'.format(year),\n",
    "    ).add_to(m)\n",
    "\n",
    "    # Add layer control\n",
    "    folium.LayerControl().add_to(m)\n",
    "\n",
    "    # Display map\n",
    "    display(m)\n",
    "\n",
    "# Create year selector widget\n",
    "year_selector = widgets.IntSlider(min=2008, max=2022, step=1, value=2022)\n",
    "\n",
    "# Create widget that updates the map based on the selected year\n",
    "map_widget = widgets.interactive(plot_map, year=year_selector)\n",
    "\n",
    "# Display widget\n",
    "display(map_widget)"
   ]
  },
  {
   "attachments": {},
   "cell_type": "markdown",
   "metadata": {},
   "source": [
    "**Interpretation**\n"
   ]
  },
  {
   "cell_type": "markdown",
   "metadata": {},
   "source": [
    "# Conclusion"
   ]
  },
  {
   "cell_type": "markdown",
   "metadata": {},
   "source": [
    "ADD CONCISE CONLUSION."
   ]
  }
 ],
 "metadata": {
  "kernelspec": {
   "display_name": "base",
   "language": "python",
   "name": "python3"
  },
  "language_info": {
   "codemirror_mode": {
    "name": "ipython",
    "version": 3
   },
   "file_extension": ".py",
   "mimetype": "text/x-python",
   "name": "python",
   "nbconvert_exporter": "python",
   "pygments_lexer": "ipython3",
   "version": "3.9.13"
  },
  "toc-autonumbering": true,
  "vscode": {
   "interpreter": {
    "hash": "47ef90cdf3004d3f859f1fb202523c65c07ba7c22eefd261b181f4744e2d0403"
   }
  }
 },
 "nbformat": 4,
 "nbformat_minor": 4
}
