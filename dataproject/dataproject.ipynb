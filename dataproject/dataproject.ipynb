{
 "cells": [
  {
   "attachments": {},
   "cell_type": "markdown",
   "metadata": {},
   "source": [
    "# Crime rate in Denmark"
   ]
  },
  {
   "attachments": {},
   "cell_type": "markdown",
   "metadata": {},
   "source": [
    "> **Note the following:** \n",
    "> 1. This is *not* meant to be an example of an actual **data analysis project**, just an example of how to structure such a project.\n",
    "> 1. Remember the general advice on structuring and commenting your code\n",
    "> 1. The `dataproject.py` file includes a function which can be used multiple times in this notebook."
   ]
  },
  {
   "cell_type": "markdown",
   "metadata": {},
   "source": [
    "Imports and set magics:"
   ]
  },
  {
   "cell_type": "code",
   "execution_count": 52,
   "metadata": {},
   "outputs": [
    {
     "ename": "ModuleNotFoundError",
     "evalue": "No module named 'squarify'",
     "output_type": "error",
     "traceback": [
      "\u001b[0;31m---------------------------------------------------------------------------\u001b[0m",
      "\u001b[0;31mModuleNotFoundError\u001b[0m                       Traceback (most recent call last)",
      "\u001b[0;32m/var/folders/0j/w3qt49pj7d19pfkd8ry8bfsh0000gn/T/ipykernel_18595/3632490716.py\u001b[0m in \u001b[0;36m<module>\u001b[0;34m\u001b[0m\n\u001b[1;32m      8\u001b[0m \u001b[0;32mimport\u001b[0m \u001b[0mplotly\u001b[0m\u001b[0;34m.\u001b[0m\u001b[0mgraph_objs\u001b[0m \u001b[0;32mas\u001b[0m \u001b[0mgo\u001b[0m\u001b[0;34m\u001b[0m\u001b[0;34m\u001b[0m\u001b[0m\n\u001b[1;32m      9\u001b[0m \u001b[0;32mimport\u001b[0m \u001b[0mplotly\u001b[0m\u001b[0;34m.\u001b[0m\u001b[0mexpress\u001b[0m \u001b[0;32mas\u001b[0m \u001b[0mpx\u001b[0m\u001b[0;34m\u001b[0m\u001b[0;34m\u001b[0m\u001b[0m\n\u001b[0;32m---> 10\u001b[0;31m \u001b[0;32mimport\u001b[0m \u001b[0msquarify\u001b[0m\u001b[0;34m\u001b[0m\u001b[0;34m\u001b[0m\u001b[0m\n\u001b[0m\u001b[1;32m     11\u001b[0m \u001b[0;31m#from matplotlib.venn import venn2\u001b[0m\u001b[0;34m\u001b[0m\u001b[0;34m\u001b[0m\u001b[0m\n\u001b[1;32m     12\u001b[0m \u001b[0;34m\u001b[0m\u001b[0m\n",
      "\u001b[0;31mModuleNotFoundError\u001b[0m: No module named 'squarify'"
     ]
    }
   ],
   "source": [
    "import pandas as pd\n",
    "import numpy as np\n",
    "import matplotlib.pyplot as plt\n",
    "import ipywidgets as widgets\n",
    "import requests\n",
    "from bs4 import BeautifulSoup\n",
    "import os\n",
    "import plotly.graph_objs as go\n",
    "import plotly.express as px\n",
    "import squarify\n",
    "#from matplotlib.venn import venn2\n",
    "\n",
    "# autoreload modules when code is run\n",
    "%load_ext autoreload\n",
    "%autoreload 2\n",
    "\n",
    "# user written modules\n",
    "import dataproject\n"
   ]
  },
  {
   "attachments": {},
   "cell_type": "markdown",
   "metadata": {},
   "source": [
    "# Introduction\n",
    "\n",
    "The aim of this project is to visualise crime rates in Danish municipalities for the period 2008 to 2022. The data were obtained from Danmarks Statistik and used the series total population and total number of crime by municipality (criminality) which includes all offences under the Danish criminal code but not those under the Danish traffic law. \n",
    "\n",
    "In summary, for this project, both databases were loaded and cleaned, which consisted of removing those columns or rows that did not contain information. Given that both were quarterly series, they were annualised. In the case of total population, it was decided to use the information contained in the fourth quarter of each year, as it was a stock. For crime, the sum of the four quarters was added up, as the information reported was a flow. \n",
    "\n",
    "Subsequently, both databases were merged and the crime indicator per 100,000 inhabitants was estimated, which is defined as follows:\n",
    "\n",
    "\n",
    "$$\n",
    "index =  \\frac{crim * 100.000}{pop}\n",
    "$$\n",
    "\n",
    "To facilitate the analysis, two graphs were constructed, the first is an interactive graph where the user can observe the evolution of criminality for each municipality, the second is a scatter graph that shows whether there is a correlation between population and criminality. "
   ]
  },
  {
   "cell_type": "markdown",
   "metadata": {},
   "source": [
    "# Read and clean data"
   ]
  },
  {
   "attachments": {},
   "cell_type": "markdown",
   "metadata": {},
   "source": [
    "The data is imported from an excel database"
   ]
  },
  {
   "cell_type": "code",
   "execution_count": 11,
   "metadata": {},
   "outputs": [],
   "source": [
    "# Uploading our excel datasets (criminalitydata and population) and visualizing the first 5 rows\n",
    "criminality = 'data/criminalitydata.xlsx'\n",
    "criminality = pd.read_excel(criminality, skiprows=2)\n",
    "\n",
    "pop = 'data/population.xlsx'\n",
    "pop = pd.read_excel(pop, skiprows=2)"
   ]
  },
  {
   "cell_type": "code",
   "execution_count": 12,
   "metadata": {},
   "outputs": [],
   "source": [
    "# Cleaning the data\n",
    "# Deleting the column that has no information\n",
    "data = [criminality, pop]\n",
    "for i in data:\n",
    "    i.drop(\"Unnamed: 0\", axis = 1, inplace = True)\n",
    "\n",
    "# Deleting the rows that has no informtion in the criminality dataset\n",
    "criminality.drop(index = 101, inplace=True)\n",
    "criminality.drop(index = 100, inplace=True)"
   ]
  },
  {
   "cell_type": "code",
   "execution_count": 13,
   "metadata": {},
   "outputs": [],
   "source": [
    "# Renaming the \"Unnamed: 1\" to municipalities\n",
    "for i in data:\n",
    "    i.rename(columns = {\"Unnamed: 1\" : \"municipalities\"}, inplace=True)\n",
    "\n",
    "\n",
    "# Renaming the rest of the columns in both databases so that they don't start with a number\n",
    "for n,i in enumerate(data):\n",
    "    for h in range(2007, 2022+1):\n",
    "        for j in range(1, 4+1):\n",
    "            if n == 0:  # This is the first dataset, i.e criminality data\n",
    "                i.rename(columns={ str(str(h)+\"Q\"+str(j)):f'crim_{h}Q{j}'}, inplace = True)\n",
    "            else:\n",
    "                i.rename(columns={ str(str(h)+\"Q\"+str(j)):f'pop_{h}Q{j}'}, inplace = True)\n",
    "\n",
    "\n",
    "# Creating the total per year\n",
    "for h in range(2007, 2022+1):\n",
    "    criminality[f'crim_{h}'] = criminality[f'crim_{h}Q1'] + criminality[f\"crim_{h}Q2\"] + criminality[f\"crim_{h}Q3\"] + criminality[f\"crim_{h}Q4\"]\n",
    "    \n",
    "for h in range(2008, 2022+1):\n",
    "    pop[f'pop_{h}'] = pop[f\"pop_{h}Q4\"] # taking the last quarter of population per year as we want yearly data.\n",
    "    \n",
    "\n",
    "\n",
    "#extract only the variables which have the years values\n",
    "criminality_year = criminality[['municipalities', 'crim_2007', 'crim_2008', \n",
    "                                'crim_2009', 'crim_2010', 'crim_2011', 'crim_2012', \n",
    "                                'crim_2013', 'crim_2014', 'crim_2015', 'crim_2016', 'crim_2017', \n",
    "                                'crim_2018', 'crim_2019', 'crim_2020', 'crim_2021', 'crim_2022']]\n",
    "\n",
    "#extract only the value of the years\n",
    "pop_year = pop[['municipalities', 'pop_2008', 'pop_2009', 'pop_2010', 'pop_2011', \n",
    "                'pop_2012', 'pop_2013', 'pop_2014', 'pop_2015', 'pop_2016', \n",
    "                'pop_2017', 'pop_2018', 'pop_2019', 'pop_2020', 'pop_2021', 'pop_2022']]\n",
    "\n"
   ]
  },
  {
   "cell_type": "markdown",
   "metadata": {},
   "source": [
    "## Explore each data set"
   ]
  },
  {
   "cell_type": "markdown",
   "metadata": {},
   "source": [
    "In order to be able to **explore the raw data**, you may provide **static** and **interactive plots** to show important developments "
   ]
  },
  {
   "cell_type": "code",
   "execution_count": 21,
   "metadata": {},
   "outputs": [
    {
     "data": {
      "text/plain": [
       "crim_2007    5068.58\n",
       "crim_2008    5391.22\n",
       "crim_2009    5551.92\n",
       "crim_2010    5343.01\n",
       "crim_2011    5434.64\n",
       "crim_2012    5187.04\n",
       "crim_2013    5202.36\n",
       "crim_2014    4974.75\n",
       "crim_2015    4762.91\n",
       "crim_2016    4879.13\n",
       "crim_2017    4852.94\n",
       "crim_2018    4758.74\n",
       "crim_2019    4734.35\n",
       "crim_2020    4210.69\n",
       "crim_2021    3887.62\n",
       "crim_2022    4372.54\n",
       "dtype: float64"
      ]
     },
     "execution_count": 21,
     "metadata": {},
     "output_type": "execute_result"
    }
   ],
   "source": [
    "# Doing the statistics mean of the total years \n",
    "criminality_year.iloc[:,1:].mean()\n"
   ]
  },
  {
   "cell_type": "code",
   "execution_count": 65,
   "metadata": {},
   "outputs": [
    {
     "data": {
      "application/vnd.jupyter.widget-view+json": {
       "model_id": "933e2dd0ccae47468773c1c201bf4cc2",
       "version_major": 2,
       "version_minor": 0
      },
      "text/plain": [
       "interactive(children=(IntSlider(value=2007, description='Year:', max=2022, min=2007), Output()), _dom_classes=…"
      ]
     },
     "metadata": {},
     "output_type": "display_data"
    },
    {
     "data": {
      "application/vnd.plotly.v1+json": {
       "config": {
        "plotlyServerURL": "https://plot.ly"
       },
       "data": [
        {
         "branchvalues": "total",
         "customdata": [
          [
           "Helsingør: 1.25%",
           "Helsingør"
          ],
          [
           "Albertslund: 0.63%",
           "Albertslund"
          ],
          [
           "Aalborg: 3.56%",
           "Aalborg"
          ],
          [
           "Varde: 0.57%",
           "Varde"
          ],
          [
           "Kolding: 1.48%",
           "Kolding"
          ],
          [
           "Randers: 1.60%",
           "Randers"
          ],
          [
           "Aabenraa: 1.13%",
           "Aabenraa"
          ],
          [
           "Ballerup: 0.90%",
           "Ballerup"
          ],
          [
           "Hjørring: 0.77%",
           "Hjørring"
          ],
          [
           "Brøndby: 0.77%",
           "Brøndby"
          ],
          [
           "Svendborg: 0.78%",
           "Svendborg"
          ],
          [
           "Vejen: 0.60%",
           "Vejen"
          ],
          [
           "Haderslev: 0.76%",
           "Haderslev"
          ],
          [
           "Herning: 1.39%",
           "Herning"
          ],
          [
           "Odense: 3.92%",
           "Odense"
          ],
          [
           "Tårnby: 1.45%",
           "Tårnby"
          ],
          [
           "Høje-Taastrup: 1.06%",
           "Høje-Taastrup"
          ],
          [
           "Rudersdal: 0.74%",
           "Rudersdal"
          ],
          [
           "Greve: 0.80%",
           "Greve"
          ],
          [
           "Frederikssund: 0.62%",
           "Frederikssund"
          ],
          [
           "Hvidovre: 0.96%",
           "Hvidovre"
          ],
          [
           "Roskilde: 1.49%",
           "Roskilde"
          ],
          [
           "Køge: 0.86%",
           "Køge"
          ],
          [
           "Rødovre: 0.84%",
           "Rødovre"
          ],
          [
           "Gentofte: 1.18%",
           "Gentofte"
          ],
          [
           "Horsens: 1.34%",
           "Horsens"
          ],
          [
           "Hillerød: 0.95%",
           "Hillerød"
          ],
          [
           "Kalundborg: 0.69%",
           "Kalundborg"
          ],
          [
           "Sønderborg: 0.94%",
           "Sønderborg"
          ],
          [
           "Frederiksberg: 1.97%",
           "Frederiksberg"
          ],
          [
           "Lolland: 0.82%",
           "Lolland"
          ],
          [
           "Næstved: 1.24%",
           "Næstved"
          ],
          [
           "Holstebro: 0.74%",
           "Holstebro"
          ],
          [
           "Gribskov: 0.63%",
           "Gribskov"
          ],
          [
           "Aarhus: 7.66%",
           "Aarhus"
          ],
          [
           "Vordingborg: 0.73%",
           "Vordingborg"
          ],
          [
           "Esbjerg: 2.00%",
           "Esbjerg"
          ],
          [
           "Fredericia: 1.02%",
           "Fredericia"
          ],
          [
           "Silkeborg: 1.02%",
           "Silkeborg"
          ],
          [
           "Lyngby-Taarbæk: 0.99%",
           "Lyngby-Taarbæk"
          ],
          [
           "Holbæk: 0.89%",
           "Holbæk"
          ],
          [
           "Gladsaxe: 1.12%",
           "Gladsaxe"
          ],
          [
           "Odsherred: 0.56%",
           "Odsherred"
          ],
          [
           "Ikast-Brande: 0.92%",
           "Ikast-Brande"
          ],
          [
           "Frederikshavn: 0.72%",
           "Frederikshavn"
          ],
          [
           "Viborg: 1.22%",
           "Viborg"
          ],
          [
           "Vejle: 1.66%",
           "Vejle"
          ],
          [
           "Copenhagen: 20.52%",
           "Copenhagen"
          ],
          [
           "Guldborgsund: 0.95%",
           "Guldborgsund"
          ],
          [
           "Slagelse: 1.27%",
           "Slagelse"
          ],
          [
           "rest of municipalities: 17.27%",
           "rest of municipalities"
          ]
         ],
         "domain": {
          "x": [
           0,
           1
          ],
          "y": [
           0,
           1
          ]
         },
         "hovertemplate": "labels=%{label}<br>area=%{value}<br>parent=%{parent}<br>id=%{id}<br>label=%{customdata[0]}<br>municipalities=%{customdata[1]}<extra></extra>",
         "ids": [
          "Helsingør",
          "Albertslund",
          "Aalborg",
          "Varde",
          "Kolding",
          "Randers",
          "Aabenraa",
          "Ballerup",
          "Hjørring",
          "Brøndby",
          "Svendborg",
          "Vejen",
          "Haderslev",
          "Herning",
          "Odense",
          "Tårnby",
          "Høje-Taastrup",
          "Rudersdal",
          "Greve",
          "Frederikssund",
          "Hvidovre",
          "Roskilde",
          "Køge",
          "Rødovre",
          "Gentofte",
          "Horsens",
          "Hillerød",
          "Kalundborg",
          "Sønderborg",
          "Frederiksberg",
          "Lolland",
          "Næstved",
          "Holstebro",
          "Gribskov",
          "Aarhus",
          "Vordingborg",
          "Esbjerg",
          "Fredericia",
          "Silkeborg",
          "Lyngby-Taarbæk",
          "Holbæk",
          "Gladsaxe",
          "Odsherred",
          "Ikast-Brande",
          "Frederikshavn",
          "Viborg",
          "Vejle",
          "Copenhagen",
          "Guldborgsund",
          "Slagelse",
          "rest of municipalities"
         ],
         "labels": [
          "Helsingør",
          "Albertslund",
          "Aalborg",
          "Varde",
          "Kolding",
          "Randers",
          "Aabenraa",
          "Ballerup",
          "Hjørring",
          "Brøndby",
          "Svendborg",
          "Vejen",
          "Haderslev",
          "Herning",
          "Odense",
          "Tårnby",
          "Høje-Taastrup",
          "Rudersdal",
          "Greve",
          "Frederikssund",
          "Hvidovre",
          "Roskilde",
          "Køge",
          "Rødovre",
          "Gentofte",
          "Horsens",
          "Hillerød",
          "Kalundborg",
          "Sønderborg",
          "Frederiksberg",
          "Lolland",
          "Næstved",
          "Holstebro",
          "Gribskov",
          "Aarhus",
          "Vordingborg",
          "Esbjerg",
          "Fredericia",
          "Silkeborg",
          "Lyngby-Taarbæk",
          "Holbæk",
          "Gladsaxe",
          "Odsherred",
          "Ikast-Brande",
          "Frederikshavn",
          "Viborg",
          "Vejle",
          "Copenhagen",
          "Guldborgsund",
          "Slagelse",
          "rest of municipalities"
         ],
         "marker": {
          "colors": [
           "#636efa",
           "#EF553B",
           "#00cc96",
           "#ab63fa",
           "#FFA15A",
           "#19d3f3",
           "#FF6692",
           "#B6E880",
           "#FF97FF",
           "#FECB52",
           "#636efa",
           "#EF553B",
           "#00cc96",
           "#ab63fa",
           "#FFA15A",
           "#19d3f3",
           "#FF6692",
           "#B6E880",
           "#FF97FF",
           "#FECB52",
           "#636efa",
           "#EF553B",
           "#00cc96",
           "#ab63fa",
           "#FFA15A",
           "#19d3f3",
           "#FF6692",
           "#B6E880",
           "#FF97FF",
           "#FECB52",
           "#636efa",
           "#EF553B",
           "#00cc96",
           "#ab63fa",
           "#FFA15A",
           "#19d3f3",
           "#FF6692",
           "#B6E880",
           "#FF97FF",
           "#FECB52",
           "#636efa",
           "#EF553B",
           "#00cc96",
           "#ab63fa",
           "#FFA15A",
           "#19d3f3",
           "#FF6692",
           "#B6E880",
           "#FF97FF",
           "#FECB52",
           "#636efa"
          ]
         },
         "name": "",
         "parents": [
          "",
          "",
          "",
          "",
          "",
          "",
          "",
          "",
          "",
          "",
          "",
          "",
          "",
          "",
          "",
          "",
          "",
          "",
          "",
          "",
          "",
          "",
          "",
          "",
          "",
          "",
          "",
          "",
          "",
          "",
          "",
          "",
          "",
          "",
          "",
          "",
          "",
          "",
          "",
          "",
          "",
          "",
          "",
          "",
          "",
          "",
          "",
          "",
          "",
          "",
          ""
         ],
         "type": "treemap",
         "values": [
          0.012523274291792038,
          0.006273005863732022,
          0.035604297880618356,
          0.005666674245811891,
          0.014814702531181867,
          0.0160475768209528,
          0.011297979147245106,
          0.008998971762631277,
          0.007662515821465655,
          0.007728201746740336,
          0.007819151489428355,
          0.00597236643651329,
          0.007617040950121646,
          0.013910257867784338,
          0.039247340351621814,
          0.01454943244834181,
          0.010580486732706285,
          0.007404824883849599,
          0.008046525846148405,
          0.006237636519353347,
          0.00962046167099941,
          0.014920810564317889,
          0.008614961737948528,
          0.00844822054302049,
          0.011836098458149223,
          0.01336455941165622,
          0.00953456469179406,
          0.006942497025185499,
          0.009423403895175368,
          0.01970072481892159,
          0.008228425331524444,
          0.012434850930845353,
          0.007435141464745606,
          0.006318480735076032,
          0.07655694590764053,
          0.007311348759420246,
          0.020039259972260328,
          0.010226793288919542,
          0.010221740525436875,
          0.009875626226874133,
          0.008928233073873929,
          0.01124745151241843,
          0.00560098832053721,
          0.00915813381233531,
          0.00722292539847356,
          0.012194844665418635,
          0.01656295869618491,
          0.20518261950417233,
          0.009458773239554043,
          0.012707700158909412,
          0.17267819202017054
         ]
        }
       ],
       "layout": {
        "legend": {
         "tracegroupgap": 0
        },
        "margin": {
         "t": 60
        },
        "template": {
         "data": {
          "bar": [
           {
            "error_x": {
             "color": "#2a3f5f"
            },
            "error_y": {
             "color": "#2a3f5f"
            },
            "marker": {
             "line": {
              "color": "#E5ECF6",
              "width": 0.5
             },
             "pattern": {
              "fillmode": "overlay",
              "size": 10,
              "solidity": 0.2
             }
            },
            "type": "bar"
           }
          ],
          "barpolar": [
           {
            "marker": {
             "line": {
              "color": "#E5ECF6",
              "width": 0.5
             },
             "pattern": {
              "fillmode": "overlay",
              "size": 10,
              "solidity": 0.2
             }
            },
            "type": "barpolar"
           }
          ],
          "carpet": [
           {
            "aaxis": {
             "endlinecolor": "#2a3f5f",
             "gridcolor": "white",
             "linecolor": "white",
             "minorgridcolor": "white",
             "startlinecolor": "#2a3f5f"
            },
            "baxis": {
             "endlinecolor": "#2a3f5f",
             "gridcolor": "white",
             "linecolor": "white",
             "minorgridcolor": "white",
             "startlinecolor": "#2a3f5f"
            },
            "type": "carpet"
           }
          ],
          "choropleth": [
           {
            "colorbar": {
             "outlinewidth": 0,
             "ticks": ""
            },
            "type": "choropleth"
           }
          ],
          "contour": [
           {
            "colorbar": {
             "outlinewidth": 0,
             "ticks": ""
            },
            "colorscale": [
             [
              0,
              "#0d0887"
             ],
             [
              0.1111111111111111,
              "#46039f"
             ],
             [
              0.2222222222222222,
              "#7201a8"
             ],
             [
              0.3333333333333333,
              "#9c179e"
             ],
             [
              0.4444444444444444,
              "#bd3786"
             ],
             [
              0.5555555555555556,
              "#d8576b"
             ],
             [
              0.6666666666666666,
              "#ed7953"
             ],
             [
              0.7777777777777778,
              "#fb9f3a"
             ],
             [
              0.8888888888888888,
              "#fdca26"
             ],
             [
              1,
              "#f0f921"
             ]
            ],
            "type": "contour"
           }
          ],
          "contourcarpet": [
           {
            "colorbar": {
             "outlinewidth": 0,
             "ticks": ""
            },
            "type": "contourcarpet"
           }
          ],
          "heatmap": [
           {
            "colorbar": {
             "outlinewidth": 0,
             "ticks": ""
            },
            "colorscale": [
             [
              0,
              "#0d0887"
             ],
             [
              0.1111111111111111,
              "#46039f"
             ],
             [
              0.2222222222222222,
              "#7201a8"
             ],
             [
              0.3333333333333333,
              "#9c179e"
             ],
             [
              0.4444444444444444,
              "#bd3786"
             ],
             [
              0.5555555555555556,
              "#d8576b"
             ],
             [
              0.6666666666666666,
              "#ed7953"
             ],
             [
              0.7777777777777778,
              "#fb9f3a"
             ],
             [
              0.8888888888888888,
              "#fdca26"
             ],
             [
              1,
              "#f0f921"
             ]
            ],
            "type": "heatmap"
           }
          ],
          "heatmapgl": [
           {
            "colorbar": {
             "outlinewidth": 0,
             "ticks": ""
            },
            "colorscale": [
             [
              0,
              "#0d0887"
             ],
             [
              0.1111111111111111,
              "#46039f"
             ],
             [
              0.2222222222222222,
              "#7201a8"
             ],
             [
              0.3333333333333333,
              "#9c179e"
             ],
             [
              0.4444444444444444,
              "#bd3786"
             ],
             [
              0.5555555555555556,
              "#d8576b"
             ],
             [
              0.6666666666666666,
              "#ed7953"
             ],
             [
              0.7777777777777778,
              "#fb9f3a"
             ],
             [
              0.8888888888888888,
              "#fdca26"
             ],
             [
              1,
              "#f0f921"
             ]
            ],
            "type": "heatmapgl"
           }
          ],
          "histogram": [
           {
            "marker": {
             "pattern": {
              "fillmode": "overlay",
              "size": 10,
              "solidity": 0.2
             }
            },
            "type": "histogram"
           }
          ],
          "histogram2d": [
           {
            "colorbar": {
             "outlinewidth": 0,
             "ticks": ""
            },
            "colorscale": [
             [
              0,
              "#0d0887"
             ],
             [
              0.1111111111111111,
              "#46039f"
             ],
             [
              0.2222222222222222,
              "#7201a8"
             ],
             [
              0.3333333333333333,
              "#9c179e"
             ],
             [
              0.4444444444444444,
              "#bd3786"
             ],
             [
              0.5555555555555556,
              "#d8576b"
             ],
             [
              0.6666666666666666,
              "#ed7953"
             ],
             [
              0.7777777777777778,
              "#fb9f3a"
             ],
             [
              0.8888888888888888,
              "#fdca26"
             ],
             [
              1,
              "#f0f921"
             ]
            ],
            "type": "histogram2d"
           }
          ],
          "histogram2dcontour": [
           {
            "colorbar": {
             "outlinewidth": 0,
             "ticks": ""
            },
            "colorscale": [
             [
              0,
              "#0d0887"
             ],
             [
              0.1111111111111111,
              "#46039f"
             ],
             [
              0.2222222222222222,
              "#7201a8"
             ],
             [
              0.3333333333333333,
              "#9c179e"
             ],
             [
              0.4444444444444444,
              "#bd3786"
             ],
             [
              0.5555555555555556,
              "#d8576b"
             ],
             [
              0.6666666666666666,
              "#ed7953"
             ],
             [
              0.7777777777777778,
              "#fb9f3a"
             ],
             [
              0.8888888888888888,
              "#fdca26"
             ],
             [
              1,
              "#f0f921"
             ]
            ],
            "type": "histogram2dcontour"
           }
          ],
          "mesh3d": [
           {
            "colorbar": {
             "outlinewidth": 0,
             "ticks": ""
            },
            "type": "mesh3d"
           }
          ],
          "parcoords": [
           {
            "line": {
             "colorbar": {
              "outlinewidth": 0,
              "ticks": ""
             }
            },
            "type": "parcoords"
           }
          ],
          "pie": [
           {
            "automargin": true,
            "type": "pie"
           }
          ],
          "scatter": [
           {
            "fillpattern": {
             "fillmode": "overlay",
             "size": 10,
             "solidity": 0.2
            },
            "type": "scatter"
           }
          ],
          "scatter3d": [
           {
            "line": {
             "colorbar": {
              "outlinewidth": 0,
              "ticks": ""
             }
            },
            "marker": {
             "colorbar": {
              "outlinewidth": 0,
              "ticks": ""
             }
            },
            "type": "scatter3d"
           }
          ],
          "scattercarpet": [
           {
            "marker": {
             "colorbar": {
              "outlinewidth": 0,
              "ticks": ""
             }
            },
            "type": "scattercarpet"
           }
          ],
          "scattergeo": [
           {
            "marker": {
             "colorbar": {
              "outlinewidth": 0,
              "ticks": ""
             }
            },
            "type": "scattergeo"
           }
          ],
          "scattergl": [
           {
            "marker": {
             "colorbar": {
              "outlinewidth": 0,
              "ticks": ""
             }
            },
            "type": "scattergl"
           }
          ],
          "scattermapbox": [
           {
            "marker": {
             "colorbar": {
              "outlinewidth": 0,
              "ticks": ""
             }
            },
            "type": "scattermapbox"
           }
          ],
          "scatterpolar": [
           {
            "marker": {
             "colorbar": {
              "outlinewidth": 0,
              "ticks": ""
             }
            },
            "type": "scatterpolar"
           }
          ],
          "scatterpolargl": [
           {
            "marker": {
             "colorbar": {
              "outlinewidth": 0,
              "ticks": ""
             }
            },
            "type": "scatterpolargl"
           }
          ],
          "scatterternary": [
           {
            "marker": {
             "colorbar": {
              "outlinewidth": 0,
              "ticks": ""
             }
            },
            "type": "scatterternary"
           }
          ],
          "surface": [
           {
            "colorbar": {
             "outlinewidth": 0,
             "ticks": ""
            },
            "colorscale": [
             [
              0,
              "#0d0887"
             ],
             [
              0.1111111111111111,
              "#46039f"
             ],
             [
              0.2222222222222222,
              "#7201a8"
             ],
             [
              0.3333333333333333,
              "#9c179e"
             ],
             [
              0.4444444444444444,
              "#bd3786"
             ],
             [
              0.5555555555555556,
              "#d8576b"
             ],
             [
              0.6666666666666666,
              "#ed7953"
             ],
             [
              0.7777777777777778,
              "#fb9f3a"
             ],
             [
              0.8888888888888888,
              "#fdca26"
             ],
             [
              1,
              "#f0f921"
             ]
            ],
            "type": "surface"
           }
          ],
          "table": [
           {
            "cells": {
             "fill": {
              "color": "#EBF0F8"
             },
             "line": {
              "color": "white"
             }
            },
            "header": {
             "fill": {
              "color": "#C8D4E3"
             },
             "line": {
              "color": "white"
             }
            },
            "type": "table"
           }
          ]
         },
         "layout": {
          "annotationdefaults": {
           "arrowcolor": "#2a3f5f",
           "arrowhead": 0,
           "arrowwidth": 1
          },
          "autotypenumbers": "strict",
          "coloraxis": {
           "colorbar": {
            "outlinewidth": 0,
            "ticks": ""
           }
          },
          "colorscale": {
           "diverging": [
            [
             0,
             "#8e0152"
            ],
            [
             0.1,
             "#c51b7d"
            ],
            [
             0.2,
             "#de77ae"
            ],
            [
             0.3,
             "#f1b6da"
            ],
            [
             0.4,
             "#fde0ef"
            ],
            [
             0.5,
             "#f7f7f7"
            ],
            [
             0.6,
             "#e6f5d0"
            ],
            [
             0.7,
             "#b8e186"
            ],
            [
             0.8,
             "#7fbc41"
            ],
            [
             0.9,
             "#4d9221"
            ],
            [
             1,
             "#276419"
            ]
           ],
           "sequential": [
            [
             0,
             "#0d0887"
            ],
            [
             0.1111111111111111,
             "#46039f"
            ],
            [
             0.2222222222222222,
             "#7201a8"
            ],
            [
             0.3333333333333333,
             "#9c179e"
            ],
            [
             0.4444444444444444,
             "#bd3786"
            ],
            [
             0.5555555555555556,
             "#d8576b"
            ],
            [
             0.6666666666666666,
             "#ed7953"
            ],
            [
             0.7777777777777778,
             "#fb9f3a"
            ],
            [
             0.8888888888888888,
             "#fdca26"
            ],
            [
             1,
             "#f0f921"
            ]
           ],
           "sequentialminus": [
            [
             0,
             "#0d0887"
            ],
            [
             0.1111111111111111,
             "#46039f"
            ],
            [
             0.2222222222222222,
             "#7201a8"
            ],
            [
             0.3333333333333333,
             "#9c179e"
            ],
            [
             0.4444444444444444,
             "#bd3786"
            ],
            [
             0.5555555555555556,
             "#d8576b"
            ],
            [
             0.6666666666666666,
             "#ed7953"
            ],
            [
             0.7777777777777778,
             "#fb9f3a"
            ],
            [
             0.8888888888888888,
             "#fdca26"
            ],
            [
             1,
             "#f0f921"
            ]
           ]
          },
          "colorway": [
           "#636efa",
           "#EF553B",
           "#00cc96",
           "#ab63fa",
           "#FFA15A",
           "#19d3f3",
           "#FF6692",
           "#B6E880",
           "#FF97FF",
           "#FECB52"
          ],
          "font": {
           "color": "#2a3f5f"
          },
          "geo": {
           "bgcolor": "white",
           "lakecolor": "white",
           "landcolor": "#E5ECF6",
           "showlakes": true,
           "showland": true,
           "subunitcolor": "white"
          },
          "hoverlabel": {
           "align": "left"
          },
          "hovermode": "closest",
          "mapbox": {
           "style": "light"
          },
          "paper_bgcolor": "white",
          "plot_bgcolor": "#E5ECF6",
          "polar": {
           "angularaxis": {
            "gridcolor": "white",
            "linecolor": "white",
            "ticks": ""
           },
           "bgcolor": "#E5ECF6",
           "radialaxis": {
            "gridcolor": "white",
            "linecolor": "white",
            "ticks": ""
           }
          },
          "scene": {
           "xaxis": {
            "backgroundcolor": "#E5ECF6",
            "gridcolor": "white",
            "gridwidth": 2,
            "linecolor": "white",
            "showbackground": true,
            "ticks": "",
            "zerolinecolor": "white"
           },
           "yaxis": {
            "backgroundcolor": "#E5ECF6",
            "gridcolor": "white",
            "gridwidth": 2,
            "linecolor": "white",
            "showbackground": true,
            "ticks": "",
            "zerolinecolor": "white"
           },
           "zaxis": {
            "backgroundcolor": "#E5ECF6",
            "gridcolor": "white",
            "gridwidth": 2,
            "linecolor": "white",
            "showbackground": true,
            "ticks": "",
            "zerolinecolor": "white"
           }
          },
          "shapedefaults": {
           "line": {
            "color": "#2a3f5f"
           }
          },
          "ternary": {
           "aaxis": {
            "gridcolor": "white",
            "linecolor": "white",
            "ticks": ""
           },
           "baxis": {
            "gridcolor": "white",
            "linecolor": "white",
            "ticks": ""
           },
           "bgcolor": "#E5ECF6",
           "caxis": {
            "gridcolor": "white",
            "linecolor": "white",
            "ticks": ""
           }
          },
          "title": {
           "x": 0.05
          },
          "xaxis": {
           "automargin": true,
           "gridcolor": "white",
           "linecolor": "white",
           "ticks": "",
           "title": {
            "standoff": 15
           },
           "zerolinecolor": "white",
           "zerolinewidth": 2
          },
          "yaxis": {
           "automargin": true,
           "gridcolor": "white",
           "linecolor": "white",
           "ticks": "",
           "title": {
            "standoff": 15
           },
           "zerolinecolor": "white",
           "zerolinewidth": 2
          }
         }
        },
        "title": {
         "text": "Criminality Proportional Area Chart (2022)"
        },
        "xaxis": {
         "title": {
          "text": "Municipality"
         }
        },
        "yaxis": {
         "title": {
          "text": "Proportional Area"
         }
        }
       }
      }
     },
     "metadata": {},
     "output_type": "display_data"
    },
    {
     "data": {
      "text/plain": [
       "<function __main__.create_chart(year)>"
      ]
     },
     "execution_count": 65,
     "metadata": {},
     "output_type": "execute_result"
    }
   ],
   "source": [
    "from ipywidgets import interact, widgets\n",
    "\n",
    "# Define the interactive widget for selecting the year\n",
    "year_widget = widgets.IntSlider(\n",
    "    value=2007,\n",
    "    min=2007,\n",
    "    max=2022,\n",
    "    step=1,\n",
    "    description='Year:'\n",
    ")\n",
    "\n",
    "# Define the function that creates the proportional area chart\n",
    "def create_chart(year):\n",
    "    # Filter the data to only include the selected year and drop the row with the \"Unknown municipality\" value\n",
    "    year_data = criminality_year[['municipalities', f'crim_{year}']].drop(criminality_year.index[criminality_year['municipalities'] == 'Unknown municipality'])\n",
    "    \n",
    "    # Calculate the total crimes for the year\n",
    "    total_crimes = year_data[f'crim_{year}'].sum()\n",
    "    \n",
    "    # Calculate the proportional area for each municipality\n",
    "    year_data['area'] = year_data[f'crim_{year}']/total_crimes\n",
    "    \n",
    "    # Sort the data by crime in descending order\n",
    "    year_data = year_data.sort_values(by=f'crim_{year}', ascending=False)\n",
    "    \n",
    "    # Get the top 50 municipalities by crime\n",
    "    top_municipalities = year_data.iloc[:50, :]\n",
    "    \n",
    "    # Calculate the cumulative proportion of crimes and the index of the row where the cumulative proportion exceeds 0.5\n",
    "    top_municipalities['cumulative_prop'] = top_municipalities['area'].cumsum()\n",
    "    index_cutoff = top_municipalities[top_municipalities['cumulative_prop'] > 0.5].index[0]\n",
    "    \n",
    "    # Aggregate the municipalities that represent less than 50% of the crimes into a single observation\n",
    "    rest_of_municipalities = year_data.iloc[50:, :]\n",
    "    rest_of_municipalities = pd.DataFrame(rest_of_municipalities.sum(numeric_only=True)).T\n",
    "    rest_of_municipalities['municipalities'] = 'rest of municipalities'\n",
    "    rest_of_municipalities['area'] = 1 - top_municipalities.iloc[:index_cutoff, :]['area'].sum()\n",
    "    \n",
    "    # Combine the top municipalities and the aggregated municipalities\n",
    "    year_data = pd.concat([top_municipalities.iloc[:index_cutoff, :], rest_of_municipalities], ignore_index=True)\n",
    "    \n",
    "    # Create a label showing the percentage of crimes for each municipality\n",
    "    year_data['label'] = year_data.apply(lambda row: f\"{row['municipalities']}: {row['crim_' + str(year)] / total_crimes:.2%}\", axis=1)\n",
    "    \n",
    "    # Create the chart using Plotly Express\n",
    "    fig = px.treemap(year_data, path=['municipalities'], values='area', color='municipalities', hover_data=['label'])\n",
    "    fig.update_layout(\n",
    "        title=f'Criminality Proportional Area Chart ({year})',\n",
    "        xaxis_title='Municipality',\n",
    "        yaxis_title='Proportional Area',\n",
    "    )\n",
    "    fig.show()\n",
    "\n",
    "# Create the interactive widget\n",
    "interact(create_chart, year=year_widget)"
   ]
  },
  {
   "attachments": {},
   "cell_type": "markdown",
   "metadata": {},
   "source": [
    "**Interpretation**\n",
    "\n",
    "From the mean of the crime by year since 2007 until 2022, it is possible to see that it has been decreasing. This value however does not take into account the total population, hence we are, so far, only able to conclude over the number of realizations of crime."
   ]
  },
  {
   "cell_type": "code",
   "execution_count": 28,
   "metadata": {},
   "outputs": [
    {
     "data": {
      "text/plain": [
       "pop_2008    55616.111111\n",
       "pop_2009    55884.151515\n",
       "pop_2010    56138.474747\n",
       "pop_2011    56355.595960\n",
       "pop_2012    56562.272727\n",
       "pop_2013    56803.040404\n",
       "pop_2014    57128.787879\n",
       "pop_2015    57567.878788\n",
       "pop_2016    58035.616162\n",
       "pop_2017    58369.393939\n",
       "pop_2018    58646.616162\n",
       "pop_2019    58863.262626\n",
       "pop_2020    58961.747475\n",
       "pop_2021    59266.787879\n",
       "pop_2022    59882.464646\n",
       "dtype: float64"
      ]
     },
     "execution_count": 28,
     "metadata": {},
     "output_type": "execute_result"
    }
   ],
   "source": [
    "# Mean of the population by year\n",
    "pop_year.iloc[:,1:].mean()"
   ]
  },
  {
   "attachments": {},
   "cell_type": "markdown",
   "metadata": {},
   "source": [
    "**Interpretation**\n",
    "The mean of the population by municipality has been increasing since 2008 to 2022. Giving the previous results, it suggests that, on average, the rate of crime has been decreasing. However, this is a first approach as further and more in dept analysis will be taken."
   ]
  },
  {
   "cell_type": "code",
   "execution_count": 29,
   "metadata": {},
   "outputs": [],
   "source": [
    "# Wide to long dataframe\n",
    "criminality_year_long = pd.wide_to_long(criminality_year, stubnames='crim_', i='municipalities', j='year')\n",
    "\n",
    "pop_year_long = pd.wide_to_long(pop_year, stubnames='pop_', i='municipalities', j='year')"
   ]
  },
  {
   "cell_type": "code",
   "execution_count": 30,
   "metadata": {},
   "outputs": [
    {
     "data": {
      "text/html": [
       "<div>\n",
       "<style scoped>\n",
       "    .dataframe tbody tr th:only-of-type {\n",
       "        vertical-align: middle;\n",
       "    }\n",
       "\n",
       "    .dataframe tbody tr th {\n",
       "        vertical-align: top;\n",
       "    }\n",
       "\n",
       "    .dataframe thead th {\n",
       "        text-align: right;\n",
       "    }\n",
       "</style>\n",
       "<table border=\"1\" class=\"dataframe\">\n",
       "  <thead>\n",
       "    <tr style=\"text-align: right;\">\n",
       "      <th></th>\n",
       "      <th>municipalities</th>\n",
       "      <th>year</th>\n",
       "      <th>crim_</th>\n",
       "    </tr>\n",
       "  </thead>\n",
       "  <tbody>\n",
       "    <tr>\n",
       "      <th>0</th>\n",
       "      <td>Copenhagen</td>\n",
       "      <td>2007</td>\n",
       "      <td>93077.0</td>\n",
       "    </tr>\n",
       "    <tr>\n",
       "      <th>1</th>\n",
       "      <td>Frederiksberg</td>\n",
       "      <td>2007</td>\n",
       "      <td>8149.0</td>\n",
       "    </tr>\n",
       "    <tr>\n",
       "      <th>2</th>\n",
       "      <td>Dragør</td>\n",
       "      <td>2007</td>\n",
       "      <td>671.0</td>\n",
       "    </tr>\n",
       "    <tr>\n",
       "      <th>3</th>\n",
       "      <td>Tårnby</td>\n",
       "      <td>2007</td>\n",
       "      <td>5446.0</td>\n",
       "    </tr>\n",
       "    <tr>\n",
       "      <th>4</th>\n",
       "      <td>Albertslund</td>\n",
       "      <td>2007</td>\n",
       "      <td>2903.0</td>\n",
       "    </tr>\n",
       "    <tr>\n",
       "      <th>...</th>\n",
       "      <td>...</td>\n",
       "      <td>...</td>\n",
       "      <td>...</td>\n",
       "    </tr>\n",
       "    <tr>\n",
       "      <th>1595</th>\n",
       "      <td>Rebild</td>\n",
       "      <td>2022</td>\n",
       "      <td>1002.0</td>\n",
       "    </tr>\n",
       "    <tr>\n",
       "      <th>1596</th>\n",
       "      <td>Thisted</td>\n",
       "      <td>2022</td>\n",
       "      <td>1903.0</td>\n",
       "    </tr>\n",
       "    <tr>\n",
       "      <th>1597</th>\n",
       "      <td>Vesthimmerlands</td>\n",
       "      <td>2022</td>\n",
       "      <td>1590.0</td>\n",
       "    </tr>\n",
       "    <tr>\n",
       "      <th>1598</th>\n",
       "      <td>Aalborg</td>\n",
       "      <td>2022</td>\n",
       "      <td>14093.0</td>\n",
       "    </tr>\n",
       "    <tr>\n",
       "      <th>1599</th>\n",
       "      <td>Unknown municipality</td>\n",
       "      <td>2022</td>\n",
       "      <td>41431.0</td>\n",
       "    </tr>\n",
       "  </tbody>\n",
       "</table>\n",
       "<p>1600 rows × 3 columns</p>\n",
       "</div>"
      ],
      "text/plain": [
       "            municipalities  year    crim_\n",
       "0               Copenhagen  2007  93077.0\n",
       "1            Frederiksberg  2007   8149.0\n",
       "2                   Dragør  2007    671.0\n",
       "3                   Tårnby  2007   5446.0\n",
       "4              Albertslund  2007   2903.0\n",
       "...                    ...   ...      ...\n",
       "1595                Rebild  2022   1002.0\n",
       "1596               Thisted  2022   1903.0\n",
       "1597       Vesthimmerlands  2022   1590.0\n",
       "1598               Aalborg  2022  14093.0\n",
       "1599  Unknown municipality  2022  41431.0\n",
       "\n",
       "[1600 rows x 3 columns]"
      ]
     },
     "execution_count": 30,
     "metadata": {},
     "output_type": "execute_result"
    }
   ],
   "source": [
    "# Resetting the index for criminality and population to default\n",
    "# Important for next step\n",
    "criminality_year_long = criminality_year_long.reset_index()\n",
    "pop_year_long = pop_year_long.reset_index()\n",
    "criminality_year_long"
   ]
  },
  {
   "cell_type": "code",
   "execution_count": 32,
   "metadata": {},
   "outputs": [
    {
     "data": {
      "application/vnd.jupyter.widget-view+json": {
       "model_id": "564d5a1f24db4d019456e5fb17944642",
       "version_major": 2,
       "version_minor": 0
      },
      "text/plain": [
       "interactive(children=(Dropdown(description='municipalities', options=('Copenhagen', 'Frederiksberg', 'Dragør',…"
      ]
     },
     "metadata": {},
     "output_type": "display_data"
    }
   ],
   "source": [
    "#interactive plot:\n",
    "def plot(pop_year_long,criminality_year_long, municipalities): \n",
    "    I = pop_year_long['municipalities'] == municipalities\n",
    "    pop_I = pop_year_long['municipalities'] == municipalities\n",
    "    crim_I = criminality_year_long['municipalities'] == municipalities\n",
    "    pop_data = pop_year_long.loc[pop_I,:]\n",
    "    crim_data = criminality_year_long.loc[crim_I,:]\n",
    "    fig, ax1 = plt.subplots()\n",
    "    ax1.plot(pop_data['year'], pop_data['pop_'], '-o', label='Population') # remember name of population is \"pop_\"\n",
    "    ax1.set_ylabel('Population', color='blue')\n",
    "    ax1.set_title(f'Population and criminality of {municipalities}')\n",
    "\n",
    "    ax2 = ax1.twinx()\n",
    "\n",
    "    ax2.plot(crim_data['year'], crim_data['crim_'], '-o', color='red', label='Criminality')\n",
    "    ax2.set_ylabel('Criminality (number of realizations)', color='red')\n",
    "\n",
    "widgets.interact(plot, \n",
    "    pop_year_long = widgets.fixed(pop_year_long),\n",
    "    criminality_year_long = widgets.fixed(criminality_year_long),\n",
    "    municipalities = widgets.Dropdown(description='municipalities', \n",
    "                                    options=pop_year_long.municipalities.unique(), \n",
    "                                    value='Copenhagen')\n",
    ");"
   ]
  },
  {
   "attachments": {},
   "cell_type": "markdown",
   "metadata": {},
   "source": [
    "**Interactive plot**: The plot is interactive: municipality can be chosen to see the development of the criminality and population.\n",
    "\n",
    "**Interpretation**\n",
    "\n",
    "The graph shows how the total population and total acts of criminality has change over time by municipality. The population evolution is shown from 2008 to 2022, while the criminality is shown from 2007 to 2022.\n",
    "\n",
    "Focusing on *criminality* and choosing one municipality,for instance Aalborg, we see that the crime was at it's highest in 2011 with around 21000 reported crimes. Crime has then been decreasing to less than half during lockdown in 2021. However, after lockdown the crime increased again. This can be explained by the restriction of social activities such as nightlife and the restriction of total amount of people in certain areas.\n",
    "\n",
    "It is possible to find a similar drop in crime during lockdown in every municipality, howeverer the previous trends differ. For example, in Frederiksbergtthe criminality was decreasing before lockdown, while in Tamby, it was increasing.\n",
    "\n",
    "Now, in terms of *population*, it is possible to find municipaltities with a strong increase while others have faced a decrease. For example, these are the cases of Aalborg and Struer, respectively.\n",
    "\n",
    "Finally, the graph gives a initial guess of how is the relationship bertween *criminality* and *population*. We were expecting to find a strong positive correlation between these variables in all municipalities, such as the case of Haderslev. However, it is very common to find a negative relationship, such as in Copenhagen, Helsingor, and Hvidovre. It gives a first suggestion of a reduction in the rate of crimes in Denmark."
   ]
  },
  {
   "cell_type": "markdown",
   "metadata": {},
   "source": [
    "# Merge data sets"
   ]
  },
  {
   "cell_type": "markdown",
   "metadata": {},
   "source": [
    "Now you create combinations of your loaded data sets. Remember the illustration of a (inner) **merge**:"
   ]
  },
  {
   "cell_type": "markdown",
   "metadata": {},
   "source": [
    "Here we are dropping elements from both data set X and data set Y. A left join would keep all observations in data X intact and subset only from Y. \n",
    "\n",
    "Make sure that your resulting data sets have the correct number of rows and columns. That is, be clear about which observations are thrown away. \n",
    "\n",
    "**Note:** Don't make Venn diagrams in your own data project. It is just for exposition. "
   ]
  },
  {
   "cell_type": "code",
   "execution_count": 60,
   "metadata": {},
   "outputs": [
    {
     "data": {
      "text/html": [
       "<div>\n",
       "<style scoped>\n",
       "    .dataframe tbody tr th:only-of-type {\n",
       "        vertical-align: middle;\n",
       "    }\n",
       "\n",
       "    .dataframe tbody tr th {\n",
       "        vertical-align: top;\n",
       "    }\n",
       "\n",
       "    .dataframe thead th {\n",
       "        text-align: right;\n",
       "    }\n",
       "</style>\n",
       "<table border=\"1\" class=\"dataframe\">\n",
       "  <thead>\n",
       "    <tr style=\"text-align: right;\">\n",
       "      <th></th>\n",
       "      <th>municipalities</th>\n",
       "      <th>year</th>\n",
       "      <th>pop_</th>\n",
       "      <th>crim_</th>\n",
       "    </tr>\n",
       "  </thead>\n",
       "  <tbody>\n",
       "    <tr>\n",
       "      <th>0</th>\n",
       "      <td>Copenhagen</td>\n",
       "      <td>2008</td>\n",
       "      <td>516962</td>\n",
       "      <td>95101.0</td>\n",
       "    </tr>\n",
       "    <tr>\n",
       "      <th>1</th>\n",
       "      <td>Frederiksberg</td>\n",
       "      <td>2008</td>\n",
       "      <td>95005</td>\n",
       "      <td>7971.0</td>\n",
       "    </tr>\n",
       "    <tr>\n",
       "      <th>2</th>\n",
       "      <td>Dragør</td>\n",
       "      <td>2008</td>\n",
       "      <td>13452</td>\n",
       "      <td>688.0</td>\n",
       "    </tr>\n",
       "    <tr>\n",
       "      <th>3</th>\n",
       "      <td>Tårnby</td>\n",
       "      <td>2008</td>\n",
       "      <td>40234</td>\n",
       "      <td>5947.0</td>\n",
       "    </tr>\n",
       "    <tr>\n",
       "      <th>4</th>\n",
       "      <td>Albertslund</td>\n",
       "      <td>2008</td>\n",
       "      <td>27817</td>\n",
       "      <td>3339.0</td>\n",
       "    </tr>\n",
       "    <tr>\n",
       "      <th>5</th>\n",
       "      <td>Ballerup</td>\n",
       "      <td>2008</td>\n",
       "      <td>47329</td>\n",
       "      <td>4592.0</td>\n",
       "    </tr>\n",
       "    <tr>\n",
       "      <th>6</th>\n",
       "      <td>Brøndby</td>\n",
       "      <td>2008</td>\n",
       "      <td>33689</td>\n",
       "      <td>3621.0</td>\n",
       "    </tr>\n",
       "    <tr>\n",
       "      <th>7</th>\n",
       "      <td>Gentofte</td>\n",
       "      <td>2008</td>\n",
       "      <td>69646</td>\n",
       "      <td>5469.0</td>\n",
       "    </tr>\n",
       "    <tr>\n",
       "      <th>8</th>\n",
       "      <td>Gladsaxe</td>\n",
       "      <td>2008</td>\n",
       "      <td>63138</td>\n",
       "      <td>4942.0</td>\n",
       "    </tr>\n",
       "    <tr>\n",
       "      <th>9</th>\n",
       "      <td>Glostrup</td>\n",
       "      <td>2008</td>\n",
       "      <td>20911</td>\n",
       "      <td>2892.0</td>\n",
       "    </tr>\n",
       "  </tbody>\n",
       "</table>\n",
       "</div>"
      ],
      "text/plain": [
       "  municipalities  year    pop_    crim_\n",
       "0     Copenhagen  2008  516962  95101.0\n",
       "1  Frederiksberg  2008   95005   7971.0\n",
       "2         Dragør  2008   13452    688.0\n",
       "3         Tårnby  2008   40234   5947.0\n",
       "4    Albertslund  2008   27817   3339.0\n",
       "5       Ballerup  2008   47329   4592.0\n",
       "6        Brøndby  2008   33689   3621.0\n",
       "7       Gentofte  2008   69646   5469.0\n",
       "8       Gladsaxe  2008   63138   4942.0\n",
       "9       Glostrup  2008   20911   2892.0"
      ]
     },
     "execution_count": 60,
     "metadata": {},
     "output_type": "execute_result"
    }
   ],
   "source": [
    "total = pd.merge(pop_year_long, criminality_year_long, on=['municipalities','year'], how='left')\n",
    "\n",
    "total.head(10)"
   ]
  },
  {
   "attachments": {},
   "cell_type": "markdown",
   "metadata": {},
   "source": [
    "**Interpretation**\n",
    "\n",
    "Here we are merging the two dataset. Since the criminality information is from 2007 while the population is from 2008, we use a left pethod using the popuation dataset (the smaller) as base. It means that we drop the information of criminality of 2007. In addition, a new observation was created in the population dataset because of the \"unknown\" municipality in crime.\n"
   ]
  },
  {
   "cell_type": "markdown",
   "metadata": {},
   "source": [
    "# Analysis"
   ]
  },
  {
   "cell_type": "markdown",
   "metadata": {},
   "source": [
    "To get a quick overview of the data, we show some **summary statistics** on a meaningful aggregation. "
   ]
  },
  {
   "cell_type": "markdown",
   "metadata": {},
   "source": [
    "MAKE FURTHER ANALYSIS. EXPLAIN THE CODE BRIEFLY AND SUMMARIZE THE RESULTS."
   ]
  },
  {
   "cell_type": "code",
   "execution_count": 61,
   "metadata": {},
   "outputs": [
    {
     "data": {
      "text/html": [
       "<div>\n",
       "<style scoped>\n",
       "    .dataframe tbody tr th:only-of-type {\n",
       "        vertical-align: middle;\n",
       "    }\n",
       "\n",
       "    .dataframe tbody tr th {\n",
       "        vertical-align: top;\n",
       "    }\n",
       "\n",
       "    .dataframe thead th {\n",
       "        text-align: right;\n",
       "    }\n",
       "</style>\n",
       "<table border=\"1\" class=\"dataframe\">\n",
       "  <thead>\n",
       "    <tr style=\"text-align: right;\">\n",
       "      <th></th>\n",
       "      <th>municipalities</th>\n",
       "      <th>year</th>\n",
       "      <th>pop_</th>\n",
       "      <th>crim_</th>\n",
       "      <th>crime_rate_per_cap</th>\n",
       "      <th>crime_rate_per_100K</th>\n",
       "    </tr>\n",
       "  </thead>\n",
       "  <tbody>\n",
       "    <tr>\n",
       "      <th>0</th>\n",
       "      <td>Copenhagen</td>\n",
       "      <td>2008</td>\n",
       "      <td>516962</td>\n",
       "      <td>95101.0</td>\n",
       "      <td>0.183961</td>\n",
       "      <td>18396.129696</td>\n",
       "    </tr>\n",
       "    <tr>\n",
       "      <th>1</th>\n",
       "      <td>Frederiksberg</td>\n",
       "      <td>2008</td>\n",
       "      <td>95005</td>\n",
       "      <td>7971.0</td>\n",
       "      <td>0.083901</td>\n",
       "      <td>8390.084732</td>\n",
       "    </tr>\n",
       "    <tr>\n",
       "      <th>2</th>\n",
       "      <td>Dragør</td>\n",
       "      <td>2008</td>\n",
       "      <td>13452</td>\n",
       "      <td>688.0</td>\n",
       "      <td>0.051145</td>\n",
       "      <td>5114.481118</td>\n",
       "    </tr>\n",
       "    <tr>\n",
       "      <th>3</th>\n",
       "      <td>Tårnby</td>\n",
       "      <td>2008</td>\n",
       "      <td>40234</td>\n",
       "      <td>5947.0</td>\n",
       "      <td>0.147810</td>\n",
       "      <td>14781.030969</td>\n",
       "    </tr>\n",
       "    <tr>\n",
       "      <th>4</th>\n",
       "      <td>Albertslund</td>\n",
       "      <td>2008</td>\n",
       "      <td>27817</td>\n",
       "      <td>3339.0</td>\n",
       "      <td>0.120035</td>\n",
       "      <td>12003.451127</td>\n",
       "    </tr>\n",
       "    <tr>\n",
       "      <th>...</th>\n",
       "      <td>...</td>\n",
       "      <td>...</td>\n",
       "      <td>...</td>\n",
       "      <td>...</td>\n",
       "      <td>...</td>\n",
       "      <td>...</td>\n",
       "    </tr>\n",
       "    <tr>\n",
       "      <th>1480</th>\n",
       "      <td>Morsø</td>\n",
       "      <td>2022</td>\n",
       "      <td>20022</td>\n",
       "      <td>825.0</td>\n",
       "      <td>0.041205</td>\n",
       "      <td>4120.467486</td>\n",
       "    </tr>\n",
       "    <tr>\n",
       "      <th>1481</th>\n",
       "      <td>Rebild</td>\n",
       "      <td>2022</td>\n",
       "      <td>30908</td>\n",
       "      <td>1002.0</td>\n",
       "      <td>0.032419</td>\n",
       "      <td>3241.879125</td>\n",
       "    </tr>\n",
       "    <tr>\n",
       "      <th>1482</th>\n",
       "      <td>Thisted</td>\n",
       "      <td>2022</td>\n",
       "      <td>43365</td>\n",
       "      <td>1903.0</td>\n",
       "      <td>0.043883</td>\n",
       "      <td>4388.331604</td>\n",
       "    </tr>\n",
       "    <tr>\n",
       "      <th>1483</th>\n",
       "      <td>Vesthimmerlands</td>\n",
       "      <td>2022</td>\n",
       "      <td>36423</td>\n",
       "      <td>1590.0</td>\n",
       "      <td>0.043654</td>\n",
       "      <td>4365.373528</td>\n",
       "    </tr>\n",
       "    <tr>\n",
       "      <th>1484</th>\n",
       "      <td>Aalborg</td>\n",
       "      <td>2022</td>\n",
       "      <td>222607</td>\n",
       "      <td>14093.0</td>\n",
       "      <td>0.063309</td>\n",
       "      <td>6330.888067</td>\n",
       "    </tr>\n",
       "  </tbody>\n",
       "</table>\n",
       "<p>1485 rows × 6 columns</p>\n",
       "</div>"
      ],
      "text/plain": [
       "       municipalities  year    pop_    crim_  crime_rate_per_cap  \\\n",
       "0          Copenhagen  2008  516962  95101.0            0.183961   \n",
       "1       Frederiksberg  2008   95005   7971.0            0.083901   \n",
       "2              Dragør  2008   13452    688.0            0.051145   \n",
       "3              Tårnby  2008   40234   5947.0            0.147810   \n",
       "4         Albertslund  2008   27817   3339.0            0.120035   \n",
       "...               ...   ...     ...      ...                 ...   \n",
       "1480            Morsø  2022   20022    825.0            0.041205   \n",
       "1481           Rebild  2022   30908   1002.0            0.032419   \n",
       "1482          Thisted  2022   43365   1903.0            0.043883   \n",
       "1483  Vesthimmerlands  2022   36423   1590.0            0.043654   \n",
       "1484          Aalborg  2022  222607  14093.0            0.063309   \n",
       "\n",
       "      crime_rate_per_100K  \n",
       "0            18396.129696  \n",
       "1             8390.084732  \n",
       "2             5114.481118  \n",
       "3            14781.030969  \n",
       "4            12003.451127  \n",
       "...                   ...  \n",
       "1480          4120.467486  \n",
       "1481          3241.879125  \n",
       "1482          4388.331604  \n",
       "1483          4365.373528  \n",
       "1484          6330.888067  \n",
       "\n",
       "[1485 rows x 6 columns]"
      ]
     },
     "execution_count": 61,
     "metadata": {},
     "output_type": "execute_result"
    }
   ],
   "source": [
    "#creating a variable of criminality index\n",
    "total['crime_rate_per_cap'] = total['crim_'] / total['pop_']\n",
    "total['crime_rate_per_100K'] = total['crime_rate_per_cap'] * 100000 \n",
    "### Last one might be redundant, as it describes the same thing as the above - just scaled (see 'total'). Best regards Philip\n",
    "\n",
    "\n",
    "total.iloc[:,1:].mean()\n",
    "\n",
    "total # overview of crime; including crime rate per capita and crime rate per 100K\n"
   ]
  },
  {
   "cell_type": "code",
   "execution_count": 62,
   "metadata": {},
   "outputs": [
    {
     "data": {
      "text/html": [
       "<div>\n",
       "<style scoped>\n",
       "    .dataframe tbody tr th:only-of-type {\n",
       "        vertical-align: middle;\n",
       "    }\n",
       "\n",
       "    .dataframe tbody tr th {\n",
       "        vertical-align: top;\n",
       "    }\n",
       "\n",
       "    .dataframe thead th {\n",
       "        text-align: right;\n",
       "    }\n",
       "</style>\n",
       "<table border=\"1\" class=\"dataframe\">\n",
       "  <thead>\n",
       "    <tr style=\"text-align: right;\">\n",
       "      <th></th>\n",
       "      <th>municipalities</th>\n",
       "      <th>year</th>\n",
       "      <th>pop_</th>\n",
       "      <th>crim_</th>\n",
       "      <th>crime_rate_per_cap</th>\n",
       "      <th>crime_rate_per_100K</th>\n",
       "    </tr>\n",
       "  </thead>\n",
       "  <tbody>\n",
       "    <tr>\n",
       "      <th>0</th>\n",
       "      <td>Copenhagen</td>\n",
       "      <td>2008</td>\n",
       "      <td>516962</td>\n",
       "      <td>95101.0</td>\n",
       "      <td>0.183961</td>\n",
       "      <td>18396.129696</td>\n",
       "    </tr>\n",
       "    <tr>\n",
       "      <th>1</th>\n",
       "      <td>Frederiksberg</td>\n",
       "      <td>2008</td>\n",
       "      <td>95005</td>\n",
       "      <td>7971.0</td>\n",
       "      <td>0.083901</td>\n",
       "      <td>8390.084732</td>\n",
       "    </tr>\n",
       "    <tr>\n",
       "      <th>2</th>\n",
       "      <td>Dragør</td>\n",
       "      <td>2008</td>\n",
       "      <td>13452</td>\n",
       "      <td>688.0</td>\n",
       "      <td>0.051145</td>\n",
       "      <td>5114.481118</td>\n",
       "    </tr>\n",
       "    <tr>\n",
       "      <th>3</th>\n",
       "      <td>Tårnby</td>\n",
       "      <td>2008</td>\n",
       "      <td>40234</td>\n",
       "      <td>5947.0</td>\n",
       "      <td>0.147810</td>\n",
       "      <td>14781.030969</td>\n",
       "    </tr>\n",
       "    <tr>\n",
       "      <th>4</th>\n",
       "      <td>Albertslund</td>\n",
       "      <td>2008</td>\n",
       "      <td>27817</td>\n",
       "      <td>3339.0</td>\n",
       "      <td>0.120035</td>\n",
       "      <td>12003.451127</td>\n",
       "    </tr>\n",
       "    <tr>\n",
       "      <th>...</th>\n",
       "      <td>...</td>\n",
       "      <td>...</td>\n",
       "      <td>...</td>\n",
       "      <td>...</td>\n",
       "      <td>...</td>\n",
       "      <td>...</td>\n",
       "    </tr>\n",
       "    <tr>\n",
       "      <th>1480</th>\n",
       "      <td>Morsø</td>\n",
       "      <td>2022</td>\n",
       "      <td>20022</td>\n",
       "      <td>825.0</td>\n",
       "      <td>0.041205</td>\n",
       "      <td>4120.467486</td>\n",
       "    </tr>\n",
       "    <tr>\n",
       "      <th>1481</th>\n",
       "      <td>Rebild</td>\n",
       "      <td>2022</td>\n",
       "      <td>30908</td>\n",
       "      <td>1002.0</td>\n",
       "      <td>0.032419</td>\n",
       "      <td>3241.879125</td>\n",
       "    </tr>\n",
       "    <tr>\n",
       "      <th>1482</th>\n",
       "      <td>Thisted</td>\n",
       "      <td>2022</td>\n",
       "      <td>43365</td>\n",
       "      <td>1903.0</td>\n",
       "      <td>0.043883</td>\n",
       "      <td>4388.331604</td>\n",
       "    </tr>\n",
       "    <tr>\n",
       "      <th>1483</th>\n",
       "      <td>Vesthimmerlands</td>\n",
       "      <td>2022</td>\n",
       "      <td>36423</td>\n",
       "      <td>1590.0</td>\n",
       "      <td>0.043654</td>\n",
       "      <td>4365.373528</td>\n",
       "    </tr>\n",
       "    <tr>\n",
       "      <th>1484</th>\n",
       "      <td>Aalborg</td>\n",
       "      <td>2022</td>\n",
       "      <td>222607</td>\n",
       "      <td>14093.0</td>\n",
       "      <td>0.063309</td>\n",
       "      <td>6330.888067</td>\n",
       "    </tr>\n",
       "  </tbody>\n",
       "</table>\n",
       "<p>1485 rows × 6 columns</p>\n",
       "</div>"
      ],
      "text/plain": [
       "       municipalities  year    pop_    crim_  crime_rate_per_cap  \\\n",
       "0          Copenhagen  2008  516962  95101.0            0.183961   \n",
       "1       Frederiksberg  2008   95005   7971.0            0.083901   \n",
       "2              Dragør  2008   13452    688.0            0.051145   \n",
       "3              Tårnby  2008   40234   5947.0            0.147810   \n",
       "4         Albertslund  2008   27817   3339.0            0.120035   \n",
       "...               ...   ...     ...      ...                 ...   \n",
       "1480            Morsø  2022   20022    825.0            0.041205   \n",
       "1481           Rebild  2022   30908   1002.0            0.032419   \n",
       "1482          Thisted  2022   43365   1903.0            0.043883   \n",
       "1483  Vesthimmerlands  2022   36423   1590.0            0.043654   \n",
       "1484          Aalborg  2022  222607  14093.0            0.063309   \n",
       "\n",
       "      crime_rate_per_100K  \n",
       "0            18396.129696  \n",
       "1             8390.084732  \n",
       "2             5114.481118  \n",
       "3            14781.030969  \n",
       "4            12003.451127  \n",
       "...                   ...  \n",
       "1480          4120.467486  \n",
       "1481          3241.879125  \n",
       "1482          4388.331604  \n",
       "1483          4365.373528  \n",
       "1484          6330.888067  \n",
       "\n",
       "[1485 rows x 6 columns]"
      ]
     },
     "execution_count": 62,
     "metadata": {},
     "output_type": "execute_result"
    }
   ],
   "source": [
    "total"
   ]
  },
  {
   "attachments": {},
   "cell_type": "markdown",
   "metadata": {},
   "source": [
    "**Interpretation**\n"
   ]
  },
  {
   "cell_type": "code",
   "execution_count": 63,
   "metadata": {},
   "outputs": [
    {
     "data": {
      "text/plain": [
       "Text(0, 0.5, 'Logs difference of crime rate per capita in Aalborg')"
      ]
     },
     "execution_count": 63,
     "metadata": {},
     "output_type": "execute_result"
    },
    {
     "data": {
      "image/png": "[encoded data removed]",
      "text/plain": [
       "<Figure size 640x480 with 1 Axes>"
      ]
     },
     "metadata": {},
     "output_type": "display_data"
    }
   ],
   "source": [
    "# Taking log of crime rate per capita and population for Aalborg\n",
    "aalborg=total.loc[total[\"municipalities\"] == \"Aalborg\"] # Assign all rows that contains Aalborg from our merged data \"total\".\n",
    "\n",
    "# Taking logs of crime rate per capita in Aalborg\n",
    "log_crpc_aalborg = np.log(aalborg.crime_rate_per_cap)\n",
    "# Taking logs difference\n",
    "log_diff_crpc_aalborg = log_crpc_aalborg.diff().dropna()\n",
    "\n",
    "## Doing the same for population in Aalborg\n",
    "log_pop_aalborg = np.log(aalborg.pop_)\n",
    "log_diff_pop_aalborg = log_pop_aalborg.diff().dropna()\n",
    "\n",
    "\n",
    "# Creating a scatter plot for Aalborg\n",
    "plt.scatter(log_diff_pop_aalborg, log_diff_crpc_aalborg)\n",
    "plt.xlabel(\"Logs difference of population in Aalborg\")\n",
    "plt.ylabel(\"Logs difference of crime rate per capita in Aalborg\")"
   ]
  },
  {
   "cell_type": "code",
   "execution_count": null,
   "metadata": {},
   "outputs": [],
   "source": []
  },
  {
   "cell_type": "markdown",
   "metadata": {},
   "source": [
    "# Conclusion"
   ]
  },
  {
   "cell_type": "markdown",
   "metadata": {},
   "source": [
    "ADD CONCISE CONLUSION."
   ]
  }
 ],
 "metadata": {
  "kernelspec": {
   "display_name": "base",
   "language": "python",
   "name": "python3"
  },
  "language_info": {
   "codemirror_mode": {
    "name": "ipython",
    "version": 3
   },
   "file_extension": ".py",
   "mimetype": "text/x-python",
   "name": "python",
   "nbconvert_exporter": "python",
   "pygments_lexer": "ipython3",
   "version": "3.9.13"
  },
  "toc-autonumbering": true,
  "vscode": {
   "interpreter": {
    "hash": "47ef90cdf3004d3f859f1fb202523c65c07ba7c22eefd261b181f4744e2d0403"
   }
  }
 },
 "nbformat": 4,
 "nbformat_minor": 4
}
